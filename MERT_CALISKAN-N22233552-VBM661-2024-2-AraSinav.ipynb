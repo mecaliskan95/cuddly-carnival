{
  "cells": [
    {
      "cell_type": "markdown",
      "metadata": {
        "id": "YD6h_DrRF7Td"
      },
      "source": [
        "# VBM661 - Veri Görselleştirilmesi - 2024-2 Son Sınav Raporu\n",
        "\n",
        "*   Mert Çalışkan\n",
        "*   N22233552"
      ]
    },
    {
      "cell_type": "markdown",
      "metadata": {
        "id": "NzggE7V2zfsO"
      },
      "source": [
        "## Giriş"
      ]
    },
    {
      "cell_type": "markdown",
      "metadata": {
        "id": "88DZifwV0Jjs"
      },
      "source": [
        "Kasırgalar, her yıl ABD'de milyarlarca dolarlık mülk zararına ve önemli can kaybına neden olan büyük doğal afetlerdir. Bu çalışma, 1950'den 2022'ye kadar ABD'de meydana gelen kasırgaları incelerken, veri görselleştirme tekniklerini kullanarak mevsimsel, yıllık ve coğrafi eğilimleri ortaya koymayı amaçlamaktadır. Elde edilen bulgular, afet yönetimi ve acil müdahale stratejilerinin geliştirilmesine önemli katkılar sunmayı hedeflemektedir."
      ]
    },
    {
      "cell_type": "markdown",
      "metadata": {
        "id": "_o8ixj6Z0K68"
      },
      "source": [
        "### Veri Seti"
      ]
    },
    {
      "cell_type": "markdown",
      "metadata": {
        "id": "gQYmzCeX0Mx2"
      },
      "source": [
        "Analizimiz için kullanılan veri seti, ABD Ulusal Okyanus ve Atmosfer İdaresi (NOAA) tarafından sağlanan Ulusal Hava Durumu Servisi Fırtına Tahmin Merkezi Şiddetli Hava Durumu Haritaları, Grafikleri ve Veri Sayfası’nı ve 68,693 kayıttan oluşan ['tornados'](https://github.com/rfordatascience/tidytuesday/blob/master/data/2023/2023-05-16/readme.md) isimli dosyayı temel alır. Bu veri seti, kasırgaların tarih, şiddet, izlediği yol ve neden olduğu hasar gibi 27 farklı özelliği içermektedir. Çalışma sırasında kullanılan ana özellikler aşağıda açıklanmıştır.\n",
        "\n",
        "*   'yr' - integer - Sıralı - Kasırganın meydana geldiği yıl, 1950'den 2022'ye kadar.\n",
        "*   'st' - integer - Kategorik - Eyaletin iki harflik posta kısatlması (NY = New York, NJ = New Jersey gibi…).\n",
        "*   'fat' - integer - Nicel - Kasırgadan meydana gelen ölüm sayısı."
      ]
    },
    {
      "cell_type": "markdown",
      "metadata": {
        "id": "CnogAEy7Ec0k"
      },
      "source": [
        "### Kod"
      ]
    },
    {
      "cell_type": "markdown",
      "metadata": {
        "id": "kIwqvagrEfHx"
      },
      "source": [
        "Verilerin işlenmesi için Python programlama dili kullanılmış ve pandas, numpy, plotly gibi kütüphanelerle Google Colab ortamında veri ön işleme, analiz ve görselleştirme işlemleri gerçekleştirilmiştir. Veri setinde eksik ve tutarsız veriler incelenmiş, gerekiyorsa temizlenmiş ve analize uygun hale getirilmiştir."
      ]
    },
    {
      "cell_type": "markdown",
      "metadata": {
        "id": "N_A8U6M3GCnF"
      },
      "source": [
        "## Veri Okuma"
      ]
    },
    {
      "cell_type": "code",
      "execution_count": 1,
      "metadata": {
        "id": "of3SdTxeH5QV"
      },
      "outputs": [],
      "source": [
        "import pandas as pd\n",
        "import numpy as np\n",
        "import plotly.express as px\n",
        "import plotly.graph_objects as go\n",
        "from sklearn.linear_model import LinearRegression\n",
        "\n",
        "# Veri setini URL'den yükleme\n",
        "tornados_url = 'https://raw.githubusercontent.com/rfordatascience/tidytuesday/master/data/2023/2023-05-16/tornados.csv'\n",
        "df = pd.read_csv(tornados_url)\n"
      ]
    },
    {
      "cell_type": "markdown",
      "metadata": {
        "id": "-iVjMcl0GFUj"
      },
      "source": [
        "## Veri Ön İşleme ve Analizi"
      ]
    },
    {
      "cell_type": "code",
      "execution_count": 2,
      "metadata": {
        "colab": {
          "base_uri": "https://localhost:8080/"
        },
        "id": "9GCUgz29D3KE",
        "outputId": "5eca3593-bdf4-4efc-e426-798627f7acd0"
      },
      "outputs": [
        {
          "name": "stdout",
          "output_type": "stream",
          "text": [
            "    om    yr  mo  dy        date      time               tz  \\\n",
            "0  192  1950  10   1  1950-10-01  21:00:00  America/Chicago   \n",
            "1  193  1950  10   9  1950-10-09  02:15:00  America/Chicago   \n",
            "2  195  1950  11  20  1950-11-20  02:20:00  America/Chicago   \n",
            "3  196  1950  11  20  1950-11-20  04:00:00  America/Chicago   \n",
            "4  197  1950  11  20  1950-11-20  07:30:00  America/Chicago   \n",
            "\n",
            "           datetime_utc  st  stf  ...   elon   len  wid  ns  sn   f1  f2  f3  \\\n",
            "0  1950-10-02T03:00:00Z  OK   40  ... -102.3  15.8   10   1   1   25   0   0   \n",
            "1  1950-10-09T08:15:00Z  NC   37  ...    0.0   2.0  880   1   1   47   0   0   \n",
            "2  1950-11-20T08:20:00Z  KY   21  ...    0.0   0.1   10   1   1  177   0   0   \n",
            "3  1950-11-20T10:00:00Z  KY   21  ...    0.0   0.1   10   1   1  209   0   0   \n",
            "4  1950-11-20T13:30:00Z  MS   28  ...    0.0   2.0   37   1   1  101   0   0   \n",
            "\n",
            "   f4     fc  \n",
            "0   0  False  \n",
            "1   0  False  \n",
            "2   0  False  \n",
            "3   0  False  \n",
            "4   0  False  \n",
            "\n",
            "[5 rows x 27 columns]\n",
            "<class 'pandas.core.frame.DataFrame'>\n",
            "RangeIndex: 68693 entries, 0 to 68692\n",
            "Data columns (total 27 columns):\n",
            " #   Column        Non-Null Count  Dtype  \n",
            "---  ------        --------------  -----  \n",
            " 0   om            68693 non-null  int64  \n",
            " 1   yr            68693 non-null  int64  \n",
            " 2   mo            68693 non-null  int64  \n",
            " 3   dy            68693 non-null  int64  \n",
            " 4   date          68693 non-null  object \n",
            " 5   time          68693 non-null  object \n",
            " 6   tz            68693 non-null  object \n",
            " 7   datetime_utc  68693 non-null  object \n",
            " 8   st            68693 non-null  object \n",
            " 9   stf           68693 non-null  int64  \n",
            " 10  mag           67937 non-null  float64\n",
            " 11  inj           68693 non-null  int64  \n",
            " 12  fat           68693 non-null  int64  \n",
            " 13  loss          41523 non-null  float64\n",
            " 14  slat          68693 non-null  float64\n",
            " 15  slon          68693 non-null  float64\n",
            " 16  elat          68693 non-null  float64\n",
            " 17  elon          68693 non-null  float64\n",
            " 18  len           68693 non-null  float64\n",
            " 19  wid           68693 non-null  int64  \n",
            " 20  ns            68693 non-null  int64  \n",
            " 21  sn            68693 non-null  int64  \n",
            " 22  f1            68693 non-null  int64  \n",
            " 23  f2            68693 non-null  int64  \n",
            " 24  f3            68693 non-null  int64  \n",
            " 25  f4            68693 non-null  int64  \n",
            " 26  fc            68693 non-null  bool   \n",
            "dtypes: bool(1), float64(7), int64(14), object(5)\n",
            "memory usage: 13.7+ MB\n",
            "None\n",
            "                  om            yr            mo            dy           stf  \\\n",
            "count   68693.000000  68693.000000  68693.000000  68693.000000  68693.000000   \n",
            "mean   113201.815542   1991.854061      5.968541     15.930881     29.220255   \n",
            "std    226621.993899     19.565158      2.444656      8.750070     15.013273   \n",
            "min         1.000000   1950.000000      1.000000      1.000000      1.000000   \n",
            "25%       285.000000   1976.000000      4.000000      8.000000     18.000000   \n",
            "50%       588.000000   1995.000000      6.000000     16.000000     28.000000   \n",
            "75%      1118.000000   2008.000000      7.000000     24.000000     42.000000   \n",
            "max    622080.000000   2022.000000     12.000000     31.000000     78.000000   \n",
            "\n",
            "                mag           inj          fat          loss          slat  \\\n",
            "count  67937.000000  68693.000000  68693.00000  4.152300e+04  68693.000000   \n",
            "mean       0.778721      1.418689      0.08931  2.020898e+06     37.129386   \n",
            "std        0.895790     18.114752      1.47212  3.039588e+07      5.099005   \n",
            "min        0.000000      0.000000      0.00000  5.000000e+01     17.721200   \n",
            "25%        0.000000      0.000000      0.00000  1.000000e+04     33.180000   \n",
            "50%        1.000000      0.000000      0.00000  5.000000e+04     37.000000   \n",
            "75%        1.000000      0.000000      0.00000  5.000000e+05     40.920000   \n",
            "max        5.000000   1740.000000    158.00000  2.800100e+09     61.020000   \n",
            "\n",
            "       ...          elat          elon           len           wid  \\\n",
            "count  ...  68693.000000  68693.000000  68693.000000  68693.000000   \n",
            "mean   ...     22.960651    -56.836090      3.489270    107.767633   \n",
            "std    ...     18.528144     45.340732      8.247115    206.851267   \n",
            "min    ...      0.000000   -163.530000      0.000000      0.000000   \n",
            "25%    ...      0.000000    -94.780000      0.120000     20.000000   \n",
            "50%    ...     32.550000    -84.720000      0.800000     50.000000   \n",
            "75%    ...     38.650000      0.000000      3.210000    100.000000   \n",
            "max    ...     61.020000      0.000000    234.700000   4576.000000   \n",
            "\n",
            "                 ns            sn            f1            f2            f3  \\\n",
            "count  68693.000000  68693.000000  68693.000000  68693.000000  68693.000000   \n",
            "mean       1.008764      0.991411    104.643952      8.605142      1.687202   \n",
            "std        0.095060      0.092278     96.750296     38.106019     16.681665   \n",
            "min        1.000000      0.000000      0.000000      0.000000      0.000000   \n",
            "25%        1.000000      1.000000     37.000000      0.000000      0.000000   \n",
            "50%        1.000000      1.000000     85.000000      0.000000      0.000000   \n",
            "75%        1.000000      1.000000    137.000000      0.000000      0.000000   \n",
            "max        3.000000      1.000000    810.000000    820.000000    710.000000   \n",
            "\n",
            "                 f4  \n",
            "count  68693.000000  \n",
            "mean       0.506791  \n",
            "std        9.163194  \n",
            "min        0.000000  \n",
            "25%        0.000000  \n",
            "50%        0.000000  \n",
            "75%        0.000000  \n",
            "max      507.000000  \n",
            "\n",
            "[8 rows x 21 columns]\n",
            "om                  0\n",
            "yr                  0\n",
            "mo                  0\n",
            "dy                  0\n",
            "date                0\n",
            "time                0\n",
            "tz                  0\n",
            "datetime_utc        0\n",
            "st                  0\n",
            "stf                 0\n",
            "mag               756\n",
            "inj                 0\n",
            "fat                 0\n",
            "loss            27170\n",
            "slat                0\n",
            "slon                0\n",
            "elat                0\n",
            "elon                0\n",
            "len                 0\n",
            "wid                 0\n",
            "ns                  0\n",
            "sn                  0\n",
            "f1                  0\n",
            "f2                  0\n",
            "f3                  0\n",
            "f4                  0\n",
            "fc                  0\n",
            "dtype: int64\n"
          ]
        }
      ],
      "source": [
        "# Temel istatistikler\n",
        "print(df.head())\n",
        "print(df.info())\n",
        "print(df.describe())\n",
        "\n",
        "# Eksik veri kontrolü\n",
        "print(df.isnull().sum())\n"
      ]
    },
    {
      "cell_type": "markdown",
      "metadata": {
        "id": "QSAWSh3xGHug"
      },
      "source": [
        "## Soru 1"
      ]
    },
    {
      "cell_type": "markdown",
      "metadata": {
        "id": "3sX3jTQzGMgA"
      },
      "source": [
        "### Soru 1. 1950'den 2022'ye kadar ABD'deki yıllık kasırga sayıları nasıl değişmiştir ve bu süre zarfında en fazla ve en az kasırga sayıları hangi yıllarda gözlenmiştir?"
      ]
    },
    {
      "cell_type": "code",
      "execution_count": 3,
      "metadata": {
        "colab": {
          "base_uri": "https://localhost:8080/",
          "height": 542
        },
        "id": "2jsqPYuSekAU",
        "outputId": "0226a77f-cd87-437f-a0f8-98ab235f78a7"
      },
      "outputs": [
        {
          "data": {
            "application/vnd.plotly.v1+json": {
              "config": {
                "displayModeBar": false,
                "doubleClick": false,
                "plotlyServerURL": "https://plot.ly"
              },
              "data": [
                {
                  "hovertemplate": "<b>Yıl:</b> %{x}<br><b>Kasırga Sayısı:</b> %{y}<extra></extra>",
                  "line": {
                    "color": "red",
                    "width": 2
                  },
                  "mode": "lines",
                  "name": "Yıllara Göre<br>Kasırga Sayısı",
                  "type": "scatter",
                  "x": [
                    1950,
                    1951,
                    1952,
                    1953,
                    1954,
                    1955,
                    1956,
                    1957,
                    1958,
                    1959,
                    1960,
                    1961,
                    1962,
                    1963,
                    1964,
                    1965,
                    1966,
                    1967,
                    1968,
                    1969,
                    1970,
                    1971,
                    1972,
                    1973,
                    1974,
                    1975,
                    1976,
                    1977,
                    1978,
                    1979,
                    1980,
                    1981,
                    1982,
                    1983,
                    1984,
                    1985,
                    1986,
                    1987,
                    1988,
                    1989,
                    1990,
                    1991,
                    1992,
                    1993,
                    1994,
                    1995,
                    1996,
                    1997,
                    1998,
                    1999,
                    2000,
                    2001,
                    2002,
                    2003,
                    2004,
                    2005,
                    2006,
                    2007,
                    2008,
                    2009,
                    2010,
                    2011,
                    2012,
                    2013,
                    2014,
                    2015,
                    2016,
                    2017,
                    2018,
                    2019,
                    2020,
                    2021,
                    2022
                  ],
                  "y": [
                    201,
                    260,
                    240,
                    421,
                    550,
                    591,
                    503,
                    857,
                    564,
                    604,
                    616,
                    697,
                    657,
                    463,
                    704,
                    897,
                    585,
                    926,
                    657,
                    608,
                    653,
                    889,
                    740,
                    1102,
                    944,
                    919,
                    834,
                    852,
                    789,
                    855,
                    865,
                    782,
                    1046,
                    930,
                    906,
                    684,
                    765,
                    656,
                    702,
                    856,
                    1133,
                    1132,
                    1297,
                    1172,
                    1082,
                    1237,
                    1173,
                    1148,
                    1424,
                    1339,
                    1075,
                    1215,
                    934,
                    1374,
                    1817,
                    1263,
                    1103,
                    1095,
                    1689,
                    1156,
                    1281,
                    1691,
                    938,
                    906,
                    886,
                    1177,
                    976,
                    1428,
                    1126,
                    1517,
                    1082,
                    1314,
                    1143
                  ]
                },
                {
                  "hoverinfo": "none",
                  "line": {
                    "color": "yellow",
                    "dash": "dash"
                  },
                  "mode": "lines",
                  "name": "Eğilim Çizgisi",
                  "type": "scatter",
                  "x": [
                    1950,
                    1951,
                    1952,
                    1953,
                    1954,
                    1955,
                    1956,
                    1957,
                    1958,
                    1959,
                    1960,
                    1961,
                    1962,
                    1963,
                    1964,
                    1965,
                    1966,
                    1967,
                    1968,
                    1969,
                    1970,
                    1971,
                    1972,
                    1973,
                    1974,
                    1975,
                    1976,
                    1977,
                    1978,
                    1979,
                    1980,
                    1981,
                    1982,
                    1983,
                    1984,
                    1985,
                    1986,
                    1987,
                    1988,
                    1989,
                    1990,
                    1991,
                    1992,
                    1993,
                    1994,
                    1995,
                    1996,
                    1997,
                    1998,
                    1999,
                    2000,
                    2001,
                    2002,
                    2003,
                    2004,
                    2005,
                    2006,
                    2007,
                    2008,
                    2009,
                    2010,
                    2011,
                    2012,
                    2013,
                    2014,
                    2015,
                    2016,
                    2017,
                    2018,
                    2019,
                    2020,
                    2021,
                    2022
                  ],
                  "y": [
                    494,
                    507,
                    519,
                    532,
                    544,
                    556,
                    569,
                    581,
                    594,
                    606,
                    618,
                    631,
                    643,
                    656,
                    668,
                    680,
                    693,
                    705,
                    718,
                    730,
                    742,
                    755,
                    767,
                    780,
                    792,
                    805,
                    817,
                    829,
                    842,
                    854,
                    867,
                    879,
                    891,
                    904,
                    916,
                    929,
                    941,
                    953,
                    966,
                    978,
                    991,
                    1003,
                    1015,
                    1028,
                    1040,
                    1053,
                    1065,
                    1077,
                    1090,
                    1102,
                    1115,
                    1127,
                    1140,
                    1152,
                    1164,
                    1177,
                    1189,
                    1202,
                    1214,
                    1226,
                    1239,
                    1251,
                    1264,
                    1276,
                    1288,
                    1301,
                    1313,
                    1326,
                    1338,
                    1350,
                    1363,
                    1375,
                    1388
                  ]
                },
                {
                  "hoverinfo": "text",
                  "hovertext": [
                    "<b>Yıl:</b> 2004<br><b>Kasırga Sayısı:</b> 1817",
                    "<b>Yıl:</b> 1950<br><b>Kasırga Sayısı:</b> 201"
                  ],
                  "marker": {
                    "color": "red",
                    "line": {
                      "color": "blue",
                      "width": 2
                    },
                    "size": 6,
                    "symbol": "circle"
                  },
                  "mode": "markers+text",
                  "name": "Özel Noktalar",
                  "showlegend": true,
                  "text": [
                    "En Fazla Kasırga Sayısı",
                    "En Az Kasırga Sayısı"
                  ],
                  "textfont": {
                    "color": "white"
                  },
                  "textposition": [
                    "middle left",
                    "bottom right"
                  ],
                  "type": "scatter",
                  "x": [
                    2004,
                    1950
                  ],
                  "y": [
                    1817,
                    201
                  ]
                }
              ],
              "layout": {
                "autosize": true,
                "dragmode": false,
                "font": {
                  "color": "white",
                  "family": "Arial",
                  "size": 12
                },
                "geo": {
                  "visible": false
                },
                "legend": {
                  "bgcolor": "rgba(0,0,0,0)",
                  "x": 0.98,
                  "xanchor": "right",
                  "y": 0.05,
                  "yanchor": "bottom"
                },
                "template": {
                  "data": {
                    "bar": [
                      {
                        "error_x": {
                          "color": "#f2f5fa"
                        },
                        "error_y": {
                          "color": "#f2f5fa"
                        },
                        "marker": {
                          "line": {
                            "color": "rgb(17,17,17)",
                            "width": 0.5
                          },
                          "pattern": {
                            "fillmode": "overlay",
                            "size": 10,
                            "solidity": 0.2
                          }
                        },
                        "type": "bar"
                      }
                    ],
                    "barpolar": [
                      {
                        "marker": {
                          "line": {
                            "color": "rgb(17,17,17)",
                            "width": 0.5
                          },
                          "pattern": {
                            "fillmode": "overlay",
                            "size": 10,
                            "solidity": 0.2
                          }
                        },
                        "type": "barpolar"
                      }
                    ],
                    "carpet": [
                      {
                        "aaxis": {
                          "endlinecolor": "#A2B1C6",
                          "gridcolor": "#506784",
                          "linecolor": "#506784",
                          "minorgridcolor": "#506784",
                          "startlinecolor": "#A2B1C6"
                        },
                        "baxis": {
                          "endlinecolor": "#A2B1C6",
                          "gridcolor": "#506784",
                          "linecolor": "#506784",
                          "minorgridcolor": "#506784",
                          "startlinecolor": "#A2B1C6"
                        },
                        "type": "carpet"
                      }
                    ],
                    "choropleth": [
                      {
                        "colorbar": {
                          "outlinewidth": 0,
                          "ticks": ""
                        },
                        "type": "choropleth"
                      }
                    ],
                    "contour": [
                      {
                        "colorbar": {
                          "outlinewidth": 0,
                          "ticks": ""
                        },
                        "colorscale": [
                          [
                            0,
                            "#0d0887"
                          ],
                          [
                            0.1111111111111111,
                            "#46039f"
                          ],
                          [
                            0.2222222222222222,
                            "#7201a8"
                          ],
                          [
                            0.3333333333333333,
                            "#9c179e"
                          ],
                          [
                            0.4444444444444444,
                            "#bd3786"
                          ],
                          [
                            0.5555555555555556,
                            "#d8576b"
                          ],
                          [
                            0.6666666666666666,
                            "#ed7953"
                          ],
                          [
                            0.7777777777777778,
                            "#fb9f3a"
                          ],
                          [
                            0.8888888888888888,
                            "#fdca26"
                          ],
                          [
                            1,
                            "#f0f921"
                          ]
                        ],
                        "type": "contour"
                      }
                    ],
                    "contourcarpet": [
                      {
                        "colorbar": {
                          "outlinewidth": 0,
                          "ticks": ""
                        },
                        "type": "contourcarpet"
                      }
                    ],
                    "heatmap": [
                      {
                        "colorbar": {
                          "outlinewidth": 0,
                          "ticks": ""
                        },
                        "colorscale": [
                          [
                            0,
                            "#0d0887"
                          ],
                          [
                            0.1111111111111111,
                            "#46039f"
                          ],
                          [
                            0.2222222222222222,
                            "#7201a8"
                          ],
                          [
                            0.3333333333333333,
                            "#9c179e"
                          ],
                          [
                            0.4444444444444444,
                            "#bd3786"
                          ],
                          [
                            0.5555555555555556,
                            "#d8576b"
                          ],
                          [
                            0.6666666666666666,
                            "#ed7953"
                          ],
                          [
                            0.7777777777777778,
                            "#fb9f3a"
                          ],
                          [
                            0.8888888888888888,
                            "#fdca26"
                          ],
                          [
                            1,
                            "#f0f921"
                          ]
                        ],
                        "type": "heatmap"
                      }
                    ],
                    "heatmapgl": [
                      {
                        "colorbar": {
                          "outlinewidth": 0,
                          "ticks": ""
                        },
                        "colorscale": [
                          [
                            0,
                            "#0d0887"
                          ],
                          [
                            0.1111111111111111,
                            "#46039f"
                          ],
                          [
                            0.2222222222222222,
                            "#7201a8"
                          ],
                          [
                            0.3333333333333333,
                            "#9c179e"
                          ],
                          [
                            0.4444444444444444,
                            "#bd3786"
                          ],
                          [
                            0.5555555555555556,
                            "#d8576b"
                          ],
                          [
                            0.6666666666666666,
                            "#ed7953"
                          ],
                          [
                            0.7777777777777778,
                            "#fb9f3a"
                          ],
                          [
                            0.8888888888888888,
                            "#fdca26"
                          ],
                          [
                            1,
                            "#f0f921"
                          ]
                        ],
                        "type": "heatmapgl"
                      }
                    ],
                    "histogram": [
                      {
                        "marker": {
                          "pattern": {
                            "fillmode": "overlay",
                            "size": 10,
                            "solidity": 0.2
                          }
                        },
                        "type": "histogram"
                      }
                    ],
                    "histogram2d": [
                      {
                        "colorbar": {
                          "outlinewidth": 0,
                          "ticks": ""
                        },
                        "colorscale": [
                          [
                            0,
                            "#0d0887"
                          ],
                          [
                            0.1111111111111111,
                            "#46039f"
                          ],
                          [
                            0.2222222222222222,
                            "#7201a8"
                          ],
                          [
                            0.3333333333333333,
                            "#9c179e"
                          ],
                          [
                            0.4444444444444444,
                            "#bd3786"
                          ],
                          [
                            0.5555555555555556,
                            "#d8576b"
                          ],
                          [
                            0.6666666666666666,
                            "#ed7953"
                          ],
                          [
                            0.7777777777777778,
                            "#fb9f3a"
                          ],
                          [
                            0.8888888888888888,
                            "#fdca26"
                          ],
                          [
                            1,
                            "#f0f921"
                          ]
                        ],
                        "type": "histogram2d"
                      }
                    ],
                    "histogram2dcontour": [
                      {
                        "colorbar": {
                          "outlinewidth": 0,
                          "ticks": ""
                        },
                        "colorscale": [
                          [
                            0,
                            "#0d0887"
                          ],
                          [
                            0.1111111111111111,
                            "#46039f"
                          ],
                          [
                            0.2222222222222222,
                            "#7201a8"
                          ],
                          [
                            0.3333333333333333,
                            "#9c179e"
                          ],
                          [
                            0.4444444444444444,
                            "#bd3786"
                          ],
                          [
                            0.5555555555555556,
                            "#d8576b"
                          ],
                          [
                            0.6666666666666666,
                            "#ed7953"
                          ],
                          [
                            0.7777777777777778,
                            "#fb9f3a"
                          ],
                          [
                            0.8888888888888888,
                            "#fdca26"
                          ],
                          [
                            1,
                            "#f0f921"
                          ]
                        ],
                        "type": "histogram2dcontour"
                      }
                    ],
                    "mesh3d": [
                      {
                        "colorbar": {
                          "outlinewidth": 0,
                          "ticks": ""
                        },
                        "type": "mesh3d"
                      }
                    ],
                    "parcoords": [
                      {
                        "line": {
                          "colorbar": {
                            "outlinewidth": 0,
                            "ticks": ""
                          }
                        },
                        "type": "parcoords"
                      }
                    ],
                    "pie": [
                      {
                        "automargin": true,
                        "type": "pie"
                      }
                    ],
                    "scatter": [
                      {
                        "marker": {
                          "line": {
                            "color": "#283442"
                          }
                        },
                        "type": "scatter"
                      }
                    ],
                    "scatter3d": [
                      {
                        "line": {
                          "colorbar": {
                            "outlinewidth": 0,
                            "ticks": ""
                          }
                        },
                        "marker": {
                          "colorbar": {
                            "outlinewidth": 0,
                            "ticks": ""
                          }
                        },
                        "type": "scatter3d"
                      }
                    ],
                    "scattercarpet": [
                      {
                        "marker": {
                          "colorbar": {
                            "outlinewidth": 0,
                            "ticks": ""
                          }
                        },
                        "type": "scattercarpet"
                      }
                    ],
                    "scattergeo": [
                      {
                        "marker": {
                          "colorbar": {
                            "outlinewidth": 0,
                            "ticks": ""
                          }
                        },
                        "type": "scattergeo"
                      }
                    ],
                    "scattergl": [
                      {
                        "marker": {
                          "line": {
                            "color": "#283442"
                          }
                        },
                        "type": "scattergl"
                      }
                    ],
                    "scattermapbox": [
                      {
                        "marker": {
                          "colorbar": {
                            "outlinewidth": 0,
                            "ticks": ""
                          }
                        },
                        "type": "scattermapbox"
                      }
                    ],
                    "scatterpolar": [
                      {
                        "marker": {
                          "colorbar": {
                            "outlinewidth": 0,
                            "ticks": ""
                          }
                        },
                        "type": "scatterpolar"
                      }
                    ],
                    "scatterpolargl": [
                      {
                        "marker": {
                          "colorbar": {
                            "outlinewidth": 0,
                            "ticks": ""
                          }
                        },
                        "type": "scatterpolargl"
                      }
                    ],
                    "scatterternary": [
                      {
                        "marker": {
                          "colorbar": {
                            "outlinewidth": 0,
                            "ticks": ""
                          }
                        },
                        "type": "scatterternary"
                      }
                    ],
                    "surface": [
                      {
                        "colorbar": {
                          "outlinewidth": 0,
                          "ticks": ""
                        },
                        "colorscale": [
                          [
                            0,
                            "#0d0887"
                          ],
                          [
                            0.1111111111111111,
                            "#46039f"
                          ],
                          [
                            0.2222222222222222,
                            "#7201a8"
                          ],
                          [
                            0.3333333333333333,
                            "#9c179e"
                          ],
                          [
                            0.4444444444444444,
                            "#bd3786"
                          ],
                          [
                            0.5555555555555556,
                            "#d8576b"
                          ],
                          [
                            0.6666666666666666,
                            "#ed7953"
                          ],
                          [
                            0.7777777777777778,
                            "#fb9f3a"
                          ],
                          [
                            0.8888888888888888,
                            "#fdca26"
                          ],
                          [
                            1,
                            "#f0f921"
                          ]
                        ],
                        "type": "surface"
                      }
                    ],
                    "table": [
                      {
                        "cells": {
                          "fill": {
                            "color": "#506784"
                          },
                          "line": {
                            "color": "rgb(17,17,17)"
                          }
                        },
                        "header": {
                          "fill": {
                            "color": "#2a3f5f"
                          },
                          "line": {
                            "color": "rgb(17,17,17)"
                          }
                        },
                        "type": "table"
                      }
                    ]
                  },
                  "layout": {
                    "annotationdefaults": {
                      "arrowcolor": "#f2f5fa",
                      "arrowhead": 0,
                      "arrowwidth": 1
                    },
                    "autotypenumbers": "strict",
                    "coloraxis": {
                      "colorbar": {
                        "outlinewidth": 0,
                        "ticks": ""
                      }
                    },
                    "colorscale": {
                      "diverging": [
                        [
                          0,
                          "#8e0152"
                        ],
                        [
                          0.1,
                          "#c51b7d"
                        ],
                        [
                          0.2,
                          "#de77ae"
                        ],
                        [
                          0.3,
                          "#f1b6da"
                        ],
                        [
                          0.4,
                          "#fde0ef"
                        ],
                        [
                          0.5,
                          "#f7f7f7"
                        ],
                        [
                          0.6,
                          "#e6f5d0"
                        ],
                        [
                          0.7,
                          "#b8e186"
                        ],
                        [
                          0.8,
                          "#7fbc41"
                        ],
                        [
                          0.9,
                          "#4d9221"
                        ],
                        [
                          1,
                          "#276419"
                        ]
                      ],
                      "sequential": [
                        [
                          0,
                          "#0d0887"
                        ],
                        [
                          0.1111111111111111,
                          "#46039f"
                        ],
                        [
                          0.2222222222222222,
                          "#7201a8"
                        ],
                        [
                          0.3333333333333333,
                          "#9c179e"
                        ],
                        [
                          0.4444444444444444,
                          "#bd3786"
                        ],
                        [
                          0.5555555555555556,
                          "#d8576b"
                        ],
                        [
                          0.6666666666666666,
                          "#ed7953"
                        ],
                        [
                          0.7777777777777778,
                          "#fb9f3a"
                        ],
                        [
                          0.8888888888888888,
                          "#fdca26"
                        ],
                        [
                          1,
                          "#f0f921"
                        ]
                      ],
                      "sequentialminus": [
                        [
                          0,
                          "#0d0887"
                        ],
                        [
                          0.1111111111111111,
                          "#46039f"
                        ],
                        [
                          0.2222222222222222,
                          "#7201a8"
                        ],
                        [
                          0.3333333333333333,
                          "#9c179e"
                        ],
                        [
                          0.4444444444444444,
                          "#bd3786"
                        ],
                        [
                          0.5555555555555556,
                          "#d8576b"
                        ],
                        [
                          0.6666666666666666,
                          "#ed7953"
                        ],
                        [
                          0.7777777777777778,
                          "#fb9f3a"
                        ],
                        [
                          0.8888888888888888,
                          "#fdca26"
                        ],
                        [
                          1,
                          "#f0f921"
                        ]
                      ]
                    },
                    "colorway": [
                      "#636efa",
                      "#EF553B",
                      "#00cc96",
                      "#ab63fa",
                      "#FFA15A",
                      "#19d3f3",
                      "#FF6692",
                      "#B6E880",
                      "#FF97FF",
                      "#FECB52"
                    ],
                    "font": {
                      "color": "#f2f5fa"
                    },
                    "geo": {
                      "bgcolor": "rgb(17,17,17)",
                      "lakecolor": "rgb(17,17,17)",
                      "landcolor": "rgb(17,17,17)",
                      "showlakes": true,
                      "showland": true,
                      "subunitcolor": "#506784"
                    },
                    "hoverlabel": {
                      "align": "left"
                    },
                    "hovermode": "closest",
                    "mapbox": {
                      "style": "dark"
                    },
                    "paper_bgcolor": "rgb(17,17,17)",
                    "plot_bgcolor": "rgb(17,17,17)",
                    "polar": {
                      "angularaxis": {
                        "gridcolor": "#506784",
                        "linecolor": "#506784",
                        "ticks": ""
                      },
                      "bgcolor": "rgb(17,17,17)",
                      "radialaxis": {
                        "gridcolor": "#506784",
                        "linecolor": "#506784",
                        "ticks": ""
                      }
                    },
                    "scene": {
                      "xaxis": {
                        "backgroundcolor": "rgb(17,17,17)",
                        "gridcolor": "#506784",
                        "gridwidth": 2,
                        "linecolor": "#506784",
                        "showbackground": true,
                        "ticks": "",
                        "zerolinecolor": "#C8D4E3"
                      },
                      "yaxis": {
                        "backgroundcolor": "rgb(17,17,17)",
                        "gridcolor": "#506784",
                        "gridwidth": 2,
                        "linecolor": "#506784",
                        "showbackground": true,
                        "ticks": "",
                        "zerolinecolor": "#C8D4E3"
                      },
                      "zaxis": {
                        "backgroundcolor": "rgb(17,17,17)",
                        "gridcolor": "#506784",
                        "gridwidth": 2,
                        "linecolor": "#506784",
                        "showbackground": true,
                        "ticks": "",
                        "zerolinecolor": "#C8D4E3"
                      }
                    },
                    "shapedefaults": {
                      "line": {
                        "color": "#f2f5fa"
                      }
                    },
                    "sliderdefaults": {
                      "bgcolor": "#C8D4E3",
                      "bordercolor": "rgb(17,17,17)",
                      "borderwidth": 1,
                      "tickwidth": 0
                    },
                    "ternary": {
                      "aaxis": {
                        "gridcolor": "#506784",
                        "linecolor": "#506784",
                        "ticks": ""
                      },
                      "baxis": {
                        "gridcolor": "#506784",
                        "linecolor": "#506784",
                        "ticks": ""
                      },
                      "bgcolor": "rgb(17,17,17)",
                      "caxis": {
                        "gridcolor": "#506784",
                        "linecolor": "#506784",
                        "ticks": ""
                      }
                    },
                    "title": {
                      "x": 0.05
                    },
                    "updatemenudefaults": {
                      "bgcolor": "#506784",
                      "borderwidth": 0
                    },
                    "xaxis": {
                      "automargin": true,
                      "gridcolor": "#283442",
                      "linecolor": "#506784",
                      "ticks": "",
                      "title": {
                        "standoff": 15
                      },
                      "zerolinecolor": "#283442",
                      "zerolinewidth": 2
                    },
                    "yaxis": {
                      "automargin": true,
                      "gridcolor": "#283442",
                      "linecolor": "#506784",
                      "ticks": "",
                      "title": {
                        "standoff": 15
                      },
                      "zerolinecolor": "#283442",
                      "zerolinewidth": 2
                    }
                  }
                },
                "title": {
                  "text": "1950-2022 Yılları Arasında ABD'de Gözlemlenen Yıllık Kasırga Sayıları: En Fazla ve En Az Kasırgaların Meydana Geldiği Yıllar ve Eğilim Analizi"
                },
                "xaxis": {
                  "range": [
                    1949,
                    2023
                  ],
                  "showgrid": false,
                  "tickformat": "d",
                  "tickmode": "auto",
                  "title": {
                    "text": "Yıl"
                  }
                },
                "yaxis": {
                  "range": [
                    0,
                    1920
                  ],
                  "showgrid": false,
                  "tickformat": "d",
                  "tickmode": "auto",
                  "title": {
                    "text": "Kasırga Sayısı"
                  }
                }
              }
            }
          },
          "metadata": {},
          "output_type": "display_data"
        }
      ],
      "source": [
        "# Yıl bazında gruplandır ve kasırga sayılarını hesapla\n",
        "grouped = df.groupby('yr').size().reset_index(name='tornado_count')\n",
        "\n",
        "# Maksimum ve minimum kasırga sayılarını bul\n",
        "max_tornado = grouped.loc[grouped['tornado_count'].idxmax()]\n",
        "min_tornado = grouped.loc[grouped['tornado_count'].idxmin()]\n",
        "\n",
        "# Eğilim için model oluştur\n",
        "X = grouped['yr'].values.reshape(-1, 1)\n",
        "y = grouped['tornado_count'].values\n",
        "model = LinearRegression().fit(X, y)\n",
        "trendline = model.predict(X).round().astype(int)\n",
        "\n",
        "# Dinamik çizgi grafiği oluştur\n",
        "fig = go.Figure()\n",
        "\n",
        "fig.add_trace(go.Scatter(\n",
        "    x=grouped['yr'],\n",
        "    y=grouped['tornado_count'],\n",
        "    mode='lines',\n",
        "    line=dict(color='red', width=2),\n",
        "    name='Yıllara Göre<br>Kasırga Sayısı',\n",
        "    hovertemplate='<b>Yıl:</b> %{x}<br><b>Kasırga Sayısı:</b> %{y}<extra></extra>'\n",
        "))\n",
        "\n",
        "fig.add_trace(go.Scatter(\n",
        "    x=grouped['yr'],\n",
        "    y=trendline,\n",
        "    mode='lines',\n",
        "    line=dict(color='yellow', dash='dash'),\n",
        "    name='Eğilim Çizgisi',\n",
        "    hoverinfo='none'\n",
        "))\n",
        "\n",
        "# En fazla ve en az kasırga sayılarını etiketle\n",
        "fig.add_trace(go.Scatter(\n",
        "    x=[max_tornado['yr'], min_tornado['yr']],\n",
        "    y=[max_tornado['tornado_count'], min_tornado['tornado_count']],\n",
        "    mode='markers+text',\n",
        "    marker=dict(color='red', size=6, symbol='circle', line=dict(color='blue', width=2)),\n",
        "    text=['En Fazla Kasırga Sayısı', 'En Az Kasırga Sayısı'],\n",
        "    textposition=['middle left', 'bottom right'],\n",
        "    textfont=dict(color='white'),\n",
        "    hoverinfo='text',\n",
        "    hovertext=[\n",
        "        f\"<b>Yıl:</b> {max_tornado['yr']}<br><b>Kasırga Sayısı:</b> {int(max_tornado['tornado_count'])}\",\n",
        "        f\"<b>Yıl:</b> {min_tornado['yr']}<br><b>Kasırga Sayısı:</b> {int(min_tornado['tornado_count'])}\"\n",
        "    ],\n",
        "    showlegend=True,\n",
        "    name='Özel Noktalar'\n",
        "))\n",
        "\n",
        "fig.update_layout(\n",
        "    title=\"1950-2022 Yılları Arasında ABD'de Gözlemlenen Yıllık Kasırga Sayıları: En Fazla ve En Az Kasırgaların Meydana Geldiği Yıllar ve Eğilim Analizi\",\n",
        "    xaxis_title='Yıl',\n",
        "    yaxis_title='Kasırga Sayısı',\n",
        "    xaxis=dict(\n",
        "        range=[1949, 2023],\n",
        "        tickmode='auto',\n",
        "        tickformat=\"d\",\n",
        "        showgrid=False\n",
        "    ),\n",
        "    yaxis=dict(\n",
        "        range=[0, 1920],\n",
        "        tickmode='auto',\n",
        "        tickformat=\"d\",\n",
        "        showgrid=False\n",
        "    ),\n",
        "    template='plotly_dark',\n",
        "    legend=dict(\n",
        "        x=0.98, y=0.05,\n",
        "        xanchor='right', yanchor='bottom',\n",
        "        bgcolor='rgba(0,0,0,0)'\n",
        "    ),\n",
        "    autosize=True,\n",
        "    dragmode=False,\n",
        "    font=dict(family=\"Arial\", size=12, color=\"white\")\n",
        ")\n",
        "\n",
        "# Zoom ve pan özelliklerini devre dışı bırak\n",
        "fig.update_geos(\n",
        "    visible=False\n",
        ")\n",
        "\n",
        "fig.show(config=dict(displayModeBar=False, doubleClick=False))\n"
      ]
    },
    {
      "cell_type": "markdown",
      "metadata": {
        "id": "fWrzTuloGO1o"
      },
      "source": [
        "### Şekil 1. Çizgi grafiği, 1950-2022 yılları arasında ABD'de kaydedilen yıllık kasırga sayılarını göstermektedir. Kasırga aktivitesindeki değişimler, afet yönetimi ve politika geliştirme süreçlerinde kritik bilgiler sunar ve bu sayede daha etkili karar verme mekanizmalarının oluşturulmasına katkıda bulunur.\n",
        "\n",
        "### Bulgular:\n",
        "* Sarı kesikli eğilim çizgisi, 1950'den 2022'ye kadar ABD'de gözlemlenen kasırga sayılarında genel bir artış eğilimini göstermektedir.\n",
        "* Analiz edilen dönem boyunca kasırga sayılarında belirgin dalgalanmalar gözlemlenmiştir. 1950'lerden 1960'lara kadar olan süreçte kasırga sayısında gözlenen nispeten düşük artışlar, bu yıllarda meteorolojik şartların daha stabil olduğuna işaret edebilir. Ancak, 2000'li yılların başlangıcından itibaren yaşanan ani artışlar ve düşüşler, bu dönemdeki iklim değişikliklerinin etkisinin ve kasırga aktivitelerinin daha değişken olduğunu gösterir. Bu, afet hazırlık planlamalarında dikkate alınması gereken önemli bir faktördür.\n",
        "* 2004 yılı, incelenen dönem içinde 1817 kasırga ile en yoğun yıl olarak kayıtlara geçmiştir. En düşük kasırga sayısı ise 1950 yılında, sadece 201 olay ile kaydedilmiştir. Bu, yıllık kasırga aktivitesindeki önemli değişimleri gösteren kritik noktalardır.\n",
        "\n",
        "### Kullanılan görsel kanallar:\n",
        "* Veri işareti: Çizgi grafiği, yıllara göre kasırga sayısının değişimini göstermek için kullanılmıştır.\n",
        "* X-Ekseni: Yıllar, 1950'den 2022'ye Kadar (Sıralı)\n",
        "* Y-Ekseni: Kasırga Sayısı (Nicel)\n",
        "* Etkileşim: Grafik üzerine fare ile gelindiğinde, belirli bir yıla ait kasırga sayısı detayları görülebilmektedir.\n",
        "* Etiket: \"En Fazla Kasırga Sayısı\" ve \"En Az Kasırga Sayısı\" gibi önemli veri noktaları, kullanıcının dikkatini çekmek ve bilgiyi hızla aktarmak için belirgin şekilde işaretlenmiştir.\n",
        "* Sembol: Özel veri noktaları (En fazla ve en az kasırga sayısı kayıtları), mavi çerçeveli kırmızı noktalar ile daha da belirginleştirilmiştir.\n",
        "* Renk ve Çizgi Stili: Ana veri serisi kırmızı renkte belirtilmiş, eğilim çizgisi ise sarı kesikli çizgiyle gösterilmiştir.\n"
      ]
    },
    {
      "cell_type": "markdown",
      "metadata": {
        "id": "BzBqNs9UGx--"
      },
      "source": [
        "## Soru 2"
      ]
    },
    {
      "cell_type": "markdown",
      "metadata": {
        "id": "hq9-dRl2Gx-_"
      },
      "source": [
        "### Soru 2. 1950'den 2022'ye kadar ABD'nin farklı eyaletlerinde meydana gelen kasırgalardan kaynaklanan toplam ölüm sayıları nasıl dağılmıştır?"
      ]
    },
    {
      "cell_type": "code",
      "execution_count": 4,
      "metadata": {
        "colab": {
          "base_uri": "https://localhost:8080/",
          "height": 542
        },
        "id": "sk4on0Gt7cS_",
        "outputId": "ba473be0-671c-4693-cbe6-32a62ef3f080"
      },
      "outputs": [
        {
          "data": {
            "application/vnd.plotly.v1+json": {
              "config": {
                "displayModeBar": false,
                "doubleClick": false,
                "plotlyServerURL": "https://plot.ly"
              },
              "data": [
                {
                  "coloraxis": "coloraxis",
                  "customdata": [
                    [
                      "Alaska",
                      0
                    ],
                    [
                      "Alabama",
                      668
                    ],
                    [
                      "Arkansas",
                      400
                    ],
                    [
                      "Arizona",
                      3
                    ],
                    [
                      "California",
                      0
                    ],
                    [
                      "Colorado",
                      5
                    ],
                    [
                      "Connecticut",
                      4
                    ],
                    [
                      "District of Columbia",
                      0
                    ],
                    [
                      "Delaware",
                      2
                    ],
                    [
                      "Florida",
                      166
                    ],
                    [
                      "Georgia",
                      231
                    ],
                    [
                      "Hawaii",
                      0
                    ],
                    [
                      "Iowa",
                      88
                    ],
                    [
                      "Idaho",
                      0
                    ],
                    [
                      "Illinois",
                      225
                    ],
                    [
                      "Indiana",
                      268
                    ],
                    [
                      "Kansas",
                      194
                    ],
                    [
                      "Kentucky",
                      194
                    ],
                    [
                      "Louisiana",
                      224
                    ],
                    [
                      "Massachusetts",
                      105
                    ],
                    [
                      "Maryland",
                      9
                    ],
                    [
                      "Maine",
                      1
                    ],
                    [
                      "Michigan",
                      218
                    ],
                    [
                      "Minnesota",
                      98
                    ],
                    [
                      "Missouri",
                      350
                    ],
                    [
                      "Mississippi",
                      476
                    ],
                    [
                      "Montana",
                      4
                    ],
                    [
                      "North Carolina",
                      122
                    ],
                    [
                      "North Dakota",
                      28
                    ],
                    [
                      "Nebraska",
                      60
                    ],
                    [
                      "New Hampshire",
                      1
                    ],
                    [
                      "New Jersey",
                      1
                    ],
                    [
                      "New Mexico",
                      4
                    ],
                    [
                      "Nevada",
                      0
                    ],
                    [
                      "New York",
                      31
                    ],
                    [
                      "Ohio",
                      226
                    ],
                    [
                      "Oklahoma",
                      439
                    ],
                    [
                      "Oregon",
                      6
                    ],
                    [
                      "Pennsylvania",
                      49
                    ],
                    [
                      "Puerto Rico",
                      0
                    ],
                    [
                      "Rhode Island",
                      0
                    ],
                    [
                      "South Carolina",
                      71
                    ],
                    [
                      "South Dakota",
                      17
                    ],
                    [
                      "Tennessee",
                      407
                    ],
                    [
                      "Texas",
                      594
                    ],
                    [
                      "Utah",
                      1
                    ],
                    [
                      "Virginia",
                      38
                    ],
                    [
                      "Virgin Islands",
                      0
                    ],
                    [
                      "Vermont",
                      0
                    ],
                    [
                      "Washington",
                      0
                    ],
                    [
                      "Wisconsin",
                      101
                    ],
                    [
                      "West Virginia",
                      2
                    ],
                    [
                      "Wyoming",
                      4
                    ]
                  ],
                  "geo": "geo",
                  "hovertemplate": "<b>Eyalet:</b> %{hovertext}<br><b>Ölüm Sayısı:</b> %{customdata[1]}<extra></extra>",
                  "hovertext": [
                    "Alaska",
                    "Alabama",
                    "Arkansas",
                    "Arizona",
                    "California",
                    "Colorado",
                    "Connecticut",
                    "District of Columbia",
                    "Delaware",
                    "Florida",
                    "Georgia",
                    "Hawaii",
                    "Iowa",
                    "Idaho",
                    "Illinois",
                    "Indiana",
                    "Kansas",
                    "Kentucky",
                    "Louisiana",
                    "Massachusetts",
                    "Maryland",
                    "Maine",
                    "Michigan",
                    "Minnesota",
                    "Missouri",
                    "Mississippi",
                    "Montana",
                    "North Carolina",
                    "North Dakota",
                    "Nebraska",
                    "New Hampshire",
                    "New Jersey",
                    "New Mexico",
                    "Nevada",
                    "New York",
                    "Ohio",
                    "Oklahoma",
                    "Oregon",
                    "Pennsylvania",
                    "Puerto Rico",
                    "Rhode Island",
                    "South Carolina",
                    "South Dakota",
                    "Tennessee",
                    "Texas",
                    "Utah",
                    "Virginia",
                    "Virgin Islands",
                    "Vermont",
                    "Washington",
                    "Wisconsin",
                    "West Virginia",
                    "Wyoming"
                  ],
                  "locationmode": "USA-states",
                  "locations": [
                    "AK",
                    "AL",
                    "AR",
                    "AZ",
                    "CA",
                    "CO",
                    "CT",
                    "DC",
                    "DE",
                    "FL",
                    "GA",
                    "HI",
                    "IA",
                    "ID",
                    "IL",
                    "IN",
                    "KS",
                    "KY",
                    "LA",
                    "MA",
                    "MD",
                    "ME",
                    "MI",
                    "MN",
                    "MO",
                    "MS",
                    "MT",
                    "NC",
                    "ND",
                    "NE",
                    "NH",
                    "NJ",
                    "NM",
                    "NV",
                    "NY",
                    "OH",
                    "OK",
                    "OR",
                    "PA",
                    "PR",
                    "RI",
                    "SC",
                    "SD",
                    "TN",
                    "TX",
                    "UT",
                    "VA",
                    "VI",
                    "VT",
                    "WA",
                    "WI",
                    "WV",
                    "WY"
                  ],
                  "name": "",
                  "type": "choropleth",
                  "z": [
                    0,
                    668,
                    400,
                    3,
                    0,
                    5,
                    4,
                    0,
                    2,
                    166,
                    231,
                    0,
                    88,
                    0,
                    225,
                    268,
                    194,
                    194,
                    224,
                    105,
                    9,
                    1,
                    218,
                    98,
                    350,
                    476,
                    4,
                    122,
                    28,
                    60,
                    1,
                    1,
                    4,
                    0,
                    31,
                    226,
                    439,
                    6,
                    49,
                    0,
                    0,
                    71,
                    17,
                    407,
                    594,
                    1,
                    38,
                    0,
                    0,
                    0,
                    101,
                    2,
                    4
                  ]
                }
              ],
              "layout": {
                "autosize": true,
                "coloraxis": {
                  "colorbar": {
                    "title": {
                      "text": "Toplam<br>Ölüm<br>Sayısı"
                    }
                  },
                  "colorscale": [
                    [
                      0,
                      "rgb(255,245,240)"
                    ],
                    [
                      0.125,
                      "rgb(254,224,210)"
                    ],
                    [
                      0.25,
                      "rgb(252,187,161)"
                    ],
                    [
                      0.375,
                      "rgb(252,146,114)"
                    ],
                    [
                      0.5,
                      "rgb(251,106,74)"
                    ],
                    [
                      0.625,
                      "rgb(239,59,44)"
                    ],
                    [
                      0.75,
                      "rgb(203,24,29)"
                    ],
                    [
                      0.875,
                      "rgb(165,15,21)"
                    ],
                    [
                      1,
                      "rgb(103,0,13)"
                    ]
                  ]
                },
                "dragmode": false,
                "font": {
                  "color": "white",
                  "family": "Arial",
                  "size": 12
                },
                "geo": {
                  "center": {},
                  "domain": {
                    "x": [
                      0,
                      1
                    ],
                    "y": [
                      0,
                      1
                    ]
                  },
                  "projection": {
                    "scale": 1,
                    "type": "albers usa"
                  },
                  "scope": "usa",
                  "showcoastlines": false,
                  "showframe": false,
                  "visible": false
                },
                "legend": {
                  "tracegroupgap": 0
                },
                "margin": {
                  "b": 25,
                  "l": 0,
                  "r": 0,
                  "t": 75
                },
                "template": {
                  "data": {
                    "bar": [
                      {
                        "error_x": {
                          "color": "#f2f5fa"
                        },
                        "error_y": {
                          "color": "#f2f5fa"
                        },
                        "marker": {
                          "line": {
                            "color": "rgb(17,17,17)",
                            "width": 0.5
                          },
                          "pattern": {
                            "fillmode": "overlay",
                            "size": 10,
                            "solidity": 0.2
                          }
                        },
                        "type": "bar"
                      }
                    ],
                    "barpolar": [
                      {
                        "marker": {
                          "line": {
                            "color": "rgb(17,17,17)",
                            "width": 0.5
                          },
                          "pattern": {
                            "fillmode": "overlay",
                            "size": 10,
                            "solidity": 0.2
                          }
                        },
                        "type": "barpolar"
                      }
                    ],
                    "carpet": [
                      {
                        "aaxis": {
                          "endlinecolor": "#A2B1C6",
                          "gridcolor": "#506784",
                          "linecolor": "#506784",
                          "minorgridcolor": "#506784",
                          "startlinecolor": "#A2B1C6"
                        },
                        "baxis": {
                          "endlinecolor": "#A2B1C6",
                          "gridcolor": "#506784",
                          "linecolor": "#506784",
                          "minorgridcolor": "#506784",
                          "startlinecolor": "#A2B1C6"
                        },
                        "type": "carpet"
                      }
                    ],
                    "choropleth": [
                      {
                        "colorbar": {
                          "outlinewidth": 0,
                          "ticks": ""
                        },
                        "type": "choropleth"
                      }
                    ],
                    "contour": [
                      {
                        "colorbar": {
                          "outlinewidth": 0,
                          "ticks": ""
                        },
                        "colorscale": [
                          [
                            0,
                            "#0d0887"
                          ],
                          [
                            0.1111111111111111,
                            "#46039f"
                          ],
                          [
                            0.2222222222222222,
                            "#7201a8"
                          ],
                          [
                            0.3333333333333333,
                            "#9c179e"
                          ],
                          [
                            0.4444444444444444,
                            "#bd3786"
                          ],
                          [
                            0.5555555555555556,
                            "#d8576b"
                          ],
                          [
                            0.6666666666666666,
                            "#ed7953"
                          ],
                          [
                            0.7777777777777778,
                            "#fb9f3a"
                          ],
                          [
                            0.8888888888888888,
                            "#fdca26"
                          ],
                          [
                            1,
                            "#f0f921"
                          ]
                        ],
                        "type": "contour"
                      }
                    ],
                    "contourcarpet": [
                      {
                        "colorbar": {
                          "outlinewidth": 0,
                          "ticks": ""
                        },
                        "type": "contourcarpet"
                      }
                    ],
                    "heatmap": [
                      {
                        "colorbar": {
                          "outlinewidth": 0,
                          "ticks": ""
                        },
                        "colorscale": [
                          [
                            0,
                            "#0d0887"
                          ],
                          [
                            0.1111111111111111,
                            "#46039f"
                          ],
                          [
                            0.2222222222222222,
                            "#7201a8"
                          ],
                          [
                            0.3333333333333333,
                            "#9c179e"
                          ],
                          [
                            0.4444444444444444,
                            "#bd3786"
                          ],
                          [
                            0.5555555555555556,
                            "#d8576b"
                          ],
                          [
                            0.6666666666666666,
                            "#ed7953"
                          ],
                          [
                            0.7777777777777778,
                            "#fb9f3a"
                          ],
                          [
                            0.8888888888888888,
                            "#fdca26"
                          ],
                          [
                            1,
                            "#f0f921"
                          ]
                        ],
                        "type": "heatmap"
                      }
                    ],
                    "heatmapgl": [
                      {
                        "colorbar": {
                          "outlinewidth": 0,
                          "ticks": ""
                        },
                        "colorscale": [
                          [
                            0,
                            "#0d0887"
                          ],
                          [
                            0.1111111111111111,
                            "#46039f"
                          ],
                          [
                            0.2222222222222222,
                            "#7201a8"
                          ],
                          [
                            0.3333333333333333,
                            "#9c179e"
                          ],
                          [
                            0.4444444444444444,
                            "#bd3786"
                          ],
                          [
                            0.5555555555555556,
                            "#d8576b"
                          ],
                          [
                            0.6666666666666666,
                            "#ed7953"
                          ],
                          [
                            0.7777777777777778,
                            "#fb9f3a"
                          ],
                          [
                            0.8888888888888888,
                            "#fdca26"
                          ],
                          [
                            1,
                            "#f0f921"
                          ]
                        ],
                        "type": "heatmapgl"
                      }
                    ],
                    "histogram": [
                      {
                        "marker": {
                          "pattern": {
                            "fillmode": "overlay",
                            "size": 10,
                            "solidity": 0.2
                          }
                        },
                        "type": "histogram"
                      }
                    ],
                    "histogram2d": [
                      {
                        "colorbar": {
                          "outlinewidth": 0,
                          "ticks": ""
                        },
                        "colorscale": [
                          [
                            0,
                            "#0d0887"
                          ],
                          [
                            0.1111111111111111,
                            "#46039f"
                          ],
                          [
                            0.2222222222222222,
                            "#7201a8"
                          ],
                          [
                            0.3333333333333333,
                            "#9c179e"
                          ],
                          [
                            0.4444444444444444,
                            "#bd3786"
                          ],
                          [
                            0.5555555555555556,
                            "#d8576b"
                          ],
                          [
                            0.6666666666666666,
                            "#ed7953"
                          ],
                          [
                            0.7777777777777778,
                            "#fb9f3a"
                          ],
                          [
                            0.8888888888888888,
                            "#fdca26"
                          ],
                          [
                            1,
                            "#f0f921"
                          ]
                        ],
                        "type": "histogram2d"
                      }
                    ],
                    "histogram2dcontour": [
                      {
                        "colorbar": {
                          "outlinewidth": 0,
                          "ticks": ""
                        },
                        "colorscale": [
                          [
                            0,
                            "#0d0887"
                          ],
                          [
                            0.1111111111111111,
                            "#46039f"
                          ],
                          [
                            0.2222222222222222,
                            "#7201a8"
                          ],
                          [
                            0.3333333333333333,
                            "#9c179e"
                          ],
                          [
                            0.4444444444444444,
                            "#bd3786"
                          ],
                          [
                            0.5555555555555556,
                            "#d8576b"
                          ],
                          [
                            0.6666666666666666,
                            "#ed7953"
                          ],
                          [
                            0.7777777777777778,
                            "#fb9f3a"
                          ],
                          [
                            0.8888888888888888,
                            "#fdca26"
                          ],
                          [
                            1,
                            "#f0f921"
                          ]
                        ],
                        "type": "histogram2dcontour"
                      }
                    ],
                    "mesh3d": [
                      {
                        "colorbar": {
                          "outlinewidth": 0,
                          "ticks": ""
                        },
                        "type": "mesh3d"
                      }
                    ],
                    "parcoords": [
                      {
                        "line": {
                          "colorbar": {
                            "outlinewidth": 0,
                            "ticks": ""
                          }
                        },
                        "type": "parcoords"
                      }
                    ],
                    "pie": [
                      {
                        "automargin": true,
                        "type": "pie"
                      }
                    ],
                    "scatter": [
                      {
                        "marker": {
                          "line": {
                            "color": "#283442"
                          }
                        },
                        "type": "scatter"
                      }
                    ],
                    "scatter3d": [
                      {
                        "line": {
                          "colorbar": {
                            "outlinewidth": 0,
                            "ticks": ""
                          }
                        },
                        "marker": {
                          "colorbar": {
                            "outlinewidth": 0,
                            "ticks": ""
                          }
                        },
                        "type": "scatter3d"
                      }
                    ],
                    "scattercarpet": [
                      {
                        "marker": {
                          "colorbar": {
                            "outlinewidth": 0,
                            "ticks": ""
                          }
                        },
                        "type": "scattercarpet"
                      }
                    ],
                    "scattergeo": [
                      {
                        "marker": {
                          "colorbar": {
                            "outlinewidth": 0,
                            "ticks": ""
                          }
                        },
                        "type": "scattergeo"
                      }
                    ],
                    "scattergl": [
                      {
                        "marker": {
                          "line": {
                            "color": "#283442"
                          }
                        },
                        "type": "scattergl"
                      }
                    ],
                    "scattermapbox": [
                      {
                        "marker": {
                          "colorbar": {
                            "outlinewidth": 0,
                            "ticks": ""
                          }
                        },
                        "type": "scattermapbox"
                      }
                    ],
                    "scatterpolar": [
                      {
                        "marker": {
                          "colorbar": {
                            "outlinewidth": 0,
                            "ticks": ""
                          }
                        },
                        "type": "scatterpolar"
                      }
                    ],
                    "scatterpolargl": [
                      {
                        "marker": {
                          "colorbar": {
                            "outlinewidth": 0,
                            "ticks": ""
                          }
                        },
                        "type": "scatterpolargl"
                      }
                    ],
                    "scatterternary": [
                      {
                        "marker": {
                          "colorbar": {
                            "outlinewidth": 0,
                            "ticks": ""
                          }
                        },
                        "type": "scatterternary"
                      }
                    ],
                    "surface": [
                      {
                        "colorbar": {
                          "outlinewidth": 0,
                          "ticks": ""
                        },
                        "colorscale": [
                          [
                            0,
                            "#0d0887"
                          ],
                          [
                            0.1111111111111111,
                            "#46039f"
                          ],
                          [
                            0.2222222222222222,
                            "#7201a8"
                          ],
                          [
                            0.3333333333333333,
                            "#9c179e"
                          ],
                          [
                            0.4444444444444444,
                            "#bd3786"
                          ],
                          [
                            0.5555555555555556,
                            "#d8576b"
                          ],
                          [
                            0.6666666666666666,
                            "#ed7953"
                          ],
                          [
                            0.7777777777777778,
                            "#fb9f3a"
                          ],
                          [
                            0.8888888888888888,
                            "#fdca26"
                          ],
                          [
                            1,
                            "#f0f921"
                          ]
                        ],
                        "type": "surface"
                      }
                    ],
                    "table": [
                      {
                        "cells": {
                          "fill": {
                            "color": "#506784"
                          },
                          "line": {
                            "color": "rgb(17,17,17)"
                          }
                        },
                        "header": {
                          "fill": {
                            "color": "#2a3f5f"
                          },
                          "line": {
                            "color": "rgb(17,17,17)"
                          }
                        },
                        "type": "table"
                      }
                    ]
                  },
                  "layout": {
                    "annotationdefaults": {
                      "arrowcolor": "#f2f5fa",
                      "arrowhead": 0,
                      "arrowwidth": 1
                    },
                    "autotypenumbers": "strict",
                    "coloraxis": {
                      "colorbar": {
                        "outlinewidth": 0,
                        "ticks": ""
                      }
                    },
                    "colorscale": {
                      "diverging": [
                        [
                          0,
                          "#8e0152"
                        ],
                        [
                          0.1,
                          "#c51b7d"
                        ],
                        [
                          0.2,
                          "#de77ae"
                        ],
                        [
                          0.3,
                          "#f1b6da"
                        ],
                        [
                          0.4,
                          "#fde0ef"
                        ],
                        [
                          0.5,
                          "#f7f7f7"
                        ],
                        [
                          0.6,
                          "#e6f5d0"
                        ],
                        [
                          0.7,
                          "#b8e186"
                        ],
                        [
                          0.8,
                          "#7fbc41"
                        ],
                        [
                          0.9,
                          "#4d9221"
                        ],
                        [
                          1,
                          "#276419"
                        ]
                      ],
                      "sequential": [
                        [
                          0,
                          "#0d0887"
                        ],
                        [
                          0.1111111111111111,
                          "#46039f"
                        ],
                        [
                          0.2222222222222222,
                          "#7201a8"
                        ],
                        [
                          0.3333333333333333,
                          "#9c179e"
                        ],
                        [
                          0.4444444444444444,
                          "#bd3786"
                        ],
                        [
                          0.5555555555555556,
                          "#d8576b"
                        ],
                        [
                          0.6666666666666666,
                          "#ed7953"
                        ],
                        [
                          0.7777777777777778,
                          "#fb9f3a"
                        ],
                        [
                          0.8888888888888888,
                          "#fdca26"
                        ],
                        [
                          1,
                          "#f0f921"
                        ]
                      ],
                      "sequentialminus": [
                        [
                          0,
                          "#0d0887"
                        ],
                        [
                          0.1111111111111111,
                          "#46039f"
                        ],
                        [
                          0.2222222222222222,
                          "#7201a8"
                        ],
                        [
                          0.3333333333333333,
                          "#9c179e"
                        ],
                        [
                          0.4444444444444444,
                          "#bd3786"
                        ],
                        [
                          0.5555555555555556,
                          "#d8576b"
                        ],
                        [
                          0.6666666666666666,
                          "#ed7953"
                        ],
                        [
                          0.7777777777777778,
                          "#fb9f3a"
                        ],
                        [
                          0.8888888888888888,
                          "#fdca26"
                        ],
                        [
                          1,
                          "#f0f921"
                        ]
                      ]
                    },
                    "colorway": [
                      "#636efa",
                      "#EF553B",
                      "#00cc96",
                      "#ab63fa",
                      "#FFA15A",
                      "#19d3f3",
                      "#FF6692",
                      "#B6E880",
                      "#FF97FF",
                      "#FECB52"
                    ],
                    "font": {
                      "color": "#f2f5fa"
                    },
                    "geo": {
                      "bgcolor": "rgb(17,17,17)",
                      "lakecolor": "rgb(17,17,17)",
                      "landcolor": "rgb(17,17,17)",
                      "showlakes": true,
                      "showland": true,
                      "subunitcolor": "#506784"
                    },
                    "hoverlabel": {
                      "align": "left"
                    },
                    "hovermode": "closest",
                    "mapbox": {
                      "style": "dark"
                    },
                    "paper_bgcolor": "rgb(17,17,17)",
                    "plot_bgcolor": "rgb(17,17,17)",
                    "polar": {
                      "angularaxis": {
                        "gridcolor": "#506784",
                        "linecolor": "#506784",
                        "ticks": ""
                      },
                      "bgcolor": "rgb(17,17,17)",
                      "radialaxis": {
                        "gridcolor": "#506784",
                        "linecolor": "#506784",
                        "ticks": ""
                      }
                    },
                    "scene": {
                      "xaxis": {
                        "backgroundcolor": "rgb(17,17,17)",
                        "gridcolor": "#506784",
                        "gridwidth": 2,
                        "linecolor": "#506784",
                        "showbackground": true,
                        "ticks": "",
                        "zerolinecolor": "#C8D4E3"
                      },
                      "yaxis": {
                        "backgroundcolor": "rgb(17,17,17)",
                        "gridcolor": "#506784",
                        "gridwidth": 2,
                        "linecolor": "#506784",
                        "showbackground": true,
                        "ticks": "",
                        "zerolinecolor": "#C8D4E3"
                      },
                      "zaxis": {
                        "backgroundcolor": "rgb(17,17,17)",
                        "gridcolor": "#506784",
                        "gridwidth": 2,
                        "linecolor": "#506784",
                        "showbackground": true,
                        "ticks": "",
                        "zerolinecolor": "#C8D4E3"
                      }
                    },
                    "shapedefaults": {
                      "line": {
                        "color": "#f2f5fa"
                      }
                    },
                    "sliderdefaults": {
                      "bgcolor": "#C8D4E3",
                      "bordercolor": "rgb(17,17,17)",
                      "borderwidth": 1,
                      "tickwidth": 0
                    },
                    "ternary": {
                      "aaxis": {
                        "gridcolor": "#506784",
                        "linecolor": "#506784",
                        "ticks": ""
                      },
                      "baxis": {
                        "gridcolor": "#506784",
                        "linecolor": "#506784",
                        "ticks": ""
                      },
                      "bgcolor": "rgb(17,17,17)",
                      "caxis": {
                        "gridcolor": "#506784",
                        "linecolor": "#506784",
                        "ticks": ""
                      }
                    },
                    "title": {
                      "x": 0.05
                    },
                    "updatemenudefaults": {
                      "bgcolor": "#506784",
                      "borderwidth": 0
                    },
                    "xaxis": {
                      "automargin": true,
                      "gridcolor": "#283442",
                      "linecolor": "#506784",
                      "ticks": "",
                      "title": {
                        "standoff": 15
                      },
                      "zerolinecolor": "#283442",
                      "zerolinewidth": 2
                    },
                    "yaxis": {
                      "automargin": true,
                      "gridcolor": "#283442",
                      "linecolor": "#506784",
                      "ticks": "",
                      "title": {
                        "standoff": 15
                      },
                      "zerolinecolor": "#283442",
                      "zerolinewidth": 2
                    }
                  }
                },
                "title": {
                  "text": "1950-2022 Yılları Arasında ABD'nin Eyaletlerine Göre Kasırgalardan Kaynaklanan Ölüm Sayıları"
                }
              }
            }
          },
          "metadata": {},
          "output_type": "display_data"
        }
      ],
      "source": [
        "# Eyalet kısaltmalarını tam isimlere çeviren sözlük oluştur\n",
        "state_names = {\n",
        "    'AL': 'Alabama', 'AK': 'Alaska', 'AZ': 'Arizona', 'AR': 'Arkansas', 'CA': 'California',\n",
        "    'CO': 'Colorado', 'CT': 'Connecticut', 'DE': 'Delaware', 'FL': 'Florida', 'GA': 'Georgia',\n",
        "    'HI': 'Hawaii', 'ID': 'Idaho', 'IL': 'Illinois', 'IN': 'Indiana', 'IA': 'Iowa', 'KS': 'Kansas',\n",
        "    'KY': 'Kentucky', 'LA': 'Louisiana', 'ME': 'Maine', 'MD': 'Maryland', 'MA': 'Massachusetts',\n",
        "    'MI': 'Michigan', 'MN': 'Minnesota', 'MS': 'Mississippi', 'MO': 'Missouri', 'MT': 'Montana',\n",
        "    'NE': 'Nebraska', 'NV': 'Nevada', 'NH': 'New Hampshire', 'NJ': 'New Jersey', 'NM': 'New Mexico',\n",
        "    'NY': 'New York', 'NC': 'North Carolina', 'ND': 'North Dakota', 'OH': 'Ohio', 'OK': 'Oklahoma',\n",
        "    'OR': 'Oregon', 'PA': 'Pennsylvania', 'RI': 'Rhode Island', 'SC': 'South Carolina',\n",
        "    'SD': 'South Dakota', 'TN': 'Tennessee', 'TX': 'Texas', 'UT': 'Utah', 'VT': 'Vermont',\n",
        "    'VA': 'Virginia', 'WA': 'Washington', 'WV': 'West Virginia', 'WI': 'Wisconsin', 'WY': 'Wyoming',\n",
        "    'DC': 'District of Columbia', 'PR': 'Puerto Rico', 'VI': 'Virgin Islands'\n",
        "}\n",
        "\n",
        "# Eyalet bazında ölüm sayılarını hesapla\n",
        "state_fatalities = df.groupby('st')['fat'].sum().reset_index()\n",
        "\n",
        "# Eyalet isimlerini yeni bir sütun olarak ekle\n",
        "state_fatalities['state_name'] = state_fatalities['st'].map(state_names)\n",
        "\n",
        "# Plotly ile choropleth harita oluştur\n",
        "fig = px.choropleth(state_fatalities,\n",
        "                    locations='st',\n",
        "                    locationmode='USA-states',\n",
        "                    color='fat',\n",
        "                    hover_name='state_name',\n",
        "                    hover_data={'st': False, 'fat': True, 'state_name': False},\n",
        "                    color_continuous_scale='Reds',\n",
        "                    scope='usa',\n",
        "                    title=\"1950-2022 Yılları Arasında ABD'nin Eyaletlerine Göre Kasırgalardan Kaynaklanan Toplam Ölüm Sayıları\",\n",
        "                    labels={'fat': 'Toplam<br>Ölüm<br>Sayısı', 'st': 'Eyalet'},\n",
        "                    template='plotly_dark')  # Koyu tema ekleniyor\n",
        "\n",
        "# Hover data formatını ayarla\n",
        "fig.update_traces(\n",
        "    hovertemplate='<b>Eyalet:</b> %{hovertext}<br><b>Ölüm Sayısı:</b> %{customdata[1]}<extra></extra>',\n",
        "    customdata=state_fatalities[['state_name', 'fat']].values,\n",
        "    hovertext=state_fatalities['state_name']\n",
        ")\n",
        "\n",
        "# Grafik ayarlarını güncelle\n",
        "fig.update_layout(\n",
        "    title=\"1950-2022 Yılları Arasında ABD'nin Eyaletlerine Göre Kasırgalardan Kaynaklanan Ölüm Sayıları\",\n",
        "    geo=dict(\n",
        "        projection_type='albers usa',\n",
        "        showframe=False,\n",
        "        showcoastlines=False,\n",
        "        projection_scale=1,\n",
        "    ),\n",
        "    margin=dict(l=0, r=0, t=75, b=25),\n",
        "    autosize=True,\n",
        "    dragmode=False,\n",
        "    font=dict(family=\"Arial\", size=12, color=\"white\")\n",
        ")\n",
        "\n",
        "# Zoom ve pan özelliklerini devre dışı bırak\n",
        "fig.update_geos(\n",
        "    visible=False\n",
        ")\n",
        "\n",
        "fig.show(config=dict(displayModeBar=False, doubleClick=False))\n"
      ]
    },
    {
      "cell_type": "markdown",
      "metadata": {
        "id": "RcKvenSYGx-_"
      },
      "source": [
        "### Şekil 2. Choropleth harita, 1950 ile 2022 yılları arasında ABD'nin çeşitli eyaletlerinde meydana gelen kasırgalardan kaynaklanan ölüm sayılarını renk skalası ile göstermektedir. Eyaletlerdeki ölüm sayıları, renk tonlarının koyuluğu ile ifade edilmiş, en yüksek ölüm oranlarına sahip bölgeler daha koyu renklerle belirtilmiştir. Bu görsel, özellikle yüksek risk altındaki eyaletlerde kasırga önlemleri ve hazırlıklarını yoğunlaştırmanın önemini vurgulamaktadır.\n",
        "\n",
        "### Bulgular:\n",
        "* Choropleth haritası, özellikle \"Tornado Alley\" olarak bilinen ve Alabama, Texas, Mississippi, Oklahoma, Tennessee, Arkansas ve Missouri eyaletlerini kapsayan [1] merkezi ABD bölgesinde yüksek ölüm oranlarını göstermektedir. Bu eyaletler, haritada koyu kırmızı renklerle belirtilerek, kasırgaların yoğun yaşandığı ve yüksek can kayıpları ile sonuçlandığı alanlar olarak vurgulanmıştır. Özellikle, Alabama 668 ölüm vakası ile en yüksek can kaybına sahip eyalet olarak dikkat çekmektedir.\n",
        "* Orta Batı ve Güney eyaletleri (örneğin, Missouri, Tennessee, Kentucky) gibi bölgeler nispeten yüksek ölüm sayılarına sahipken, Batı ve Kuzeydoğu eyaletleri daha düşük ölüm oranlarına sahiptir. Bu durum, haritada daha açık renk tonları ile gösterilerek, kasırga hazırlık ve önlemlerinin bölgesel farklılıklarını ortaya koymaktadır.\n",
        "* Elde edilen bulgular, kasırga yönetimi ve acil durum müdahale stratejilerinin, özellikle yüksek risk taşıyan bölgelerde güçlendirilmesi gerektiğini göstermektedir. Bu, kasırgaların sıkça rastlandığı \"Tornado Alley\" gibi bölgelerde, can kaybını en aza indirmek için daha etkili önlemler ve hazırlıkların yapılmasını gerektirmektedir.\n",
        "\n",
        "### Kullanılan görsel kanallar:\n",
        "* Veri işareti: Choropleth harita, eyaletler bazında ölüm sayılarını görselleştirmek için kullanılmıştır.\n",
        "* X-Ekseni: Enlem (Nicel - Görselde etiketleri gösterilmemiştir)\n",
        "* Y-Ekseni: Boylam (Nicel - Görselde etiketleri gösterilmemiştir)\n",
        "* Çizgi: Eyalet sınırları net bir şekilde çizilmiş, böylece kullanıcılar farklı bölgeler arasındaki farklılıkları kolayca ayırt edebilir.\n",
        "* Etkileşim: Harita üzerine fare ile gelindiğinde, belirli bir eyaletin ismi ve ölüm sayısı görüntülenebilmektedir.\n",
        "* Renk: Ölüm sayıları, renk yoğunluğu ile ifade edilmiştir; yüksek sayılar koyu kırmızı, düşük sayılar açık tonlarda gösterilmiştir. (Nicel)\n",
        "\n",
        "\n"
      ]
    },
    {
      "cell_type": "markdown",
      "metadata": {
        "id": "89Gs64CiG02y"
      },
      "source": [
        "## Soru 3"
      ]
    },
    {
      "cell_type": "markdown",
      "metadata": {
        "id": "Esft0O31G02y"
      },
      "source": [
        "### Soru 3. 1950'den 2022'ye kadar ABD'de eyalet bazlı toplam kasırga sayıları zaman içinde nasıl değişmiştir ve bu süre zarfında hangi eyaletler en çok veya en az kasırgaya maruz kalmıştır?"
      ]
    },
    {
      "cell_type": "code",
      "execution_count": 5,
      "metadata": {
        "colab": {
          "base_uri": "https://localhost:8080/",
          "height": 1000
        },
        "id": "rci5ND1Vq2Za",
        "outputId": "8ec8b389-05f3-4c73-da68-c66cebe0fb97"
      },
      "outputs": [
        {
          "data": {
            "application/vnd.plotly.v1+json": {
              "config": {
                "plotlyServerURL": "https://plot.ly"
              },
              "data": [
                {
                  "alignmentgroup": "True",
                  "customdata": [
                    [
                      1950
                    ],
                    [
                      1950
                    ],
                    [
                      1950
                    ],
                    [
                      1950
                    ],
                    [
                      1950
                    ],
                    [
                      1950
                    ],
                    [
                      1950
                    ],
                    [
                      1950
                    ],
                    [
                      1950
                    ],
                    [
                      1950
                    ],
                    [
                      1950
                    ],
                    [
                      1950
                    ],
                    [
                      1950
                    ],
                    [
                      1950
                    ],
                    [
                      1950
                    ],
                    [
                      1950
                    ],
                    [
                      1950
                    ],
                    [
                      1950
                    ],
                    [
                      1950
                    ],
                    [
                      1950
                    ],
                    [
                      1950
                    ],
                    [
                      1950
                    ],
                    [
                      1950
                    ],
                    [
                      1950
                    ],
                    [
                      1950
                    ],
                    [
                      1950
                    ],
                    [
                      1950
                    ],
                    [
                      1950
                    ],
                    [
                      1950
                    ],
                    [
                      1950
                    ],
                    [
                      1950
                    ],
                    [
                      1950
                    ],
                    [
                      1950
                    ],
                    [
                      1950
                    ],
                    [
                      1950
                    ],
                    [
                      1950
                    ],
                    [
                      1950
                    ],
                    [
                      1950
                    ],
                    [
                      1950
                    ],
                    [
                      1950
                    ],
                    [
                      1950
                    ],
                    [
                      1950
                    ],
                    [
                      1950
                    ],
                    [
                      1950
                    ],
                    [
                      1950
                    ],
                    [
                      1950
                    ],
                    [
                      1950
                    ],
                    [
                      1950
                    ],
                    [
                      1950
                    ],
                    [
                      1950
                    ],
                    [
                      1950
                    ],
                    [
                      1950
                    ],
                    [
                      1950
                    ]
                  ],
                  "hovertemplate": "Yıl=%{customdata[0]}<br>Toplam Kasırga Sayısı=%{x}<extra></extra>",
                  "legendgroup": "",
                  "marker": {
                    "color": "#FFD700",
                    "line": {
                      "width": 1
                    },
                    "opacity": 0.7,
                    "pattern": {
                      "shape": ""
                    }
                  },
                  "name": "",
                  "offsetgroup": "",
                  "orientation": "h",
                  "showlegend": false,
                  "textposition": "auto",
                  "type": "bar",
                  "x": [
                    0,
                    0,
                    0,
                    0,
                    0,
                    0,
                    0,
                    0,
                    0,
                    0,
                    2,
                    0,
                    0,
                    0,
                    0,
                    1,
                    0,
                    0,
                    0,
                    0,
                    1,
                    0,
                    0,
                    0,
                    2,
                    3,
                    0,
                    5,
                    0,
                    2,
                    1,
                    3,
                    3,
                    9,
                    5,
                    3,
                    2,
                    4,
                    1,
                    12,
                    1,
                    20,
                    2,
                    6,
                    2,
                    14,
                    8,
                    4,
                    6,
                    6,
                    23,
                    30,
                    20
                  ],
                  "xaxis": "x",
                  "y": [
                    "Virgin Islands",
                    "District of Columbia",
                    "Alaska",
                    "Rhode Island",
                    "Puerto Rico",
                    "Hawaii",
                    "Vermont",
                    "Delaware",
                    "Nevada",
                    "New Hampshire",
                    "Connecticut",
                    "Oregon",
                    "Washington",
                    "Maine",
                    "Utah",
                    "West Virginia",
                    "New Jersey",
                    "Massachusetts",
                    "Idaho",
                    "Arizona",
                    "Maryland",
                    "Montana",
                    "California",
                    "New York",
                    "New Mexico",
                    "Wyoming",
                    "Virginia",
                    "Pennsylvania",
                    "Michigan",
                    "Kentucky",
                    "South Carolina",
                    "Ohio",
                    "Tennessee",
                    "North Carolina",
                    "Wisconsin",
                    "Indiana",
                    "North Dakota",
                    "Georgia",
                    "South Dakota",
                    "Arkansas",
                    "Minnesota",
                    "Louisiana",
                    "Colorado",
                    "Missouri",
                    "Alabama",
                    "Mississippi",
                    "Illinois",
                    "Iowa",
                    "Nebraska",
                    "Florida",
                    "Oklahoma",
                    "Kansas",
                    "Texas"
                  ],
                  "yaxis": "y"
                }
              ],
              "frames": [
                {
                  "data": [
                    {
                      "alignmentgroup": "True",
                      "customdata": [
                        [
                          1950
                        ],
                        [
                          1950
                        ],
                        [
                          1950
                        ],
                        [
                          1950
                        ],
                        [
                          1950
                        ],
                        [
                          1950
                        ],
                        [
                          1950
                        ],
                        [
                          1950
                        ],
                        [
                          1950
                        ],
                        [
                          1950
                        ],
                        [
                          1950
                        ],
                        [
                          1950
                        ],
                        [
                          1950
                        ],
                        [
                          1950
                        ],
                        [
                          1950
                        ],
                        [
                          1950
                        ],
                        [
                          1950
                        ],
                        [
                          1950
                        ],
                        [
                          1950
                        ],
                        [
                          1950
                        ],
                        [
                          1950
                        ],
                        [
                          1950
                        ],
                        [
                          1950
                        ],
                        [
                          1950
                        ],
                        [
                          1950
                        ],
                        [
                          1950
                        ],
                        [
                          1950
                        ],
                        [
                          1950
                        ],
                        [
                          1950
                        ],
                        [
                          1950
                        ],
                        [
                          1950
                        ],
                        [
                          1950
                        ],
                        [
                          1950
                        ],
                        [
                          1950
                        ],
                        [
                          1950
                        ],
                        [
                          1950
                        ],
                        [
                          1950
                        ],
                        [
                          1950
                        ],
                        [
                          1950
                        ],
                        [
                          1950
                        ],
                        [
                          1950
                        ],
                        [
                          1950
                        ],
                        [
                          1950
                        ],
                        [
                          1950
                        ],
                        [
                          1950
                        ],
                        [
                          1950
                        ],
                        [
                          1950
                        ],
                        [
                          1950
                        ],
                        [
                          1950
                        ],
                        [
                          1950
                        ],
                        [
                          1950
                        ],
                        [
                          1950
                        ],
                        [
                          1950
                        ]
                      ],
                      "hovertemplate": "Yıl=%{customdata[0]}<br>Toplam Kasırga Sayısı=%{x}<extra></extra>",
                      "legendgroup": "",
                      "marker": {
                        "color": "#FFD700",
                        "pattern": {
                          "shape": ""
                        }
                      },
                      "name": "",
                      "offsetgroup": "",
                      "orientation": "h",
                      "showlegend": false,
                      "textposition": "auto",
                      "type": "bar",
                      "x": [
                        0,
                        0,
                        0,
                        0,
                        0,
                        0,
                        0,
                        0,
                        0,
                        0,
                        2,
                        0,
                        0,
                        0,
                        0,
                        1,
                        0,
                        0,
                        0,
                        0,
                        1,
                        0,
                        0,
                        0,
                        2,
                        3,
                        0,
                        5,
                        0,
                        2,
                        1,
                        3,
                        3,
                        9,
                        5,
                        3,
                        2,
                        4,
                        1,
                        12,
                        1,
                        20,
                        2,
                        6,
                        2,
                        14,
                        8,
                        4,
                        6,
                        6,
                        23,
                        30,
                        20
                      ],
                      "xaxis": "x",
                      "y": [
                        "Virgin Islands",
                        "District of Columbia",
                        "Alaska",
                        "Rhode Island",
                        "Puerto Rico",
                        "Hawaii",
                        "Vermont",
                        "Delaware",
                        "Nevada",
                        "New Hampshire",
                        "Connecticut",
                        "Oregon",
                        "Washington",
                        "Maine",
                        "Utah",
                        "West Virginia",
                        "New Jersey",
                        "Massachusetts",
                        "Idaho",
                        "Arizona",
                        "Maryland",
                        "Montana",
                        "California",
                        "New York",
                        "New Mexico",
                        "Wyoming",
                        "Virginia",
                        "Pennsylvania",
                        "Michigan",
                        "Kentucky",
                        "South Carolina",
                        "Ohio",
                        "Tennessee",
                        "North Carolina",
                        "Wisconsin",
                        "Indiana",
                        "North Dakota",
                        "Georgia",
                        "South Dakota",
                        "Arkansas",
                        "Minnesota",
                        "Louisiana",
                        "Colorado",
                        "Missouri",
                        "Alabama",
                        "Mississippi",
                        "Illinois",
                        "Iowa",
                        "Nebraska",
                        "Florida",
                        "Oklahoma",
                        "Kansas",
                        "Texas"
                      ],
                      "yaxis": "y"
                    }
                  ],
                  "name": "1950"
                },
                {
                  "data": [
                    {
                      "alignmentgroup": "True",
                      "customdata": [
                        [
                          1951
                        ],
                        [
                          1951
                        ],
                        [
                          1951
                        ],
                        [
                          1951
                        ],
                        [
                          1951
                        ],
                        [
                          1951
                        ],
                        [
                          1951
                        ],
                        [
                          1951
                        ],
                        [
                          1951
                        ],
                        [
                          1951
                        ],
                        [
                          1951
                        ],
                        [
                          1951
                        ],
                        [
                          1951
                        ],
                        [
                          1951
                        ],
                        [
                          1951
                        ],
                        [
                          1951
                        ],
                        [
                          1951
                        ],
                        [
                          1951
                        ],
                        [
                          1951
                        ],
                        [
                          1951
                        ],
                        [
                          1951
                        ],
                        [
                          1951
                        ],
                        [
                          1951
                        ],
                        [
                          1951
                        ],
                        [
                          1951
                        ],
                        [
                          1951
                        ],
                        [
                          1951
                        ],
                        [
                          1951
                        ],
                        [
                          1951
                        ],
                        [
                          1951
                        ],
                        [
                          1951
                        ],
                        [
                          1951
                        ],
                        [
                          1951
                        ],
                        [
                          1951
                        ],
                        [
                          1951
                        ],
                        [
                          1951
                        ],
                        [
                          1951
                        ],
                        [
                          1951
                        ],
                        [
                          1951
                        ],
                        [
                          1951
                        ],
                        [
                          1951
                        ],
                        [
                          1951
                        ],
                        [
                          1951
                        ],
                        [
                          1951
                        ],
                        [
                          1951
                        ],
                        [
                          1951
                        ],
                        [
                          1951
                        ],
                        [
                          1951
                        ],
                        [
                          1951
                        ],
                        [
                          1951
                        ],
                        [
                          1951
                        ],
                        [
                          1951
                        ],
                        [
                          1951
                        ]
                      ],
                      "hovertemplate": "Yıl=%{customdata[0]}<br>Toplam Kasırga Sayısı=%{x}<extra></extra>",
                      "legendgroup": "",
                      "marker": {
                        "color": "#FFD700",
                        "pattern": {
                          "shape": ""
                        }
                      },
                      "name": "",
                      "offsetgroup": "",
                      "orientation": "h",
                      "showlegend": false,
                      "textposition": "auto",
                      "type": "bar",
                      "x": [
                        0,
                        0,
                        0,
                        0,
                        0,
                        0,
                        0,
                        0,
                        0,
                        1,
                        5,
                        1,
                        0,
                        0,
                        0,
                        2,
                        1,
                        2,
                        0,
                        0,
                        1,
                        0,
                        1,
                        0,
                        4,
                        3,
                        5,
                        9,
                        8,
                        4,
                        2,
                        6,
                        4,
                        13,
                        10,
                        7,
                        4,
                        7,
                        3,
                        14,
                        4,
                        29,
                        10,
                        12,
                        7,
                        22,
                        13,
                        9,
                        15,
                        15,
                        66,
                        107,
                        35
                      ],
                      "xaxis": "x",
                      "y": [
                        "Virgin Islands",
                        "District of Columbia",
                        "Alaska",
                        "Rhode Island",
                        "Puerto Rico",
                        "Hawaii",
                        "Vermont",
                        "Delaware",
                        "Nevada",
                        "New Hampshire",
                        "Connecticut",
                        "Oregon",
                        "Washington",
                        "Maine",
                        "Utah",
                        "West Virginia",
                        "New Jersey",
                        "Massachusetts",
                        "Idaho",
                        "Arizona",
                        "Maryland",
                        "Montana",
                        "California",
                        "New York",
                        "New Mexico",
                        "Wyoming",
                        "Virginia",
                        "Pennsylvania",
                        "Michigan",
                        "Kentucky",
                        "South Carolina",
                        "Ohio",
                        "Tennessee",
                        "North Carolina",
                        "Wisconsin",
                        "Indiana",
                        "North Dakota",
                        "Georgia",
                        "South Dakota",
                        "Arkansas",
                        "Minnesota",
                        "Louisiana",
                        "Colorado",
                        "Missouri",
                        "Alabama",
                        "Mississippi",
                        "Illinois",
                        "Iowa",
                        "Nebraska",
                        "Florida",
                        "Oklahoma",
                        "Kansas",
                        "Texas"
                      ],
                      "yaxis": "y"
                    }
                  ],
                  "name": "1951"
                },
                {
                  "data": [
                    {
                      "alignmentgroup": "True",
                      "customdata": [
                        [
                          1952
                        ],
                        [
                          1952
                        ],
                        [
                          1952
                        ],
                        [
                          1952
                        ],
                        [
                          1952
                        ],
                        [
                          1952
                        ],
                        [
                          1952
                        ],
                        [
                          1952
                        ],
                        [
                          1952
                        ],
                        [
                          1952
                        ],
                        [
                          1952
                        ],
                        [
                          1952
                        ],
                        [
                          1952
                        ],
                        [
                          1952
                        ],
                        [
                          1952
                        ],
                        [
                          1952
                        ],
                        [
                          1952
                        ],
                        [
                          1952
                        ],
                        [
                          1952
                        ],
                        [
                          1952
                        ],
                        [
                          1952
                        ],
                        [
                          1952
                        ],
                        [
                          1952
                        ],
                        [
                          1952
                        ],
                        [
                          1952
                        ],
                        [
                          1952
                        ],
                        [
                          1952
                        ],
                        [
                          1952
                        ],
                        [
                          1952
                        ],
                        [
                          1952
                        ],
                        [
                          1952
                        ],
                        [
                          1952
                        ],
                        [
                          1952
                        ],
                        [
                          1952
                        ],
                        [
                          1952
                        ],
                        [
                          1952
                        ],
                        [
                          1952
                        ],
                        [
                          1952
                        ],
                        [
                          1952
                        ],
                        [
                          1952
                        ],
                        [
                          1952
                        ],
                        [
                          1952
                        ],
                        [
                          1952
                        ],
                        [
                          1952
                        ],
                        [
                          1952
                        ],
                        [
                          1952
                        ],
                        [
                          1952
                        ],
                        [
                          1952
                        ],
                        [
                          1952
                        ],
                        [
                          1952
                        ],
                        [
                          1952
                        ],
                        [
                          1952
                        ],
                        [
                          1952
                        ]
                      ],
                      "hovertemplate": "Yıl=%{customdata[0]}<br>Toplam Kasırga Sayısı=%{x}<extra></extra>",
                      "legendgroup": "",
                      "marker": {
                        "color": "#FFD700",
                        "pattern": {
                          "shape": ""
                        }
                      },
                      "name": "",
                      "offsetgroup": "",
                      "orientation": "h",
                      "showlegend": false,
                      "textposition": "auto",
                      "type": "bar",
                      "x": [
                        0,
                        0,
                        0,
                        0,
                        0,
                        0,
                        0,
                        0,
                        0,
                        1,
                        5,
                        1,
                        0,
                        0,
                        0,
                        2,
                        3,
                        2,
                        0,
                        1,
                        5,
                        2,
                        2,
                        1,
                        4,
                        4,
                        8,
                        16,
                        8,
                        6,
                        4,
                        8,
                        26,
                        20,
                        11,
                        8,
                        13,
                        19,
                        8,
                        40,
                        11,
                        38,
                        13,
                        21,
                        18,
                        29,
                        17,
                        15,
                        24,
                        25,
                        88,
                        126,
                        48
                      ],
                      "xaxis": "x",
                      "y": [
                        "Virgin Islands",
                        "District of Columbia",
                        "Alaska",
                        "Rhode Island",
                        "Puerto Rico",
                        "Hawaii",
                        "Vermont",
                        "Delaware",
                        "Nevada",
                        "New Hampshire",
                        "Connecticut",
                        "Oregon",
                        "Washington",
                        "Maine",
                        "Utah",
                        "West Virginia",
                        "New Jersey",
                        "Massachusetts",
                        "Idaho",
                        "Arizona",
                        "Maryland",
                        "Montana",
                        "California",
                        "New York",
                        "New Mexico",
                        "Wyoming",
                        "Virginia",
                        "Pennsylvania",
                        "Michigan",
                        "Kentucky",
                        "South Carolina",
                        "Ohio",
                        "Tennessee",
                        "North Carolina",
                        "Wisconsin",
                        "Indiana",
                        "North Dakota",
                        "Georgia",
                        "South Dakota",
                        "Arkansas",
                        "Minnesota",
                        "Louisiana",
                        "Colorado",
                        "Missouri",
                        "Alabama",
                        "Mississippi",
                        "Illinois",
                        "Iowa",
                        "Nebraska",
                        "Florida",
                        "Oklahoma",
                        "Kansas",
                        "Texas"
                      ],
                      "yaxis": "y"
                    }
                  ],
                  "name": "1952"
                },
                {
                  "data": [
                    {
                      "alignmentgroup": "True",
                      "customdata": [
                        [
                          1953
                        ],
                        [
                          1953
                        ],
                        [
                          1953
                        ],
                        [
                          1953
                        ],
                        [
                          1953
                        ],
                        [
                          1953
                        ],
                        [
                          1953
                        ],
                        [
                          1953
                        ],
                        [
                          1953
                        ],
                        [
                          1953
                        ],
                        [
                          1953
                        ],
                        [
                          1953
                        ],
                        [
                          1953
                        ],
                        [
                          1953
                        ],
                        [
                          1953
                        ],
                        [
                          1953
                        ],
                        [
                          1953
                        ],
                        [
                          1953
                        ],
                        [
                          1953
                        ],
                        [
                          1953
                        ],
                        [
                          1953
                        ],
                        [
                          1953
                        ],
                        [
                          1953
                        ],
                        [
                          1953
                        ],
                        [
                          1953
                        ],
                        [
                          1953
                        ],
                        [
                          1953
                        ],
                        [
                          1953
                        ],
                        [
                          1953
                        ],
                        [
                          1953
                        ],
                        [
                          1953
                        ],
                        [
                          1953
                        ],
                        [
                          1953
                        ],
                        [
                          1953
                        ],
                        [
                          1953
                        ],
                        [
                          1953
                        ],
                        [
                          1953
                        ],
                        [
                          1953
                        ],
                        [
                          1953
                        ],
                        [
                          1953
                        ],
                        [
                          1953
                        ],
                        [
                          1953
                        ],
                        [
                          1953
                        ],
                        [
                          1953
                        ],
                        [
                          1953
                        ],
                        [
                          1953
                        ],
                        [
                          1953
                        ],
                        [
                          1953
                        ],
                        [
                          1953
                        ],
                        [
                          1953
                        ],
                        [
                          1953
                        ],
                        [
                          1953
                        ],
                        [
                          1953
                        ]
                      ],
                      "hovertemplate": "Yıl=%{customdata[0]}<br>Toplam Kasırga Sayısı=%{x}<extra></extra>",
                      "legendgroup": "",
                      "marker": {
                        "color": "#FFD700",
                        "pattern": {
                          "shape": ""
                        }
                      },
                      "name": "",
                      "offsetgroup": "",
                      "orientation": "h",
                      "showlegend": false,
                      "textposition": "auto",
                      "type": "bar",
                      "x": [
                        0,
                        0,
                        0,
                        0,
                        0,
                        0,
                        1,
                        0,
                        0,
                        3,
                        5,
                        1,
                        0,
                        2,
                        2,
                        2,
                        3,
                        4,
                        0,
                        1,
                        7,
                        7,
                        4,
                        1,
                        4,
                        11,
                        14,
                        22,
                        24,
                        6,
                        8,
                        11,
                        41,
                        23,
                        13,
                        13,
                        22,
                        30,
                        20,
                        49,
                        18,
                        57,
                        27,
                        27,
                        40,
                        50,
                        21,
                        38,
                        68,
                        46,
                        141,
                        155,
                        80
                      ],
                      "xaxis": "x",
                      "y": [
                        "Virgin Islands",
                        "District of Columbia",
                        "Alaska",
                        "Rhode Island",
                        "Puerto Rico",
                        "Hawaii",
                        "Vermont",
                        "Delaware",
                        "Nevada",
                        "New Hampshire",
                        "Connecticut",
                        "Oregon",
                        "Washington",
                        "Maine",
                        "Utah",
                        "West Virginia",
                        "New Jersey",
                        "Massachusetts",
                        "Idaho",
                        "Arizona",
                        "Maryland",
                        "Montana",
                        "California",
                        "New York",
                        "New Mexico",
                        "Wyoming",
                        "Virginia",
                        "Pennsylvania",
                        "Michigan",
                        "Kentucky",
                        "South Carolina",
                        "Ohio",
                        "Tennessee",
                        "North Carolina",
                        "Wisconsin",
                        "Indiana",
                        "North Dakota",
                        "Georgia",
                        "South Dakota",
                        "Arkansas",
                        "Minnesota",
                        "Louisiana",
                        "Colorado",
                        "Missouri",
                        "Alabama",
                        "Mississippi",
                        "Illinois",
                        "Iowa",
                        "Nebraska",
                        "Florida",
                        "Oklahoma",
                        "Kansas",
                        "Texas"
                      ],
                      "yaxis": "y"
                    }
                  ],
                  "name": "1953"
                },
                {
                  "data": [
                    {
                      "alignmentgroup": "True",
                      "customdata": [
                        [
                          1954
                        ],
                        [
                          1954
                        ],
                        [
                          1954
                        ],
                        [
                          1954
                        ],
                        [
                          1954
                        ],
                        [
                          1954
                        ],
                        [
                          1954
                        ],
                        [
                          1954
                        ],
                        [
                          1954
                        ],
                        [
                          1954
                        ],
                        [
                          1954
                        ],
                        [
                          1954
                        ],
                        [
                          1954
                        ],
                        [
                          1954
                        ],
                        [
                          1954
                        ],
                        [
                          1954
                        ],
                        [
                          1954
                        ],
                        [
                          1954
                        ],
                        [
                          1954
                        ],
                        [
                          1954
                        ],
                        [
                          1954
                        ],
                        [
                          1954
                        ],
                        [
                          1954
                        ],
                        [
                          1954
                        ],
                        [
                          1954
                        ],
                        [
                          1954
                        ],
                        [
                          1954
                        ],
                        [
                          1954
                        ],
                        [
                          1954
                        ],
                        [
                          1954
                        ],
                        [
                          1954
                        ],
                        [
                          1954
                        ],
                        [
                          1954
                        ],
                        [
                          1954
                        ],
                        [
                          1954
                        ],
                        [
                          1954
                        ],
                        [
                          1954
                        ],
                        [
                          1954
                        ],
                        [
                          1954
                        ],
                        [
                          1954
                        ],
                        [
                          1954
                        ],
                        [
                          1954
                        ],
                        [
                          1954
                        ],
                        [
                          1954
                        ],
                        [
                          1954
                        ],
                        [
                          1954
                        ],
                        [
                          1954
                        ],
                        [
                          1954
                        ],
                        [
                          1954
                        ],
                        [
                          1954
                        ],
                        [
                          1954
                        ],
                        [
                          1954
                        ],
                        [
                          1954
                        ]
                      ],
                      "hovertemplate": "Yıl=%{customdata[0]}<br>Toplam Kasırga Sayısı=%{x}<extra></extra>",
                      "legendgroup": "",
                      "marker": {
                        "color": "#FFD700",
                        "pattern": {
                          "shape": ""
                        }
                      },
                      "name": "",
                      "offsetgroup": "",
                      "orientation": "h",
                      "showlegend": false,
                      "textposition": "auto",
                      "type": "bar",
                      "x": [
                        0,
                        0,
                        0,
                        0,
                        0,
                        0,
                        1,
                        1,
                        0,
                        4,
                        7,
                        2,
                        1,
                        4,
                        3,
                        5,
                        3,
                        6,
                        3,
                        3,
                        8,
                        11,
                        5,
                        3,
                        12,
                        13,
                        19,
                        43,
                        36,
                        9,
                        9,
                        24,
                        43,
                        32,
                        25,
                        45,
                        26,
                        53,
                        36,
                        75,
                        25,
                        68,
                        36,
                        60,
                        49,
                        65,
                        28,
                        55,
                        84,
                        59,
                        193,
                        223,
                        157
                      ],
                      "xaxis": "x",
                      "y": [
                        "Virgin Islands",
                        "District of Columbia",
                        "Alaska",
                        "Rhode Island",
                        "Puerto Rico",
                        "Hawaii",
                        "Vermont",
                        "Delaware",
                        "Nevada",
                        "New Hampshire",
                        "Connecticut",
                        "Oregon",
                        "Washington",
                        "Maine",
                        "Utah",
                        "West Virginia",
                        "New Jersey",
                        "Massachusetts",
                        "Idaho",
                        "Arizona",
                        "Maryland",
                        "Montana",
                        "California",
                        "New York",
                        "New Mexico",
                        "Wyoming",
                        "Virginia",
                        "Pennsylvania",
                        "Michigan",
                        "Kentucky",
                        "South Carolina",
                        "Ohio",
                        "Tennessee",
                        "North Carolina",
                        "Wisconsin",
                        "Indiana",
                        "North Dakota",
                        "Georgia",
                        "South Dakota",
                        "Arkansas",
                        "Minnesota",
                        "Louisiana",
                        "Colorado",
                        "Missouri",
                        "Alabama",
                        "Mississippi",
                        "Illinois",
                        "Iowa",
                        "Nebraska",
                        "Florida",
                        "Oklahoma",
                        "Kansas",
                        "Texas"
                      ],
                      "yaxis": "y"
                    }
                  ],
                  "name": "1954"
                },
                {
                  "data": [
                    {
                      "alignmentgroup": "True",
                      "customdata": [
                        [
                          1955
                        ],
                        [
                          1955
                        ],
                        [
                          1955
                        ],
                        [
                          1955
                        ],
                        [
                          1955
                        ],
                        [
                          1955
                        ],
                        [
                          1955
                        ],
                        [
                          1955
                        ],
                        [
                          1955
                        ],
                        [
                          1955
                        ],
                        [
                          1955
                        ],
                        [
                          1955
                        ],
                        [
                          1955
                        ],
                        [
                          1955
                        ],
                        [
                          1955
                        ],
                        [
                          1955
                        ],
                        [
                          1955
                        ],
                        [
                          1955
                        ],
                        [
                          1955
                        ],
                        [
                          1955
                        ],
                        [
                          1955
                        ],
                        [
                          1955
                        ],
                        [
                          1955
                        ],
                        [
                          1955
                        ],
                        [
                          1955
                        ],
                        [
                          1955
                        ],
                        [
                          1955
                        ],
                        [
                          1955
                        ],
                        [
                          1955
                        ],
                        [
                          1955
                        ],
                        [
                          1955
                        ],
                        [
                          1955
                        ],
                        [
                          1955
                        ],
                        [
                          1955
                        ],
                        [
                          1955
                        ],
                        [
                          1955
                        ],
                        [
                          1955
                        ],
                        [
                          1955
                        ],
                        [
                          1955
                        ],
                        [
                          1955
                        ],
                        [
                          1955
                        ],
                        [
                          1955
                        ],
                        [
                          1955
                        ],
                        [
                          1955
                        ],
                        [
                          1955
                        ],
                        [
                          1955
                        ],
                        [
                          1955
                        ],
                        [
                          1955
                        ],
                        [
                          1955
                        ],
                        [
                          1955
                        ],
                        [
                          1955
                        ],
                        [
                          1955
                        ],
                        [
                          1955
                        ]
                      ],
                      "hovertemplate": "Yıl=%{customdata[0]}<br>Toplam Kasırga Sayısı=%{x}<extra></extra>",
                      "legendgroup": "",
                      "marker": {
                        "color": "#FFD700",
                        "pattern": {
                          "shape": ""
                        }
                      },
                      "name": "",
                      "offsetgroup": "",
                      "orientation": "h",
                      "showlegend": false,
                      "textposition": "auto",
                      "type": "bar",
                      "x": [
                        0,
                        0,
                        0,
                        0,
                        0,
                        1,
                        3,
                        2,
                        0,
                        5,
                        9,
                        2,
                        1,
                        4,
                        6,
                        5,
                        4,
                        10,
                        4,
                        4,
                        8,
                        14,
                        8,
                        4,
                        13,
                        17,
                        20,
                        46,
                        48,
                        12,
                        16,
                        30,
                        58,
                        38,
                        34,
                        59,
                        38,
                        68,
                        50,
                        97,
                        36,
                        71,
                        54,
                        89,
                        55,
                        71,
                        53,
                        62,
                        114,
                        71,
                        269,
                        319,
                        261
                      ],
                      "xaxis": "x",
                      "y": [
                        "Virgin Islands",
                        "District of Columbia",
                        "Alaska",
                        "Rhode Island",
                        "Puerto Rico",
                        "Hawaii",
                        "Vermont",
                        "Delaware",
                        "Nevada",
                        "New Hampshire",
                        "Connecticut",
                        "Oregon",
                        "Washington",
                        "Maine",
                        "Utah",
                        "West Virginia",
                        "New Jersey",
                        "Massachusetts",
                        "Idaho",
                        "Arizona",
                        "Maryland",
                        "Montana",
                        "California",
                        "New York",
                        "New Mexico",
                        "Wyoming",
                        "Virginia",
                        "Pennsylvania",
                        "Michigan",
                        "Kentucky",
                        "South Carolina",
                        "Ohio",
                        "Tennessee",
                        "North Carolina",
                        "Wisconsin",
                        "Indiana",
                        "North Dakota",
                        "Georgia",
                        "South Dakota",
                        "Arkansas",
                        "Minnesota",
                        "Louisiana",
                        "Colorado",
                        "Missouri",
                        "Alabama",
                        "Mississippi",
                        "Illinois",
                        "Iowa",
                        "Nebraska",
                        "Florida",
                        "Oklahoma",
                        "Kansas",
                        "Texas"
                      ],
                      "yaxis": "y"
                    }
                  ],
                  "name": "1955"
                },
                {
                  "data": [
                    {
                      "alignmentgroup": "True",
                      "customdata": [
                        [
                          1956
                        ],
                        [
                          1956
                        ],
                        [
                          1956
                        ],
                        [
                          1956
                        ],
                        [
                          1956
                        ],
                        [
                          1956
                        ],
                        [
                          1956
                        ],
                        [
                          1956
                        ],
                        [
                          1956
                        ],
                        [
                          1956
                        ],
                        [
                          1956
                        ],
                        [
                          1956
                        ],
                        [
                          1956
                        ],
                        [
                          1956
                        ],
                        [
                          1956
                        ],
                        [
                          1956
                        ],
                        [
                          1956
                        ],
                        [
                          1956
                        ],
                        [
                          1956
                        ],
                        [
                          1956
                        ],
                        [
                          1956
                        ],
                        [
                          1956
                        ],
                        [
                          1956
                        ],
                        [
                          1956
                        ],
                        [
                          1956
                        ],
                        [
                          1956
                        ],
                        [
                          1956
                        ],
                        [
                          1956
                        ],
                        [
                          1956
                        ],
                        [
                          1956
                        ],
                        [
                          1956
                        ],
                        [
                          1956
                        ],
                        [
                          1956
                        ],
                        [
                          1956
                        ],
                        [
                          1956
                        ],
                        [
                          1956
                        ],
                        [
                          1956
                        ],
                        [
                          1956
                        ],
                        [
                          1956
                        ],
                        [
                          1956
                        ],
                        [
                          1956
                        ],
                        [
                          1956
                        ],
                        [
                          1956
                        ],
                        [
                          1956
                        ],
                        [
                          1956
                        ],
                        [
                          1956
                        ],
                        [
                          1956
                        ],
                        [
                          1956
                        ],
                        [
                          1956
                        ],
                        [
                          1956
                        ],
                        [
                          1956
                        ],
                        [
                          1956
                        ],
                        [
                          1956
                        ]
                      ],
                      "hovertemplate": "Yıl=%{customdata[0]}<br>Toplam Kasırga Sayısı=%{x}<extra></extra>",
                      "legendgroup": "",
                      "marker": {
                        "color": "#FFD700",
                        "pattern": {
                          "shape": ""
                        }
                      },
                      "name": "",
                      "offsetgroup": "",
                      "orientation": "h",
                      "showlegend": false,
                      "textposition": "auto",
                      "type": "bar",
                      "x": [
                        0,
                        0,
                        0,
                        0,
                        0,
                        1,
                        3,
                        2,
                        0,
                        7,
                        10,
                        2,
                        2,
                        6,
                        6,
                        6,
                        8,
                        19,
                        9,
                        7,
                        8,
                        14,
                        10,
                        5,
                        17,
                        19,
                        24,
                        52,
                        71,
                        21,
                        22,
                        39,
                        67,
                        48,
                        40,
                        92,
                        52,
                        85,
                        61,
                        110,
                        45,
                        76,
                        64,
                        111,
                        60,
                        77,
                        80,
                        69,
                        147,
                        81,
                        318,
                        376,
                        317
                      ],
                      "xaxis": "x",
                      "y": [
                        "Virgin Islands",
                        "District of Columbia",
                        "Alaska",
                        "Rhode Island",
                        "Puerto Rico",
                        "Hawaii",
                        "Vermont",
                        "Delaware",
                        "Nevada",
                        "New Hampshire",
                        "Connecticut",
                        "Oregon",
                        "Washington",
                        "Maine",
                        "Utah",
                        "West Virginia",
                        "New Jersey",
                        "Massachusetts",
                        "Idaho",
                        "Arizona",
                        "Maryland",
                        "Montana",
                        "California",
                        "New York",
                        "New Mexico",
                        "Wyoming",
                        "Virginia",
                        "Pennsylvania",
                        "Michigan",
                        "Kentucky",
                        "South Carolina",
                        "Ohio",
                        "Tennessee",
                        "North Carolina",
                        "Wisconsin",
                        "Indiana",
                        "North Dakota",
                        "Georgia",
                        "South Dakota",
                        "Arkansas",
                        "Minnesota",
                        "Louisiana",
                        "Colorado",
                        "Missouri",
                        "Alabama",
                        "Mississippi",
                        "Illinois",
                        "Iowa",
                        "Nebraska",
                        "Florida",
                        "Oklahoma",
                        "Kansas",
                        "Texas"
                      ],
                      "yaxis": "y"
                    }
                  ],
                  "name": "1956"
                },
                {
                  "data": [
                    {
                      "alignmentgroup": "True",
                      "customdata": [
                        [
                          1957
                        ],
                        [
                          1957
                        ],
                        [
                          1957
                        ],
                        [
                          1957
                        ],
                        [
                          1957
                        ],
                        [
                          1957
                        ],
                        [
                          1957
                        ],
                        [
                          1957
                        ],
                        [
                          1957
                        ],
                        [
                          1957
                        ],
                        [
                          1957
                        ],
                        [
                          1957
                        ],
                        [
                          1957
                        ],
                        [
                          1957
                        ],
                        [
                          1957
                        ],
                        [
                          1957
                        ],
                        [
                          1957
                        ],
                        [
                          1957
                        ],
                        [
                          1957
                        ],
                        [
                          1957
                        ],
                        [
                          1957
                        ],
                        [
                          1957
                        ],
                        [
                          1957
                        ],
                        [
                          1957
                        ],
                        [
                          1957
                        ],
                        [
                          1957
                        ],
                        [
                          1957
                        ],
                        [
                          1957
                        ],
                        [
                          1957
                        ],
                        [
                          1957
                        ],
                        [
                          1957
                        ],
                        [
                          1957
                        ],
                        [
                          1957
                        ],
                        [
                          1957
                        ],
                        [
                          1957
                        ],
                        [
                          1957
                        ],
                        [
                          1957
                        ],
                        [
                          1957
                        ],
                        [
                          1957
                        ],
                        [
                          1957
                        ],
                        [
                          1957
                        ],
                        [
                          1957
                        ],
                        [
                          1957
                        ],
                        [
                          1957
                        ],
                        [
                          1957
                        ],
                        [
                          1957
                        ],
                        [
                          1957
                        ],
                        [
                          1957
                        ],
                        [
                          1957
                        ],
                        [
                          1957
                        ],
                        [
                          1957
                        ],
                        [
                          1957
                        ],
                        [
                          1957
                        ]
                      ],
                      "hovertemplate": "Yıl=%{customdata[0]}<br>Toplam Kasırga Sayısı=%{x}<extra></extra>",
                      "legendgroup": "",
                      "marker": {
                        "color": "#FFD700",
                        "pattern": {
                          "shape": ""
                        }
                      },
                      "name": "",
                      "offsetgroup": "",
                      "orientation": "h",
                      "showlegend": false,
                      "textposition": "auto",
                      "type": "bar",
                      "x": [
                        0,
                        0,
                        0,
                        0,
                        0,
                        2,
                        5,
                        4,
                        0,
                        8,
                        11,
                        4,
                        5,
                        7,
                        7,
                        7,
                        9,
                        26,
                        10,
                        12,
                        8,
                        15,
                        11,
                        6,
                        34,
                        22,
                        28,
                        60,
                        83,
                        25,
                        29,
                        43,
                        85,
                        55,
                        52,
                        119,
                        65,
                        103,
                        81,
                        137,
                        60,
                        106,
                        88,
                        152,
                        105,
                        103,
                        122,
                        86,
                        200,
                        98,
                        424,
                        439,
                        462
                      ],
                      "xaxis": "x",
                      "y": [
                        "Virgin Islands",
                        "District of Columbia",
                        "Alaska",
                        "Rhode Island",
                        "Puerto Rico",
                        "Hawaii",
                        "Vermont",
                        "Delaware",
                        "Nevada",
                        "New Hampshire",
                        "Connecticut",
                        "Oregon",
                        "Washington",
                        "Maine",
                        "Utah",
                        "West Virginia",
                        "New Jersey",
                        "Massachusetts",
                        "Idaho",
                        "Arizona",
                        "Maryland",
                        "Montana",
                        "California",
                        "New York",
                        "New Mexico",
                        "Wyoming",
                        "Virginia",
                        "Pennsylvania",
                        "Michigan",
                        "Kentucky",
                        "South Carolina",
                        "Ohio",
                        "Tennessee",
                        "North Carolina",
                        "Wisconsin",
                        "Indiana",
                        "North Dakota",
                        "Georgia",
                        "South Dakota",
                        "Arkansas",
                        "Minnesota",
                        "Louisiana",
                        "Colorado",
                        "Missouri",
                        "Alabama",
                        "Mississippi",
                        "Illinois",
                        "Iowa",
                        "Nebraska",
                        "Florida",
                        "Oklahoma",
                        "Kansas",
                        "Texas"
                      ],
                      "yaxis": "y"
                    }
                  ],
                  "name": "1957"
                },
                {
                  "data": [
                    {
                      "alignmentgroup": "True",
                      "customdata": [
                        [
                          1958
                        ],
                        [
                          1958
                        ],
                        [
                          1958
                        ],
                        [
                          1958
                        ],
                        [
                          1958
                        ],
                        [
                          1958
                        ],
                        [
                          1958
                        ],
                        [
                          1958
                        ],
                        [
                          1958
                        ],
                        [
                          1958
                        ],
                        [
                          1958
                        ],
                        [
                          1958
                        ],
                        [
                          1958
                        ],
                        [
                          1958
                        ],
                        [
                          1958
                        ],
                        [
                          1958
                        ],
                        [
                          1958
                        ],
                        [
                          1958
                        ],
                        [
                          1958
                        ],
                        [
                          1958
                        ],
                        [
                          1958
                        ],
                        [
                          1958
                        ],
                        [
                          1958
                        ],
                        [
                          1958
                        ],
                        [
                          1958
                        ],
                        [
                          1958
                        ],
                        [
                          1958
                        ],
                        [
                          1958
                        ],
                        [
                          1958
                        ],
                        [
                          1958
                        ],
                        [
                          1958
                        ],
                        [
                          1958
                        ],
                        [
                          1958
                        ],
                        [
                          1958
                        ],
                        [
                          1958
                        ],
                        [
                          1958
                        ],
                        [
                          1958
                        ],
                        [
                          1958
                        ],
                        [
                          1958
                        ],
                        [
                          1958
                        ],
                        [
                          1958
                        ],
                        [
                          1958
                        ],
                        [
                          1958
                        ],
                        [
                          1958
                        ],
                        [
                          1958
                        ],
                        [
                          1958
                        ],
                        [
                          1958
                        ],
                        [
                          1958
                        ],
                        [
                          1958
                        ],
                        [
                          1958
                        ],
                        [
                          1958
                        ],
                        [
                          1958
                        ],
                        [
                          1958
                        ]
                      ],
                      "hovertemplate": "Yıl=%{customdata[0]}<br>Toplam Kasırga Sayısı=%{x}<extra></extra>",
                      "legendgroup": "",
                      "marker": {
                        "color": "#FFD700",
                        "pattern": {
                          "shape": ""
                        }
                      },
                      "name": "",
                      "offsetgroup": "",
                      "orientation": "h",
                      "showlegend": false,
                      "textposition": "auto",
                      "type": "bar",
                      "x": [
                        0,
                        0,
                        0,
                        0,
                        0,
                        2,
                        5,
                        5,
                        0,
                        8,
                        14,
                        4,
                        7,
                        14,
                        7,
                        7,
                        12,
                        38,
                        11,
                        16,
                        10,
                        19,
                        21,
                        9,
                        41,
                        35,
                        29,
                        61,
                        90,
                        32,
                        33,
                        55,
                        87,
                        59,
                        68,
                        143,
                        74,
                        114,
                        82,
                        144,
                        74,
                        111,
                        106,
                        183,
                        126,
                        114,
                        149,
                        100,
                        254,
                        124,
                        466,
                        488,
                        536
                      ],
                      "xaxis": "x",
                      "y": [
                        "Virgin Islands",
                        "District of Columbia",
                        "Alaska",
                        "Rhode Island",
                        "Puerto Rico",
                        "Hawaii",
                        "Vermont",
                        "Delaware",
                        "Nevada",
                        "New Hampshire",
                        "Connecticut",
                        "Oregon",
                        "Washington",
                        "Maine",
                        "Utah",
                        "West Virginia",
                        "New Jersey",
                        "Massachusetts",
                        "Idaho",
                        "Arizona",
                        "Maryland",
                        "Montana",
                        "California",
                        "New York",
                        "New Mexico",
                        "Wyoming",
                        "Virginia",
                        "Pennsylvania",
                        "Michigan",
                        "Kentucky",
                        "South Carolina",
                        "Ohio",
                        "Tennessee",
                        "North Carolina",
                        "Wisconsin",
                        "Indiana",
                        "North Dakota",
                        "Georgia",
                        "South Dakota",
                        "Arkansas",
                        "Minnesota",
                        "Louisiana",
                        "Colorado",
                        "Missouri",
                        "Alabama",
                        "Mississippi",
                        "Illinois",
                        "Iowa",
                        "Nebraska",
                        "Florida",
                        "Oklahoma",
                        "Kansas",
                        "Texas"
                      ],
                      "yaxis": "y"
                    }
                  ],
                  "name": "1958"
                },
                {
                  "data": [
                    {
                      "alignmentgroup": "True",
                      "customdata": [
                        [
                          1959
                        ],
                        [
                          1959
                        ],
                        [
                          1959
                        ],
                        [
                          1959
                        ],
                        [
                          1959
                        ],
                        [
                          1959
                        ],
                        [
                          1959
                        ],
                        [
                          1959
                        ],
                        [
                          1959
                        ],
                        [
                          1959
                        ],
                        [
                          1959
                        ],
                        [
                          1959
                        ],
                        [
                          1959
                        ],
                        [
                          1959
                        ],
                        [
                          1959
                        ],
                        [
                          1959
                        ],
                        [
                          1959
                        ],
                        [
                          1959
                        ],
                        [
                          1959
                        ],
                        [
                          1959
                        ],
                        [
                          1959
                        ],
                        [
                          1959
                        ],
                        [
                          1959
                        ],
                        [
                          1959
                        ],
                        [
                          1959
                        ],
                        [
                          1959
                        ],
                        [
                          1959
                        ],
                        [
                          1959
                        ],
                        [
                          1959
                        ],
                        [
                          1959
                        ],
                        [
                          1959
                        ],
                        [
                          1959
                        ],
                        [
                          1959
                        ],
                        [
                          1959
                        ],
                        [
                          1959
                        ],
                        [
                          1959
                        ],
                        [
                          1959
                        ],
                        [
                          1959
                        ],
                        [
                          1959
                        ],
                        [
                          1959
                        ],
                        [
                          1959
                        ],
                        [
                          1959
                        ],
                        [
                          1959
                        ],
                        [
                          1959
                        ],
                        [
                          1959
                        ],
                        [
                          1959
                        ],
                        [
                          1959
                        ],
                        [
                          1959
                        ],
                        [
                          1959
                        ],
                        [
                          1959
                        ],
                        [
                          1959
                        ],
                        [
                          1959
                        ],
                        [
                          1959
                        ]
                      ],
                      "hovertemplate": "Yıl=%{customdata[0]}<br>Toplam Kasırga Sayısı=%{x}<extra></extra>",
                      "legendgroup": "",
                      "marker": {
                        "color": "#FFD700",
                        "pattern": {
                          "shape": ""
                        }
                      },
                      "name": "",
                      "offsetgroup": "",
                      "orientation": "h",
                      "showlegend": false,
                      "textposition": "auto",
                      "type": "bar",
                      "x": [
                        0,
                        0,
                        1,
                        0,
                        1,
                        2,
                        5,
                        5,
                        0,
                        9,
                        17,
                        4,
                        7,
                        20,
                        7,
                        8,
                        12,
                        38,
                        13,
                        18,
                        12,
                        22,
                        22,
                        12,
                        57,
                        38,
                        41,
                        61,
                        92,
                        35,
                        37,
                        65,
                        89,
                        70,
                        98,
                        159,
                        85,
                        124,
                        93,
                        153,
                        88,
                        122,
                        107,
                        213,
                        134,
                        135,
                        185,
                        125,
                        297,
                        142,
                        536,
                        553,
                        622
                      ],
                      "xaxis": "x",
                      "y": [
                        "Virgin Islands",
                        "District of Columbia",
                        "Alaska",
                        "Rhode Island",
                        "Puerto Rico",
                        "Hawaii",
                        "Vermont",
                        "Delaware",
                        "Nevada",
                        "New Hampshire",
                        "Connecticut",
                        "Oregon",
                        "Washington",
                        "Maine",
                        "Utah",
                        "West Virginia",
                        "New Jersey",
                        "Massachusetts",
                        "Idaho",
                        "Arizona",
                        "Maryland",
                        "Montana",
                        "California",
                        "New York",
                        "New Mexico",
                        "Wyoming",
                        "Virginia",
                        "Pennsylvania",
                        "Michigan",
                        "Kentucky",
                        "South Carolina",
                        "Ohio",
                        "Tennessee",
                        "North Carolina",
                        "Wisconsin",
                        "Indiana",
                        "North Dakota",
                        "Georgia",
                        "South Dakota",
                        "Arkansas",
                        "Minnesota",
                        "Louisiana",
                        "Colorado",
                        "Missouri",
                        "Alabama",
                        "Mississippi",
                        "Illinois",
                        "Iowa",
                        "Nebraska",
                        "Florida",
                        "Oklahoma",
                        "Kansas",
                        "Texas"
                      ],
                      "yaxis": "y"
                    }
                  ],
                  "name": "1959"
                },
                {
                  "data": [
                    {
                      "alignmentgroup": "True",
                      "customdata": [
                        [
                          1960
                        ],
                        [
                          1960
                        ],
                        [
                          1960
                        ],
                        [
                          1960
                        ],
                        [
                          1960
                        ],
                        [
                          1960
                        ],
                        [
                          1960
                        ],
                        [
                          1960
                        ],
                        [
                          1960
                        ],
                        [
                          1960
                        ],
                        [
                          1960
                        ],
                        [
                          1960
                        ],
                        [
                          1960
                        ],
                        [
                          1960
                        ],
                        [
                          1960
                        ],
                        [
                          1960
                        ],
                        [
                          1960
                        ],
                        [
                          1960
                        ],
                        [
                          1960
                        ],
                        [
                          1960
                        ],
                        [
                          1960
                        ],
                        [
                          1960
                        ],
                        [
                          1960
                        ],
                        [
                          1960
                        ],
                        [
                          1960
                        ],
                        [
                          1960
                        ],
                        [
                          1960
                        ],
                        [
                          1960
                        ],
                        [
                          1960
                        ],
                        [
                          1960
                        ],
                        [
                          1960
                        ],
                        [
                          1960
                        ],
                        [
                          1960
                        ],
                        [
                          1960
                        ],
                        [
                          1960
                        ],
                        [
                          1960
                        ],
                        [
                          1960
                        ],
                        [
                          1960
                        ],
                        [
                          1960
                        ],
                        [
                          1960
                        ],
                        [
                          1960
                        ],
                        [
                          1960
                        ],
                        [
                          1960
                        ],
                        [
                          1960
                        ],
                        [
                          1960
                        ],
                        [
                          1960
                        ],
                        [
                          1960
                        ],
                        [
                          1960
                        ],
                        [
                          1960
                        ],
                        [
                          1960
                        ],
                        [
                          1960
                        ],
                        [
                          1960
                        ],
                        [
                          1960
                        ]
                      ],
                      "hovertemplate": "Yıl=%{customdata[0]}<br>Toplam Kasırga Sayısı=%{x}<extra></extra>",
                      "legendgroup": "",
                      "marker": {
                        "color": "#FFD700",
                        "pattern": {
                          "shape": ""
                        }
                      },
                      "name": "",
                      "offsetgroup": "",
                      "orientation": "h",
                      "showlegend": false,
                      "textposition": "auto",
                      "type": "bar",
                      "x": [
                        0,
                        0,
                        1,
                        0,
                        1,
                        2,
                        7,
                        5,
                        0,
                        10,
                        17,
                        5,
                        7,
                        21,
                        7,
                        8,
                        17,
                        39,
                        13,
                        20,
                        14,
                        25,
                        23,
                        16,
                        63,
                        45,
                        46,
                        64,
                        98,
                        36,
                        41,
                        72,
                        91,
                        80,
                        109,
                        172,
                        101,
                        131,
                        102,
                        181,
                        95,
                        131,
                        121,
                        246,
                        145,
                        143,
                        225,
                        152,
                        340,
                        173,
                        634,
                        613,
                        699
                      ],
                      "xaxis": "x",
                      "y": [
                        "Virgin Islands",
                        "District of Columbia",
                        "Alaska",
                        "Rhode Island",
                        "Puerto Rico",
                        "Hawaii",
                        "Vermont",
                        "Delaware",
                        "Nevada",
                        "New Hampshire",
                        "Connecticut",
                        "Oregon",
                        "Washington",
                        "Maine",
                        "Utah",
                        "West Virginia",
                        "New Jersey",
                        "Massachusetts",
                        "Idaho",
                        "Arizona",
                        "Maryland",
                        "Montana",
                        "California",
                        "New York",
                        "New Mexico",
                        "Wyoming",
                        "Virginia",
                        "Pennsylvania",
                        "Michigan",
                        "Kentucky",
                        "South Carolina",
                        "Ohio",
                        "Tennessee",
                        "North Carolina",
                        "Wisconsin",
                        "Indiana",
                        "North Dakota",
                        "Georgia",
                        "South Dakota",
                        "Arkansas",
                        "Minnesota",
                        "Louisiana",
                        "Colorado",
                        "Missouri",
                        "Alabama",
                        "Mississippi",
                        "Illinois",
                        "Iowa",
                        "Nebraska",
                        "Florida",
                        "Oklahoma",
                        "Kansas",
                        "Texas"
                      ],
                      "yaxis": "y"
                    }
                  ],
                  "name": "1960"
                },
                {
                  "data": [
                    {
                      "alignmentgroup": "True",
                      "customdata": [
                        [
                          1961
                        ],
                        [
                          1961
                        ],
                        [
                          1961
                        ],
                        [
                          1961
                        ],
                        [
                          1961
                        ],
                        [
                          1961
                        ],
                        [
                          1961
                        ],
                        [
                          1961
                        ],
                        [
                          1961
                        ],
                        [
                          1961
                        ],
                        [
                          1961
                        ],
                        [
                          1961
                        ],
                        [
                          1961
                        ],
                        [
                          1961
                        ],
                        [
                          1961
                        ],
                        [
                          1961
                        ],
                        [
                          1961
                        ],
                        [
                          1961
                        ],
                        [
                          1961
                        ],
                        [
                          1961
                        ],
                        [
                          1961
                        ],
                        [
                          1961
                        ],
                        [
                          1961
                        ],
                        [
                          1961
                        ],
                        [
                          1961
                        ],
                        [
                          1961
                        ],
                        [
                          1961
                        ],
                        [
                          1961
                        ],
                        [
                          1961
                        ],
                        [
                          1961
                        ],
                        [
                          1961
                        ],
                        [
                          1961
                        ],
                        [
                          1961
                        ],
                        [
                          1961
                        ],
                        [
                          1961
                        ],
                        [
                          1961
                        ],
                        [
                          1961
                        ],
                        [
                          1961
                        ],
                        [
                          1961
                        ],
                        [
                          1961
                        ],
                        [
                          1961
                        ],
                        [
                          1961
                        ],
                        [
                          1961
                        ],
                        [
                          1961
                        ],
                        [
                          1961
                        ],
                        [
                          1961
                        ],
                        [
                          1961
                        ],
                        [
                          1961
                        ],
                        [
                          1961
                        ],
                        [
                          1961
                        ],
                        [
                          1961
                        ],
                        [
                          1961
                        ],
                        [
                          1961
                        ]
                      ],
                      "hovertemplate": "Yıl=%{customdata[0]}<br>Toplam Kasırga Sayısı=%{x}<extra></extra>",
                      "legendgroup": "",
                      "marker": {
                        "color": "#FFD700",
                        "pattern": {
                          "shape": ""
                        }
                      },
                      "name": "",
                      "offsetgroup": "",
                      "orientation": "h",
                      "showlegend": false,
                      "textposition": "auto",
                      "type": "bar",
                      "x": [
                        0,
                        0,
                        1,
                        0,
                        1,
                        2,
                        10,
                        6,
                        0,
                        14,
                        18,
                        5,
                        7,
                        27,
                        8,
                        10,
                        17,
                        42,
                        17,
                        23,
                        18,
                        27,
                        24,
                        21,
                        74,
                        49,
                        50,
                        70,
                        102,
                        40,
                        54,
                        88,
                        94,
                        88,
                        118,
                        204,
                        103,
                        176,
                        113,
                        217,
                        103,
                        156,
                        134,
                        277,
                        167,
                        161,
                        258,
                        165,
                        352,
                        197,
                        715,
                        658,
                        823
                      ],
                      "xaxis": "x",
                      "y": [
                        "Virgin Islands",
                        "District of Columbia",
                        "Alaska",
                        "Rhode Island",
                        "Puerto Rico",
                        "Hawaii",
                        "Vermont",
                        "Delaware",
                        "Nevada",
                        "New Hampshire",
                        "Connecticut",
                        "Oregon",
                        "Washington",
                        "Maine",
                        "Utah",
                        "West Virginia",
                        "New Jersey",
                        "Massachusetts",
                        "Idaho",
                        "Arizona",
                        "Maryland",
                        "Montana",
                        "California",
                        "New York",
                        "New Mexico",
                        "Wyoming",
                        "Virginia",
                        "Pennsylvania",
                        "Michigan",
                        "Kentucky",
                        "South Carolina",
                        "Ohio",
                        "Tennessee",
                        "North Carolina",
                        "Wisconsin",
                        "Indiana",
                        "North Dakota",
                        "Georgia",
                        "South Dakota",
                        "Arkansas",
                        "Minnesota",
                        "Louisiana",
                        "Colorado",
                        "Missouri",
                        "Alabama",
                        "Mississippi",
                        "Illinois",
                        "Iowa",
                        "Nebraska",
                        "Florida",
                        "Oklahoma",
                        "Kansas",
                        "Texas"
                      ],
                      "yaxis": "y"
                    }
                  ],
                  "name": "1961"
                },
                {
                  "data": [
                    {
                      "alignmentgroup": "True",
                      "customdata": [
                        [
                          1962
                        ],
                        [
                          1962
                        ],
                        [
                          1962
                        ],
                        [
                          1962
                        ],
                        [
                          1962
                        ],
                        [
                          1962
                        ],
                        [
                          1962
                        ],
                        [
                          1962
                        ],
                        [
                          1962
                        ],
                        [
                          1962
                        ],
                        [
                          1962
                        ],
                        [
                          1962
                        ],
                        [
                          1962
                        ],
                        [
                          1962
                        ],
                        [
                          1962
                        ],
                        [
                          1962
                        ],
                        [
                          1962
                        ],
                        [
                          1962
                        ],
                        [
                          1962
                        ],
                        [
                          1962
                        ],
                        [
                          1962
                        ],
                        [
                          1962
                        ],
                        [
                          1962
                        ],
                        [
                          1962
                        ],
                        [
                          1962
                        ],
                        [
                          1962
                        ],
                        [
                          1962
                        ],
                        [
                          1962
                        ],
                        [
                          1962
                        ],
                        [
                          1962
                        ],
                        [
                          1962
                        ],
                        [
                          1962
                        ],
                        [
                          1962
                        ],
                        [
                          1962
                        ],
                        [
                          1962
                        ],
                        [
                          1962
                        ],
                        [
                          1962
                        ],
                        [
                          1962
                        ],
                        [
                          1962
                        ],
                        [
                          1962
                        ],
                        [
                          1962
                        ],
                        [
                          1962
                        ],
                        [
                          1962
                        ],
                        [
                          1962
                        ],
                        [
                          1962
                        ],
                        [
                          1962
                        ],
                        [
                          1962
                        ],
                        [
                          1962
                        ],
                        [
                          1962
                        ],
                        [
                          1962
                        ],
                        [
                          1962
                        ],
                        [
                          1962
                        ],
                        [
                          1962
                        ]
                      ],
                      "hovertemplate": "Yıl=%{customdata[0]}<br>Toplam Kasırga Sayısı=%{x}<extra></extra>",
                      "legendgroup": "",
                      "marker": {
                        "color": "#FFD700",
                        "pattern": {
                          "shape": ""
                        }
                      },
                      "name": "",
                      "offsetgroup": "",
                      "orientation": "h",
                      "showlegend": false,
                      "textposition": "auto",
                      "type": "bar",
                      "x": [
                        0,
                        0,
                        1,
                        0,
                        2,
                        2,
                        15,
                        8,
                        1,
                        15,
                        20,
                        6,
                        8,
                        29,
                        9,
                        11,
                        19,
                        44,
                        20,
                        26,
                        21,
                        37,
                        28,
                        22,
                        86,
                        66,
                        58,
                        74,
                        107,
                        43,
                        64,
                        92,
                        95,
                        91,
                        127,
                        218,
                        112,
                        188,
                        149,
                        223,
                        118,
                        175,
                        159,
                        297,
                        178,
                        174,
                        271,
                        177,
                        393,
                        215,
                        782,
                        719,
                        966
                      ],
                      "xaxis": "x",
                      "y": [
                        "Virgin Islands",
                        "District of Columbia",
                        "Alaska",
                        "Rhode Island",
                        "Puerto Rico",
                        "Hawaii",
                        "Vermont",
                        "Delaware",
                        "Nevada",
                        "New Hampshire",
                        "Connecticut",
                        "Oregon",
                        "Washington",
                        "Maine",
                        "Utah",
                        "West Virginia",
                        "New Jersey",
                        "Massachusetts",
                        "Idaho",
                        "Arizona",
                        "Maryland",
                        "Montana",
                        "California",
                        "New York",
                        "New Mexico",
                        "Wyoming",
                        "Virginia",
                        "Pennsylvania",
                        "Michigan",
                        "Kentucky",
                        "South Carolina",
                        "Ohio",
                        "Tennessee",
                        "North Carolina",
                        "Wisconsin",
                        "Indiana",
                        "North Dakota",
                        "Georgia",
                        "South Dakota",
                        "Arkansas",
                        "Minnesota",
                        "Louisiana",
                        "Colorado",
                        "Missouri",
                        "Alabama",
                        "Mississippi",
                        "Illinois",
                        "Iowa",
                        "Nebraska",
                        "Florida",
                        "Oklahoma",
                        "Kansas",
                        "Texas"
                      ],
                      "yaxis": "y"
                    }
                  ],
                  "name": "1962"
                },
                {
                  "data": [
                    {
                      "alignmentgroup": "True",
                      "customdata": [
                        [
                          1963
                        ],
                        [
                          1963
                        ],
                        [
                          1963
                        ],
                        [
                          1963
                        ],
                        [
                          1963
                        ],
                        [
                          1963
                        ],
                        [
                          1963
                        ],
                        [
                          1963
                        ],
                        [
                          1963
                        ],
                        [
                          1963
                        ],
                        [
                          1963
                        ],
                        [
                          1963
                        ],
                        [
                          1963
                        ],
                        [
                          1963
                        ],
                        [
                          1963
                        ],
                        [
                          1963
                        ],
                        [
                          1963
                        ],
                        [
                          1963
                        ],
                        [
                          1963
                        ],
                        [
                          1963
                        ],
                        [
                          1963
                        ],
                        [
                          1963
                        ],
                        [
                          1963
                        ],
                        [
                          1963
                        ],
                        [
                          1963
                        ],
                        [
                          1963
                        ],
                        [
                          1963
                        ],
                        [
                          1963
                        ],
                        [
                          1963
                        ],
                        [
                          1963
                        ],
                        [
                          1963
                        ],
                        [
                          1963
                        ],
                        [
                          1963
                        ],
                        [
                          1963
                        ],
                        [
                          1963
                        ],
                        [
                          1963
                        ],
                        [
                          1963
                        ],
                        [
                          1963
                        ],
                        [
                          1963
                        ],
                        [
                          1963
                        ],
                        [
                          1963
                        ],
                        [
                          1963
                        ],
                        [
                          1963
                        ],
                        [
                          1963
                        ],
                        [
                          1963
                        ],
                        [
                          1963
                        ],
                        [
                          1963
                        ],
                        [
                          1963
                        ],
                        [
                          1963
                        ],
                        [
                          1963
                        ],
                        [
                          1963
                        ],
                        [
                          1963
                        ],
                        [
                          1963
                        ]
                      ],
                      "hovertemplate": "Yıl=%{customdata[0]}<br>Toplam Kasırga Sayısı=%{x}<extra></extra>",
                      "legendgroup": "",
                      "marker": {
                        "color": "#FFD700",
                        "pattern": {
                          "shape": ""
                        }
                      },
                      "name": "",
                      "offsetgroup": "",
                      "orientation": "h",
                      "showlegend": false,
                      "textposition": "auto",
                      "type": "bar",
                      "x": [
                        0,
                        0,
                        1,
                        0,
                        2,
                        4,
                        16,
                        8,
                        1,
                        24,
                        21,
                        6,
                        8,
                        35,
                        10,
                        12,
                        19,
                        52,
                        20,
                        27,
                        23,
                        40,
                        28,
                        25,
                        94,
                        68,
                        59,
                        78,
                        112,
                        52,
                        75,
                        111,
                        107,
                        101,
                        137,
                        244,
                        117,
                        206,
                        158,
                        225,
                        125,
                        184,
                        162,
                        312,
                        198,
                        182,
                        282,
                        192,
                        410,
                        243,
                        812,
                        748,
                        1048
                      ],
                      "xaxis": "x",
                      "y": [
                        "Virgin Islands",
                        "District of Columbia",
                        "Alaska",
                        "Rhode Island",
                        "Puerto Rico",
                        "Hawaii",
                        "Vermont",
                        "Delaware",
                        "Nevada",
                        "New Hampshire",
                        "Connecticut",
                        "Oregon",
                        "Washington",
                        "Maine",
                        "Utah",
                        "West Virginia",
                        "New Jersey",
                        "Massachusetts",
                        "Idaho",
                        "Arizona",
                        "Maryland",
                        "Montana",
                        "California",
                        "New York",
                        "New Mexico",
                        "Wyoming",
                        "Virginia",
                        "Pennsylvania",
                        "Michigan",
                        "Kentucky",
                        "South Carolina",
                        "Ohio",
                        "Tennessee",
                        "North Carolina",
                        "Wisconsin",
                        "Indiana",
                        "North Dakota",
                        "Georgia",
                        "South Dakota",
                        "Arkansas",
                        "Minnesota",
                        "Louisiana",
                        "Colorado",
                        "Missouri",
                        "Alabama",
                        "Mississippi",
                        "Illinois",
                        "Iowa",
                        "Nebraska",
                        "Florida",
                        "Oklahoma",
                        "Kansas",
                        "Texas"
                      ],
                      "yaxis": "y"
                    }
                  ],
                  "name": "1963"
                },
                {
                  "data": [
                    {
                      "alignmentgroup": "True",
                      "customdata": [
                        [
                          1964
                        ],
                        [
                          1964
                        ],
                        [
                          1964
                        ],
                        [
                          1964
                        ],
                        [
                          1964
                        ],
                        [
                          1964
                        ],
                        [
                          1964
                        ],
                        [
                          1964
                        ],
                        [
                          1964
                        ],
                        [
                          1964
                        ],
                        [
                          1964
                        ],
                        [
                          1964
                        ],
                        [
                          1964
                        ],
                        [
                          1964
                        ],
                        [
                          1964
                        ],
                        [
                          1964
                        ],
                        [
                          1964
                        ],
                        [
                          1964
                        ],
                        [
                          1964
                        ],
                        [
                          1964
                        ],
                        [
                          1964
                        ],
                        [
                          1964
                        ],
                        [
                          1964
                        ],
                        [
                          1964
                        ],
                        [
                          1964
                        ],
                        [
                          1964
                        ],
                        [
                          1964
                        ],
                        [
                          1964
                        ],
                        [
                          1964
                        ],
                        [
                          1964
                        ],
                        [
                          1964
                        ],
                        [
                          1964
                        ],
                        [
                          1964
                        ],
                        [
                          1964
                        ],
                        [
                          1964
                        ],
                        [
                          1964
                        ],
                        [
                          1964
                        ],
                        [
                          1964
                        ],
                        [
                          1964
                        ],
                        [
                          1964
                        ],
                        [
                          1964
                        ],
                        [
                          1964
                        ],
                        [
                          1964
                        ],
                        [
                          1964
                        ],
                        [
                          1964
                        ],
                        [
                          1964
                        ],
                        [
                          1964
                        ],
                        [
                          1964
                        ],
                        [
                          1964
                        ],
                        [
                          1964
                        ],
                        [
                          1964
                        ],
                        [
                          1964
                        ],
                        [
                          1964
                        ]
                      ],
                      "hovertemplate": "Yıl=%{customdata[0]}<br>Toplam Kasırga Sayısı=%{x}<extra></extra>",
                      "legendgroup": "",
                      "marker": {
                        "color": "#FFD700",
                        "pattern": {
                          "shape": ""
                        }
                      },
                      "name": "",
                      "offsetgroup": "",
                      "orientation": "h",
                      "showlegend": false,
                      "textposition": "auto",
                      "type": "bar",
                      "x": [
                        0,
                        0,
                        1,
                        0,
                        2,
                        4,
                        16,
                        9,
                        5,
                        25,
                        21,
                        6,
                        11,
                        35,
                        11,
                        13,
                        21,
                        57,
                        22,
                        29,
                        23,
                        46,
                        32,
                        26,
                        105,
                        75,
                        61,
                        84,
                        126,
                        64,
                        96,
                        120,
                        113,
                        113,
                        170,
                        252,
                        128,
                        216,
                        190,
                        253,
                        145,
                        198,
                        164,
                        332,
                        224,
                        186,
                        289,
                        246,
                        451,
                        280,
                        865,
                        842,
                        1125
                      ],
                      "xaxis": "x",
                      "y": [
                        "Virgin Islands",
                        "District of Columbia",
                        "Alaska",
                        "Rhode Island",
                        "Puerto Rico",
                        "Hawaii",
                        "Vermont",
                        "Delaware",
                        "Nevada",
                        "New Hampshire",
                        "Connecticut",
                        "Oregon",
                        "Washington",
                        "Maine",
                        "Utah",
                        "West Virginia",
                        "New Jersey",
                        "Massachusetts",
                        "Idaho",
                        "Arizona",
                        "Maryland",
                        "Montana",
                        "California",
                        "New York",
                        "New Mexico",
                        "Wyoming",
                        "Virginia",
                        "Pennsylvania",
                        "Michigan",
                        "Kentucky",
                        "South Carolina",
                        "Ohio",
                        "Tennessee",
                        "North Carolina",
                        "Wisconsin",
                        "Indiana",
                        "North Dakota",
                        "Georgia",
                        "South Dakota",
                        "Arkansas",
                        "Minnesota",
                        "Louisiana",
                        "Colorado",
                        "Missouri",
                        "Alabama",
                        "Mississippi",
                        "Illinois",
                        "Iowa",
                        "Nebraska",
                        "Florida",
                        "Oklahoma",
                        "Kansas",
                        "Texas"
                      ],
                      "yaxis": "y"
                    }
                  ],
                  "name": "1964"
                },
                {
                  "data": [
                    {
                      "alignmentgroup": "True",
                      "customdata": [
                        [
                          1965
                        ],
                        [
                          1965
                        ],
                        [
                          1965
                        ],
                        [
                          1965
                        ],
                        [
                          1965
                        ],
                        [
                          1965
                        ],
                        [
                          1965
                        ],
                        [
                          1965
                        ],
                        [
                          1965
                        ],
                        [
                          1965
                        ],
                        [
                          1965
                        ],
                        [
                          1965
                        ],
                        [
                          1965
                        ],
                        [
                          1965
                        ],
                        [
                          1965
                        ],
                        [
                          1965
                        ],
                        [
                          1965
                        ],
                        [
                          1965
                        ],
                        [
                          1965
                        ],
                        [
                          1965
                        ],
                        [
                          1965
                        ],
                        [
                          1965
                        ],
                        [
                          1965
                        ],
                        [
                          1965
                        ],
                        [
                          1965
                        ],
                        [
                          1965
                        ],
                        [
                          1965
                        ],
                        [
                          1965
                        ],
                        [
                          1965
                        ],
                        [
                          1965
                        ],
                        [
                          1965
                        ],
                        [
                          1965
                        ],
                        [
                          1965
                        ],
                        [
                          1965
                        ],
                        [
                          1965
                        ],
                        [
                          1965
                        ],
                        [
                          1965
                        ],
                        [
                          1965
                        ],
                        [
                          1965
                        ],
                        [
                          1965
                        ],
                        [
                          1965
                        ],
                        [
                          1965
                        ],
                        [
                          1965
                        ],
                        [
                          1965
                        ],
                        [
                          1965
                        ],
                        [
                          1965
                        ],
                        [
                          1965
                        ],
                        [
                          1965
                        ],
                        [
                          1965
                        ],
                        [
                          1965
                        ],
                        [
                          1965
                        ],
                        [
                          1965
                        ],
                        [
                          1965
                        ]
                      ],
                      "hovertemplate": "Yıl=%{customdata[0]}<br>Toplam Kasırga Sayısı=%{x}<extra></extra>",
                      "legendgroup": "",
                      "marker": {
                        "color": "#FFD700",
                        "pattern": {
                          "shape": ""
                        }
                      },
                      "name": "",
                      "offsetgroup": "",
                      "orientation": "h",
                      "showlegend": false,
                      "textposition": "auto",
                      "type": "bar",
                      "x": [
                        0,
                        0,
                        1,
                        0,
                        3,
                        5,
                        17,
                        9,
                        5,
                        28,
                        22,
                        7,
                        12,
                        38,
                        16,
                        16,
                        21,
                        61,
                        22,
                        29,
                        25,
                        55,
                        37,
                        31,
                        119,
                        82,
                        64,
                        87,
                        141,
                        71,
                        115,
                        151,
                        125,
                        122,
                        191,
                        296,
                        169,
                        230,
                        252,
                        277,
                        175,
                        224,
                        196,
                        359,
                        233,
                        206,
                        317,
                        292,
                        497,
                        292,
                        939,
                        910,
                        1233
                      ],
                      "xaxis": "x",
                      "y": [
                        "Virgin Islands",
                        "District of Columbia",
                        "Alaska",
                        "Rhode Island",
                        "Puerto Rico",
                        "Hawaii",
                        "Vermont",
                        "Delaware",
                        "Nevada",
                        "New Hampshire",
                        "Connecticut",
                        "Oregon",
                        "Washington",
                        "Maine",
                        "Utah",
                        "West Virginia",
                        "New Jersey",
                        "Massachusetts",
                        "Idaho",
                        "Arizona",
                        "Maryland",
                        "Montana",
                        "California",
                        "New York",
                        "New Mexico",
                        "Wyoming",
                        "Virginia",
                        "Pennsylvania",
                        "Michigan",
                        "Kentucky",
                        "South Carolina",
                        "Ohio",
                        "Tennessee",
                        "North Carolina",
                        "Wisconsin",
                        "Indiana",
                        "North Dakota",
                        "Georgia",
                        "South Dakota",
                        "Arkansas",
                        "Minnesota",
                        "Louisiana",
                        "Colorado",
                        "Missouri",
                        "Alabama",
                        "Mississippi",
                        "Illinois",
                        "Iowa",
                        "Nebraska",
                        "Florida",
                        "Oklahoma",
                        "Kansas",
                        "Texas"
                      ],
                      "yaxis": "y"
                    }
                  ],
                  "name": "1965"
                },
                {
                  "data": [
                    {
                      "alignmentgroup": "True",
                      "customdata": [
                        [
                          1966
                        ],
                        [
                          1966
                        ],
                        [
                          1966
                        ],
                        [
                          1966
                        ],
                        [
                          1966
                        ],
                        [
                          1966
                        ],
                        [
                          1966
                        ],
                        [
                          1966
                        ],
                        [
                          1966
                        ],
                        [
                          1966
                        ],
                        [
                          1966
                        ],
                        [
                          1966
                        ],
                        [
                          1966
                        ],
                        [
                          1966
                        ],
                        [
                          1966
                        ],
                        [
                          1966
                        ],
                        [
                          1966
                        ],
                        [
                          1966
                        ],
                        [
                          1966
                        ],
                        [
                          1966
                        ],
                        [
                          1966
                        ],
                        [
                          1966
                        ],
                        [
                          1966
                        ],
                        [
                          1966
                        ],
                        [
                          1966
                        ],
                        [
                          1966
                        ],
                        [
                          1966
                        ],
                        [
                          1966
                        ],
                        [
                          1966
                        ],
                        [
                          1966
                        ],
                        [
                          1966
                        ],
                        [
                          1966
                        ],
                        [
                          1966
                        ],
                        [
                          1966
                        ],
                        [
                          1966
                        ],
                        [
                          1966
                        ],
                        [
                          1966
                        ],
                        [
                          1966
                        ],
                        [
                          1966
                        ],
                        [
                          1966
                        ],
                        [
                          1966
                        ],
                        [
                          1966
                        ],
                        [
                          1966
                        ],
                        [
                          1966
                        ],
                        [
                          1966
                        ],
                        [
                          1966
                        ],
                        [
                          1966
                        ],
                        [
                          1966
                        ],
                        [
                          1966
                        ],
                        [
                          1966
                        ],
                        [
                          1966
                        ],
                        [
                          1966
                        ],
                        [
                          1966
                        ]
                      ],
                      "hovertemplate": "Yıl=%{customdata[0]}<br>Toplam Kasırga Sayısı=%{x}<extra></extra>",
                      "legendgroup": "",
                      "marker": {
                        "color": "#FFD700",
                        "pattern": {
                          "shape": ""
                        }
                      },
                      "name": "",
                      "offsetgroup": "",
                      "orientation": "h",
                      "showlegend": false,
                      "textposition": "auto",
                      "type": "bar",
                      "x": [
                        0,
                        0,
                        1,
                        0,
                        3,
                        5,
                        18,
                        9,
                        5,
                        32,
                        23,
                        10,
                        13,
                        40,
                        18,
                        18,
                        21,
                        65,
                        22,
                        34,
                        27,
                        57,
                        42,
                        32,
                        135,
                        86,
                        70,
                        91,
                        152,
                        74,
                        125,
                        154,
                        131,
                        127,
                        213,
                        308,
                        198,
                        251,
                        281,
                        282,
                        198,
                        236,
                        207,
                        396,
                        242,
                        242,
                        328,
                        331,
                        507,
                        320,
                        975,
                        945,
                        1310
                      ],
                      "xaxis": "x",
                      "y": [
                        "Virgin Islands",
                        "District of Columbia",
                        "Alaska",
                        "Rhode Island",
                        "Puerto Rico",
                        "Hawaii",
                        "Vermont",
                        "Delaware",
                        "Nevada",
                        "New Hampshire",
                        "Connecticut",
                        "Oregon",
                        "Washington",
                        "Maine",
                        "Utah",
                        "West Virginia",
                        "New Jersey",
                        "Massachusetts",
                        "Idaho",
                        "Arizona",
                        "Maryland",
                        "Montana",
                        "California",
                        "New York",
                        "New Mexico",
                        "Wyoming",
                        "Virginia",
                        "Pennsylvania",
                        "Michigan",
                        "Kentucky",
                        "South Carolina",
                        "Ohio",
                        "Tennessee",
                        "North Carolina",
                        "Wisconsin",
                        "Indiana",
                        "North Dakota",
                        "Georgia",
                        "South Dakota",
                        "Arkansas",
                        "Minnesota",
                        "Louisiana",
                        "Colorado",
                        "Missouri",
                        "Alabama",
                        "Mississippi",
                        "Illinois",
                        "Iowa",
                        "Nebraska",
                        "Florida",
                        "Oklahoma",
                        "Kansas",
                        "Texas"
                      ],
                      "yaxis": "y"
                    }
                  ],
                  "name": "1966"
                },
                {
                  "data": [
                    {
                      "alignmentgroup": "True",
                      "customdata": [
                        [
                          1967
                        ],
                        [
                          1967
                        ],
                        [
                          1967
                        ],
                        [
                          1967
                        ],
                        [
                          1967
                        ],
                        [
                          1967
                        ],
                        [
                          1967
                        ],
                        [
                          1967
                        ],
                        [
                          1967
                        ],
                        [
                          1967
                        ],
                        [
                          1967
                        ],
                        [
                          1967
                        ],
                        [
                          1967
                        ],
                        [
                          1967
                        ],
                        [
                          1967
                        ],
                        [
                          1967
                        ],
                        [
                          1967
                        ],
                        [
                          1967
                        ],
                        [
                          1967
                        ],
                        [
                          1967
                        ],
                        [
                          1967
                        ],
                        [
                          1967
                        ],
                        [
                          1967
                        ],
                        [
                          1967
                        ],
                        [
                          1967
                        ],
                        [
                          1967
                        ],
                        [
                          1967
                        ],
                        [
                          1967
                        ],
                        [
                          1967
                        ],
                        [
                          1967
                        ],
                        [
                          1967
                        ],
                        [
                          1967
                        ],
                        [
                          1967
                        ],
                        [
                          1967
                        ],
                        [
                          1967
                        ],
                        [
                          1967
                        ],
                        [
                          1967
                        ],
                        [
                          1967
                        ],
                        [
                          1967
                        ],
                        [
                          1967
                        ],
                        [
                          1967
                        ],
                        [
                          1967
                        ],
                        [
                          1967
                        ],
                        [
                          1967
                        ],
                        [
                          1967
                        ],
                        [
                          1967
                        ],
                        [
                          1967
                        ],
                        [
                          1967
                        ],
                        [
                          1967
                        ],
                        [
                          1967
                        ],
                        [
                          1967
                        ],
                        [
                          1967
                        ],
                        [
                          1967
                        ]
                      ],
                      "hovertemplate": "Yıl=%{customdata[0]}<br>Toplam Kasırga Sayısı=%{x}<extra></extra>",
                      "legendgroup": "",
                      "marker": {
                        "color": "#FFD700",
                        "pattern": {
                          "shape": ""
                        }
                      },
                      "name": "",
                      "offsetgroup": "",
                      "orientation": "h",
                      "showlegend": false,
                      "textposition": "auto",
                      "type": "bar",
                      "x": [
                        0,
                        0,
                        1,
                        0,
                        3,
                        7,
                        18,
                        13,
                        7,
                        33,
                        23,
                        13,
                        13,
                        41,
                        20,
                        23,
                        22,
                        66,
                        27,
                        39,
                        32,
                        57,
                        47,
                        34,
                        143,
                        94,
                        73,
                        94,
                        171,
                        89,
                        136,
                        160,
                        146,
                        134,
                        243,
                        338,
                        214,
                        275,
                        308,
                        299,
                        224,
                        255,
                        228,
                        466,
                        266,
                        264,
                        368,
                        383,
                        546,
                        343,
                        1024,
                        971,
                        1542
                      ],
                      "xaxis": "x",
                      "y": [
                        "Virgin Islands",
                        "District of Columbia",
                        "Alaska",
                        "Rhode Island",
                        "Puerto Rico",
                        "Hawaii",
                        "Vermont",
                        "Delaware",
                        "Nevada",
                        "New Hampshire",
                        "Connecticut",
                        "Oregon",
                        "Washington",
                        "Maine",
                        "Utah",
                        "West Virginia",
                        "New Jersey",
                        "Massachusetts",
                        "Idaho",
                        "Arizona",
                        "Maryland",
                        "Montana",
                        "California",
                        "New York",
                        "New Mexico",
                        "Wyoming",
                        "Virginia",
                        "Pennsylvania",
                        "Michigan",
                        "Kentucky",
                        "South Carolina",
                        "Ohio",
                        "Tennessee",
                        "North Carolina",
                        "Wisconsin",
                        "Indiana",
                        "North Dakota",
                        "Georgia",
                        "South Dakota",
                        "Arkansas",
                        "Minnesota",
                        "Louisiana",
                        "Colorado",
                        "Missouri",
                        "Alabama",
                        "Mississippi",
                        "Illinois",
                        "Iowa",
                        "Nebraska",
                        "Florida",
                        "Oklahoma",
                        "Kansas",
                        "Texas"
                      ],
                      "yaxis": "y"
                    }
                  ],
                  "name": "1967"
                },
                {
                  "data": [
                    {
                      "alignmentgroup": "True",
                      "customdata": [
                        [
                          1968
                        ],
                        [
                          1968
                        ],
                        [
                          1968
                        ],
                        [
                          1968
                        ],
                        [
                          1968
                        ],
                        [
                          1968
                        ],
                        [
                          1968
                        ],
                        [
                          1968
                        ],
                        [
                          1968
                        ],
                        [
                          1968
                        ],
                        [
                          1968
                        ],
                        [
                          1968
                        ],
                        [
                          1968
                        ],
                        [
                          1968
                        ],
                        [
                          1968
                        ],
                        [
                          1968
                        ],
                        [
                          1968
                        ],
                        [
                          1968
                        ],
                        [
                          1968
                        ],
                        [
                          1968
                        ],
                        [
                          1968
                        ],
                        [
                          1968
                        ],
                        [
                          1968
                        ],
                        [
                          1968
                        ],
                        [
                          1968
                        ],
                        [
                          1968
                        ],
                        [
                          1968
                        ],
                        [
                          1968
                        ],
                        [
                          1968
                        ],
                        [
                          1968
                        ],
                        [
                          1968
                        ],
                        [
                          1968
                        ],
                        [
                          1968
                        ],
                        [
                          1968
                        ],
                        [
                          1968
                        ],
                        [
                          1968
                        ],
                        [
                          1968
                        ],
                        [
                          1968
                        ],
                        [
                          1968
                        ],
                        [
                          1968
                        ],
                        [
                          1968
                        ],
                        [
                          1968
                        ],
                        [
                          1968
                        ],
                        [
                          1968
                        ],
                        [
                          1968
                        ],
                        [
                          1968
                        ],
                        [
                          1968
                        ],
                        [
                          1968
                        ],
                        [
                          1968
                        ],
                        [
                          1968
                        ],
                        [
                          1968
                        ],
                        [
                          1968
                        ],
                        [
                          1968
                        ]
                      ],
                      "hovertemplate": "Yıl=%{customdata[0]}<br>Toplam Kasırga Sayısı=%{x}<extra></extra>",
                      "legendgroup": "",
                      "marker": {
                        "color": "#FFD700",
                        "pattern": {
                          "shape": ""
                        }
                      },
                      "name": "",
                      "offsetgroup": "",
                      "orientation": "h",
                      "showlegend": false,
                      "textposition": "auto",
                      "type": "bar",
                      "x": [
                        0,
                        0,
                        1,
                        0,
                        3,
                        7,
                        18,
                        13,
                        7,
                        37,
                        25,
                        15,
                        13,
                        43,
                        24,
                        24,
                        22,
                        72,
                        28,
                        44,
                        32,
                        58,
                        47,
                        36,
                        145,
                        103,
                        75,
                        99,
                        191,
                        95,
                        144,
                        173,
                        159,
                        140,
                        263,
                        353,
                        220,
                        299,
                        329,
                        317,
                        258,
                        272,
                        234,
                        494,
                        276,
                        285,
                        376,
                        408,
                        567,
                        400,
                        1079,
                        992,
                        1678
                      ],
                      "xaxis": "x",
                      "y": [
                        "Virgin Islands",
                        "District of Columbia",
                        "Alaska",
                        "Rhode Island",
                        "Puerto Rico",
                        "Hawaii",
                        "Vermont",
                        "Delaware",
                        "Nevada",
                        "New Hampshire",
                        "Connecticut",
                        "Oregon",
                        "Washington",
                        "Maine",
                        "Utah",
                        "West Virginia",
                        "New Jersey",
                        "Massachusetts",
                        "Idaho",
                        "Arizona",
                        "Maryland",
                        "Montana",
                        "California",
                        "New York",
                        "New Mexico",
                        "Wyoming",
                        "Virginia",
                        "Pennsylvania",
                        "Michigan",
                        "Kentucky",
                        "South Carolina",
                        "Ohio",
                        "Tennessee",
                        "North Carolina",
                        "Wisconsin",
                        "Indiana",
                        "North Dakota",
                        "Georgia",
                        "South Dakota",
                        "Arkansas",
                        "Minnesota",
                        "Louisiana",
                        "Colorado",
                        "Missouri",
                        "Alabama",
                        "Mississippi",
                        "Illinois",
                        "Iowa",
                        "Nebraska",
                        "Florida",
                        "Oklahoma",
                        "Kansas",
                        "Texas"
                      ],
                      "yaxis": "y"
                    }
                  ],
                  "name": "1968"
                },
                {
                  "data": [
                    {
                      "alignmentgroup": "True",
                      "customdata": [
                        [
                          1969
                        ],
                        [
                          1969
                        ],
                        [
                          1969
                        ],
                        [
                          1969
                        ],
                        [
                          1969
                        ],
                        [
                          1969
                        ],
                        [
                          1969
                        ],
                        [
                          1969
                        ],
                        [
                          1969
                        ],
                        [
                          1969
                        ],
                        [
                          1969
                        ],
                        [
                          1969
                        ],
                        [
                          1969
                        ],
                        [
                          1969
                        ],
                        [
                          1969
                        ],
                        [
                          1969
                        ],
                        [
                          1969
                        ],
                        [
                          1969
                        ],
                        [
                          1969
                        ],
                        [
                          1969
                        ],
                        [
                          1969
                        ],
                        [
                          1969
                        ],
                        [
                          1969
                        ],
                        [
                          1969
                        ],
                        [
                          1969
                        ],
                        [
                          1969
                        ],
                        [
                          1969
                        ],
                        [
                          1969
                        ],
                        [
                          1969
                        ],
                        [
                          1969
                        ],
                        [
                          1969
                        ],
                        [
                          1969
                        ],
                        [
                          1969
                        ],
                        [
                          1969
                        ],
                        [
                          1969
                        ],
                        [
                          1969
                        ],
                        [
                          1969
                        ],
                        [
                          1969
                        ],
                        [
                          1969
                        ],
                        [
                          1969
                        ],
                        [
                          1969
                        ],
                        [
                          1969
                        ],
                        [
                          1969
                        ],
                        [
                          1969
                        ],
                        [
                          1969
                        ],
                        [
                          1969
                        ],
                        [
                          1969
                        ],
                        [
                          1969
                        ],
                        [
                          1969
                        ],
                        [
                          1969
                        ],
                        [
                          1969
                        ],
                        [
                          1969
                        ],
                        [
                          1969
                        ]
                      ],
                      "hovertemplate": "Yıl=%{customdata[0]}<br>Toplam Kasırga Sayısı=%{x}<extra></extra>",
                      "legendgroup": "",
                      "marker": {
                        "color": "#FFD700",
                        "pattern": {
                          "shape": ""
                        }
                      },
                      "name": "",
                      "offsetgroup": "",
                      "orientation": "h",
                      "showlegend": false,
                      "textposition": "auto",
                      "type": "bar",
                      "x": [
                        0,
                        0,
                        1,
                        0,
                        5,
                        7,
                        19,
                        13,
                        7,
                        39,
                        25,
                        16,
                        14,
                        44,
                        27,
                        27,
                        22,
                        73,
                        29,
                        48,
                        34,
                        60,
                        48,
                        43,
                        154,
                        107,
                        82,
                        101,
                        199,
                        100,
                        155,
                        190,
                        161,
                        148,
                        290,
                        372,
                        227,
                        311,
                        359,
                        319,
                        284,
                        290,
                        244,
                        516,
                        288,
                        312,
                        386,
                        436,
                        587,
                        458,
                        1110,
                        1009,
                        1805
                      ],
                      "xaxis": "x",
                      "y": [
                        "Virgin Islands",
                        "District of Columbia",
                        "Alaska",
                        "Rhode Island",
                        "Puerto Rico",
                        "Hawaii",
                        "Vermont",
                        "Delaware",
                        "Nevada",
                        "New Hampshire",
                        "Connecticut",
                        "Oregon",
                        "Washington",
                        "Maine",
                        "Utah",
                        "West Virginia",
                        "New Jersey",
                        "Massachusetts",
                        "Idaho",
                        "Arizona",
                        "Maryland",
                        "Montana",
                        "California",
                        "New York",
                        "New Mexico",
                        "Wyoming",
                        "Virginia",
                        "Pennsylvania",
                        "Michigan",
                        "Kentucky",
                        "South Carolina",
                        "Ohio",
                        "Tennessee",
                        "North Carolina",
                        "Wisconsin",
                        "Indiana",
                        "North Dakota",
                        "Georgia",
                        "South Dakota",
                        "Arkansas",
                        "Minnesota",
                        "Louisiana",
                        "Colorado",
                        "Missouri",
                        "Alabama",
                        "Mississippi",
                        "Illinois",
                        "Iowa",
                        "Nebraska",
                        "Florida",
                        "Oklahoma",
                        "Kansas",
                        "Texas"
                      ],
                      "yaxis": "y"
                    }
                  ],
                  "name": "1969"
                },
                {
                  "data": [
                    {
                      "alignmentgroup": "True",
                      "customdata": [
                        [
                          1970
                        ],
                        [
                          1970
                        ],
                        [
                          1970
                        ],
                        [
                          1970
                        ],
                        [
                          1970
                        ],
                        [
                          1970
                        ],
                        [
                          1970
                        ],
                        [
                          1970
                        ],
                        [
                          1970
                        ],
                        [
                          1970
                        ],
                        [
                          1970
                        ],
                        [
                          1970
                        ],
                        [
                          1970
                        ],
                        [
                          1970
                        ],
                        [
                          1970
                        ],
                        [
                          1970
                        ],
                        [
                          1970
                        ],
                        [
                          1970
                        ],
                        [
                          1970
                        ],
                        [
                          1970
                        ],
                        [
                          1970
                        ],
                        [
                          1970
                        ],
                        [
                          1970
                        ],
                        [
                          1970
                        ],
                        [
                          1970
                        ],
                        [
                          1970
                        ],
                        [
                          1970
                        ],
                        [
                          1970
                        ],
                        [
                          1970
                        ],
                        [
                          1970
                        ],
                        [
                          1970
                        ],
                        [
                          1970
                        ],
                        [
                          1970
                        ],
                        [
                          1970
                        ],
                        [
                          1970
                        ],
                        [
                          1970
                        ],
                        [
                          1970
                        ],
                        [
                          1970
                        ],
                        [
                          1970
                        ],
                        [
                          1970
                        ],
                        [
                          1970
                        ],
                        [
                          1970
                        ],
                        [
                          1970
                        ],
                        [
                          1970
                        ],
                        [
                          1970
                        ],
                        [
                          1970
                        ],
                        [
                          1970
                        ],
                        [
                          1970
                        ],
                        [
                          1970
                        ],
                        [
                          1970
                        ],
                        [
                          1970
                        ],
                        [
                          1970
                        ],
                        [
                          1970
                        ]
                      ],
                      "hovertemplate": "Yıl=%{customdata[0]}<br>Toplam Kasırga Sayısı=%{x}<extra></extra>",
                      "legendgroup": "",
                      "marker": {
                        "color": "#FFD700",
                        "pattern": {
                          "shape": ""
                        }
                      },
                      "name": "",
                      "offsetgroup": "",
                      "orientation": "h",
                      "showlegend": false,
                      "textposition": "auto",
                      "type": "bar",
                      "x": [
                        0,
                        0,
                        1,
                        0,
                        5,
                        7,
                        20,
                        13,
                        8,
                        43,
                        26,
                        17,
                        16,
                        46,
                        32,
                        31,
                        24,
                        79,
                        29,
                        51,
                        34,
                        61,
                        50,
                        47,
                        165,
                        107,
                        86,
                        113,
                        202,
                        107,
                        156,
                        213,
                        174,
                        150,
                        317,
                        391,
                        239,
                        331,
                        390,
                        337,
                        298,
                        305,
                        249,
                        553,
                        302,
                        339,
                        402,
                        457,
                        601,
                        506,
                        1160,
                        1038,
                        1926
                      ],
                      "xaxis": "x",
                      "y": [
                        "Virgin Islands",
                        "District of Columbia",
                        "Alaska",
                        "Rhode Island",
                        "Puerto Rico",
                        "Hawaii",
                        "Vermont",
                        "Delaware",
                        "Nevada",
                        "New Hampshire",
                        "Connecticut",
                        "Oregon",
                        "Washington",
                        "Maine",
                        "Utah",
                        "West Virginia",
                        "New Jersey",
                        "Massachusetts",
                        "Idaho",
                        "Arizona",
                        "Maryland",
                        "Montana",
                        "California",
                        "New York",
                        "New Mexico",
                        "Wyoming",
                        "Virginia",
                        "Pennsylvania",
                        "Michigan",
                        "Kentucky",
                        "South Carolina",
                        "Ohio",
                        "Tennessee",
                        "North Carolina",
                        "Wisconsin",
                        "Indiana",
                        "North Dakota",
                        "Georgia",
                        "South Dakota",
                        "Arkansas",
                        "Minnesota",
                        "Louisiana",
                        "Colorado",
                        "Missouri",
                        "Alabama",
                        "Mississippi",
                        "Illinois",
                        "Iowa",
                        "Nebraska",
                        "Florida",
                        "Oklahoma",
                        "Kansas",
                        "Texas"
                      ],
                      "yaxis": "y"
                    }
                  ],
                  "name": "1970"
                },
                {
                  "data": [
                    {
                      "alignmentgroup": "True",
                      "customdata": [
                        [
                          1971
                        ],
                        [
                          1971
                        ],
                        [
                          1971
                        ],
                        [
                          1971
                        ],
                        [
                          1971
                        ],
                        [
                          1971
                        ],
                        [
                          1971
                        ],
                        [
                          1971
                        ],
                        [
                          1971
                        ],
                        [
                          1971
                        ],
                        [
                          1971
                        ],
                        [
                          1971
                        ],
                        [
                          1971
                        ],
                        [
                          1971
                        ],
                        [
                          1971
                        ],
                        [
                          1971
                        ],
                        [
                          1971
                        ],
                        [
                          1971
                        ],
                        [
                          1971
                        ],
                        [
                          1971
                        ],
                        [
                          1971
                        ],
                        [
                          1971
                        ],
                        [
                          1971
                        ],
                        [
                          1971
                        ],
                        [
                          1971
                        ],
                        [
                          1971
                        ],
                        [
                          1971
                        ],
                        [
                          1971
                        ],
                        [
                          1971
                        ],
                        [
                          1971
                        ],
                        [
                          1971
                        ],
                        [
                          1971
                        ],
                        [
                          1971
                        ],
                        [
                          1971
                        ],
                        [
                          1971
                        ],
                        [
                          1971
                        ],
                        [
                          1971
                        ],
                        [
                          1971
                        ],
                        [
                          1971
                        ],
                        [
                          1971
                        ],
                        [
                          1971
                        ],
                        [
                          1971
                        ],
                        [
                          1971
                        ],
                        [
                          1971
                        ],
                        [
                          1971
                        ],
                        [
                          1971
                        ],
                        [
                          1971
                        ],
                        [
                          1971
                        ],
                        [
                          1971
                        ],
                        [
                          1971
                        ],
                        [
                          1971
                        ],
                        [
                          1971
                        ],
                        [
                          1971
                        ]
                      ],
                      "hovertemplate": "Yıl=%{customdata[0]}<br>Toplam Kasırga Sayısı=%{x}<extra></extra>",
                      "legendgroup": "",
                      "marker": {
                        "color": "#FFD700",
                        "pattern": {
                          "shape": ""
                        }
                      },
                      "name": "",
                      "offsetgroup": "",
                      "orientation": "h",
                      "showlegend": false,
                      "textposition": "auto",
                      "type": "bar",
                      "x": [
                        0,
                        0,
                        1,
                        0,
                        5,
                        12,
                        20,
                        13,
                        9,
                        43,
                        28,
                        18,
                        19,
                        57,
                        33,
                        32,
                        27,
                        85,
                        29,
                        58,
                        37,
                        69,
                        52,
                        52,
                        177,
                        114,
                        88,
                        116,
                        210,
                        123,
                        160,
                        228,
                        190,
                        154,
                        347,
                        405,
                        255,
                        377,
                        437,
                        352,
                        318,
                        325,
                        265,
                        582,
                        324,
                        379,
                        417,
                        490,
                        653,
                        565,
                        1199,
                        1077,
                        2117
                      ],
                      "xaxis": "x",
                      "y": [
                        "Virgin Islands",
                        "District of Columbia",
                        "Alaska",
                        "Rhode Island",
                        "Puerto Rico",
                        "Hawaii",
                        "Vermont",
                        "Delaware",
                        "Nevada",
                        "New Hampshire",
                        "Connecticut",
                        "Oregon",
                        "Washington",
                        "Maine",
                        "Utah",
                        "West Virginia",
                        "New Jersey",
                        "Massachusetts",
                        "Idaho",
                        "Arizona",
                        "Maryland",
                        "Montana",
                        "California",
                        "New York",
                        "New Mexico",
                        "Wyoming",
                        "Virginia",
                        "Pennsylvania",
                        "Michigan",
                        "Kentucky",
                        "South Carolina",
                        "Ohio",
                        "Tennessee",
                        "North Carolina",
                        "Wisconsin",
                        "Indiana",
                        "North Dakota",
                        "Georgia",
                        "South Dakota",
                        "Arkansas",
                        "Minnesota",
                        "Louisiana",
                        "Colorado",
                        "Missouri",
                        "Alabama",
                        "Mississippi",
                        "Illinois",
                        "Iowa",
                        "Nebraska",
                        "Florida",
                        "Oklahoma",
                        "Kansas",
                        "Texas"
                      ],
                      "yaxis": "y"
                    }
                  ],
                  "name": "1971"
                },
                {
                  "data": [
                    {
                      "alignmentgroup": "True",
                      "customdata": [
                        [
                          1972
                        ],
                        [
                          1972
                        ],
                        [
                          1972
                        ],
                        [
                          1972
                        ],
                        [
                          1972
                        ],
                        [
                          1972
                        ],
                        [
                          1972
                        ],
                        [
                          1972
                        ],
                        [
                          1972
                        ],
                        [
                          1972
                        ],
                        [
                          1972
                        ],
                        [
                          1972
                        ],
                        [
                          1972
                        ],
                        [
                          1972
                        ],
                        [
                          1972
                        ],
                        [
                          1972
                        ],
                        [
                          1972
                        ],
                        [
                          1972
                        ],
                        [
                          1972
                        ],
                        [
                          1972
                        ],
                        [
                          1972
                        ],
                        [
                          1972
                        ],
                        [
                          1972
                        ],
                        [
                          1972
                        ],
                        [
                          1972
                        ],
                        [
                          1972
                        ],
                        [
                          1972
                        ],
                        [
                          1972
                        ],
                        [
                          1972
                        ],
                        [
                          1972
                        ],
                        [
                          1972
                        ],
                        [
                          1972
                        ],
                        [
                          1972
                        ],
                        [
                          1972
                        ],
                        [
                          1972
                        ],
                        [
                          1972
                        ],
                        [
                          1972
                        ],
                        [
                          1972
                        ],
                        [
                          1972
                        ],
                        [
                          1972
                        ],
                        [
                          1972
                        ],
                        [
                          1972
                        ],
                        [
                          1972
                        ],
                        [
                          1972
                        ],
                        [
                          1972
                        ],
                        [
                          1972
                        ],
                        [
                          1972
                        ],
                        [
                          1972
                        ],
                        [
                          1972
                        ],
                        [
                          1972
                        ],
                        [
                          1972
                        ],
                        [
                          1972
                        ],
                        [
                          1972
                        ]
                      ],
                      "hovertemplate": "Yıl=%{customdata[0]}<br>Toplam Kasırga Sayısı=%{x}<extra></extra>",
                      "legendgroup": "",
                      "marker": {
                        "color": "#FFD700",
                        "pattern": {
                          "shape": ""
                        }
                      },
                      "name": "",
                      "offsetgroup": "",
                      "orientation": "h",
                      "showlegend": false,
                      "textposition": "auto",
                      "type": "bar",
                      "x": [
                        0,
                        0,
                        1,
                        1,
                        6,
                        12,
                        22,
                        13,
                        9,
                        51,
                        31,
                        19,
                        22,
                        59,
                        33,
                        33,
                        27,
                        95,
                        31,
                        75,
                        38,
                        73,
                        56,
                        58,
                        195,
                        117,
                        90,
                        118,
                        226,
                        134,
                        165,
                        238,
                        200,
                        158,
                        370,
                        411,
                        264,
                        419,
                        468,
                        366,
                        323,
                        342,
                        276,
                        593,
                        338,
                        410,
                        447,
                        514,
                        683,
                        642,
                        1229,
                        1122,
                        2260
                      ],
                      "xaxis": "x",
                      "y": [
                        "Virgin Islands",
                        "District of Columbia",
                        "Alaska",
                        "Rhode Island",
                        "Puerto Rico",
                        "Hawaii",
                        "Vermont",
                        "Delaware",
                        "Nevada",
                        "New Hampshire",
                        "Connecticut",
                        "Oregon",
                        "Washington",
                        "Maine",
                        "Utah",
                        "West Virginia",
                        "New Jersey",
                        "Massachusetts",
                        "Idaho",
                        "Arizona",
                        "Maryland",
                        "Montana",
                        "California",
                        "New York",
                        "New Mexico",
                        "Wyoming",
                        "Virginia",
                        "Pennsylvania",
                        "Michigan",
                        "Kentucky",
                        "South Carolina",
                        "Ohio",
                        "Tennessee",
                        "North Carolina",
                        "Wisconsin",
                        "Indiana",
                        "North Dakota",
                        "Georgia",
                        "South Dakota",
                        "Arkansas",
                        "Minnesota",
                        "Louisiana",
                        "Colorado",
                        "Missouri",
                        "Alabama",
                        "Mississippi",
                        "Illinois",
                        "Iowa",
                        "Nebraska",
                        "Florida",
                        "Oklahoma",
                        "Kansas",
                        "Texas"
                      ],
                      "yaxis": "y"
                    }
                  ],
                  "name": "1972"
                },
                {
                  "data": [
                    {
                      "alignmentgroup": "True",
                      "customdata": [
                        [
                          1973
                        ],
                        [
                          1973
                        ],
                        [
                          1973
                        ],
                        [
                          1973
                        ],
                        [
                          1973
                        ],
                        [
                          1973
                        ],
                        [
                          1973
                        ],
                        [
                          1973
                        ],
                        [
                          1973
                        ],
                        [
                          1973
                        ],
                        [
                          1973
                        ],
                        [
                          1973
                        ],
                        [
                          1973
                        ],
                        [
                          1973
                        ],
                        [
                          1973
                        ],
                        [
                          1973
                        ],
                        [
                          1973
                        ],
                        [
                          1973
                        ],
                        [
                          1973
                        ],
                        [
                          1973
                        ],
                        [
                          1973
                        ],
                        [
                          1973
                        ],
                        [
                          1973
                        ],
                        [
                          1973
                        ],
                        [
                          1973
                        ],
                        [
                          1973
                        ],
                        [
                          1973
                        ],
                        [
                          1973
                        ],
                        [
                          1973
                        ],
                        [
                          1973
                        ],
                        [
                          1973
                        ],
                        [
                          1973
                        ],
                        [
                          1973
                        ],
                        [
                          1973
                        ],
                        [
                          1973
                        ],
                        [
                          1973
                        ],
                        [
                          1973
                        ],
                        [
                          1973
                        ],
                        [
                          1973
                        ],
                        [
                          1973
                        ],
                        [
                          1973
                        ],
                        [
                          1973
                        ],
                        [
                          1973
                        ],
                        [
                          1973
                        ],
                        [
                          1973
                        ],
                        [
                          1973
                        ],
                        [
                          1973
                        ],
                        [
                          1973
                        ],
                        [
                          1973
                        ],
                        [
                          1973
                        ],
                        [
                          1973
                        ],
                        [
                          1973
                        ],
                        [
                          1973
                        ]
                      ],
                      "hovertemplate": "Yıl=%{customdata[0]}<br>Toplam Kasırga Sayısı=%{x}<extra></extra>",
                      "legendgroup": "",
                      "marker": {
                        "color": "#FFD700",
                        "pattern": {
                          "shape": ""
                        }
                      },
                      "name": "",
                      "offsetgroup": "",
                      "orientation": "h",
                      "showlegend": false,
                      "textposition": "auto",
                      "type": "bar",
                      "x": [
                        0,
                        0,
                        1,
                        1,
                        6,
                        13,
                        24,
                        14,
                        11,
                        53,
                        39,
                        20,
                        22,
                        62,
                        33,
                        34,
                        35,
                        97,
                        33,
                        77,
                        42,
                        75,
                        57,
                        64,
                        197,
                        123,
                        95,
                        130,
                        259,
                        153,
                        188,
                        281,
                        224,
                        195,
                        387,
                        459,
                        274,
                        450,
                        496,
                        416,
                        345,
                        372,
                        287,
                        672,
                        383,
                        454,
                        510,
                        546,
                        701,
                        687,
                        1304,
                        1177,
                        2407
                      ],
                      "xaxis": "x",
                      "y": [
                        "Virgin Islands",
                        "District of Columbia",
                        "Alaska",
                        "Rhode Island",
                        "Puerto Rico",
                        "Hawaii",
                        "Vermont",
                        "Delaware",
                        "Nevada",
                        "New Hampshire",
                        "Connecticut",
                        "Oregon",
                        "Washington",
                        "Maine",
                        "Utah",
                        "West Virginia",
                        "New Jersey",
                        "Massachusetts",
                        "Idaho",
                        "Arizona",
                        "Maryland",
                        "Montana",
                        "California",
                        "New York",
                        "New Mexico",
                        "Wyoming",
                        "Virginia",
                        "Pennsylvania",
                        "Michigan",
                        "Kentucky",
                        "South Carolina",
                        "Ohio",
                        "Tennessee",
                        "North Carolina",
                        "Wisconsin",
                        "Indiana",
                        "North Dakota",
                        "Georgia",
                        "South Dakota",
                        "Arkansas",
                        "Minnesota",
                        "Louisiana",
                        "Colorado",
                        "Missouri",
                        "Alabama",
                        "Mississippi",
                        "Illinois",
                        "Iowa",
                        "Nebraska",
                        "Florida",
                        "Oklahoma",
                        "Kansas",
                        "Texas"
                      ],
                      "yaxis": "y"
                    }
                  ],
                  "name": "1973"
                },
                {
                  "data": [
                    {
                      "alignmentgroup": "True",
                      "customdata": [
                        [
                          1974
                        ],
                        [
                          1974
                        ],
                        [
                          1974
                        ],
                        [
                          1974
                        ],
                        [
                          1974
                        ],
                        [
                          1974
                        ],
                        [
                          1974
                        ],
                        [
                          1974
                        ],
                        [
                          1974
                        ],
                        [
                          1974
                        ],
                        [
                          1974
                        ],
                        [
                          1974
                        ],
                        [
                          1974
                        ],
                        [
                          1974
                        ],
                        [
                          1974
                        ],
                        [
                          1974
                        ],
                        [
                          1974
                        ],
                        [
                          1974
                        ],
                        [
                          1974
                        ],
                        [
                          1974
                        ],
                        [
                          1974
                        ],
                        [
                          1974
                        ],
                        [
                          1974
                        ],
                        [
                          1974
                        ],
                        [
                          1974
                        ],
                        [
                          1974
                        ],
                        [
                          1974
                        ],
                        [
                          1974
                        ],
                        [
                          1974
                        ],
                        [
                          1974
                        ],
                        [
                          1974
                        ],
                        [
                          1974
                        ],
                        [
                          1974
                        ],
                        [
                          1974
                        ],
                        [
                          1974
                        ],
                        [
                          1974
                        ],
                        [
                          1974
                        ],
                        [
                          1974
                        ],
                        [
                          1974
                        ],
                        [
                          1974
                        ],
                        [
                          1974
                        ],
                        [
                          1974
                        ],
                        [
                          1974
                        ],
                        [
                          1974
                        ],
                        [
                          1974
                        ],
                        [
                          1974
                        ],
                        [
                          1974
                        ],
                        [
                          1974
                        ],
                        [
                          1974
                        ],
                        [
                          1974
                        ],
                        [
                          1974
                        ],
                        [
                          1974
                        ],
                        [
                          1974
                        ]
                      ],
                      "hovertemplate": "Yıl=%{customdata[0]}<br>Toplam Kasırga Sayısı=%{x}<extra></extra>",
                      "legendgroup": "",
                      "marker": {
                        "color": "#FFD700",
                        "pattern": {
                          "shape": ""
                        }
                      },
                      "name": "",
                      "offsetgroup": "",
                      "orientation": "h",
                      "showlegend": false,
                      "textposition": "auto",
                      "type": "bar",
                      "x": [
                        0,
                        0,
                        1,
                        1,
                        7,
                        14,
                        24,
                        14,
                        12,
                        54,
                        41,
                        21,
                        22,
                        63,
                        33,
                        40,
                        37,
                        98,
                        33,
                        87,
                        46,
                        75,
                        60,
                        70,
                        203,
                        133,
                        104,
                        137,
                        298,
                        184,
                        199,
                        303,
                        267,
                        215,
                        402,
                        488,
                        300,
                        479,
                        510,
                        427,
                        358,
                        425,
                        299,
                        692,
                        422,
                        488,
                        616,
                        573,
                        733,
                        741,
                        1349,
                        1208,
                        2523
                      ],
                      "xaxis": "x",
                      "y": [
                        "Virgin Islands",
                        "District of Columbia",
                        "Alaska",
                        "Rhode Island",
                        "Puerto Rico",
                        "Hawaii",
                        "Vermont",
                        "Delaware",
                        "Nevada",
                        "New Hampshire",
                        "Connecticut",
                        "Oregon",
                        "Washington",
                        "Maine",
                        "Utah",
                        "West Virginia",
                        "New Jersey",
                        "Massachusetts",
                        "Idaho",
                        "Arizona",
                        "Maryland",
                        "Montana",
                        "California",
                        "New York",
                        "New Mexico",
                        "Wyoming",
                        "Virginia",
                        "Pennsylvania",
                        "Michigan",
                        "Kentucky",
                        "South Carolina",
                        "Ohio",
                        "Tennessee",
                        "North Carolina",
                        "Wisconsin",
                        "Indiana",
                        "North Dakota",
                        "Georgia",
                        "South Dakota",
                        "Arkansas",
                        "Minnesota",
                        "Louisiana",
                        "Colorado",
                        "Missouri",
                        "Alabama",
                        "Mississippi",
                        "Illinois",
                        "Iowa",
                        "Nebraska",
                        "Florida",
                        "Oklahoma",
                        "Kansas",
                        "Texas"
                      ],
                      "yaxis": "y"
                    }
                  ],
                  "name": "1974"
                },
                {
                  "data": [
                    {
                      "alignmentgroup": "True",
                      "customdata": [
                        [
                          1975
                        ],
                        [
                          1975
                        ],
                        [
                          1975
                        ],
                        [
                          1975
                        ],
                        [
                          1975
                        ],
                        [
                          1975
                        ],
                        [
                          1975
                        ],
                        [
                          1975
                        ],
                        [
                          1975
                        ],
                        [
                          1975
                        ],
                        [
                          1975
                        ],
                        [
                          1975
                        ],
                        [
                          1975
                        ],
                        [
                          1975
                        ],
                        [
                          1975
                        ],
                        [
                          1975
                        ],
                        [
                          1975
                        ],
                        [
                          1975
                        ],
                        [
                          1975
                        ],
                        [
                          1975
                        ],
                        [
                          1975
                        ],
                        [
                          1975
                        ],
                        [
                          1975
                        ],
                        [
                          1975
                        ],
                        [
                          1975
                        ],
                        [
                          1975
                        ],
                        [
                          1975
                        ],
                        [
                          1975
                        ],
                        [
                          1975
                        ],
                        [
                          1975
                        ],
                        [
                          1975
                        ],
                        [
                          1975
                        ],
                        [
                          1975
                        ],
                        [
                          1975
                        ],
                        [
                          1975
                        ],
                        [
                          1975
                        ],
                        [
                          1975
                        ],
                        [
                          1975
                        ],
                        [
                          1975
                        ],
                        [
                          1975
                        ],
                        [
                          1975
                        ],
                        [
                          1975
                        ],
                        [
                          1975
                        ],
                        [
                          1975
                        ],
                        [
                          1975
                        ],
                        [
                          1975
                        ],
                        [
                          1975
                        ],
                        [
                          1975
                        ],
                        [
                          1975
                        ],
                        [
                          1975
                        ],
                        [
                          1975
                        ],
                        [
                          1975
                        ],
                        [
                          1975
                        ]
                      ],
                      "hovertemplate": "Yıl=%{customdata[0]}<br>Toplam Kasırga Sayısı=%{x}<extra></extra>",
                      "legendgroup": "",
                      "marker": {
                        "color": "#FFD700",
                        "pattern": {
                          "shape": ""
                        }
                      },
                      "name": "",
                      "offsetgroup": "",
                      "orientation": "h",
                      "showlegend": false,
                      "textposition": "auto",
                      "type": "bar",
                      "x": [
                        0,
                        0,
                        1,
                        1,
                        7,
                        15,
                        24,
                        19,
                        14,
                        54,
                        43,
                        24,
                        22,
                        65,
                        33,
                        45,
                        40,
                        100,
                        33,
                        88,
                        56,
                        85,
                        63,
                        73,
                        206,
                        142,
                        126,
                        152,
                        324,
                        185,
                        210,
                        315,
                        280,
                        250,
                        410,
                        511,
                        315,
                        500,
                        542,
                        448,
                        372,
                        479,
                        319,
                        710,
                        456,
                        522,
                        662,
                        610,
                        811,
                        838,
                        1383,
                        1225,
                        2640
                      ],
                      "xaxis": "x",
                      "y": [
                        "Virgin Islands",
                        "District of Columbia",
                        "Alaska",
                        "Rhode Island",
                        "Puerto Rico",
                        "Hawaii",
                        "Vermont",
                        "Delaware",
                        "Nevada",
                        "New Hampshire",
                        "Connecticut",
                        "Oregon",
                        "Washington",
                        "Maine",
                        "Utah",
                        "West Virginia",
                        "New Jersey",
                        "Massachusetts",
                        "Idaho",
                        "Arizona",
                        "Maryland",
                        "Montana",
                        "California",
                        "New York",
                        "New Mexico",
                        "Wyoming",
                        "Virginia",
                        "Pennsylvania",
                        "Michigan",
                        "Kentucky",
                        "South Carolina",
                        "Ohio",
                        "Tennessee",
                        "North Carolina",
                        "Wisconsin",
                        "Indiana",
                        "North Dakota",
                        "Georgia",
                        "South Dakota",
                        "Arkansas",
                        "Minnesota",
                        "Louisiana",
                        "Colorado",
                        "Missouri",
                        "Alabama",
                        "Mississippi",
                        "Illinois",
                        "Iowa",
                        "Nebraska",
                        "Florida",
                        "Oklahoma",
                        "Kansas",
                        "Texas"
                      ],
                      "yaxis": "y"
                    }
                  ],
                  "name": "1975"
                },
                {
                  "data": [
                    {
                      "alignmentgroup": "True",
                      "customdata": [
                        [
                          1976
                        ],
                        [
                          1976
                        ],
                        [
                          1976
                        ],
                        [
                          1976
                        ],
                        [
                          1976
                        ],
                        [
                          1976
                        ],
                        [
                          1976
                        ],
                        [
                          1976
                        ],
                        [
                          1976
                        ],
                        [
                          1976
                        ],
                        [
                          1976
                        ],
                        [
                          1976
                        ],
                        [
                          1976
                        ],
                        [
                          1976
                        ],
                        [
                          1976
                        ],
                        [
                          1976
                        ],
                        [
                          1976
                        ],
                        [
                          1976
                        ],
                        [
                          1976
                        ],
                        [
                          1976
                        ],
                        [
                          1976
                        ],
                        [
                          1976
                        ],
                        [
                          1976
                        ],
                        [
                          1976
                        ],
                        [
                          1976
                        ],
                        [
                          1976
                        ],
                        [
                          1976
                        ],
                        [
                          1976
                        ],
                        [
                          1976
                        ],
                        [
                          1976
                        ],
                        [
                          1976
                        ],
                        [
                          1976
                        ],
                        [
                          1976
                        ],
                        [
                          1976
                        ],
                        [
                          1976
                        ],
                        [
                          1976
                        ],
                        [
                          1976
                        ],
                        [
                          1976
                        ],
                        [
                          1976
                        ],
                        [
                          1976
                        ],
                        [
                          1976
                        ],
                        [
                          1976
                        ],
                        [
                          1976
                        ],
                        [
                          1976
                        ],
                        [
                          1976
                        ],
                        [
                          1976
                        ],
                        [
                          1976
                        ],
                        [
                          1976
                        ],
                        [
                          1976
                        ],
                        [
                          1976
                        ],
                        [
                          1976
                        ],
                        [
                          1976
                        ],
                        [
                          1976
                        ]
                      ],
                      "hovertemplate": "Yıl=%{customdata[0]}<br>Toplam Kasırga Sayısı=%{x}<extra></extra>",
                      "legendgroup": "",
                      "marker": {
                        "color": "#FFD700",
                        "pattern": {
                          "shape": ""
                        }
                      },
                      "name": "",
                      "offsetgroup": "",
                      "orientation": "h",
                      "showlegend": false,
                      "textposition": "auto",
                      "type": "bar",
                      "x": [
                        0,
                        0,
                        1,
                        1,
                        7,
                        15,
                        24,
                        21,
                        14,
                        56,
                        44,
                        24,
                        22,
                        66,
                        33,
                        46,
                        41,
                        101,
                        33,
                        93,
                        60,
                        87,
                        69,
                        81,
                        208,
                        166,
                        135,
                        175,
                        356,
                        190,
                        224,
                        325,
                        288,
                        273,
                        422,
                        547,
                        367,
                        520,
                        546,
                        475,
                        383,
                        492,
                        361,
                        722,
                        486,
                        556,
                        689,
                        628,
                        836,
                        905,
                        1411,
                        1239,
                        2818
                      ],
                      "xaxis": "x",
                      "y": [
                        "Virgin Islands",
                        "District of Columbia",
                        "Alaska",
                        "Rhode Island",
                        "Puerto Rico",
                        "Hawaii",
                        "Vermont",
                        "Delaware",
                        "Nevada",
                        "New Hampshire",
                        "Connecticut",
                        "Oregon",
                        "Washington",
                        "Maine",
                        "Utah",
                        "West Virginia",
                        "New Jersey",
                        "Massachusetts",
                        "Idaho",
                        "Arizona",
                        "Maryland",
                        "Montana",
                        "California",
                        "New York",
                        "New Mexico",
                        "Wyoming",
                        "Virginia",
                        "Pennsylvania",
                        "Michigan",
                        "Kentucky",
                        "South Carolina",
                        "Ohio",
                        "Tennessee",
                        "North Carolina",
                        "Wisconsin",
                        "Indiana",
                        "North Dakota",
                        "Georgia",
                        "South Dakota",
                        "Arkansas",
                        "Minnesota",
                        "Louisiana",
                        "Colorado",
                        "Missouri",
                        "Alabama",
                        "Mississippi",
                        "Illinois",
                        "Iowa",
                        "Nebraska",
                        "Florida",
                        "Oklahoma",
                        "Kansas",
                        "Texas"
                      ],
                      "yaxis": "y"
                    }
                  ],
                  "name": "1976"
                },
                {
                  "data": [
                    {
                      "alignmentgroup": "True",
                      "customdata": [
                        [
                          1977
                        ],
                        [
                          1977
                        ],
                        [
                          1977
                        ],
                        [
                          1977
                        ],
                        [
                          1977
                        ],
                        [
                          1977
                        ],
                        [
                          1977
                        ],
                        [
                          1977
                        ],
                        [
                          1977
                        ],
                        [
                          1977
                        ],
                        [
                          1977
                        ],
                        [
                          1977
                        ],
                        [
                          1977
                        ],
                        [
                          1977
                        ],
                        [
                          1977
                        ],
                        [
                          1977
                        ],
                        [
                          1977
                        ],
                        [
                          1977
                        ],
                        [
                          1977
                        ],
                        [
                          1977
                        ],
                        [
                          1977
                        ],
                        [
                          1977
                        ],
                        [
                          1977
                        ],
                        [
                          1977
                        ],
                        [
                          1977
                        ],
                        [
                          1977
                        ],
                        [
                          1977
                        ],
                        [
                          1977
                        ],
                        [
                          1977
                        ],
                        [
                          1977
                        ],
                        [
                          1977
                        ],
                        [
                          1977
                        ],
                        [
                          1977
                        ],
                        [
                          1977
                        ],
                        [
                          1977
                        ],
                        [
                          1977
                        ],
                        [
                          1977
                        ],
                        [
                          1977
                        ],
                        [
                          1977
                        ],
                        [
                          1977
                        ],
                        [
                          1977
                        ],
                        [
                          1977
                        ],
                        [
                          1977
                        ],
                        [
                          1977
                        ],
                        [
                          1977
                        ],
                        [
                          1977
                        ],
                        [
                          1977
                        ],
                        [
                          1977
                        ],
                        [
                          1977
                        ],
                        [
                          1977
                        ],
                        [
                          1977
                        ],
                        [
                          1977
                        ],
                        [
                          1977
                        ]
                      ],
                      "hovertemplate": "Yıl=%{customdata[0]}<br>Toplam Kasırga Sayısı=%{x}<extra></extra>",
                      "legendgroup": "",
                      "marker": {
                        "color": "#FFD700",
                        "pattern": {
                          "shape": ""
                        }
                      },
                      "name": "",
                      "offsetgroup": "",
                      "orientation": "h",
                      "showlegend": false,
                      "textposition": "auto",
                      "type": "bar",
                      "x": [
                        0,
                        0,
                        1,
                        1,
                        7,
                        15,
                        24,
                        24,
                        16,
                        56,
                        44,
                        24,
                        22,
                        67,
                        33,
                        48,
                        43,
                        103,
                        33,
                        95,
                        61,
                        93,
                        72,
                        86,
                        216,
                        179,
                        147,
                        188,
                        387,
                        202,
                        236,
                        347,
                        303,
                        300,
                        437,
                        561,
                        397,
                        537,
                        573,
                        495,
                        408,
                        534,
                        392,
                        739,
                        507,
                        591,
                        721,
                        664,
                        904,
                        940,
                        1465,
                        1255,
                        2941
                      ],
                      "xaxis": "x",
                      "y": [
                        "Virgin Islands",
                        "District of Columbia",
                        "Alaska",
                        "Rhode Island",
                        "Puerto Rico",
                        "Hawaii",
                        "Vermont",
                        "Delaware",
                        "Nevada",
                        "New Hampshire",
                        "Connecticut",
                        "Oregon",
                        "Washington",
                        "Maine",
                        "Utah",
                        "West Virginia",
                        "New Jersey",
                        "Massachusetts",
                        "Idaho",
                        "Arizona",
                        "Maryland",
                        "Montana",
                        "California",
                        "New York",
                        "New Mexico",
                        "Wyoming",
                        "Virginia",
                        "Pennsylvania",
                        "Michigan",
                        "Kentucky",
                        "South Carolina",
                        "Ohio",
                        "Tennessee",
                        "North Carolina",
                        "Wisconsin",
                        "Indiana",
                        "North Dakota",
                        "Georgia",
                        "South Dakota",
                        "Arkansas",
                        "Minnesota",
                        "Louisiana",
                        "Colorado",
                        "Missouri",
                        "Alabama",
                        "Mississippi",
                        "Illinois",
                        "Iowa",
                        "Nebraska",
                        "Florida",
                        "Oklahoma",
                        "Kansas",
                        "Texas"
                      ],
                      "yaxis": "y"
                    }
                  ],
                  "name": "1977"
                },
                {
                  "data": [
                    {
                      "alignmentgroup": "True",
                      "customdata": [
                        [
                          1978
                        ],
                        [
                          1978
                        ],
                        [
                          1978
                        ],
                        [
                          1978
                        ],
                        [
                          1978
                        ],
                        [
                          1978
                        ],
                        [
                          1978
                        ],
                        [
                          1978
                        ],
                        [
                          1978
                        ],
                        [
                          1978
                        ],
                        [
                          1978
                        ],
                        [
                          1978
                        ],
                        [
                          1978
                        ],
                        [
                          1978
                        ],
                        [
                          1978
                        ],
                        [
                          1978
                        ],
                        [
                          1978
                        ],
                        [
                          1978
                        ],
                        [
                          1978
                        ],
                        [
                          1978
                        ],
                        [
                          1978
                        ],
                        [
                          1978
                        ],
                        [
                          1978
                        ],
                        [
                          1978
                        ],
                        [
                          1978
                        ],
                        [
                          1978
                        ],
                        [
                          1978
                        ],
                        [
                          1978
                        ],
                        [
                          1978
                        ],
                        [
                          1978
                        ],
                        [
                          1978
                        ],
                        [
                          1978
                        ],
                        [
                          1978
                        ],
                        [
                          1978
                        ],
                        [
                          1978
                        ],
                        [
                          1978
                        ],
                        [
                          1978
                        ],
                        [
                          1978
                        ],
                        [
                          1978
                        ],
                        [
                          1978
                        ],
                        [
                          1978
                        ],
                        [
                          1978
                        ],
                        [
                          1978
                        ],
                        [
                          1978
                        ],
                        [
                          1978
                        ],
                        [
                          1978
                        ],
                        [
                          1978
                        ],
                        [
                          1978
                        ],
                        [
                          1978
                        ],
                        [
                          1978
                        ],
                        [
                          1978
                        ],
                        [
                          1978
                        ],
                        [
                          1978
                        ]
                      ],
                      "hovertemplate": "Yıl=%{customdata[0]}<br>Toplam Kasırga Sayısı=%{x}<extra></extra>",
                      "legendgroup": "",
                      "marker": {
                        "color": "#FFD700",
                        "pattern": {
                          "shape": ""
                        }
                      },
                      "name": "",
                      "offsetgroup": "",
                      "orientation": "h",
                      "showlegend": false,
                      "textposition": "auto",
                      "type": "bar",
                      "x": [
                        0,
                        0,
                        1,
                        1,
                        7,
                        16,
                        24,
                        24,
                        16,
                        59,
                        44,
                        25,
                        26,
                        69,
                        33,
                        51,
                        43,
                        104,
                        35,
                        97,
                        69,
                        106,
                        86,
                        94,
                        219,
                        200,
                        152,
                        203,
                        406,
                        206,
                        241,
                        365,
                        312,
                        315,
                        449,
                        583,
                        432,
                        550,
                        601,
                        539,
                        433,
                        555,
                        410,
                        748,
                        529,
                        602,
                        734,
                        687,
                        946,
                        1031,
                        1486,
                        1281,
                        3078
                      ],
                      "xaxis": "x",
                      "y": [
                        "Virgin Islands",
                        "District of Columbia",
                        "Alaska",
                        "Rhode Island",
                        "Puerto Rico",
                        "Hawaii",
                        "Vermont",
                        "Delaware",
                        "Nevada",
                        "New Hampshire",
                        "Connecticut",
                        "Oregon",
                        "Washington",
                        "Maine",
                        "Utah",
                        "West Virginia",
                        "New Jersey",
                        "Massachusetts",
                        "Idaho",
                        "Arizona",
                        "Maryland",
                        "Montana",
                        "California",
                        "New York",
                        "New Mexico",
                        "Wyoming",
                        "Virginia",
                        "Pennsylvania",
                        "Michigan",
                        "Kentucky",
                        "South Carolina",
                        "Ohio",
                        "Tennessee",
                        "North Carolina",
                        "Wisconsin",
                        "Indiana",
                        "North Dakota",
                        "Georgia",
                        "South Dakota",
                        "Arkansas",
                        "Minnesota",
                        "Louisiana",
                        "Colorado",
                        "Missouri",
                        "Alabama",
                        "Mississippi",
                        "Illinois",
                        "Iowa",
                        "Nebraska",
                        "Florida",
                        "Oklahoma",
                        "Kansas",
                        "Texas"
                      ],
                      "yaxis": "y"
                    }
                  ],
                  "name": "1978"
                },
                {
                  "data": [
                    {
                      "alignmentgroup": "True",
                      "customdata": [
                        [
                          1979
                        ],
                        [
                          1979
                        ],
                        [
                          1979
                        ],
                        [
                          1979
                        ],
                        [
                          1979
                        ],
                        [
                          1979
                        ],
                        [
                          1979
                        ],
                        [
                          1979
                        ],
                        [
                          1979
                        ],
                        [
                          1979
                        ],
                        [
                          1979
                        ],
                        [
                          1979
                        ],
                        [
                          1979
                        ],
                        [
                          1979
                        ],
                        [
                          1979
                        ],
                        [
                          1979
                        ],
                        [
                          1979
                        ],
                        [
                          1979
                        ],
                        [
                          1979
                        ],
                        [
                          1979
                        ],
                        [
                          1979
                        ],
                        [
                          1979
                        ],
                        [
                          1979
                        ],
                        [
                          1979
                        ],
                        [
                          1979
                        ],
                        [
                          1979
                        ],
                        [
                          1979
                        ],
                        [
                          1979
                        ],
                        [
                          1979
                        ],
                        [
                          1979
                        ],
                        [
                          1979
                        ],
                        [
                          1979
                        ],
                        [
                          1979
                        ],
                        [
                          1979
                        ],
                        [
                          1979
                        ],
                        [
                          1979
                        ],
                        [
                          1979
                        ],
                        [
                          1979
                        ],
                        [
                          1979
                        ],
                        [
                          1979
                        ],
                        [
                          1979
                        ],
                        [
                          1979
                        ],
                        [
                          1979
                        ],
                        [
                          1979
                        ],
                        [
                          1979
                        ],
                        [
                          1979
                        ],
                        [
                          1979
                        ],
                        [
                          1979
                        ],
                        [
                          1979
                        ],
                        [
                          1979
                        ],
                        [
                          1979
                        ],
                        [
                          1979
                        ],
                        [
                          1979
                        ]
                      ],
                      "hovertemplate": "Yıl=%{customdata[0]}<br>Toplam Kasırga Sayısı=%{x}<extra></extra>",
                      "legendgroup": "",
                      "marker": {
                        "color": "#FFD700",
                        "pattern": {
                          "shape": ""
                        }
                      },
                      "name": "",
                      "offsetgroup": "",
                      "orientation": "h",
                      "showlegend": false,
                      "textposition": "auto",
                      "type": "bar",
                      "x": [
                        0,
                        0,
                        1,
                        1,
                        7,
                        16,
                        24,
                        26,
                        18,
                        59,
                        45,
                        25,
                        28,
                        69,
                        33,
                        55,
                        45,
                        106,
                        36,
                        100,
                        77,
                        111,
                        90,
                        97,
                        232,
                        242,
                        163,
                        217,
                        428,
                        214,
                        249,
                        369,
                        318,
                        327,
                        479,
                        597,
                        457,
                        570,
                        633,
                        580,
                        458,
                        564,
                        447,
                        756,
                        552,
                        608,
                        746,
                        738,
                        966,
                        1120,
                        1534,
                        1310,
                        3235
                      ],
                      "xaxis": "x",
                      "y": [
                        "Virgin Islands",
                        "District of Columbia",
                        "Alaska",
                        "Rhode Island",
                        "Puerto Rico",
                        "Hawaii",
                        "Vermont",
                        "Delaware",
                        "Nevada",
                        "New Hampshire",
                        "Connecticut",
                        "Oregon",
                        "Washington",
                        "Maine",
                        "Utah",
                        "West Virginia",
                        "New Jersey",
                        "Massachusetts",
                        "Idaho",
                        "Arizona",
                        "Maryland",
                        "Montana",
                        "California",
                        "New York",
                        "New Mexico",
                        "Wyoming",
                        "Virginia",
                        "Pennsylvania",
                        "Michigan",
                        "Kentucky",
                        "South Carolina",
                        "Ohio",
                        "Tennessee",
                        "North Carolina",
                        "Wisconsin",
                        "Indiana",
                        "North Dakota",
                        "Georgia",
                        "South Dakota",
                        "Arkansas",
                        "Minnesota",
                        "Louisiana",
                        "Colorado",
                        "Missouri",
                        "Alabama",
                        "Mississippi",
                        "Illinois",
                        "Iowa",
                        "Nebraska",
                        "Florida",
                        "Oklahoma",
                        "Kansas",
                        "Texas"
                      ],
                      "yaxis": "y"
                    }
                  ],
                  "name": "1979"
                },
                {
                  "data": [
                    {
                      "alignmentgroup": "True",
                      "customdata": [
                        [
                          1980
                        ],
                        [
                          1980
                        ],
                        [
                          1980
                        ],
                        [
                          1980
                        ],
                        [
                          1980
                        ],
                        [
                          1980
                        ],
                        [
                          1980
                        ],
                        [
                          1980
                        ],
                        [
                          1980
                        ],
                        [
                          1980
                        ],
                        [
                          1980
                        ],
                        [
                          1980
                        ],
                        [
                          1980
                        ],
                        [
                          1980
                        ],
                        [
                          1980
                        ],
                        [
                          1980
                        ],
                        [
                          1980
                        ],
                        [
                          1980
                        ],
                        [
                          1980
                        ],
                        [
                          1980
                        ],
                        [
                          1980
                        ],
                        [
                          1980
                        ],
                        [
                          1980
                        ],
                        [
                          1980
                        ],
                        [
                          1980
                        ],
                        [
                          1980
                        ],
                        [
                          1980
                        ],
                        [
                          1980
                        ],
                        [
                          1980
                        ],
                        [
                          1980
                        ],
                        [
                          1980
                        ],
                        [
                          1980
                        ],
                        [
                          1980
                        ],
                        [
                          1980
                        ],
                        [
                          1980
                        ],
                        [
                          1980
                        ],
                        [
                          1980
                        ],
                        [
                          1980
                        ],
                        [
                          1980
                        ],
                        [
                          1980
                        ],
                        [
                          1980
                        ],
                        [
                          1980
                        ],
                        [
                          1980
                        ],
                        [
                          1980
                        ],
                        [
                          1980
                        ],
                        [
                          1980
                        ],
                        [
                          1980
                        ],
                        [
                          1980
                        ],
                        [
                          1980
                        ],
                        [
                          1980
                        ],
                        [
                          1980
                        ],
                        [
                          1980
                        ],
                        [
                          1980
                        ]
                      ],
                      "hovertemplate": "Yıl=%{customdata[0]}<br>Toplam Kasırga Sayısı=%{x}<extra></extra>",
                      "legendgroup": "",
                      "marker": {
                        "color": "#FFD700",
                        "pattern": {
                          "shape": ""
                        }
                      },
                      "name": "",
                      "offsetgroup": "",
                      "orientation": "h",
                      "showlegend": false,
                      "textposition": "auto",
                      "type": "bar",
                      "x": [
                        0,
                        0,
                        1,
                        1,
                        7,
                        17,
                        24,
                        26,
                        18,
                        60,
                        45,
                        25,
                        30,
                        69,
                        33,
                        61,
                        46,
                        106,
                        37,
                        101,
                        79,
                        118,
                        98,
                        101,
                        235,
                        257,
                        169,
                        234,
                        447,
                        226,
                        258,
                        403,
                        336,
                        341,
                        522,
                        632,
                        486,
                        602,
                        684,
                        602,
                        474,
                        580,
                        471,
                        766,
                        579,
                        640,
                        760,
                        778,
                        1004,
                        1180,
                        1559,
                        1328,
                        3387
                      ],
                      "xaxis": "x",
                      "y": [
                        "Virgin Islands",
                        "District of Columbia",
                        "Alaska",
                        "Rhode Island",
                        "Puerto Rico",
                        "Hawaii",
                        "Vermont",
                        "Delaware",
                        "Nevada",
                        "New Hampshire",
                        "Connecticut",
                        "Oregon",
                        "Washington",
                        "Maine",
                        "Utah",
                        "West Virginia",
                        "New Jersey",
                        "Massachusetts",
                        "Idaho",
                        "Arizona",
                        "Maryland",
                        "Montana",
                        "California",
                        "New York",
                        "New Mexico",
                        "Wyoming",
                        "Virginia",
                        "Pennsylvania",
                        "Michigan",
                        "Kentucky",
                        "South Carolina",
                        "Ohio",
                        "Tennessee",
                        "North Carolina",
                        "Wisconsin",
                        "Indiana",
                        "North Dakota",
                        "Georgia",
                        "South Dakota",
                        "Arkansas",
                        "Minnesota",
                        "Louisiana",
                        "Colorado",
                        "Missouri",
                        "Alabama",
                        "Mississippi",
                        "Illinois",
                        "Iowa",
                        "Nebraska",
                        "Florida",
                        "Oklahoma",
                        "Kansas",
                        "Texas"
                      ],
                      "yaxis": "y"
                    }
                  ],
                  "name": "1980"
                },
                {
                  "data": [
                    {
                      "alignmentgroup": "True",
                      "customdata": [
                        [
                          1981
                        ],
                        [
                          1981
                        ],
                        [
                          1981
                        ],
                        [
                          1981
                        ],
                        [
                          1981
                        ],
                        [
                          1981
                        ],
                        [
                          1981
                        ],
                        [
                          1981
                        ],
                        [
                          1981
                        ],
                        [
                          1981
                        ],
                        [
                          1981
                        ],
                        [
                          1981
                        ],
                        [
                          1981
                        ],
                        [
                          1981
                        ],
                        [
                          1981
                        ],
                        [
                          1981
                        ],
                        [
                          1981
                        ],
                        [
                          1981
                        ],
                        [
                          1981
                        ],
                        [
                          1981
                        ],
                        [
                          1981
                        ],
                        [
                          1981
                        ],
                        [
                          1981
                        ],
                        [
                          1981
                        ],
                        [
                          1981
                        ],
                        [
                          1981
                        ],
                        [
                          1981
                        ],
                        [
                          1981
                        ],
                        [
                          1981
                        ],
                        [
                          1981
                        ],
                        [
                          1981
                        ],
                        [
                          1981
                        ],
                        [
                          1981
                        ],
                        [
                          1981
                        ],
                        [
                          1981
                        ],
                        [
                          1981
                        ],
                        [
                          1981
                        ],
                        [
                          1981
                        ],
                        [
                          1981
                        ],
                        [
                          1981
                        ],
                        [
                          1981
                        ],
                        [
                          1981
                        ],
                        [
                          1981
                        ],
                        [
                          1981
                        ],
                        [
                          1981
                        ],
                        [
                          1981
                        ],
                        [
                          1981
                        ],
                        [
                          1981
                        ],
                        [
                          1981
                        ],
                        [
                          1981
                        ],
                        [
                          1981
                        ],
                        [
                          1981
                        ],
                        [
                          1981
                        ]
                      ],
                      "hovertemplate": "Yıl=%{customdata[0]}<br>Toplam Kasırga Sayısı=%{x}<extra></extra>",
                      "legendgroup": "",
                      "marker": {
                        "color": "#FFD700",
                        "pattern": {
                          "shape": ""
                        }
                      },
                      "name": "",
                      "offsetgroup": "",
                      "orientation": "h",
                      "showlegend": false,
                      "textposition": "auto",
                      "type": "bar",
                      "x": [
                        0,
                        0,
                        1,
                        1,
                        7,
                        17,
                        24,
                        26,
                        18,
                        61,
                        45,
                        25,
                        32,
                        70,
                        35,
                        63,
                        49,
                        107,
                        39,
                        104,
                        81,
                        121,
                        101,
                        104,
                        243,
                        261,
                        173,
                        251,
                        451,
                        230,
                        269,
                        428,
                        344,
                        352,
                        543,
                        643,
                        500,
                        610,
                        703,
                        612,
                        515,
                        601,
                        496,
                        799,
                        593,
                        647,
                        793,
                        808,
                        1023,
                        1241,
                        1635,
                        1367,
                        3563
                      ],
                      "xaxis": "x",
                      "y": [
                        "Virgin Islands",
                        "District of Columbia",
                        "Alaska",
                        "Rhode Island",
                        "Puerto Rico",
                        "Hawaii",
                        "Vermont",
                        "Delaware",
                        "Nevada",
                        "New Hampshire",
                        "Connecticut",
                        "Oregon",
                        "Washington",
                        "Maine",
                        "Utah",
                        "West Virginia",
                        "New Jersey",
                        "Massachusetts",
                        "Idaho",
                        "Arizona",
                        "Maryland",
                        "Montana",
                        "California",
                        "New York",
                        "New Mexico",
                        "Wyoming",
                        "Virginia",
                        "Pennsylvania",
                        "Michigan",
                        "Kentucky",
                        "South Carolina",
                        "Ohio",
                        "Tennessee",
                        "North Carolina",
                        "Wisconsin",
                        "Indiana",
                        "North Dakota",
                        "Georgia",
                        "South Dakota",
                        "Arkansas",
                        "Minnesota",
                        "Louisiana",
                        "Colorado",
                        "Missouri",
                        "Alabama",
                        "Mississippi",
                        "Illinois",
                        "Iowa",
                        "Nebraska",
                        "Florida",
                        "Oklahoma",
                        "Kansas",
                        "Texas"
                      ],
                      "yaxis": "y"
                    }
                  ],
                  "name": "1981"
                },
                {
                  "data": [
                    {
                      "alignmentgroup": "True",
                      "customdata": [
                        [
                          1982
                        ],
                        [
                          1982
                        ],
                        [
                          1982
                        ],
                        [
                          1982
                        ],
                        [
                          1982
                        ],
                        [
                          1982
                        ],
                        [
                          1982
                        ],
                        [
                          1982
                        ],
                        [
                          1982
                        ],
                        [
                          1982
                        ],
                        [
                          1982
                        ],
                        [
                          1982
                        ],
                        [
                          1982
                        ],
                        [
                          1982
                        ],
                        [
                          1982
                        ],
                        [
                          1982
                        ],
                        [
                          1982
                        ],
                        [
                          1982
                        ],
                        [
                          1982
                        ],
                        [
                          1982
                        ],
                        [
                          1982
                        ],
                        [
                          1982
                        ],
                        [
                          1982
                        ],
                        [
                          1982
                        ],
                        [
                          1982
                        ],
                        [
                          1982
                        ],
                        [
                          1982
                        ],
                        [
                          1982
                        ],
                        [
                          1982
                        ],
                        [
                          1982
                        ],
                        [
                          1982
                        ],
                        [
                          1982
                        ],
                        [
                          1982
                        ],
                        [
                          1982
                        ],
                        [
                          1982
                        ],
                        [
                          1982
                        ],
                        [
                          1982
                        ],
                        [
                          1982
                        ],
                        [
                          1982
                        ],
                        [
                          1982
                        ],
                        [
                          1982
                        ],
                        [
                          1982
                        ],
                        [
                          1982
                        ],
                        [
                          1982
                        ],
                        [
                          1982
                        ],
                        [
                          1982
                        ],
                        [
                          1982
                        ],
                        [
                          1982
                        ],
                        [
                          1982
                        ],
                        [
                          1982
                        ],
                        [
                          1982
                        ],
                        [
                          1982
                        ],
                        [
                          1982
                        ]
                      ],
                      "hovertemplate": "Yıl=%{customdata[0]}<br>Toplam Kasırga Sayısı=%{x}<extra></extra>",
                      "legendgroup": "",
                      "marker": {
                        "color": "#FFD700",
                        "pattern": {
                          "shape": ""
                        }
                      },
                      "name": "",
                      "offsetgroup": "",
                      "orientation": "h",
                      "showlegend": false,
                      "textposition": "auto",
                      "type": "bar",
                      "x": [
                        0,
                        0,
                        1,
                        1,
                        7,
                        20,
                        25,
                        26,
                        19,
                        61,
                        46,
                        25,
                        34,
                        70,
                        38,
                        65,
                        50,
                        107,
                        40,
                        105,
                        82,
                        124,
                        115,
                        107,
                        250,
                        277,
                        174,
                        255,
                        471,
                        240,
                        277,
                        437,
                        351,
                        364,
                        557,
                        647,
                        518,
                        625,
                        736,
                        688,
                        529,
                        640,
                        554,
                        873,
                        615,
                        664,
                        828,
                        842,
                        1057,
                        1310,
                        1734,
                        1425,
                        3765
                      ],
                      "xaxis": "x",
                      "y": [
                        "Virgin Islands",
                        "District of Columbia",
                        "Alaska",
                        "Rhode Island",
                        "Puerto Rico",
                        "Hawaii",
                        "Vermont",
                        "Delaware",
                        "Nevada",
                        "New Hampshire",
                        "Connecticut",
                        "Oregon",
                        "Washington",
                        "Maine",
                        "Utah",
                        "West Virginia",
                        "New Jersey",
                        "Massachusetts",
                        "Idaho",
                        "Arizona",
                        "Maryland",
                        "Montana",
                        "California",
                        "New York",
                        "New Mexico",
                        "Wyoming",
                        "Virginia",
                        "Pennsylvania",
                        "Michigan",
                        "Kentucky",
                        "South Carolina",
                        "Ohio",
                        "Tennessee",
                        "North Carolina",
                        "Wisconsin",
                        "Indiana",
                        "North Dakota",
                        "Georgia",
                        "South Dakota",
                        "Arkansas",
                        "Minnesota",
                        "Louisiana",
                        "Colorado",
                        "Missouri",
                        "Alabama",
                        "Mississippi",
                        "Illinois",
                        "Iowa",
                        "Nebraska",
                        "Florida",
                        "Oklahoma",
                        "Kansas",
                        "Texas"
                      ],
                      "yaxis": "y"
                    }
                  ],
                  "name": "1982"
                },
                {
                  "data": [
                    {
                      "alignmentgroup": "True",
                      "customdata": [
                        [
                          1983
                        ],
                        [
                          1983
                        ],
                        [
                          1983
                        ],
                        [
                          1983
                        ],
                        [
                          1983
                        ],
                        [
                          1983
                        ],
                        [
                          1983
                        ],
                        [
                          1983
                        ],
                        [
                          1983
                        ],
                        [
                          1983
                        ],
                        [
                          1983
                        ],
                        [
                          1983
                        ],
                        [
                          1983
                        ],
                        [
                          1983
                        ],
                        [
                          1983
                        ],
                        [
                          1983
                        ],
                        [
                          1983
                        ],
                        [
                          1983
                        ],
                        [
                          1983
                        ],
                        [
                          1983
                        ],
                        [
                          1983
                        ],
                        [
                          1983
                        ],
                        [
                          1983
                        ],
                        [
                          1983
                        ],
                        [
                          1983
                        ],
                        [
                          1983
                        ],
                        [
                          1983
                        ],
                        [
                          1983
                        ],
                        [
                          1983
                        ],
                        [
                          1983
                        ],
                        [
                          1983
                        ],
                        [
                          1983
                        ],
                        [
                          1983
                        ],
                        [
                          1983
                        ],
                        [
                          1983
                        ],
                        [
                          1983
                        ],
                        [
                          1983
                        ],
                        [
                          1983
                        ],
                        [
                          1983
                        ],
                        [
                          1983
                        ],
                        [
                          1983
                        ],
                        [
                          1983
                        ],
                        [
                          1983
                        ],
                        [
                          1983
                        ],
                        [
                          1983
                        ],
                        [
                          1983
                        ],
                        [
                          1983
                        ],
                        [
                          1983
                        ],
                        [
                          1983
                        ],
                        [
                          1983
                        ],
                        [
                          1983
                        ],
                        [
                          1983
                        ],
                        [
                          1983
                        ]
                      ],
                      "hovertemplate": "Yıl=%{customdata[0]}<br>Toplam Kasırga Sayısı=%{x}<extra></extra>",
                      "legendgroup": "",
                      "marker": {
                        "color": "#FFD700",
                        "pattern": {
                          "shape": ""
                        }
                      },
                      "name": "",
                      "offsetgroup": "",
                      "orientation": "h",
                      "showlegend": false,
                      "textposition": "auto",
                      "type": "bar",
                      "x": [
                        0,
                        0,
                        1,
                        1,
                        7,
                        21,
                        26,
                        27,
                        20,
                        61,
                        47,
                        28,
                        38,
                        70,
                        38,
                        65,
                        51,
                        109,
                        42,
                        110,
                        84,
                        128,
                        124,
                        115,
                        253,
                        281,
                        184,
                        271,
                        490,
                        249,
                        288,
                        446,
                        357,
                        379,
                        588,
                        652,
                        544,
                        651,
                        762,
                        704,
                        549,
                        704,
                        586,
                        895,
                        660,
                        686,
                        841,
                        871,
                        1071,
                        1395,
                        1824,
                        1456,
                        3951
                      ],
                      "xaxis": "x",
                      "y": [
                        "Virgin Islands",
                        "District of Columbia",
                        "Alaska",
                        "Rhode Island",
                        "Puerto Rico",
                        "Hawaii",
                        "Vermont",
                        "Delaware",
                        "Nevada",
                        "New Hampshire",
                        "Connecticut",
                        "Oregon",
                        "Washington",
                        "Maine",
                        "Utah",
                        "West Virginia",
                        "New Jersey",
                        "Massachusetts",
                        "Idaho",
                        "Arizona",
                        "Maryland",
                        "Montana",
                        "California",
                        "New York",
                        "New Mexico",
                        "Wyoming",
                        "Virginia",
                        "Pennsylvania",
                        "Michigan",
                        "Kentucky",
                        "South Carolina",
                        "Ohio",
                        "Tennessee",
                        "North Carolina",
                        "Wisconsin",
                        "Indiana",
                        "North Dakota",
                        "Georgia",
                        "South Dakota",
                        "Arkansas",
                        "Minnesota",
                        "Louisiana",
                        "Colorado",
                        "Missouri",
                        "Alabama",
                        "Mississippi",
                        "Illinois",
                        "Iowa",
                        "Nebraska",
                        "Florida",
                        "Oklahoma",
                        "Kansas",
                        "Texas"
                      ],
                      "yaxis": "y"
                    }
                  ],
                  "name": "1983"
                },
                {
                  "data": [
                    {
                      "alignmentgroup": "True",
                      "customdata": [
                        [
                          1984
                        ],
                        [
                          1984
                        ],
                        [
                          1984
                        ],
                        [
                          1984
                        ],
                        [
                          1984
                        ],
                        [
                          1984
                        ],
                        [
                          1984
                        ],
                        [
                          1984
                        ],
                        [
                          1984
                        ],
                        [
                          1984
                        ],
                        [
                          1984
                        ],
                        [
                          1984
                        ],
                        [
                          1984
                        ],
                        [
                          1984
                        ],
                        [
                          1984
                        ],
                        [
                          1984
                        ],
                        [
                          1984
                        ],
                        [
                          1984
                        ],
                        [
                          1984
                        ],
                        [
                          1984
                        ],
                        [
                          1984
                        ],
                        [
                          1984
                        ],
                        [
                          1984
                        ],
                        [
                          1984
                        ],
                        [
                          1984
                        ],
                        [
                          1984
                        ],
                        [
                          1984
                        ],
                        [
                          1984
                        ],
                        [
                          1984
                        ],
                        [
                          1984
                        ],
                        [
                          1984
                        ],
                        [
                          1984
                        ],
                        [
                          1984
                        ],
                        [
                          1984
                        ],
                        [
                          1984
                        ],
                        [
                          1984
                        ],
                        [
                          1984
                        ],
                        [
                          1984
                        ],
                        [
                          1984
                        ],
                        [
                          1984
                        ],
                        [
                          1984
                        ],
                        [
                          1984
                        ],
                        [
                          1984
                        ],
                        [
                          1984
                        ],
                        [
                          1984
                        ],
                        [
                          1984
                        ],
                        [
                          1984
                        ],
                        [
                          1984
                        ],
                        [
                          1984
                        ],
                        [
                          1984
                        ],
                        [
                          1984
                        ],
                        [
                          1984
                        ],
                        [
                          1984
                        ]
                      ],
                      "hovertemplate": "Yıl=%{customdata[0]}<br>Toplam Kasırga Sayısı=%{x}<extra></extra>",
                      "legendgroup": "",
                      "marker": {
                        "color": "#FFD700",
                        "pattern": {
                          "shape": ""
                        }
                      },
                      "name": "",
                      "offsetgroup": "",
                      "orientation": "h",
                      "showlegend": false,
                      "textposition": "auto",
                      "type": "bar",
                      "x": [
                        0,
                        0,
                        1,
                        1,
                        7,
                        21,
                        26,
                        28,
                        22,
                        64,
                        48,
                        32,
                        40,
                        71,
                        44,
                        65,
                        51,
                        112,
                        46,
                        114,
                        89,
                        133,
                        126,
                        121,
                        254,
                        300,
                        190,
                        279,
                        512,
                        260,
                        306,
                        448,
                        390,
                        399,
                        622,
                        656,
                        559,
                        687,
                        794,
                        727,
                        576,
                        733,
                        627,
                        935,
                        702,
                        702,
                        875,
                        930,
                        1121,
                        1425,
                        1873,
                        1519,
                        4044
                      ],
                      "xaxis": "x",
                      "y": [
                        "Virgin Islands",
                        "District of Columbia",
                        "Alaska",
                        "Rhode Island",
                        "Puerto Rico",
                        "Hawaii",
                        "Vermont",
                        "Delaware",
                        "Nevada",
                        "New Hampshire",
                        "Connecticut",
                        "Oregon",
                        "Washington",
                        "Maine",
                        "Utah",
                        "West Virginia",
                        "New Jersey",
                        "Massachusetts",
                        "Idaho",
                        "Arizona",
                        "Maryland",
                        "Montana",
                        "California",
                        "New York",
                        "New Mexico",
                        "Wyoming",
                        "Virginia",
                        "Pennsylvania",
                        "Michigan",
                        "Kentucky",
                        "South Carolina",
                        "Ohio",
                        "Tennessee",
                        "North Carolina",
                        "Wisconsin",
                        "Indiana",
                        "North Dakota",
                        "Georgia",
                        "South Dakota",
                        "Arkansas",
                        "Minnesota",
                        "Louisiana",
                        "Colorado",
                        "Missouri",
                        "Alabama",
                        "Mississippi",
                        "Illinois",
                        "Iowa",
                        "Nebraska",
                        "Florida",
                        "Oklahoma",
                        "Kansas",
                        "Texas"
                      ],
                      "yaxis": "y"
                    }
                  ],
                  "name": "1984"
                },
                {
                  "data": [
                    {
                      "alignmentgroup": "True",
                      "customdata": [
                        [
                          1985
                        ],
                        [
                          1985
                        ],
                        [
                          1985
                        ],
                        [
                          1985
                        ],
                        [
                          1985
                        ],
                        [
                          1985
                        ],
                        [
                          1985
                        ],
                        [
                          1985
                        ],
                        [
                          1985
                        ],
                        [
                          1985
                        ],
                        [
                          1985
                        ],
                        [
                          1985
                        ],
                        [
                          1985
                        ],
                        [
                          1985
                        ],
                        [
                          1985
                        ],
                        [
                          1985
                        ],
                        [
                          1985
                        ],
                        [
                          1985
                        ],
                        [
                          1985
                        ],
                        [
                          1985
                        ],
                        [
                          1985
                        ],
                        [
                          1985
                        ],
                        [
                          1985
                        ],
                        [
                          1985
                        ],
                        [
                          1985
                        ],
                        [
                          1985
                        ],
                        [
                          1985
                        ],
                        [
                          1985
                        ],
                        [
                          1985
                        ],
                        [
                          1985
                        ],
                        [
                          1985
                        ],
                        [
                          1985
                        ],
                        [
                          1985
                        ],
                        [
                          1985
                        ],
                        [
                          1985
                        ],
                        [
                          1985
                        ],
                        [
                          1985
                        ],
                        [
                          1985
                        ],
                        [
                          1985
                        ],
                        [
                          1985
                        ],
                        [
                          1985
                        ],
                        [
                          1985
                        ],
                        [
                          1985
                        ],
                        [
                          1985
                        ],
                        [
                          1985
                        ],
                        [
                          1985
                        ],
                        [
                          1985
                        ],
                        [
                          1985
                        ],
                        [
                          1985
                        ],
                        [
                          1985
                        ],
                        [
                          1985
                        ],
                        [
                          1985
                        ],
                        [
                          1985
                        ]
                      ],
                      "hovertemplate": "Yıl=%{customdata[0]}<br>Toplam Kasırga Sayısı=%{x}<extra></extra>",
                      "legendgroup": "",
                      "marker": {
                        "color": "#FFD700",
                        "pattern": {
                          "shape": ""
                        }
                      },
                      "name": "",
                      "offsetgroup": "",
                      "orientation": "h",
                      "showlegend": false,
                      "textposition": "auto",
                      "type": "bar",
                      "x": [
                        0,
                        0,
                        1,
                        1,
                        7,
                        22,
                        26,
                        28,
                        22,
                        64,
                        50,
                        32,
                        42,
                        71,
                        44,
                        66,
                        53,
                        113,
                        49,
                        117,
                        89,
                        135,
                        129,
                        128,
                        259,
                        307,
                        193,
                        307,
                        523,
                        265,
                        315,
                        468,
                        400,
                        407,
                        637,
                        664,
                        591,
                        698,
                        849,
                        736,
                        602,
                        753,
                        653,
                        948,
                        744,
                        723,
                        890,
                        957,
                        1172,
                        1460,
                        1909,
                        1538,
                        4134
                      ],
                      "xaxis": "x",
                      "y": [
                        "Virgin Islands",
                        "District of Columbia",
                        "Alaska",
                        "Rhode Island",
                        "Puerto Rico",
                        "Hawaii",
                        "Vermont",
                        "Delaware",
                        "Nevada",
                        "New Hampshire",
                        "Connecticut",
                        "Oregon",
                        "Washington",
                        "Maine",
                        "Utah",
                        "West Virginia",
                        "New Jersey",
                        "Massachusetts",
                        "Idaho",
                        "Arizona",
                        "Maryland",
                        "Montana",
                        "California",
                        "New York",
                        "New Mexico",
                        "Wyoming",
                        "Virginia",
                        "Pennsylvania",
                        "Michigan",
                        "Kentucky",
                        "South Carolina",
                        "Ohio",
                        "Tennessee",
                        "North Carolina",
                        "Wisconsin",
                        "Indiana",
                        "North Dakota",
                        "Georgia",
                        "South Dakota",
                        "Arkansas",
                        "Minnesota",
                        "Louisiana",
                        "Colorado",
                        "Missouri",
                        "Alabama",
                        "Mississippi",
                        "Illinois",
                        "Iowa",
                        "Nebraska",
                        "Florida",
                        "Oklahoma",
                        "Kansas",
                        "Texas"
                      ],
                      "yaxis": "y"
                    }
                  ],
                  "name": "1985"
                },
                {
                  "data": [
                    {
                      "alignmentgroup": "True",
                      "customdata": [
                        [
                          1986
                        ],
                        [
                          1986
                        ],
                        [
                          1986
                        ],
                        [
                          1986
                        ],
                        [
                          1986
                        ],
                        [
                          1986
                        ],
                        [
                          1986
                        ],
                        [
                          1986
                        ],
                        [
                          1986
                        ],
                        [
                          1986
                        ],
                        [
                          1986
                        ],
                        [
                          1986
                        ],
                        [
                          1986
                        ],
                        [
                          1986
                        ],
                        [
                          1986
                        ],
                        [
                          1986
                        ],
                        [
                          1986
                        ],
                        [
                          1986
                        ],
                        [
                          1986
                        ],
                        [
                          1986
                        ],
                        [
                          1986
                        ],
                        [
                          1986
                        ],
                        [
                          1986
                        ],
                        [
                          1986
                        ],
                        [
                          1986
                        ],
                        [
                          1986
                        ],
                        [
                          1986
                        ],
                        [
                          1986
                        ],
                        [
                          1986
                        ],
                        [
                          1986
                        ],
                        [
                          1986
                        ],
                        [
                          1986
                        ],
                        [
                          1986
                        ],
                        [
                          1986
                        ],
                        [
                          1986
                        ],
                        [
                          1986
                        ],
                        [
                          1986
                        ],
                        [
                          1986
                        ],
                        [
                          1986
                        ],
                        [
                          1986
                        ],
                        [
                          1986
                        ],
                        [
                          1986
                        ],
                        [
                          1986
                        ],
                        [
                          1986
                        ],
                        [
                          1986
                        ],
                        [
                          1986
                        ],
                        [
                          1986
                        ],
                        [
                          1986
                        ],
                        [
                          1986
                        ],
                        [
                          1986
                        ],
                        [
                          1986
                        ],
                        [
                          1986
                        ],
                        [
                          1986
                        ]
                      ],
                      "hovertemplate": "Yıl=%{customdata[0]}<br>Toplam Kasırga Sayısı=%{x}<extra></extra>",
                      "legendgroup": "",
                      "marker": {
                        "color": "#FFD700",
                        "pattern": {
                          "shape": ""
                        }
                      },
                      "name": "",
                      "offsetgroup": "",
                      "orientation": "h",
                      "showlegend": false,
                      "textposition": "auto",
                      "type": "bar",
                      "x": [
                        0,
                        0,
                        1,
                        4,
                        7,
                        24,
                        27,
                        28,
                        23,
                        67,
                        50,
                        32,
                        44,
                        72,
                        47,
                        68,
                        54,
                        115,
                        59,
                        119,
                        89,
                        139,
                        137,
                        137,
                        261,
                        317,
                        199,
                        313,
                        549,
                        275,
                        316,
                        490,
                        405,
                        423,
                        651,
                        683,
                        620,
                        707,
                        883,
                        739,
                        619,
                        769,
                        673,
                        965,
                        758,
                        758,
                        912,
                        998,
                        1225,
                        1513,
                        1956,
                        1570,
                        4266
                      ],
                      "xaxis": "x",
                      "y": [
                        "Virgin Islands",
                        "District of Columbia",
                        "Alaska",
                        "Rhode Island",
                        "Puerto Rico",
                        "Hawaii",
                        "Vermont",
                        "Delaware",
                        "Nevada",
                        "New Hampshire",
                        "Connecticut",
                        "Oregon",
                        "Washington",
                        "Maine",
                        "Utah",
                        "West Virginia",
                        "New Jersey",
                        "Massachusetts",
                        "Idaho",
                        "Arizona",
                        "Maryland",
                        "Montana",
                        "California",
                        "New York",
                        "New Mexico",
                        "Wyoming",
                        "Virginia",
                        "Pennsylvania",
                        "Michigan",
                        "Kentucky",
                        "South Carolina",
                        "Ohio",
                        "Tennessee",
                        "North Carolina",
                        "Wisconsin",
                        "Indiana",
                        "North Dakota",
                        "Georgia",
                        "South Dakota",
                        "Arkansas",
                        "Minnesota",
                        "Louisiana",
                        "Colorado",
                        "Missouri",
                        "Alabama",
                        "Mississippi",
                        "Illinois",
                        "Iowa",
                        "Nebraska",
                        "Florida",
                        "Oklahoma",
                        "Kansas",
                        "Texas"
                      ],
                      "yaxis": "y"
                    }
                  ],
                  "name": "1986"
                },
                {
                  "data": [
                    {
                      "alignmentgroup": "True",
                      "customdata": [
                        [
                          1987
                        ],
                        [
                          1987
                        ],
                        [
                          1987
                        ],
                        [
                          1987
                        ],
                        [
                          1987
                        ],
                        [
                          1987
                        ],
                        [
                          1987
                        ],
                        [
                          1987
                        ],
                        [
                          1987
                        ],
                        [
                          1987
                        ],
                        [
                          1987
                        ],
                        [
                          1987
                        ],
                        [
                          1987
                        ],
                        [
                          1987
                        ],
                        [
                          1987
                        ],
                        [
                          1987
                        ],
                        [
                          1987
                        ],
                        [
                          1987
                        ],
                        [
                          1987
                        ],
                        [
                          1987
                        ],
                        [
                          1987
                        ],
                        [
                          1987
                        ],
                        [
                          1987
                        ],
                        [
                          1987
                        ],
                        [
                          1987
                        ],
                        [
                          1987
                        ],
                        [
                          1987
                        ],
                        [
                          1987
                        ],
                        [
                          1987
                        ],
                        [
                          1987
                        ],
                        [
                          1987
                        ],
                        [
                          1987
                        ],
                        [
                          1987
                        ],
                        [
                          1987
                        ],
                        [
                          1987
                        ],
                        [
                          1987
                        ],
                        [
                          1987
                        ],
                        [
                          1987
                        ],
                        [
                          1987
                        ],
                        [
                          1987
                        ],
                        [
                          1987
                        ],
                        [
                          1987
                        ],
                        [
                          1987
                        ],
                        [
                          1987
                        ],
                        [
                          1987
                        ],
                        [
                          1987
                        ],
                        [
                          1987
                        ],
                        [
                          1987
                        ],
                        [
                          1987
                        ],
                        [
                          1987
                        ],
                        [
                          1987
                        ],
                        [
                          1987
                        ],
                        [
                          1987
                        ]
                      ],
                      "hovertemplate": "Yıl=%{customdata[0]}<br>Toplam Kasırga Sayısı=%{x}<extra></extra>",
                      "legendgroup": "",
                      "marker": {
                        "color": "#FFD700",
                        "pattern": {
                          "shape": ""
                        }
                      },
                      "name": "",
                      "offsetgroup": "",
                      "orientation": "h",
                      "showlegend": false,
                      "textposition": "auto",
                      "type": "bar",
                      "x": [
                        0,
                        0,
                        1,
                        4,
                        7,
                        24,
                        28,
                        28,
                        31,
                        67,
                        50,
                        32,
                        46,
                        72,
                        50,
                        68,
                        63,
                        115,
                        66,
                        122,
                        89,
                        140,
                        141,
                        143,
                        276,
                        330,
                        203,
                        319,
                        572,
                        282,
                        318,
                        496,
                        405,
                        427,
                        667,
                        699,
                        642,
                        709,
                        916,
                        741,
                        640,
                        793,
                        713,
                        971,
                        765,
                        800,
                        934,
                        1034,
                        1251,
                        1558,
                        1979,
                        1593,
                        4392
                      ],
                      "xaxis": "x",
                      "y": [
                        "Virgin Islands",
                        "District of Columbia",
                        "Alaska",
                        "Rhode Island",
                        "Puerto Rico",
                        "Hawaii",
                        "Vermont",
                        "Delaware",
                        "Nevada",
                        "New Hampshire",
                        "Connecticut",
                        "Oregon",
                        "Washington",
                        "Maine",
                        "Utah",
                        "West Virginia",
                        "New Jersey",
                        "Massachusetts",
                        "Idaho",
                        "Arizona",
                        "Maryland",
                        "Montana",
                        "California",
                        "New York",
                        "New Mexico",
                        "Wyoming",
                        "Virginia",
                        "Pennsylvania",
                        "Michigan",
                        "Kentucky",
                        "South Carolina",
                        "Ohio",
                        "Tennessee",
                        "North Carolina",
                        "Wisconsin",
                        "Indiana",
                        "North Dakota",
                        "Georgia",
                        "South Dakota",
                        "Arkansas",
                        "Minnesota",
                        "Louisiana",
                        "Colorado",
                        "Missouri",
                        "Alabama",
                        "Mississippi",
                        "Illinois",
                        "Iowa",
                        "Nebraska",
                        "Florida",
                        "Oklahoma",
                        "Kansas",
                        "Texas"
                      ],
                      "yaxis": "y"
                    }
                  ],
                  "name": "1987"
                },
                {
                  "data": [
                    {
                      "alignmentgroup": "True",
                      "customdata": [
                        [
                          1988
                        ],
                        [
                          1988
                        ],
                        [
                          1988
                        ],
                        [
                          1988
                        ],
                        [
                          1988
                        ],
                        [
                          1988
                        ],
                        [
                          1988
                        ],
                        [
                          1988
                        ],
                        [
                          1988
                        ],
                        [
                          1988
                        ],
                        [
                          1988
                        ],
                        [
                          1988
                        ],
                        [
                          1988
                        ],
                        [
                          1988
                        ],
                        [
                          1988
                        ],
                        [
                          1988
                        ],
                        [
                          1988
                        ],
                        [
                          1988
                        ],
                        [
                          1988
                        ],
                        [
                          1988
                        ],
                        [
                          1988
                        ],
                        [
                          1988
                        ],
                        [
                          1988
                        ],
                        [
                          1988
                        ],
                        [
                          1988
                        ],
                        [
                          1988
                        ],
                        [
                          1988
                        ],
                        [
                          1988
                        ],
                        [
                          1988
                        ],
                        [
                          1988
                        ],
                        [
                          1988
                        ],
                        [
                          1988
                        ],
                        [
                          1988
                        ],
                        [
                          1988
                        ],
                        [
                          1988
                        ],
                        [
                          1988
                        ],
                        [
                          1988
                        ],
                        [
                          1988
                        ],
                        [
                          1988
                        ],
                        [
                          1988
                        ],
                        [
                          1988
                        ],
                        [
                          1988
                        ],
                        [
                          1988
                        ],
                        [
                          1988
                        ],
                        [
                          1988
                        ],
                        [
                          1988
                        ],
                        [
                          1988
                        ],
                        [
                          1988
                        ],
                        [
                          1988
                        ],
                        [
                          1988
                        ],
                        [
                          1988
                        ],
                        [
                          1988
                        ],
                        [
                          1988
                        ]
                      ],
                      "hovertemplate": "Yıl=%{customdata[0]}<br>Toplam Kasırga Sayısı=%{x}<extra></extra>",
                      "legendgroup": "",
                      "marker": {
                        "color": "#FFD700",
                        "pattern": {
                          "shape": ""
                        }
                      },
                      "name": "",
                      "offsetgroup": "",
                      "orientation": "h",
                      "showlegend": false,
                      "textposition": "auto",
                      "type": "bar",
                      "x": [
                        0,
                        0,
                        1,
                        4,
                        7,
                        26,
                        30,
                        30,
                        35,
                        68,
                        50,
                        32,
                        46,
                        73,
                        51,
                        68,
                        69,
                        115,
                        75,
                        123,
                        89,
                        160,
                        147,
                        148,
                        286,
                        343,
                        208,
                        325,
                        599,
                        286,
                        320,
                        496,
                        416,
                        446,
                        702,
                        712,
                        670,
                        713,
                        921,
                        753,
                        645,
                        829,
                        760,
                        988,
                        781,
                        862,
                        954,
                        1083,
                        1271,
                        1604,
                        1996,
                        1617,
                        4481
                      ],
                      "xaxis": "x",
                      "y": [
                        "Virgin Islands",
                        "District of Columbia",
                        "Alaska",
                        "Rhode Island",
                        "Puerto Rico",
                        "Hawaii",
                        "Vermont",
                        "Delaware",
                        "Nevada",
                        "New Hampshire",
                        "Connecticut",
                        "Oregon",
                        "Washington",
                        "Maine",
                        "Utah",
                        "West Virginia",
                        "New Jersey",
                        "Massachusetts",
                        "Idaho",
                        "Arizona",
                        "Maryland",
                        "Montana",
                        "California",
                        "New York",
                        "New Mexico",
                        "Wyoming",
                        "Virginia",
                        "Pennsylvania",
                        "Michigan",
                        "Kentucky",
                        "South Carolina",
                        "Ohio",
                        "Tennessee",
                        "North Carolina",
                        "Wisconsin",
                        "Indiana",
                        "North Dakota",
                        "Georgia",
                        "South Dakota",
                        "Arkansas",
                        "Minnesota",
                        "Louisiana",
                        "Colorado",
                        "Missouri",
                        "Alabama",
                        "Mississippi",
                        "Illinois",
                        "Iowa",
                        "Nebraska",
                        "Florida",
                        "Oklahoma",
                        "Kansas",
                        "Texas"
                      ],
                      "yaxis": "y"
                    }
                  ],
                  "name": "1988"
                },
                {
                  "data": [
                    {
                      "alignmentgroup": "True",
                      "customdata": [
                        [
                          1989
                        ],
                        [
                          1989
                        ],
                        [
                          1989
                        ],
                        [
                          1989
                        ],
                        [
                          1989
                        ],
                        [
                          1989
                        ],
                        [
                          1989
                        ],
                        [
                          1989
                        ],
                        [
                          1989
                        ],
                        [
                          1989
                        ],
                        [
                          1989
                        ],
                        [
                          1989
                        ],
                        [
                          1989
                        ],
                        [
                          1989
                        ],
                        [
                          1989
                        ],
                        [
                          1989
                        ],
                        [
                          1989
                        ],
                        [
                          1989
                        ],
                        [
                          1989
                        ],
                        [
                          1989
                        ],
                        [
                          1989
                        ],
                        [
                          1989
                        ],
                        [
                          1989
                        ],
                        [
                          1989
                        ],
                        [
                          1989
                        ],
                        [
                          1989
                        ],
                        [
                          1989
                        ],
                        [
                          1989
                        ],
                        [
                          1989
                        ],
                        [
                          1989
                        ],
                        [
                          1989
                        ],
                        [
                          1989
                        ],
                        [
                          1989
                        ],
                        [
                          1989
                        ],
                        [
                          1989
                        ],
                        [
                          1989
                        ],
                        [
                          1989
                        ],
                        [
                          1989
                        ],
                        [
                          1989
                        ],
                        [
                          1989
                        ],
                        [
                          1989
                        ],
                        [
                          1989
                        ],
                        [
                          1989
                        ],
                        [
                          1989
                        ],
                        [
                          1989
                        ],
                        [
                          1989
                        ],
                        [
                          1989
                        ],
                        [
                          1989
                        ],
                        [
                          1989
                        ],
                        [
                          1989
                        ],
                        [
                          1989
                        ],
                        [
                          1989
                        ],
                        [
                          1989
                        ]
                      ],
                      "hovertemplate": "Yıl=%{customdata[0]}<br>Toplam Kasırga Sayısı=%{x}<extra></extra>",
                      "legendgroup": "",
                      "marker": {
                        "color": "#FFD700",
                        "pattern": {
                          "shape": ""
                        }
                      },
                      "name": "",
                      "offsetgroup": "",
                      "orientation": "h",
                      "showlegend": false,
                      "textposition": "auto",
                      "type": "bar",
                      "x": [
                        0,
                        0,
                        1,
                        5,
                        7,
                        27,
                        31,
                        33,
                        38,
                        68,
                        53,
                        34,
                        47,
                        74,
                        57,
                        72,
                        84,
                        122,
                        77,
                        124,
                        90,
                        166,
                        151,
                        163,
                        302,
                        353,
                        217,
                        336,
                        614,
                        304,
                        337,
                        512,
                        429,
                        469,
                        719,
                        737,
                        682,
                        750,
                        926,
                        771,
                        656,
                        874,
                        782,
                        1001,
                        804,
                        898,
                        969,
                        1112,
                        1312,
                        1675,
                        2016,
                        1648,
                        4641
                      ],
                      "xaxis": "x",
                      "y": [
                        "Virgin Islands",
                        "District of Columbia",
                        "Alaska",
                        "Rhode Island",
                        "Puerto Rico",
                        "Hawaii",
                        "Vermont",
                        "Delaware",
                        "Nevada",
                        "New Hampshire",
                        "Connecticut",
                        "Oregon",
                        "Washington",
                        "Maine",
                        "Utah",
                        "West Virginia",
                        "New Jersey",
                        "Massachusetts",
                        "Idaho",
                        "Arizona",
                        "Maryland",
                        "Montana",
                        "California",
                        "New York",
                        "New Mexico",
                        "Wyoming",
                        "Virginia",
                        "Pennsylvania",
                        "Michigan",
                        "Kentucky",
                        "South Carolina",
                        "Ohio",
                        "Tennessee",
                        "North Carolina",
                        "Wisconsin",
                        "Indiana",
                        "North Dakota",
                        "Georgia",
                        "South Dakota",
                        "Arkansas",
                        "Minnesota",
                        "Louisiana",
                        "Colorado",
                        "Missouri",
                        "Alabama",
                        "Mississippi",
                        "Illinois",
                        "Iowa",
                        "Nebraska",
                        "Florida",
                        "Oklahoma",
                        "Kansas",
                        "Texas"
                      ],
                      "yaxis": "y"
                    }
                  ],
                  "name": "1989"
                },
                {
                  "data": [
                    {
                      "alignmentgroup": "True",
                      "customdata": [
                        [
                          1990
                        ],
                        [
                          1990
                        ],
                        [
                          1990
                        ],
                        [
                          1990
                        ],
                        [
                          1990
                        ],
                        [
                          1990
                        ],
                        [
                          1990
                        ],
                        [
                          1990
                        ],
                        [
                          1990
                        ],
                        [
                          1990
                        ],
                        [
                          1990
                        ],
                        [
                          1990
                        ],
                        [
                          1990
                        ],
                        [
                          1990
                        ],
                        [
                          1990
                        ],
                        [
                          1990
                        ],
                        [
                          1990
                        ],
                        [
                          1990
                        ],
                        [
                          1990
                        ],
                        [
                          1990
                        ],
                        [
                          1990
                        ],
                        [
                          1990
                        ],
                        [
                          1990
                        ],
                        [
                          1990
                        ],
                        [
                          1990
                        ],
                        [
                          1990
                        ],
                        [
                          1990
                        ],
                        [
                          1990
                        ],
                        [
                          1990
                        ],
                        [
                          1990
                        ],
                        [
                          1990
                        ],
                        [
                          1990
                        ],
                        [
                          1990
                        ],
                        [
                          1990
                        ],
                        [
                          1990
                        ],
                        [
                          1990
                        ],
                        [
                          1990
                        ],
                        [
                          1990
                        ],
                        [
                          1990
                        ],
                        [
                          1990
                        ],
                        [
                          1990
                        ],
                        [
                          1990
                        ],
                        [
                          1990
                        ],
                        [
                          1990
                        ],
                        [
                          1990
                        ],
                        [
                          1990
                        ],
                        [
                          1990
                        ],
                        [
                          1990
                        ],
                        [
                          1990
                        ],
                        [
                          1990
                        ],
                        [
                          1990
                        ],
                        [
                          1990
                        ],
                        [
                          1990
                        ]
                      ],
                      "hovertemplate": "Yıl=%{customdata[0]}<br>Toplam Kasırga Sayısı=%{x}<extra></extra>",
                      "legendgroup": "",
                      "marker": {
                        "color": "#FFD700",
                        "pattern": {
                          "shape": ""
                        }
                      },
                      "name": "",
                      "offsetgroup": "",
                      "orientation": "h",
                      "showlegend": false,
                      "textposition": "auto",
                      "type": "bar",
                      "x": [
                        0,
                        0,
                        1,
                        6,
                        7,
                        27,
                        31,
                        34,
                        39,
                        68,
                        54,
                        34,
                        48,
                        74,
                        61,
                        76,
                        91,
                        125,
                        86,
                        127,
                        100,
                        172,
                        156,
                        179,
                        318,
                        382,
                        234,
                        355,
                        635,
                        322,
                        349,
                        535,
                        439,
                        486,
                        728,
                        782,
                        707,
                        768,
                        937,
                        791,
                        668,
                        946,
                        837,
                        1032,
                        823,
                        921,
                        1018,
                        1183,
                        1400,
                        1731,
                        2046,
                        1735,
                        4799
                      ],
                      "xaxis": "x",
                      "y": [
                        "Virgin Islands",
                        "District of Columbia",
                        "Alaska",
                        "Rhode Island",
                        "Puerto Rico",
                        "Hawaii",
                        "Vermont",
                        "Delaware",
                        "Nevada",
                        "New Hampshire",
                        "Connecticut",
                        "Oregon",
                        "Washington",
                        "Maine",
                        "Utah",
                        "West Virginia",
                        "New Jersey",
                        "Massachusetts",
                        "Idaho",
                        "Arizona",
                        "Maryland",
                        "Montana",
                        "California",
                        "New York",
                        "New Mexico",
                        "Wyoming",
                        "Virginia",
                        "Pennsylvania",
                        "Michigan",
                        "Kentucky",
                        "South Carolina",
                        "Ohio",
                        "Tennessee",
                        "North Carolina",
                        "Wisconsin",
                        "Indiana",
                        "North Dakota",
                        "Georgia",
                        "South Dakota",
                        "Arkansas",
                        "Minnesota",
                        "Louisiana",
                        "Colorado",
                        "Missouri",
                        "Alabama",
                        "Mississippi",
                        "Illinois",
                        "Iowa",
                        "Nebraska",
                        "Florida",
                        "Oklahoma",
                        "Kansas",
                        "Texas"
                      ],
                      "yaxis": "y"
                    }
                  ],
                  "name": "1990"
                },
                {
                  "data": [
                    {
                      "alignmentgroup": "True",
                      "customdata": [
                        [
                          1991
                        ],
                        [
                          1991
                        ],
                        [
                          1991
                        ],
                        [
                          1991
                        ],
                        [
                          1991
                        ],
                        [
                          1991
                        ],
                        [
                          1991
                        ],
                        [
                          1991
                        ],
                        [
                          1991
                        ],
                        [
                          1991
                        ],
                        [
                          1991
                        ],
                        [
                          1991
                        ],
                        [
                          1991
                        ],
                        [
                          1991
                        ],
                        [
                          1991
                        ],
                        [
                          1991
                        ],
                        [
                          1991
                        ],
                        [
                          1991
                        ],
                        [
                          1991
                        ],
                        [
                          1991
                        ],
                        [
                          1991
                        ],
                        [
                          1991
                        ],
                        [
                          1991
                        ],
                        [
                          1991
                        ],
                        [
                          1991
                        ],
                        [
                          1991
                        ],
                        [
                          1991
                        ],
                        [
                          1991
                        ],
                        [
                          1991
                        ],
                        [
                          1991
                        ],
                        [
                          1991
                        ],
                        [
                          1991
                        ],
                        [
                          1991
                        ],
                        [
                          1991
                        ],
                        [
                          1991
                        ],
                        [
                          1991
                        ],
                        [
                          1991
                        ],
                        [
                          1991
                        ],
                        [
                          1991
                        ],
                        [
                          1991
                        ],
                        [
                          1991
                        ],
                        [
                          1991
                        ],
                        [
                          1991
                        ],
                        [
                          1991
                        ],
                        [
                          1991
                        ],
                        [
                          1991
                        ],
                        [
                          1991
                        ],
                        [
                          1991
                        ],
                        [
                          1991
                        ],
                        [
                          1991
                        ],
                        [
                          1991
                        ],
                        [
                          1991
                        ],
                        [
                          1991
                        ]
                      ],
                      "hovertemplate": "Yıl=%{customdata[0]}<br>Toplam Kasırga Sayısı=%{x}<extra></extra>",
                      "legendgroup": "",
                      "marker": {
                        "color": "#FFD700",
                        "pattern": {
                          "shape": ""
                        }
                      },
                      "name": "",
                      "offsetgroup": "",
                      "orientation": "h",
                      "showlegend": false,
                      "textposition": "auto",
                      "type": "bar",
                      "x": [
                        0,
                        0,
                        1,
                        6,
                        7,
                        27,
                        31,
                        35,
                        41,
                        69,
                        54,
                        39,
                        50,
                        75,
                        66,
                        77,
                        92,
                        126,
                        97,
                        129,
                        101,
                        202,
                        172,
                        189,
                        349,
                        405,
                        236,
                        374,
                        664,
                        330,
                        359,
                        542,
                        448,
                        513,
                        738,
                        796,
                        724,
                        785,
                        971,
                        804,
                        705,
                        982,
                        913,
                        1049,
                        833,
                        933,
                        1050,
                        1236,
                        1464,
                        1787,
                        2119,
                        1849,
                        4991
                      ],
                      "xaxis": "x",
                      "y": [
                        "Virgin Islands",
                        "District of Columbia",
                        "Alaska",
                        "Rhode Island",
                        "Puerto Rico",
                        "Hawaii",
                        "Vermont",
                        "Delaware",
                        "Nevada",
                        "New Hampshire",
                        "Connecticut",
                        "Oregon",
                        "Washington",
                        "Maine",
                        "Utah",
                        "West Virginia",
                        "New Jersey",
                        "Massachusetts",
                        "Idaho",
                        "Arizona",
                        "Maryland",
                        "Montana",
                        "California",
                        "New York",
                        "New Mexico",
                        "Wyoming",
                        "Virginia",
                        "Pennsylvania",
                        "Michigan",
                        "Kentucky",
                        "South Carolina",
                        "Ohio",
                        "Tennessee",
                        "North Carolina",
                        "Wisconsin",
                        "Indiana",
                        "North Dakota",
                        "Georgia",
                        "South Dakota",
                        "Arkansas",
                        "Minnesota",
                        "Louisiana",
                        "Colorado",
                        "Missouri",
                        "Alabama",
                        "Mississippi",
                        "Illinois",
                        "Iowa",
                        "Nebraska",
                        "Florida",
                        "Oklahoma",
                        "Kansas",
                        "Texas"
                      ],
                      "yaxis": "y"
                    }
                  ],
                  "name": "1991"
                },
                {
                  "data": [
                    {
                      "alignmentgroup": "True",
                      "customdata": [
                        [
                          1992
                        ],
                        [
                          1992
                        ],
                        [
                          1992
                        ],
                        [
                          1992
                        ],
                        [
                          1992
                        ],
                        [
                          1992
                        ],
                        [
                          1992
                        ],
                        [
                          1992
                        ],
                        [
                          1992
                        ],
                        [
                          1992
                        ],
                        [
                          1992
                        ],
                        [
                          1992
                        ],
                        [
                          1992
                        ],
                        [
                          1992
                        ],
                        [
                          1992
                        ],
                        [
                          1992
                        ],
                        [
                          1992
                        ],
                        [
                          1992
                        ],
                        [
                          1992
                        ],
                        [
                          1992
                        ],
                        [
                          1992
                        ],
                        [
                          1992
                        ],
                        [
                          1992
                        ],
                        [
                          1992
                        ],
                        [
                          1992
                        ],
                        [
                          1992
                        ],
                        [
                          1992
                        ],
                        [
                          1992
                        ],
                        [
                          1992
                        ],
                        [
                          1992
                        ],
                        [
                          1992
                        ],
                        [
                          1992
                        ],
                        [
                          1992
                        ],
                        [
                          1992
                        ],
                        [
                          1992
                        ],
                        [
                          1992
                        ],
                        [
                          1992
                        ],
                        [
                          1992
                        ],
                        [
                          1992
                        ],
                        [
                          1992
                        ],
                        [
                          1992
                        ],
                        [
                          1992
                        ],
                        [
                          1992
                        ],
                        [
                          1992
                        ],
                        [
                          1992
                        ],
                        [
                          1992
                        ],
                        [
                          1992
                        ],
                        [
                          1992
                        ],
                        [
                          1992
                        ],
                        [
                          1992
                        ],
                        [
                          1992
                        ],
                        [
                          1992
                        ],
                        [
                          1992
                        ]
                      ],
                      "hovertemplate": "Yıl=%{customdata[0]}<br>Toplam Kasırga Sayısı=%{x}<extra></extra>",
                      "legendgroup": "",
                      "marker": {
                        "color": "#FFD700",
                        "pattern": {
                          "shape": ""
                        }
                      },
                      "name": "",
                      "offsetgroup": "",
                      "orientation": "h",
                      "showlegend": false,
                      "textposition": "auto",
                      "type": "bar",
                      "x": [
                        0,
                        0,
                        1,
                        6,
                        7,
                        27,
                        31,
                        41,
                        45,
                        69,
                        58,
                        40,
                        51,
                        75,
                        70,
                        78,
                        95,
                        128,
                        101,
                        142,
                        114,
                        211,
                        192,
                        214,
                        373,
                        415,
                        241,
                        405,
                        685,
                        339,
                        367,
                        603,
                        456,
                        542,
                        764,
                        841,
                        739,
                        803,
                        1012,
                        808,
                        744,
                        1061,
                        994,
                        1072,
                        857,
                        987,
                        1073,
                        1265,
                        1539,
                        1847,
                        2183,
                        1941,
                        5180
                      ],
                      "xaxis": "x",
                      "y": [
                        "Virgin Islands",
                        "District of Columbia",
                        "Alaska",
                        "Rhode Island",
                        "Puerto Rico",
                        "Hawaii",
                        "Vermont",
                        "Delaware",
                        "Nevada",
                        "New Hampshire",
                        "Connecticut",
                        "Oregon",
                        "Washington",
                        "Maine",
                        "Utah",
                        "West Virginia",
                        "New Jersey",
                        "Massachusetts",
                        "Idaho",
                        "Arizona",
                        "Maryland",
                        "Montana",
                        "California",
                        "New York",
                        "New Mexico",
                        "Wyoming",
                        "Virginia",
                        "Pennsylvania",
                        "Michigan",
                        "Kentucky",
                        "South Carolina",
                        "Ohio",
                        "Tennessee",
                        "North Carolina",
                        "Wisconsin",
                        "Indiana",
                        "North Dakota",
                        "Georgia",
                        "South Dakota",
                        "Arkansas",
                        "Minnesota",
                        "Louisiana",
                        "Colorado",
                        "Missouri",
                        "Alabama",
                        "Mississippi",
                        "Illinois",
                        "Iowa",
                        "Nebraska",
                        "Florida",
                        "Oklahoma",
                        "Kansas",
                        "Texas"
                      ],
                      "yaxis": "y"
                    }
                  ],
                  "name": "1992"
                },
                {
                  "data": [
                    {
                      "alignmentgroup": "True",
                      "customdata": [
                        [
                          1993
                        ],
                        [
                          1993
                        ],
                        [
                          1993
                        ],
                        [
                          1993
                        ],
                        [
                          1993
                        ],
                        [
                          1993
                        ],
                        [
                          1993
                        ],
                        [
                          1993
                        ],
                        [
                          1993
                        ],
                        [
                          1993
                        ],
                        [
                          1993
                        ],
                        [
                          1993
                        ],
                        [
                          1993
                        ],
                        [
                          1993
                        ],
                        [
                          1993
                        ],
                        [
                          1993
                        ],
                        [
                          1993
                        ],
                        [
                          1993
                        ],
                        [
                          1993
                        ],
                        [
                          1993
                        ],
                        [
                          1993
                        ],
                        [
                          1993
                        ],
                        [
                          1993
                        ],
                        [
                          1993
                        ],
                        [
                          1993
                        ],
                        [
                          1993
                        ],
                        [
                          1993
                        ],
                        [
                          1993
                        ],
                        [
                          1993
                        ],
                        [
                          1993
                        ],
                        [
                          1993
                        ],
                        [
                          1993
                        ],
                        [
                          1993
                        ],
                        [
                          1993
                        ],
                        [
                          1993
                        ],
                        [
                          1993
                        ],
                        [
                          1993
                        ],
                        [
                          1993
                        ],
                        [
                          1993
                        ],
                        [
                          1993
                        ],
                        [
                          1993
                        ],
                        [
                          1993
                        ],
                        [
                          1993
                        ],
                        [
                          1993
                        ],
                        [
                          1993
                        ],
                        [
                          1993
                        ],
                        [
                          1993
                        ],
                        [
                          1993
                        ],
                        [
                          1993
                        ],
                        [
                          1993
                        ],
                        [
                          1993
                        ],
                        [
                          1993
                        ],
                        [
                          1993
                        ]
                      ],
                      "hovertemplate": "Yıl=%{customdata[0]}<br>Toplam Kasırga Sayısı=%{x}<extra></extra>",
                      "legendgroup": "",
                      "marker": {
                        "color": "#FFD700",
                        "pattern": {
                          "shape": ""
                        }
                      },
                      "name": "",
                      "offsetgroup": "",
                      "orientation": "h",
                      "showlegend": false,
                      "textposition": "auto",
                      "type": "bar",
                      "x": [
                        0,
                        0,
                        1,
                        6,
                        7,
                        27,
                        32,
                        46,
                        46,
                        70,
                        59,
                        42,
                        51,
                        77,
                        76,
                        79,
                        100,
                        128,
                        112,
                        150,
                        120,
                        230,
                        205,
                        235,
                        376,
                        427,
                        269,
                        418,
                        696,
                        350,
                        380,
                        627,
                        466,
                        557,
                        800,
                        851,
                        778,
                        824,
                        1095,
                        825,
                        791,
                        1073,
                        1065,
                        1115,
                        865,
                        999,
                        1106,
                        1316,
                        1608,
                        1932,
                        2247,
                        2052,
                        5297
                      ],
                      "xaxis": "x",
                      "y": [
                        "Virgin Islands",
                        "District of Columbia",
                        "Alaska",
                        "Rhode Island",
                        "Puerto Rico",
                        "Hawaii",
                        "Vermont",
                        "Delaware",
                        "Nevada",
                        "New Hampshire",
                        "Connecticut",
                        "Oregon",
                        "Washington",
                        "Maine",
                        "Utah",
                        "West Virginia",
                        "New Jersey",
                        "Massachusetts",
                        "Idaho",
                        "Arizona",
                        "Maryland",
                        "Montana",
                        "California",
                        "New York",
                        "New Mexico",
                        "Wyoming",
                        "Virginia",
                        "Pennsylvania",
                        "Michigan",
                        "Kentucky",
                        "South Carolina",
                        "Ohio",
                        "Tennessee",
                        "North Carolina",
                        "Wisconsin",
                        "Indiana",
                        "North Dakota",
                        "Georgia",
                        "South Dakota",
                        "Arkansas",
                        "Minnesota",
                        "Louisiana",
                        "Colorado",
                        "Missouri",
                        "Alabama",
                        "Mississippi",
                        "Illinois",
                        "Iowa",
                        "Nebraska",
                        "Florida",
                        "Oklahoma",
                        "Kansas",
                        "Texas"
                      ],
                      "yaxis": "y"
                    }
                  ],
                  "name": "1993"
                },
                {
                  "data": [
                    {
                      "alignmentgroup": "True",
                      "customdata": [
                        [
                          1994
                        ],
                        [
                          1994
                        ],
                        [
                          1994
                        ],
                        [
                          1994
                        ],
                        [
                          1994
                        ],
                        [
                          1994
                        ],
                        [
                          1994
                        ],
                        [
                          1994
                        ],
                        [
                          1994
                        ],
                        [
                          1994
                        ],
                        [
                          1994
                        ],
                        [
                          1994
                        ],
                        [
                          1994
                        ],
                        [
                          1994
                        ],
                        [
                          1994
                        ],
                        [
                          1994
                        ],
                        [
                          1994
                        ],
                        [
                          1994
                        ],
                        [
                          1994
                        ],
                        [
                          1994
                        ],
                        [
                          1994
                        ],
                        [
                          1994
                        ],
                        [
                          1994
                        ],
                        [
                          1994
                        ],
                        [
                          1994
                        ],
                        [
                          1994
                        ],
                        [
                          1994
                        ],
                        [
                          1994
                        ],
                        [
                          1994
                        ],
                        [
                          1994
                        ],
                        [
                          1994
                        ],
                        [
                          1994
                        ],
                        [
                          1994
                        ],
                        [
                          1994
                        ],
                        [
                          1994
                        ],
                        [
                          1994
                        ],
                        [
                          1994
                        ],
                        [
                          1994
                        ],
                        [
                          1994
                        ],
                        [
                          1994
                        ],
                        [
                          1994
                        ],
                        [
                          1994
                        ],
                        [
                          1994
                        ],
                        [
                          1994
                        ],
                        [
                          1994
                        ],
                        [
                          1994
                        ],
                        [
                          1994
                        ],
                        [
                          1994
                        ],
                        [
                          1994
                        ],
                        [
                          1994
                        ],
                        [
                          1994
                        ],
                        [
                          1994
                        ],
                        [
                          1994
                        ]
                      ],
                      "hovertemplate": "Yıl=%{customdata[0]}<br>Toplam Kasırga Sayısı=%{x}<extra></extra>",
                      "legendgroup": "",
                      "marker": {
                        "color": "#FFD700",
                        "pattern": {
                          "shape": ""
                        }
                      },
                      "name": "",
                      "offsetgroup": "",
                      "orientation": "h",
                      "showlegend": false,
                      "textposition": "auto",
                      "type": "bar",
                      "x": [
                        0,
                        0,
                        1,
                        7,
                        7,
                        27,
                        32,
                        50,
                        48,
                        71,
                        60,
                        44,
                        53,
                        80,
                        76,
                        81,
                        108,
                        128,
                        115,
                        155,
                        141,
                        238,
                        214,
                        248,
                        389,
                        434,
                        277,
                        445,
                        707,
                        363,
                        419,
                        636,
                        494,
                        579,
                        836,
                        867,
                        798,
                        876,
                        1131,
                        841,
                        825,
                        1081,
                        1111,
                        1149,
                        883,
                        1033,
                        1126,
                        1365,
                        1663,
                        2009,
                        2288,
                        2093,
                        5484
                      ],
                      "xaxis": "x",
                      "y": [
                        "Virgin Islands",
                        "District of Columbia",
                        "Alaska",
                        "Rhode Island",
                        "Puerto Rico",
                        "Hawaii",
                        "Vermont",
                        "Delaware",
                        "Nevada",
                        "New Hampshire",
                        "Connecticut",
                        "Oregon",
                        "Washington",
                        "Maine",
                        "Utah",
                        "West Virginia",
                        "New Jersey",
                        "Massachusetts",
                        "Idaho",
                        "Arizona",
                        "Maryland",
                        "Montana",
                        "California",
                        "New York",
                        "New Mexico",
                        "Wyoming",
                        "Virginia",
                        "Pennsylvania",
                        "Michigan",
                        "Kentucky",
                        "South Carolina",
                        "Ohio",
                        "Tennessee",
                        "North Carolina",
                        "Wisconsin",
                        "Indiana",
                        "North Dakota",
                        "Georgia",
                        "South Dakota",
                        "Arkansas",
                        "Minnesota",
                        "Louisiana",
                        "Colorado",
                        "Missouri",
                        "Alabama",
                        "Mississippi",
                        "Illinois",
                        "Iowa",
                        "Nebraska",
                        "Florida",
                        "Oklahoma",
                        "Kansas",
                        "Texas"
                      ],
                      "yaxis": "y"
                    }
                  ],
                  "name": "1994"
                },
                {
                  "data": [
                    {
                      "alignmentgroup": "True",
                      "customdata": [
                        [
                          1995
                        ],
                        [
                          1995
                        ],
                        [
                          1995
                        ],
                        [
                          1995
                        ],
                        [
                          1995
                        ],
                        [
                          1995
                        ],
                        [
                          1995
                        ],
                        [
                          1995
                        ],
                        [
                          1995
                        ],
                        [
                          1995
                        ],
                        [
                          1995
                        ],
                        [
                          1995
                        ],
                        [
                          1995
                        ],
                        [
                          1995
                        ],
                        [
                          1995
                        ],
                        [
                          1995
                        ],
                        [
                          1995
                        ],
                        [
                          1995
                        ],
                        [
                          1995
                        ],
                        [
                          1995
                        ],
                        [
                          1995
                        ],
                        [
                          1995
                        ],
                        [
                          1995
                        ],
                        [
                          1995
                        ],
                        [
                          1995
                        ],
                        [
                          1995
                        ],
                        [
                          1995
                        ],
                        [
                          1995
                        ],
                        [
                          1995
                        ],
                        [
                          1995
                        ],
                        [
                          1995
                        ],
                        [
                          1995
                        ],
                        [
                          1995
                        ],
                        [
                          1995
                        ],
                        [
                          1995
                        ],
                        [
                          1995
                        ],
                        [
                          1995
                        ],
                        [
                          1995
                        ],
                        [
                          1995
                        ],
                        [
                          1995
                        ],
                        [
                          1995
                        ],
                        [
                          1995
                        ],
                        [
                          1995
                        ],
                        [
                          1995
                        ],
                        [
                          1995
                        ],
                        [
                          1995
                        ],
                        [
                          1995
                        ],
                        [
                          1995
                        ],
                        [
                          1995
                        ],
                        [
                          1995
                        ],
                        [
                          1995
                        ],
                        [
                          1995
                        ],
                        [
                          1995
                        ]
                      ],
                      "hovertemplate": "Yıl=%{customdata[0]}<br>Toplam Kasırga Sayısı=%{x}<extra></extra>",
                      "legendgroup": "",
                      "marker": {
                        "color": "#FFD700",
                        "pattern": {
                          "shape": ""
                        }
                      },
                      "name": "",
                      "offsetgroup": "",
                      "orientation": "h",
                      "showlegend": false,
                      "textposition": "auto",
                      "type": "bar",
                      "x": [
                        0,
                        1,
                        1,
                        7,
                        8,
                        27,
                        32,
                        52,
                        49,
                        72,
                        62,
                        48,
                        53,
                        80,
                        78,
                        81,
                        113,
                        129,
                        123,
                        159,
                        165,
                        253,
                        221,
                        254,
                        398,
                        443,
                        287,
                        451,
                        717,
                        392,
                        473,
                        644,
                        533,
                        605,
                        843,
                        878,
                        811,
                        897,
                        1141,
                        865,
                        858,
                        1131,
                        1159,
                        1184,
                        920,
                        1078,
                        1202,
                        1407,
                        1689,
                        2104,
                        2365,
                        2165,
                        5715
                      ],
                      "xaxis": "x",
                      "y": [
                        "Virgin Islands",
                        "District of Columbia",
                        "Alaska",
                        "Rhode Island",
                        "Puerto Rico",
                        "Hawaii",
                        "Vermont",
                        "Delaware",
                        "Nevada",
                        "New Hampshire",
                        "Connecticut",
                        "Oregon",
                        "Washington",
                        "Maine",
                        "Utah",
                        "West Virginia",
                        "New Jersey",
                        "Massachusetts",
                        "Idaho",
                        "Arizona",
                        "Maryland",
                        "Montana",
                        "California",
                        "New York",
                        "New Mexico",
                        "Wyoming",
                        "Virginia",
                        "Pennsylvania",
                        "Michigan",
                        "Kentucky",
                        "South Carolina",
                        "Ohio",
                        "Tennessee",
                        "North Carolina",
                        "Wisconsin",
                        "Indiana",
                        "North Dakota",
                        "Georgia",
                        "South Dakota",
                        "Arkansas",
                        "Minnesota",
                        "Louisiana",
                        "Colorado",
                        "Missouri",
                        "Alabama",
                        "Mississippi",
                        "Illinois",
                        "Iowa",
                        "Nebraska",
                        "Florida",
                        "Oklahoma",
                        "Kansas",
                        "Texas"
                      ],
                      "yaxis": "y"
                    }
                  ],
                  "name": "1995"
                },
                {
                  "data": [
                    {
                      "alignmentgroup": "True",
                      "customdata": [
                        [
                          1996
                        ],
                        [
                          1996
                        ],
                        [
                          1996
                        ],
                        [
                          1996
                        ],
                        [
                          1996
                        ],
                        [
                          1996
                        ],
                        [
                          1996
                        ],
                        [
                          1996
                        ],
                        [
                          1996
                        ],
                        [
                          1996
                        ],
                        [
                          1996
                        ],
                        [
                          1996
                        ],
                        [
                          1996
                        ],
                        [
                          1996
                        ],
                        [
                          1996
                        ],
                        [
                          1996
                        ],
                        [
                          1996
                        ],
                        [
                          1996
                        ],
                        [
                          1996
                        ],
                        [
                          1996
                        ],
                        [
                          1996
                        ],
                        [
                          1996
                        ],
                        [
                          1996
                        ],
                        [
                          1996
                        ],
                        [
                          1996
                        ],
                        [
                          1996
                        ],
                        [
                          1996
                        ],
                        [
                          1996
                        ],
                        [
                          1996
                        ],
                        [
                          1996
                        ],
                        [
                          1996
                        ],
                        [
                          1996
                        ],
                        [
                          1996
                        ],
                        [
                          1996
                        ],
                        [
                          1996
                        ],
                        [
                          1996
                        ],
                        [
                          1996
                        ],
                        [
                          1996
                        ],
                        [
                          1996
                        ],
                        [
                          1996
                        ],
                        [
                          1996
                        ],
                        [
                          1996
                        ],
                        [
                          1996
                        ],
                        [
                          1996
                        ],
                        [
                          1996
                        ],
                        [
                          1996
                        ],
                        [
                          1996
                        ],
                        [
                          1996
                        ],
                        [
                          1996
                        ],
                        [
                          1996
                        ],
                        [
                          1996
                        ],
                        [
                          1996
                        ],
                        [
                          1996
                        ]
                      ],
                      "hovertemplate": "Yıl=%{customdata[0]}<br>Toplam Kasırga Sayısı=%{x}<extra></extra>",
                      "legendgroup": "",
                      "marker": {
                        "color": "#FFD700",
                        "pattern": {
                          "shape": ""
                        }
                      },
                      "name": "",
                      "offsetgroup": "",
                      "orientation": "h",
                      "showlegend": false,
                      "textposition": "auto",
                      "type": "bar",
                      "x": [
                        0,
                        1,
                        1,
                        7,
                        9,
                        27,
                        32,
                        52,
                        50,
                        72,
                        64,
                        52,
                        54,
                        81,
                        81,
                        84,
                        115,
                        129,
                        127,
                        168,
                        186,
                        261,
                        243,
                        262,
                        414,
                        449,
                        310,
                        476,
                        730,
                        417,
                        497,
                        654,
                        550,
                        659,
                        864,
                        908,
                        836,
                        915,
                        1186,
                        893,
                        891,
                        1149,
                        1257,
                        1213,
                        953,
                        1105,
                        1264,
                        1429,
                        1749,
                        2170,
                        2414,
                        2233,
                        5853
                      ],
                      "xaxis": "x",
                      "y": [
                        "Virgin Islands",
                        "District of Columbia",
                        "Alaska",
                        "Rhode Island",
                        "Puerto Rico",
                        "Hawaii",
                        "Vermont",
                        "Delaware",
                        "Nevada",
                        "New Hampshire",
                        "Connecticut",
                        "Oregon",
                        "Washington",
                        "Maine",
                        "Utah",
                        "West Virginia",
                        "New Jersey",
                        "Massachusetts",
                        "Idaho",
                        "Arizona",
                        "Maryland",
                        "Montana",
                        "California",
                        "New York",
                        "New Mexico",
                        "Wyoming",
                        "Virginia",
                        "Pennsylvania",
                        "Michigan",
                        "Kentucky",
                        "South Carolina",
                        "Ohio",
                        "Tennessee",
                        "North Carolina",
                        "Wisconsin",
                        "Indiana",
                        "North Dakota",
                        "Georgia",
                        "South Dakota",
                        "Arkansas",
                        "Minnesota",
                        "Louisiana",
                        "Colorado",
                        "Missouri",
                        "Alabama",
                        "Mississippi",
                        "Illinois",
                        "Iowa",
                        "Nebraska",
                        "Florida",
                        "Oklahoma",
                        "Kansas",
                        "Texas"
                      ],
                      "yaxis": "y"
                    }
                  ],
                  "name": "1996"
                },
                {
                  "data": [
                    {
                      "alignmentgroup": "True",
                      "customdata": [
                        [
                          1997
                        ],
                        [
                          1997
                        ],
                        [
                          1997
                        ],
                        [
                          1997
                        ],
                        [
                          1997
                        ],
                        [
                          1997
                        ],
                        [
                          1997
                        ],
                        [
                          1997
                        ],
                        [
                          1997
                        ],
                        [
                          1997
                        ],
                        [
                          1997
                        ],
                        [
                          1997
                        ],
                        [
                          1997
                        ],
                        [
                          1997
                        ],
                        [
                          1997
                        ],
                        [
                          1997
                        ],
                        [
                          1997
                        ],
                        [
                          1997
                        ],
                        [
                          1997
                        ],
                        [
                          1997
                        ],
                        [
                          1997
                        ],
                        [
                          1997
                        ],
                        [
                          1997
                        ],
                        [
                          1997
                        ],
                        [
                          1997
                        ],
                        [
                          1997
                        ],
                        [
                          1997
                        ],
                        [
                          1997
                        ],
                        [
                          1997
                        ],
                        [
                          1997
                        ],
                        [
                          1997
                        ],
                        [
                          1997
                        ],
                        [
                          1997
                        ],
                        [
                          1997
                        ],
                        [
                          1997
                        ],
                        [
                          1997
                        ],
                        [
                          1997
                        ],
                        [
                          1997
                        ],
                        [
                          1997
                        ],
                        [
                          1997
                        ],
                        [
                          1997
                        ],
                        [
                          1997
                        ],
                        [
                          1997
                        ],
                        [
                          1997
                        ],
                        [
                          1997
                        ],
                        [
                          1997
                        ],
                        [
                          1997
                        ],
                        [
                          1997
                        ],
                        [
                          1997
                        ],
                        [
                          1997
                        ],
                        [
                          1997
                        ],
                        [
                          1997
                        ],
                        [
                          1997
                        ]
                      ],
                      "hovertemplate": "Yıl=%{customdata[0]}<br>Toplam Kasırga Sayısı=%{x}<extra></extra>",
                      "legendgroup": "",
                      "marker": {
                        "color": "#FFD700",
                        "pattern": {
                          "shape": ""
                        }
                      },
                      "name": "",
                      "offsetgroup": "",
                      "orientation": "h",
                      "showlegend": false,
                      "textposition": "auto",
                      "type": "bar",
                      "x": [
                        0,
                        1,
                        1,
                        7,
                        9,
                        27,
                        32,
                        52,
                        52,
                        74,
                        64,
                        66,
                        68,
                        84,
                        82,
                        85,
                        117,
                        136,
                        133,
                        173,
                        190,
                        270,
                        260,
                        268,
                        425,
                        475,
                        320,
                        490,
                        748,
                        455,
                        514,
                        669,
                        586,
                        669,
                        878,
                        923,
                        867,
                        937,
                        1216,
                        938,
                        938,
                        1168,
                        1304,
                        1225,
                        982,
                        1139,
                        1296,
                        1454,
                        1780,
                        2285,
                        2471,
                        2297,
                        6044
                      ],
                      "xaxis": "x",
                      "y": [
                        "Virgin Islands",
                        "District of Columbia",
                        "Alaska",
                        "Rhode Island",
                        "Puerto Rico",
                        "Hawaii",
                        "Vermont",
                        "Delaware",
                        "Nevada",
                        "New Hampshire",
                        "Connecticut",
                        "Oregon",
                        "Washington",
                        "Maine",
                        "Utah",
                        "West Virginia",
                        "New Jersey",
                        "Massachusetts",
                        "Idaho",
                        "Arizona",
                        "Maryland",
                        "Montana",
                        "California",
                        "New York",
                        "New Mexico",
                        "Wyoming",
                        "Virginia",
                        "Pennsylvania",
                        "Michigan",
                        "Kentucky",
                        "South Carolina",
                        "Ohio",
                        "Tennessee",
                        "North Carolina",
                        "Wisconsin",
                        "Indiana",
                        "North Dakota",
                        "Georgia",
                        "South Dakota",
                        "Arkansas",
                        "Minnesota",
                        "Louisiana",
                        "Colorado",
                        "Missouri",
                        "Alabama",
                        "Mississippi",
                        "Illinois",
                        "Iowa",
                        "Nebraska",
                        "Florida",
                        "Oklahoma",
                        "Kansas",
                        "Texas"
                      ],
                      "yaxis": "y"
                    }
                  ],
                  "name": "1997"
                },
                {
                  "data": [
                    {
                      "alignmentgroup": "True",
                      "customdata": [
                        [
                          1998
                        ],
                        [
                          1998
                        ],
                        [
                          1998
                        ],
                        [
                          1998
                        ],
                        [
                          1998
                        ],
                        [
                          1998
                        ],
                        [
                          1998
                        ],
                        [
                          1998
                        ],
                        [
                          1998
                        ],
                        [
                          1998
                        ],
                        [
                          1998
                        ],
                        [
                          1998
                        ],
                        [
                          1998
                        ],
                        [
                          1998
                        ],
                        [
                          1998
                        ],
                        [
                          1998
                        ],
                        [
                          1998
                        ],
                        [
                          1998
                        ],
                        [
                          1998
                        ],
                        [
                          1998
                        ],
                        [
                          1998
                        ],
                        [
                          1998
                        ],
                        [
                          1998
                        ],
                        [
                          1998
                        ],
                        [
                          1998
                        ],
                        [
                          1998
                        ],
                        [
                          1998
                        ],
                        [
                          1998
                        ],
                        [
                          1998
                        ],
                        [
                          1998
                        ],
                        [
                          1998
                        ],
                        [
                          1998
                        ],
                        [
                          1998
                        ],
                        [
                          1998
                        ],
                        [
                          1998
                        ],
                        [
                          1998
                        ],
                        [
                          1998
                        ],
                        [
                          1998
                        ],
                        [
                          1998
                        ],
                        [
                          1998
                        ],
                        [
                          1998
                        ],
                        [
                          1998
                        ],
                        [
                          1998
                        ],
                        [
                          1998
                        ],
                        [
                          1998
                        ],
                        [
                          1998
                        ],
                        [
                          1998
                        ],
                        [
                          1998
                        ],
                        [
                          1998
                        ],
                        [
                          1998
                        ],
                        [
                          1998
                        ],
                        [
                          1998
                        ],
                        [
                          1998
                        ]
                      ],
                      "hovertemplate": "Yıl=%{customdata[0]}<br>Toplam Kasırga Sayısı=%{x}<extra></extra>",
                      "legendgroup": "",
                      "marker": {
                        "color": "#FFD700",
                        "pattern": {
                          "shape": ""
                        }
                      },
                      "name": "",
                      "offsetgroup": "",
                      "orientation": "h",
                      "showlegend": false,
                      "textposition": "auto",
                      "type": "bar",
                      "x": [
                        0,
                        1,
                        1,
                        7,
                        9,
                        27,
                        32,
                        53,
                        60,
                        75,
                        68,
                        69,
                        68,
                        85,
                        89,
                        98,
                        120,
                        136,
                        140,
                        175,
                        199,
                        281,
                        285,
                        287,
                        432,
                        491,
                        334,
                        549,
                        769,
                        468,
                        556,
                        693,
                        618,
                        734,
                        902,
                        956,
                        895,
                        975,
                        1245,
                        973,
                        997,
                        1194,
                        1342,
                        1248,
                        1032,
                        1153,
                        1395,
                        1526,
                        1845,
                        2394,
                        2555,
                        2368,
                        6164
                      ],
                      "xaxis": "x",
                      "y": [
                        "Virgin Islands",
                        "District of Columbia",
                        "Alaska",
                        "Rhode Island",
                        "Puerto Rico",
                        "Hawaii",
                        "Vermont",
                        "Delaware",
                        "Nevada",
                        "New Hampshire",
                        "Connecticut",
                        "Oregon",
                        "Washington",
                        "Maine",
                        "Utah",
                        "West Virginia",
                        "New Jersey",
                        "Massachusetts",
                        "Idaho",
                        "Arizona",
                        "Maryland",
                        "Montana",
                        "California",
                        "New York",
                        "New Mexico",
                        "Wyoming",
                        "Virginia",
                        "Pennsylvania",
                        "Michigan",
                        "Kentucky",
                        "South Carolina",
                        "Ohio",
                        "Tennessee",
                        "North Carolina",
                        "Wisconsin",
                        "Indiana",
                        "North Dakota",
                        "Georgia",
                        "South Dakota",
                        "Arkansas",
                        "Minnesota",
                        "Louisiana",
                        "Colorado",
                        "Missouri",
                        "Alabama",
                        "Mississippi",
                        "Illinois",
                        "Iowa",
                        "Nebraska",
                        "Florida",
                        "Oklahoma",
                        "Kansas",
                        "Texas"
                      ],
                      "yaxis": "y"
                    }
                  ],
                  "name": "1998"
                },
                {
                  "data": [
                    {
                      "alignmentgroup": "True",
                      "customdata": [
                        [
                          1999
                        ],
                        [
                          1999
                        ],
                        [
                          1999
                        ],
                        [
                          1999
                        ],
                        [
                          1999
                        ],
                        [
                          1999
                        ],
                        [
                          1999
                        ],
                        [
                          1999
                        ],
                        [
                          1999
                        ],
                        [
                          1999
                        ],
                        [
                          1999
                        ],
                        [
                          1999
                        ],
                        [
                          1999
                        ],
                        [
                          1999
                        ],
                        [
                          1999
                        ],
                        [
                          1999
                        ],
                        [
                          1999
                        ],
                        [
                          1999
                        ],
                        [
                          1999
                        ],
                        [
                          1999
                        ],
                        [
                          1999
                        ],
                        [
                          1999
                        ],
                        [
                          1999
                        ],
                        [
                          1999
                        ],
                        [
                          1999
                        ],
                        [
                          1999
                        ],
                        [
                          1999
                        ],
                        [
                          1999
                        ],
                        [
                          1999
                        ],
                        [
                          1999
                        ],
                        [
                          1999
                        ],
                        [
                          1999
                        ],
                        [
                          1999
                        ],
                        [
                          1999
                        ],
                        [
                          1999
                        ],
                        [
                          1999
                        ],
                        [
                          1999
                        ],
                        [
                          1999
                        ],
                        [
                          1999
                        ],
                        [
                          1999
                        ],
                        [
                          1999
                        ],
                        [
                          1999
                        ],
                        [
                          1999
                        ],
                        [
                          1999
                        ],
                        [
                          1999
                        ],
                        [
                          1999
                        ],
                        [
                          1999
                        ],
                        [
                          1999
                        ],
                        [
                          1999
                        ],
                        [
                          1999
                        ],
                        [
                          1999
                        ],
                        [
                          1999
                        ],
                        [
                          1999
                        ]
                      ],
                      "hovertemplate": "Yıl=%{customdata[0]}<br>Toplam Kasırga Sayısı=%{x}<extra></extra>",
                      "legendgroup": "",
                      "marker": {
                        "color": "#FFD700",
                        "pattern": {
                          "shape": ""
                        }
                      },
                      "name": "",
                      "offsetgroup": "",
                      "orientation": "h",
                      "showlegend": false,
                      "textposition": "auto",
                      "type": "bar",
                      "x": [
                        0,
                        1,
                        1,
                        7,
                        12,
                        27,
                        32,
                        53,
                        61,
                        77,
                        68,
                        70,
                        70,
                        86,
                        92,
                        99,
                        122,
                        136,
                        141,
                        180,
                        202,
                        303,
                        288,
                        288,
                        440,
                        511,
                        343,
                        558,
                        779,
                        474,
                        573,
                        711,
                        641,
                        771,
                        913,
                        966,
                        953,
                        986,
                        1286,
                        1076,
                        1033,
                        1256,
                        1383,
                        1288,
                        1055,
                        1196,
                        1457,
                        1584,
                        1947,
                        2454,
                        2696,
                        2432,
                        6329
                      ],
                      "xaxis": "x",
                      "y": [
                        "Virgin Islands",
                        "District of Columbia",
                        "Alaska",
                        "Rhode Island",
                        "Puerto Rico",
                        "Hawaii",
                        "Vermont",
                        "Delaware",
                        "Nevada",
                        "New Hampshire",
                        "Connecticut",
                        "Oregon",
                        "Washington",
                        "Maine",
                        "Utah",
                        "West Virginia",
                        "New Jersey",
                        "Massachusetts",
                        "Idaho",
                        "Arizona",
                        "Maryland",
                        "Montana",
                        "California",
                        "New York",
                        "New Mexico",
                        "Wyoming",
                        "Virginia",
                        "Pennsylvania",
                        "Michigan",
                        "Kentucky",
                        "South Carolina",
                        "Ohio",
                        "Tennessee",
                        "North Carolina",
                        "Wisconsin",
                        "Indiana",
                        "North Dakota",
                        "Georgia",
                        "South Dakota",
                        "Arkansas",
                        "Minnesota",
                        "Louisiana",
                        "Colorado",
                        "Missouri",
                        "Alabama",
                        "Mississippi",
                        "Illinois",
                        "Iowa",
                        "Nebraska",
                        "Florida",
                        "Oklahoma",
                        "Kansas",
                        "Texas"
                      ],
                      "yaxis": "y"
                    }
                  ],
                  "name": "1999"
                },
                {
                  "data": [
                    {
                      "alignmentgroup": "True",
                      "customdata": [
                        [
                          2000
                        ],
                        [
                          2000
                        ],
                        [
                          2000
                        ],
                        [
                          2000
                        ],
                        [
                          2000
                        ],
                        [
                          2000
                        ],
                        [
                          2000
                        ],
                        [
                          2000
                        ],
                        [
                          2000
                        ],
                        [
                          2000
                        ],
                        [
                          2000
                        ],
                        [
                          2000
                        ],
                        [
                          2000
                        ],
                        [
                          2000
                        ],
                        [
                          2000
                        ],
                        [
                          2000
                        ],
                        [
                          2000
                        ],
                        [
                          2000
                        ],
                        [
                          2000
                        ],
                        [
                          2000
                        ],
                        [
                          2000
                        ],
                        [
                          2000
                        ],
                        [
                          2000
                        ],
                        [
                          2000
                        ],
                        [
                          2000
                        ],
                        [
                          2000
                        ],
                        [
                          2000
                        ],
                        [
                          2000
                        ],
                        [
                          2000
                        ],
                        [
                          2000
                        ],
                        [
                          2000
                        ],
                        [
                          2000
                        ],
                        [
                          2000
                        ],
                        [
                          2000
                        ],
                        [
                          2000
                        ],
                        [
                          2000
                        ],
                        [
                          2000
                        ],
                        [
                          2000
                        ],
                        [
                          2000
                        ],
                        [
                          2000
                        ],
                        [
                          2000
                        ],
                        [
                          2000
                        ],
                        [
                          2000
                        ],
                        [
                          2000
                        ],
                        [
                          2000
                        ],
                        [
                          2000
                        ],
                        [
                          2000
                        ],
                        [
                          2000
                        ],
                        [
                          2000
                        ],
                        [
                          2000
                        ],
                        [
                          2000
                        ],
                        [
                          2000
                        ],
                        [
                          2000
                        ]
                      ],
                      "hovertemplate": "Yıl=%{customdata[0]}<br>Toplam Kasırga Sayısı=%{x}<extra></extra>",
                      "legendgroup": "",
                      "marker": {
                        "color": "#FFD700",
                        "pattern": {
                          "shape": ""
                        }
                      },
                      "name": "",
                      "offsetgroup": "",
                      "orientation": "h",
                      "showlegend": false,
                      "textposition": "auto",
                      "type": "bar",
                      "x": [
                        0,
                        1,
                        1,
                        8,
                        14,
                        27,
                        32,
                        53,
                        63,
                        77,
                        69,
                        73,
                        73,
                        88,
                        95,
                        102,
                        122,
                        137,
                        154,
                        180,
                        210,
                        313,
                        297,
                        293,
                        445,
                        516,
                        354,
                        563,
                        783,
                        497,
                        593,
                        736,
                        668,
                        794,
                        931,
                        979,
                        981,
                        1014,
                        1304,
                        1113,
                        1065,
                        1299,
                        1443,
                        1315,
                        1099,
                        1223,
                        1512,
                        1629,
                        2007,
                        2531,
                        2739,
                        2491,
                        6476
                      ],
                      "xaxis": "x",
                      "y": [
                        "Virgin Islands",
                        "District of Columbia",
                        "Alaska",
                        "Rhode Island",
                        "Puerto Rico",
                        "Hawaii",
                        "Vermont",
                        "Delaware",
                        "Nevada",
                        "New Hampshire",
                        "Connecticut",
                        "Oregon",
                        "Washington",
                        "Maine",
                        "Utah",
                        "West Virginia",
                        "New Jersey",
                        "Massachusetts",
                        "Idaho",
                        "Arizona",
                        "Maryland",
                        "Montana",
                        "California",
                        "New York",
                        "New Mexico",
                        "Wyoming",
                        "Virginia",
                        "Pennsylvania",
                        "Michigan",
                        "Kentucky",
                        "South Carolina",
                        "Ohio",
                        "Tennessee",
                        "North Carolina",
                        "Wisconsin",
                        "Indiana",
                        "North Dakota",
                        "Georgia",
                        "South Dakota",
                        "Arkansas",
                        "Minnesota",
                        "Louisiana",
                        "Colorado",
                        "Missouri",
                        "Alabama",
                        "Mississippi",
                        "Illinois",
                        "Iowa",
                        "Nebraska",
                        "Florida",
                        "Oklahoma",
                        "Kansas",
                        "Texas"
                      ],
                      "yaxis": "y"
                    }
                  ],
                  "name": "2000"
                },
                {
                  "data": [
                    {
                      "alignmentgroup": "True",
                      "customdata": [
                        [
                          2001
                        ],
                        [
                          2001
                        ],
                        [
                          2001
                        ],
                        [
                          2001
                        ],
                        [
                          2001
                        ],
                        [
                          2001
                        ],
                        [
                          2001
                        ],
                        [
                          2001
                        ],
                        [
                          2001
                        ],
                        [
                          2001
                        ],
                        [
                          2001
                        ],
                        [
                          2001
                        ],
                        [
                          2001
                        ],
                        [
                          2001
                        ],
                        [
                          2001
                        ],
                        [
                          2001
                        ],
                        [
                          2001
                        ],
                        [
                          2001
                        ],
                        [
                          2001
                        ],
                        [
                          2001
                        ],
                        [
                          2001
                        ],
                        [
                          2001
                        ],
                        [
                          2001
                        ],
                        [
                          2001
                        ],
                        [
                          2001
                        ],
                        [
                          2001
                        ],
                        [
                          2001
                        ],
                        [
                          2001
                        ],
                        [
                          2001
                        ],
                        [
                          2001
                        ],
                        [
                          2001
                        ],
                        [
                          2001
                        ],
                        [
                          2001
                        ],
                        [
                          2001
                        ],
                        [
                          2001
                        ],
                        [
                          2001
                        ],
                        [
                          2001
                        ],
                        [
                          2001
                        ],
                        [
                          2001
                        ],
                        [
                          2001
                        ],
                        [
                          2001
                        ],
                        [
                          2001
                        ],
                        [
                          2001
                        ],
                        [
                          2001
                        ],
                        [
                          2001
                        ],
                        [
                          2001
                        ],
                        [
                          2001
                        ],
                        [
                          2001
                        ],
                        [
                          2001
                        ],
                        [
                          2001
                        ],
                        [
                          2001
                        ],
                        [
                          2001
                        ],
                        [
                          2001
                        ]
                      ],
                      "hovertemplate": "Yıl=%{customdata[0]}<br>Toplam Kasırga Sayısı=%{x}<extra></extra>",
                      "legendgroup": "",
                      "marker": {
                        "color": "#FFD700",
                        "pattern": {
                          "shape": ""
                        }
                      },
                      "name": "",
                      "offsetgroup": "",
                      "orientation": "h",
                      "showlegend": false,
                      "textposition": "auto",
                      "type": "bar",
                      "x": [
                        0,
                        1,
                        1,
                        8,
                        15,
                        27,
                        32,
                        53,
                        63,
                        77,
                        73,
                        77,
                        75,
                        90,
                        100,
                        103,
                        124,
                        139,
                        156,
                        183,
                        220,
                        322,
                        304,
                        296,
                        450,
                        532,
                        367,
                        575,
                        817,
                        503,
                        607,
                        744,
                        682,
                        807,
                        943,
                        1002,
                        1028,
                        1026,
                        1335,
                        1152,
                        1138,
                        1331,
                        1489,
                        1354,
                        1154,
                        1282,
                        1533,
                        1733,
                        2069,
                        2601,
                        2799,
                        2592,
                        6613
                      ],
                      "xaxis": "x",
                      "y": [
                        "Virgin Islands",
                        "District of Columbia",
                        "Alaska",
                        "Rhode Island",
                        "Puerto Rico",
                        "Hawaii",
                        "Vermont",
                        "Delaware",
                        "Nevada",
                        "New Hampshire",
                        "Connecticut",
                        "Oregon",
                        "Washington",
                        "Maine",
                        "Utah",
                        "West Virginia",
                        "New Jersey",
                        "Massachusetts",
                        "Idaho",
                        "Arizona",
                        "Maryland",
                        "Montana",
                        "California",
                        "New York",
                        "New Mexico",
                        "Wyoming",
                        "Virginia",
                        "Pennsylvania",
                        "Michigan",
                        "Kentucky",
                        "South Carolina",
                        "Ohio",
                        "Tennessee",
                        "North Carolina",
                        "Wisconsin",
                        "Indiana",
                        "North Dakota",
                        "Georgia",
                        "South Dakota",
                        "Arkansas",
                        "Minnesota",
                        "Louisiana",
                        "Colorado",
                        "Missouri",
                        "Alabama",
                        "Mississippi",
                        "Illinois",
                        "Iowa",
                        "Nebraska",
                        "Florida",
                        "Oklahoma",
                        "Kansas",
                        "Texas"
                      ],
                      "yaxis": "y"
                    }
                  ],
                  "name": "2001"
                },
                {
                  "data": [
                    {
                      "alignmentgroup": "True",
                      "customdata": [
                        [
                          2002
                        ],
                        [
                          2002
                        ],
                        [
                          2002
                        ],
                        [
                          2002
                        ],
                        [
                          2002
                        ],
                        [
                          2002
                        ],
                        [
                          2002
                        ],
                        [
                          2002
                        ],
                        [
                          2002
                        ],
                        [
                          2002
                        ],
                        [
                          2002
                        ],
                        [
                          2002
                        ],
                        [
                          2002
                        ],
                        [
                          2002
                        ],
                        [
                          2002
                        ],
                        [
                          2002
                        ],
                        [
                          2002
                        ],
                        [
                          2002
                        ],
                        [
                          2002
                        ],
                        [
                          2002
                        ],
                        [
                          2002
                        ],
                        [
                          2002
                        ],
                        [
                          2002
                        ],
                        [
                          2002
                        ],
                        [
                          2002
                        ],
                        [
                          2002
                        ],
                        [
                          2002
                        ],
                        [
                          2002
                        ],
                        [
                          2002
                        ],
                        [
                          2002
                        ],
                        [
                          2002
                        ],
                        [
                          2002
                        ],
                        [
                          2002
                        ],
                        [
                          2002
                        ],
                        [
                          2002
                        ],
                        [
                          2002
                        ],
                        [
                          2002
                        ],
                        [
                          2002
                        ],
                        [
                          2002
                        ],
                        [
                          2002
                        ],
                        [
                          2002
                        ],
                        [
                          2002
                        ],
                        [
                          2002
                        ],
                        [
                          2002
                        ],
                        [
                          2002
                        ],
                        [
                          2002
                        ],
                        [
                          2002
                        ],
                        [
                          2002
                        ],
                        [
                          2002
                        ],
                        [
                          2002
                        ],
                        [
                          2002
                        ],
                        [
                          2002
                        ],
                        [
                          2002
                        ]
                      ],
                      "hovertemplate": "Yıl=%{customdata[0]}<br>Toplam Kasırga Sayısı=%{x}<extra></extra>",
                      "legendgroup": "",
                      "marker": {
                        "color": "#FFD700",
                        "pattern": {
                          "shape": ""
                        }
                      },
                      "name": "",
                      "offsetgroup": "",
                      "orientation": "h",
                      "showlegend": false,
                      "textposition": "auto",
                      "type": "bar",
                      "x": [
                        0,
                        1,
                        1,
                        8,
                        16,
                        28,
                        34,
                        53,
                        64,
                        77,
                        77,
                        79,
                        75,
                        93,
                        104,
                        104,
                        124,
                        140,
                        159,
                        183,
                        234,
                        333,
                        307,
                        310,
                        453,
                        540,
                        374,
                        590,
                        828,
                        517,
                        619,
                        768,
                        712,
                        818,
                        969,
                        1017,
                        1045,
                        1049,
                        1347,
                        1185,
                        1172,
                        1364,
                        1514,
                        1382,
                        1188,
                        1311,
                        1570,
                        1764,
                        2096,
                        2644,
                        2816,
                        2688,
                        6787
                      ],
                      "xaxis": "x",
                      "y": [
                        "Virgin Islands",
                        "District of Columbia",
                        "Alaska",
                        "Rhode Island",
                        "Puerto Rico",
                        "Hawaii",
                        "Vermont",
                        "Delaware",
                        "Nevada",
                        "New Hampshire",
                        "Connecticut",
                        "Oregon",
                        "Washington",
                        "Maine",
                        "Utah",
                        "West Virginia",
                        "New Jersey",
                        "Massachusetts",
                        "Idaho",
                        "Arizona",
                        "Maryland",
                        "Montana",
                        "California",
                        "New York",
                        "New Mexico",
                        "Wyoming",
                        "Virginia",
                        "Pennsylvania",
                        "Michigan",
                        "Kentucky",
                        "South Carolina",
                        "Ohio",
                        "Tennessee",
                        "North Carolina",
                        "Wisconsin",
                        "Indiana",
                        "North Dakota",
                        "Georgia",
                        "South Dakota",
                        "Arkansas",
                        "Minnesota",
                        "Louisiana",
                        "Colorado",
                        "Missouri",
                        "Alabama",
                        "Mississippi",
                        "Illinois",
                        "Iowa",
                        "Nebraska",
                        "Florida",
                        "Oklahoma",
                        "Kansas",
                        "Texas"
                      ],
                      "yaxis": "y"
                    }
                  ],
                  "name": "2002"
                },
                {
                  "data": [
                    {
                      "alignmentgroup": "True",
                      "customdata": [
                        [
                          2003
                        ],
                        [
                          2003
                        ],
                        [
                          2003
                        ],
                        [
                          2003
                        ],
                        [
                          2003
                        ],
                        [
                          2003
                        ],
                        [
                          2003
                        ],
                        [
                          2003
                        ],
                        [
                          2003
                        ],
                        [
                          2003
                        ],
                        [
                          2003
                        ],
                        [
                          2003
                        ],
                        [
                          2003
                        ],
                        [
                          2003
                        ],
                        [
                          2003
                        ],
                        [
                          2003
                        ],
                        [
                          2003
                        ],
                        [
                          2003
                        ],
                        [
                          2003
                        ],
                        [
                          2003
                        ],
                        [
                          2003
                        ],
                        [
                          2003
                        ],
                        [
                          2003
                        ],
                        [
                          2003
                        ],
                        [
                          2003
                        ],
                        [
                          2003
                        ],
                        [
                          2003
                        ],
                        [
                          2003
                        ],
                        [
                          2003
                        ],
                        [
                          2003
                        ],
                        [
                          2003
                        ],
                        [
                          2003
                        ],
                        [
                          2003
                        ],
                        [
                          2003
                        ],
                        [
                          2003
                        ],
                        [
                          2003
                        ],
                        [
                          2003
                        ],
                        [
                          2003
                        ],
                        [
                          2003
                        ],
                        [
                          2003
                        ],
                        [
                          2003
                        ],
                        [
                          2003
                        ],
                        [
                          2003
                        ],
                        [
                          2003
                        ],
                        [
                          2003
                        ],
                        [
                          2003
                        ],
                        [
                          2003
                        ],
                        [
                          2003
                        ],
                        [
                          2003
                        ],
                        [
                          2003
                        ],
                        [
                          2003
                        ],
                        [
                          2003
                        ],
                        [
                          2003
                        ]
                      ],
                      "hovertemplate": "Yıl=%{customdata[0]}<br>Toplam Kasırga Sayısı=%{x}<extra></extra>",
                      "legendgroup": "",
                      "marker": {
                        "color": "#FFD700",
                        "pattern": {
                          "shape": ""
                        }
                      },
                      "name": "",
                      "offsetgroup": "",
                      "orientation": "h",
                      "showlegend": false,
                      "textposition": "auto",
                      "type": "bar",
                      "x": [
                        0,
                        1,
                        1,
                        8,
                        16,
                        28,
                        36,
                        53,
                        67,
                        77,
                        77,
                        81,
                        77,
                        93,
                        105,
                        106,
                        131,
                        140,
                        163,
                        192,
                        243,
                        339,
                        307,
                        328,
                        460,
                        544,
                        405,
                        599,
                        841,
                        549,
                        637,
                        781,
                        757,
                        854,
                        983,
                        1042,
                        1076,
                        1076,
                        1428,
                        1246,
                        1218,
                        1384,
                        1543,
                        1462,
                        1230,
                        1361,
                        1689,
                        1792,
                        2177,
                        2688,
                        2892,
                        2780,
                        6942
                      ],
                      "xaxis": "x",
                      "y": [
                        "Virgin Islands",
                        "District of Columbia",
                        "Alaska",
                        "Rhode Island",
                        "Puerto Rico",
                        "Hawaii",
                        "Vermont",
                        "Delaware",
                        "Nevada",
                        "New Hampshire",
                        "Connecticut",
                        "Oregon",
                        "Washington",
                        "Maine",
                        "Utah",
                        "West Virginia",
                        "New Jersey",
                        "Massachusetts",
                        "Idaho",
                        "Arizona",
                        "Maryland",
                        "Montana",
                        "California",
                        "New York",
                        "New Mexico",
                        "Wyoming",
                        "Virginia",
                        "Pennsylvania",
                        "Michigan",
                        "Kentucky",
                        "South Carolina",
                        "Ohio",
                        "Tennessee",
                        "North Carolina",
                        "Wisconsin",
                        "Indiana",
                        "North Dakota",
                        "Georgia",
                        "South Dakota",
                        "Arkansas",
                        "Minnesota",
                        "Louisiana",
                        "Colorado",
                        "Missouri",
                        "Alabama",
                        "Mississippi",
                        "Illinois",
                        "Iowa",
                        "Nebraska",
                        "Florida",
                        "Oklahoma",
                        "Kansas",
                        "Texas"
                      ],
                      "yaxis": "y"
                    }
                  ],
                  "name": "2003"
                },
                {
                  "data": [
                    {
                      "alignmentgroup": "True",
                      "customdata": [
                        [
                          2004
                        ],
                        [
                          2004
                        ],
                        [
                          2004
                        ],
                        [
                          2004
                        ],
                        [
                          2004
                        ],
                        [
                          2004
                        ],
                        [
                          2004
                        ],
                        [
                          2004
                        ],
                        [
                          2004
                        ],
                        [
                          2004
                        ],
                        [
                          2004
                        ],
                        [
                          2004
                        ],
                        [
                          2004
                        ],
                        [
                          2004
                        ],
                        [
                          2004
                        ],
                        [
                          2004
                        ],
                        [
                          2004
                        ],
                        [
                          2004
                        ],
                        [
                          2004
                        ],
                        [
                          2004
                        ],
                        [
                          2004
                        ],
                        [
                          2004
                        ],
                        [
                          2004
                        ],
                        [
                          2004
                        ],
                        [
                          2004
                        ],
                        [
                          2004
                        ],
                        [
                          2004
                        ],
                        [
                          2004
                        ],
                        [
                          2004
                        ],
                        [
                          2004
                        ],
                        [
                          2004
                        ],
                        [
                          2004
                        ],
                        [
                          2004
                        ],
                        [
                          2004
                        ],
                        [
                          2004
                        ],
                        [
                          2004
                        ],
                        [
                          2004
                        ],
                        [
                          2004
                        ],
                        [
                          2004
                        ],
                        [
                          2004
                        ],
                        [
                          2004
                        ],
                        [
                          2004
                        ],
                        [
                          2004
                        ],
                        [
                          2004
                        ],
                        [
                          2004
                        ],
                        [
                          2004
                        ],
                        [
                          2004
                        ],
                        [
                          2004
                        ],
                        [
                          2004
                        ],
                        [
                          2004
                        ],
                        [
                          2004
                        ],
                        [
                          2004
                        ],
                        [
                          2004
                        ]
                      ],
                      "hovertemplate": "Yıl=%{customdata[0]}<br>Toplam Kasırga Sayısı=%{x}<extra></extra>",
                      "legendgroup": "",
                      "marker": {
                        "color": "#FFD700",
                        "pattern": {
                          "shape": ""
                        }
                      },
                      "name": "",
                      "offsetgroup": "",
                      "orientation": "h",
                      "showlegend": false,
                      "textposition": "auto",
                      "type": "bar",
                      "x": [
                        0,
                        1,
                        3,
                        8,
                        17,
                        31,
                        36,
                        55,
                        72,
                        78,
                        77,
                        87,
                        86,
                        94,
                        105,
                        110,
                        133,
                        142,
                        168,
                        195,
                        261,
                        345,
                        317,
                        336,
                        471,
                        550,
                        488,
                        625,
                        864,
                        571,
                        722,
                        789,
                        772,
                        920,
                        1019,
                        1089,
                        1122,
                        1120,
                        1463,
                        1294,
                        1275,
                        1412,
                        1627,
                        1533,
                        1285,
                        1415,
                        1769,
                        1912,
                        2288,
                        2792,
                        2954,
                        2904,
                        7120
                      ],
                      "xaxis": "x",
                      "y": [
                        "Virgin Islands",
                        "District of Columbia",
                        "Alaska",
                        "Rhode Island",
                        "Puerto Rico",
                        "Hawaii",
                        "Vermont",
                        "Delaware",
                        "Nevada",
                        "New Hampshire",
                        "Connecticut",
                        "Oregon",
                        "Washington",
                        "Maine",
                        "Utah",
                        "West Virginia",
                        "New Jersey",
                        "Massachusetts",
                        "Idaho",
                        "Arizona",
                        "Maryland",
                        "Montana",
                        "California",
                        "New York",
                        "New Mexico",
                        "Wyoming",
                        "Virginia",
                        "Pennsylvania",
                        "Michigan",
                        "Kentucky",
                        "South Carolina",
                        "Ohio",
                        "Tennessee",
                        "North Carolina",
                        "Wisconsin",
                        "Indiana",
                        "North Dakota",
                        "Georgia",
                        "South Dakota",
                        "Arkansas",
                        "Minnesota",
                        "Louisiana",
                        "Colorado",
                        "Missouri",
                        "Alabama",
                        "Mississippi",
                        "Illinois",
                        "Iowa",
                        "Nebraska",
                        "Florida",
                        "Oklahoma",
                        "Kansas",
                        "Texas"
                      ],
                      "yaxis": "y"
                    }
                  ],
                  "name": "2004"
                },
                {
                  "data": [
                    {
                      "alignmentgroup": "True",
                      "customdata": [
                        [
                          2005
                        ],
                        [
                          2005
                        ],
                        [
                          2005
                        ],
                        [
                          2005
                        ],
                        [
                          2005
                        ],
                        [
                          2005
                        ],
                        [
                          2005
                        ],
                        [
                          2005
                        ],
                        [
                          2005
                        ],
                        [
                          2005
                        ],
                        [
                          2005
                        ],
                        [
                          2005
                        ],
                        [
                          2005
                        ],
                        [
                          2005
                        ],
                        [
                          2005
                        ],
                        [
                          2005
                        ],
                        [
                          2005
                        ],
                        [
                          2005
                        ],
                        [
                          2005
                        ],
                        [
                          2005
                        ],
                        [
                          2005
                        ],
                        [
                          2005
                        ],
                        [
                          2005
                        ],
                        [
                          2005
                        ],
                        [
                          2005
                        ],
                        [
                          2005
                        ],
                        [
                          2005
                        ],
                        [
                          2005
                        ],
                        [
                          2005
                        ],
                        [
                          2005
                        ],
                        [
                          2005
                        ],
                        [
                          2005
                        ],
                        [
                          2005
                        ],
                        [
                          2005
                        ],
                        [
                          2005
                        ],
                        [
                          2005
                        ],
                        [
                          2005
                        ],
                        [
                          2005
                        ],
                        [
                          2005
                        ],
                        [
                          2005
                        ],
                        [
                          2005
                        ],
                        [
                          2005
                        ],
                        [
                          2005
                        ],
                        [
                          2005
                        ],
                        [
                          2005
                        ],
                        [
                          2005
                        ],
                        [
                          2005
                        ],
                        [
                          2005
                        ],
                        [
                          2005
                        ],
                        [
                          2005
                        ],
                        [
                          2005
                        ],
                        [
                          2005
                        ],
                        [
                          2005
                        ]
                      ],
                      "hovertemplate": "Yıl=%{customdata[0]}<br>Toplam Kasırga Sayısı=%{x}<extra></extra>",
                      "legendgroup": "",
                      "marker": {
                        "color": "#FFD700",
                        "pattern": {
                          "shape": ""
                        }
                      },
                      "name": "",
                      "offsetgroup": "",
                      "orientation": "h",
                      "showlegend": false,
                      "textposition": "auto",
                      "type": "bar",
                      "x": [
                        0,
                        1,
                        4,
                        8,
                        18,
                        33,
                        36,
                        55,
                        73,
                        78,
                        77,
                        88,
                        90,
                        96,
                        109,
                        110,
                        133,
                        143,
                        174,
                        203,
                        261,
                        355,
                        347,
                        340,
                        478,
                        556,
                        512,
                        636,
                        869,
                        588,
                        736,
                        793,
                        795,
                        943,
                        1082,
                        1103,
                        1175,
                        1174,
                        1482,
                        1363,
                        1346,
                        1435,
                        1661,
                        1572,
                        1366,
                        1520,
                        1790,
                        1956,
                        2328,
                        2848,
                        2981,
                        3040,
                        7225
                      ],
                      "xaxis": "x",
                      "y": [
                        "Virgin Islands",
                        "District of Columbia",
                        "Alaska",
                        "Rhode Island",
                        "Puerto Rico",
                        "Hawaii",
                        "Vermont",
                        "Delaware",
                        "Nevada",
                        "New Hampshire",
                        "Connecticut",
                        "Oregon",
                        "Washington",
                        "Maine",
                        "Utah",
                        "West Virginia",
                        "New Jersey",
                        "Massachusetts",
                        "Idaho",
                        "Arizona",
                        "Maryland",
                        "Montana",
                        "California",
                        "New York",
                        "New Mexico",
                        "Wyoming",
                        "Virginia",
                        "Pennsylvania",
                        "Michigan",
                        "Kentucky",
                        "South Carolina",
                        "Ohio",
                        "Tennessee",
                        "North Carolina",
                        "Wisconsin",
                        "Indiana",
                        "North Dakota",
                        "Georgia",
                        "South Dakota",
                        "Arkansas",
                        "Minnesota",
                        "Louisiana",
                        "Colorado",
                        "Missouri",
                        "Alabama",
                        "Mississippi",
                        "Illinois",
                        "Iowa",
                        "Nebraska",
                        "Florida",
                        "Oklahoma",
                        "Kansas",
                        "Texas"
                      ],
                      "yaxis": "y"
                    }
                  ],
                  "name": "2005"
                },
                {
                  "data": [
                    {
                      "alignmentgroup": "True",
                      "customdata": [
                        [
                          2006
                        ],
                        [
                          2006
                        ],
                        [
                          2006
                        ],
                        [
                          2006
                        ],
                        [
                          2006
                        ],
                        [
                          2006
                        ],
                        [
                          2006
                        ],
                        [
                          2006
                        ],
                        [
                          2006
                        ],
                        [
                          2006
                        ],
                        [
                          2006
                        ],
                        [
                          2006
                        ],
                        [
                          2006
                        ],
                        [
                          2006
                        ],
                        [
                          2006
                        ],
                        [
                          2006
                        ],
                        [
                          2006
                        ],
                        [
                          2006
                        ],
                        [
                          2006
                        ],
                        [
                          2006
                        ],
                        [
                          2006
                        ],
                        [
                          2006
                        ],
                        [
                          2006
                        ],
                        [
                          2006
                        ],
                        [
                          2006
                        ],
                        [
                          2006
                        ],
                        [
                          2006
                        ],
                        [
                          2006
                        ],
                        [
                          2006
                        ],
                        [
                          2006
                        ],
                        [
                          2006
                        ],
                        [
                          2006
                        ],
                        [
                          2006
                        ],
                        [
                          2006
                        ],
                        [
                          2006
                        ],
                        [
                          2006
                        ],
                        [
                          2006
                        ],
                        [
                          2006
                        ],
                        [
                          2006
                        ],
                        [
                          2006
                        ],
                        [
                          2006
                        ],
                        [
                          2006
                        ],
                        [
                          2006
                        ],
                        [
                          2006
                        ],
                        [
                          2006
                        ],
                        [
                          2006
                        ],
                        [
                          2006
                        ],
                        [
                          2006
                        ],
                        [
                          2006
                        ],
                        [
                          2006
                        ],
                        [
                          2006
                        ],
                        [
                          2006
                        ],
                        [
                          2006
                        ]
                      ],
                      "hovertemplate": "Yıl=%{customdata[0]}<br>Toplam Kasırga Sayısı=%{x}<extra></extra>",
                      "legendgroup": "",
                      "marker": {
                        "color": "#FFD700",
                        "pattern": {
                          "shape": ""
                        }
                      },
                      "name": "",
                      "offsetgroup": "",
                      "orientation": "h",
                      "showlegend": false,
                      "textposition": "auto",
                      "type": "bar",
                      "x": [
                        0,
                        1,
                        4,
                        8,
                        19,
                        35,
                        36,
                        55,
                        74,
                        80,
                        77,
                        92,
                        92,
                        97,
                        111,
                        110,
                        134,
                        144,
                        183,
                        209,
                        264,
                        356,
                        356,
                        347,
                        483,
                        557,
                        528,
                        644,
                        879,
                        607,
                        772,
                        829,
                        820,
                        974,
                        1095,
                        1128,
                        1196,
                        1195,
                        1509,
                        1386,
                        1371,
                        1476,
                        1681,
                        1668,
                        1435,
                        1551,
                        1909,
                        1994,
                        2349,
                        2890,
                        3008,
                        3130,
                        7340
                      ],
                      "xaxis": "x",
                      "y": [
                        "Virgin Islands",
                        "District of Columbia",
                        "Alaska",
                        "Rhode Island",
                        "Puerto Rico",
                        "Hawaii",
                        "Vermont",
                        "Delaware",
                        "Nevada",
                        "New Hampshire",
                        "Connecticut",
                        "Oregon",
                        "Washington",
                        "Maine",
                        "Utah",
                        "West Virginia",
                        "New Jersey",
                        "Massachusetts",
                        "Idaho",
                        "Arizona",
                        "Maryland",
                        "Montana",
                        "California",
                        "New York",
                        "New Mexico",
                        "Wyoming",
                        "Virginia",
                        "Pennsylvania",
                        "Michigan",
                        "Kentucky",
                        "South Carolina",
                        "Ohio",
                        "Tennessee",
                        "North Carolina",
                        "Wisconsin",
                        "Indiana",
                        "North Dakota",
                        "Georgia",
                        "South Dakota",
                        "Arkansas",
                        "Minnesota",
                        "Louisiana",
                        "Colorado",
                        "Missouri",
                        "Alabama",
                        "Mississippi",
                        "Illinois",
                        "Iowa",
                        "Nebraska",
                        "Florida",
                        "Oklahoma",
                        "Kansas",
                        "Texas"
                      ],
                      "yaxis": "y"
                    }
                  ],
                  "name": "2006"
                },
                {
                  "data": [
                    {
                      "alignmentgroup": "True",
                      "customdata": [
                        [
                          2007
                        ],
                        [
                          2007
                        ],
                        [
                          2007
                        ],
                        [
                          2007
                        ],
                        [
                          2007
                        ],
                        [
                          2007
                        ],
                        [
                          2007
                        ],
                        [
                          2007
                        ],
                        [
                          2007
                        ],
                        [
                          2007
                        ],
                        [
                          2007
                        ],
                        [
                          2007
                        ],
                        [
                          2007
                        ],
                        [
                          2007
                        ],
                        [
                          2007
                        ],
                        [
                          2007
                        ],
                        [
                          2007
                        ],
                        [
                          2007
                        ],
                        [
                          2007
                        ],
                        [
                          2007
                        ],
                        [
                          2007
                        ],
                        [
                          2007
                        ],
                        [
                          2007
                        ],
                        [
                          2007
                        ],
                        [
                          2007
                        ],
                        [
                          2007
                        ],
                        [
                          2007
                        ],
                        [
                          2007
                        ],
                        [
                          2007
                        ],
                        [
                          2007
                        ],
                        [
                          2007
                        ],
                        [
                          2007
                        ],
                        [
                          2007
                        ],
                        [
                          2007
                        ],
                        [
                          2007
                        ],
                        [
                          2007
                        ],
                        [
                          2007
                        ],
                        [
                          2007
                        ],
                        [
                          2007
                        ],
                        [
                          2007
                        ],
                        [
                          2007
                        ],
                        [
                          2007
                        ],
                        [
                          2007
                        ],
                        [
                          2007
                        ],
                        [
                          2007
                        ],
                        [
                          2007
                        ],
                        [
                          2007
                        ],
                        [
                          2007
                        ],
                        [
                          2007
                        ],
                        [
                          2007
                        ],
                        [
                          2007
                        ],
                        [
                          2007
                        ],
                        [
                          2007
                        ]
                      ],
                      "hovertemplate": "Yıl=%{customdata[0]}<br>Toplam Kasırga Sayısı=%{x}<extra></extra>",
                      "legendgroup": "",
                      "marker": {
                        "color": "#FFD700",
                        "pattern": {
                          "shape": ""
                        }
                      },
                      "name": "",
                      "offsetgroup": "",
                      "orientation": "h",
                      "showlegend": false,
                      "textposition": "auto",
                      "type": "bar",
                      "x": [
                        0,
                        1,
                        4,
                        8,
                        20,
                        35,
                        36,
                        55,
                        74,
                        80,
                        79,
                        94,
                        92,
                        98,
                        112,
                        111,
                        134,
                        145,
                        186,
                        209,
                        266,
                        361,
                        362,
                        350,
                        505,
                        562,
                        530,
                        651,
                        902,
                        637,
                        790,
                        841,
                        830,
                        987,
                        1113,
                        1146,
                        1234,
                        1235,
                        1550,
                        1401,
                        1388,
                        1499,
                        1736,
                        1710,
                        1475,
                        1584,
                        1931,
                        2036,
                        2394,
                        2939,
                        3057,
                        3270,
                        7538
                      ],
                      "xaxis": "x",
                      "y": [
                        "Virgin Islands",
                        "District of Columbia",
                        "Alaska",
                        "Rhode Island",
                        "Puerto Rico",
                        "Hawaii",
                        "Vermont",
                        "Delaware",
                        "Nevada",
                        "New Hampshire",
                        "Connecticut",
                        "Oregon",
                        "Washington",
                        "Maine",
                        "Utah",
                        "West Virginia",
                        "New Jersey",
                        "Massachusetts",
                        "Idaho",
                        "Arizona",
                        "Maryland",
                        "Montana",
                        "California",
                        "New York",
                        "New Mexico",
                        "Wyoming",
                        "Virginia",
                        "Pennsylvania",
                        "Michigan",
                        "Kentucky",
                        "South Carolina",
                        "Ohio",
                        "Tennessee",
                        "North Carolina",
                        "Wisconsin",
                        "Indiana",
                        "North Dakota",
                        "Georgia",
                        "South Dakota",
                        "Arkansas",
                        "Minnesota",
                        "Louisiana",
                        "Colorado",
                        "Missouri",
                        "Alabama",
                        "Mississippi",
                        "Illinois",
                        "Iowa",
                        "Nebraska",
                        "Florida",
                        "Oklahoma",
                        "Kansas",
                        "Texas"
                      ],
                      "yaxis": "y"
                    }
                  ],
                  "name": "2007"
                },
                {
                  "data": [
                    {
                      "alignmentgroup": "True",
                      "customdata": [
                        [
                          2008
                        ],
                        [
                          2008
                        ],
                        [
                          2008
                        ],
                        [
                          2008
                        ],
                        [
                          2008
                        ],
                        [
                          2008
                        ],
                        [
                          2008
                        ],
                        [
                          2008
                        ],
                        [
                          2008
                        ],
                        [
                          2008
                        ],
                        [
                          2008
                        ],
                        [
                          2008
                        ],
                        [
                          2008
                        ],
                        [
                          2008
                        ],
                        [
                          2008
                        ],
                        [
                          2008
                        ],
                        [
                          2008
                        ],
                        [
                          2008
                        ],
                        [
                          2008
                        ],
                        [
                          2008
                        ],
                        [
                          2008
                        ],
                        [
                          2008
                        ],
                        [
                          2008
                        ],
                        [
                          2008
                        ],
                        [
                          2008
                        ],
                        [
                          2008
                        ],
                        [
                          2008
                        ],
                        [
                          2008
                        ],
                        [
                          2008
                        ],
                        [
                          2008
                        ],
                        [
                          2008
                        ],
                        [
                          2008
                        ],
                        [
                          2008
                        ],
                        [
                          2008
                        ],
                        [
                          2008
                        ],
                        [
                          2008
                        ],
                        [
                          2008
                        ],
                        [
                          2008
                        ],
                        [
                          2008
                        ],
                        [
                          2008
                        ],
                        [
                          2008
                        ],
                        [
                          2008
                        ],
                        [
                          2008
                        ],
                        [
                          2008
                        ],
                        [
                          2008
                        ],
                        [
                          2008
                        ],
                        [
                          2008
                        ],
                        [
                          2008
                        ],
                        [
                          2008
                        ],
                        [
                          2008
                        ],
                        [
                          2008
                        ],
                        [
                          2008
                        ],
                        [
                          2008
                        ]
                      ],
                      "hovertemplate": "Yıl=%{customdata[0]}<br>Toplam Kasırga Sayısı=%{x}<extra></extra>",
                      "legendgroup": "",
                      "marker": {
                        "color": "#FFD700",
                        "pattern": {
                          "shape": ""
                        }
                      },
                      "name": "",
                      "offsetgroup": "",
                      "orientation": "h",
                      "showlegend": false,
                      "textposition": "auto",
                      "type": "bar",
                      "x": [
                        0,
                        1,
                        4,
                        9,
                        20,
                        37,
                        38,
                        55,
                        74,
                        81,
                        79,
                        94,
                        95,
                        98,
                        112,
                        113,
                        134,
                        145,
                        188,
                        212,
                        273,
                        363,
                        369,
                        352,
                        516,
                        580,
                        569,
                        656,
                        916,
                        672,
                        846,
                        853,
                        872,
                        1042,
                        1151,
                        1176,
                        1266,
                        1297,
                        1576,
                        1481,
                        1430,
                        1578,
                        1775,
                        1801,
                        1568,
                        1693,
                        1979,
                        2140,
                        2451,
                        2995,
                        3134,
                        3455,
                        7658
                      ],
                      "xaxis": "x",
                      "y": [
                        "Virgin Islands",
                        "District of Columbia",
                        "Alaska",
                        "Rhode Island",
                        "Puerto Rico",
                        "Hawaii",
                        "Vermont",
                        "Delaware",
                        "Nevada",
                        "New Hampshire",
                        "Connecticut",
                        "Oregon",
                        "Washington",
                        "Maine",
                        "Utah",
                        "West Virginia",
                        "New Jersey",
                        "Massachusetts",
                        "Idaho",
                        "Arizona",
                        "Maryland",
                        "Montana",
                        "California",
                        "New York",
                        "New Mexico",
                        "Wyoming",
                        "Virginia",
                        "Pennsylvania",
                        "Michigan",
                        "Kentucky",
                        "South Carolina",
                        "Ohio",
                        "Tennessee",
                        "North Carolina",
                        "Wisconsin",
                        "Indiana",
                        "North Dakota",
                        "Georgia",
                        "South Dakota",
                        "Arkansas",
                        "Minnesota",
                        "Louisiana",
                        "Colorado",
                        "Missouri",
                        "Alabama",
                        "Mississippi",
                        "Illinois",
                        "Iowa",
                        "Nebraska",
                        "Florida",
                        "Oklahoma",
                        "Kansas",
                        "Texas"
                      ],
                      "yaxis": "y"
                    }
                  ],
                  "name": "2008"
                },
                {
                  "data": [
                    {
                      "alignmentgroup": "True",
                      "customdata": [
                        [
                          2009
                        ],
                        [
                          2009
                        ],
                        [
                          2009
                        ],
                        [
                          2009
                        ],
                        [
                          2009
                        ],
                        [
                          2009
                        ],
                        [
                          2009
                        ],
                        [
                          2009
                        ],
                        [
                          2009
                        ],
                        [
                          2009
                        ],
                        [
                          2009
                        ],
                        [
                          2009
                        ],
                        [
                          2009
                        ],
                        [
                          2009
                        ],
                        [
                          2009
                        ],
                        [
                          2009
                        ],
                        [
                          2009
                        ],
                        [
                          2009
                        ],
                        [
                          2009
                        ],
                        [
                          2009
                        ],
                        [
                          2009
                        ],
                        [
                          2009
                        ],
                        [
                          2009
                        ],
                        [
                          2009
                        ],
                        [
                          2009
                        ],
                        [
                          2009
                        ],
                        [
                          2009
                        ],
                        [
                          2009
                        ],
                        [
                          2009
                        ],
                        [
                          2009
                        ],
                        [
                          2009
                        ],
                        [
                          2009
                        ],
                        [
                          2009
                        ],
                        [
                          2009
                        ],
                        [
                          2009
                        ],
                        [
                          2009
                        ],
                        [
                          2009
                        ],
                        [
                          2009
                        ],
                        [
                          2009
                        ],
                        [
                          2009
                        ],
                        [
                          2009
                        ],
                        [
                          2009
                        ],
                        [
                          2009
                        ],
                        [
                          2009
                        ],
                        [
                          2009
                        ],
                        [
                          2009
                        ],
                        [
                          2009
                        ],
                        [
                          2009
                        ],
                        [
                          2009
                        ],
                        [
                          2009
                        ],
                        [
                          2009
                        ],
                        [
                          2009
                        ],
                        [
                          2009
                        ]
                      ],
                      "hovertemplate": "Yıl=%{customdata[0]}<br>Toplam Kasırga Sayısı=%{x}<extra></extra>",
                      "legendgroup": "",
                      "marker": {
                        "color": "#FFD700",
                        "pattern": {
                          "shape": ""
                        }
                      },
                      "name": "",
                      "offsetgroup": "",
                      "orientation": "h",
                      "showlegend": false,
                      "textposition": "auto",
                      "type": "bar",
                      "x": [
                        0,
                        1,
                        4,
                        9,
                        21,
                        38,
                        40,
                        55,
                        76,
                        81,
                        82,
                        98,
                        101,
                        105,
                        116,
                        113,
                        135,
                        145,
                        190,
                        216,
                        283,
                        367,
                        371,
                        361,
                        520,
                        591,
                        585,
                        663,
                        919,
                        704,
                        865,
                        866,
                        918,
                        1075,
                        1167,
                        1185,
                        1296,
                        1351,
                        1610,
                        1523,
                        1454,
                        1653,
                        1817,
                        1845,
                        1647,
                        1737,
                        2031,
                        2165,
                        2489,
                        3032,
                        3167,
                        3558,
                        7787
                      ],
                      "xaxis": "x",
                      "y": [
                        "Virgin Islands",
                        "District of Columbia",
                        "Alaska",
                        "Rhode Island",
                        "Puerto Rico",
                        "Hawaii",
                        "Vermont",
                        "Delaware",
                        "Nevada",
                        "New Hampshire",
                        "Connecticut",
                        "Oregon",
                        "Washington",
                        "Maine",
                        "Utah",
                        "West Virginia",
                        "New Jersey",
                        "Massachusetts",
                        "Idaho",
                        "Arizona",
                        "Maryland",
                        "Montana",
                        "California",
                        "New York",
                        "New Mexico",
                        "Wyoming",
                        "Virginia",
                        "Pennsylvania",
                        "Michigan",
                        "Kentucky",
                        "South Carolina",
                        "Ohio",
                        "Tennessee",
                        "North Carolina",
                        "Wisconsin",
                        "Indiana",
                        "North Dakota",
                        "Georgia",
                        "South Dakota",
                        "Arkansas",
                        "Minnesota",
                        "Louisiana",
                        "Colorado",
                        "Missouri",
                        "Alabama",
                        "Mississippi",
                        "Illinois",
                        "Iowa",
                        "Nebraska",
                        "Florida",
                        "Oklahoma",
                        "Kansas",
                        "Texas"
                      ],
                      "yaxis": "y"
                    }
                  ],
                  "name": "2009"
                },
                {
                  "data": [
                    {
                      "alignmentgroup": "True",
                      "customdata": [
                        [
                          2010
                        ],
                        [
                          2010
                        ],
                        [
                          2010
                        ],
                        [
                          2010
                        ],
                        [
                          2010
                        ],
                        [
                          2010
                        ],
                        [
                          2010
                        ],
                        [
                          2010
                        ],
                        [
                          2010
                        ],
                        [
                          2010
                        ],
                        [
                          2010
                        ],
                        [
                          2010
                        ],
                        [
                          2010
                        ],
                        [
                          2010
                        ],
                        [
                          2010
                        ],
                        [
                          2010
                        ],
                        [
                          2010
                        ],
                        [
                          2010
                        ],
                        [
                          2010
                        ],
                        [
                          2010
                        ],
                        [
                          2010
                        ],
                        [
                          2010
                        ],
                        [
                          2010
                        ],
                        [
                          2010
                        ],
                        [
                          2010
                        ],
                        [
                          2010
                        ],
                        [
                          2010
                        ],
                        [
                          2010
                        ],
                        [
                          2010
                        ],
                        [
                          2010
                        ],
                        [
                          2010
                        ],
                        [
                          2010
                        ],
                        [
                          2010
                        ],
                        [
                          2010
                        ],
                        [
                          2010
                        ],
                        [
                          2010
                        ],
                        [
                          2010
                        ],
                        [
                          2010
                        ],
                        [
                          2010
                        ],
                        [
                          2010
                        ],
                        [
                          2010
                        ],
                        [
                          2010
                        ],
                        [
                          2010
                        ],
                        [
                          2010
                        ],
                        [
                          2010
                        ],
                        [
                          2010
                        ],
                        [
                          2010
                        ],
                        [
                          2010
                        ],
                        [
                          2010
                        ],
                        [
                          2010
                        ],
                        [
                          2010
                        ],
                        [
                          2010
                        ],
                        [
                          2010
                        ]
                      ],
                      "hovertemplate": "Yıl=%{customdata[0]}<br>Toplam Kasırga Sayısı=%{x}<extra></extra>",
                      "legendgroup": "",
                      "marker": {
                        "color": "#FFD700",
                        "pattern": {
                          "shape": ""
                        }
                      },
                      "name": "",
                      "offsetgroup": "",
                      "orientation": "h",
                      "showlegend": false,
                      "textposition": "auto",
                      "type": "bar",
                      "x": [
                        0,
                        1,
                        4,
                        9,
                        21,
                        38,
                        42,
                        55,
                        76,
                        82,
                        88,
                        100,
                        103,
                        110,
                        118,
                        114,
                        136,
                        145,
                        192,
                        228,
                        287,
                        377,
                        379,
                        374,
                        531,
                        611,
                        592,
                        680,
                        946,
                        724,
                        888,
                        906,
                        948,
                        1101,
                        1213,
                        1212,
                        1355,
                        1360,
                        1648,
                        1554,
                        1565,
                        1677,
                        1888,
                        1907,
                        1684,
                        1777,
                        2079,
                        2198,
                        2526,
                        3051,
                        3269,
                        3646,
                        7894
                      ],
                      "xaxis": "x",
                      "y": [
                        "Virgin Islands",
                        "District of Columbia",
                        "Alaska",
                        "Rhode Island",
                        "Puerto Rico",
                        "Hawaii",
                        "Vermont",
                        "Delaware",
                        "Nevada",
                        "New Hampshire",
                        "Connecticut",
                        "Oregon",
                        "Washington",
                        "Maine",
                        "Utah",
                        "West Virginia",
                        "New Jersey",
                        "Massachusetts",
                        "Idaho",
                        "Arizona",
                        "Maryland",
                        "Montana",
                        "California",
                        "New York",
                        "New Mexico",
                        "Wyoming",
                        "Virginia",
                        "Pennsylvania",
                        "Michigan",
                        "Kentucky",
                        "South Carolina",
                        "Ohio",
                        "Tennessee",
                        "North Carolina",
                        "Wisconsin",
                        "Indiana",
                        "North Dakota",
                        "Georgia",
                        "South Dakota",
                        "Arkansas",
                        "Minnesota",
                        "Louisiana",
                        "Colorado",
                        "Missouri",
                        "Alabama",
                        "Mississippi",
                        "Illinois",
                        "Iowa",
                        "Nebraska",
                        "Florida",
                        "Oklahoma",
                        "Kansas",
                        "Texas"
                      ],
                      "yaxis": "y"
                    }
                  ],
                  "name": "2010"
                },
                {
                  "data": [
                    {
                      "alignmentgroup": "True",
                      "customdata": [
                        [
                          2011
                        ],
                        [
                          2011
                        ],
                        [
                          2011
                        ],
                        [
                          2011
                        ],
                        [
                          2011
                        ],
                        [
                          2011
                        ],
                        [
                          2011
                        ],
                        [
                          2011
                        ],
                        [
                          2011
                        ],
                        [
                          2011
                        ],
                        [
                          2011
                        ],
                        [
                          2011
                        ],
                        [
                          2011
                        ],
                        [
                          2011
                        ],
                        [
                          2011
                        ],
                        [
                          2011
                        ],
                        [
                          2011
                        ],
                        [
                          2011
                        ],
                        [
                          2011
                        ],
                        [
                          2011
                        ],
                        [
                          2011
                        ],
                        [
                          2011
                        ],
                        [
                          2011
                        ],
                        [
                          2011
                        ],
                        [
                          2011
                        ],
                        [
                          2011
                        ],
                        [
                          2011
                        ],
                        [
                          2011
                        ],
                        [
                          2011
                        ],
                        [
                          2011
                        ],
                        [
                          2011
                        ],
                        [
                          2011
                        ],
                        [
                          2011
                        ],
                        [
                          2011
                        ],
                        [
                          2011
                        ],
                        [
                          2011
                        ],
                        [
                          2011
                        ],
                        [
                          2011
                        ],
                        [
                          2011
                        ],
                        [
                          2011
                        ],
                        [
                          2011
                        ],
                        [
                          2011
                        ],
                        [
                          2011
                        ],
                        [
                          2011
                        ],
                        [
                          2011
                        ],
                        [
                          2011
                        ],
                        [
                          2011
                        ],
                        [
                          2011
                        ],
                        [
                          2011
                        ],
                        [
                          2011
                        ],
                        [
                          2011
                        ],
                        [
                          2011
                        ],
                        [
                          2011
                        ]
                      ],
                      "hovertemplate": "Yıl=%{customdata[0]}<br>Toplam Kasırga Sayısı=%{x}<extra></extra>",
                      "legendgroup": "",
                      "marker": {
                        "color": "#FFD700",
                        "pattern": {
                          "shape": ""
                        }
                      },
                      "name": "",
                      "offsetgroup": "",
                      "orientation": "h",
                      "showlegend": false,
                      "textposition": "auto",
                      "type": "bar",
                      "x": [
                        0,
                        1,
                        4,
                        9,
                        22,
                        39,
                        43,
                        56,
                        77,
                        83,
                        89,
                        101,
                        105,
                        115,
                        119,
                        115,
                        138,
                        149,
                        194,
                        231,
                        314,
                        386,
                        388,
                        395,
                        533,
                        618,
                        640,
                        710,
                        960,
                        781,
                        908,
                        945,
                        1045,
                        1166,
                        1252,
                        1284,
                        1414,
                        1398,
                        1667,
                        1626,
                        1595,
                        1734,
                        1909,
                        1984,
                        1820,
                        1871,
                        2151,
                        2249,
                        2581,
                        3090,
                        3387,
                        3713,
                        7996
                      ],
                      "xaxis": "x",
                      "y": [
                        "Virgin Islands",
                        "District of Columbia",
                        "Alaska",
                        "Rhode Island",
                        "Puerto Rico",
                        "Hawaii",
                        "Vermont",
                        "Delaware",
                        "Nevada",
                        "New Hampshire",
                        "Connecticut",
                        "Oregon",
                        "Washington",
                        "Maine",
                        "Utah",
                        "West Virginia",
                        "New Jersey",
                        "Massachusetts",
                        "Idaho",
                        "Arizona",
                        "Maryland",
                        "Montana",
                        "California",
                        "New York",
                        "New Mexico",
                        "Wyoming",
                        "Virginia",
                        "Pennsylvania",
                        "Michigan",
                        "Kentucky",
                        "South Carolina",
                        "Ohio",
                        "Tennessee",
                        "North Carolina",
                        "Wisconsin",
                        "Indiana",
                        "North Dakota",
                        "Georgia",
                        "South Dakota",
                        "Arkansas",
                        "Minnesota",
                        "Louisiana",
                        "Colorado",
                        "Missouri",
                        "Alabama",
                        "Mississippi",
                        "Illinois",
                        "Iowa",
                        "Nebraska",
                        "Florida",
                        "Oklahoma",
                        "Kansas",
                        "Texas"
                      ],
                      "yaxis": "y"
                    }
                  ],
                  "name": "2011"
                },
                {
                  "data": [
                    {
                      "alignmentgroup": "True",
                      "customdata": [
                        [
                          2012
                        ],
                        [
                          2012
                        ],
                        [
                          2012
                        ],
                        [
                          2012
                        ],
                        [
                          2012
                        ],
                        [
                          2012
                        ],
                        [
                          2012
                        ],
                        [
                          2012
                        ],
                        [
                          2012
                        ],
                        [
                          2012
                        ],
                        [
                          2012
                        ],
                        [
                          2012
                        ],
                        [
                          2012
                        ],
                        [
                          2012
                        ],
                        [
                          2012
                        ],
                        [
                          2012
                        ],
                        [
                          2012
                        ],
                        [
                          2012
                        ],
                        [
                          2012
                        ],
                        [
                          2012
                        ],
                        [
                          2012
                        ],
                        [
                          2012
                        ],
                        [
                          2012
                        ],
                        [
                          2012
                        ],
                        [
                          2012
                        ],
                        [
                          2012
                        ],
                        [
                          2012
                        ],
                        [
                          2012
                        ],
                        [
                          2012
                        ],
                        [
                          2012
                        ],
                        [
                          2012
                        ],
                        [
                          2012
                        ],
                        [
                          2012
                        ],
                        [
                          2012
                        ],
                        [
                          2012
                        ],
                        [
                          2012
                        ],
                        [
                          2012
                        ],
                        [
                          2012
                        ],
                        [
                          2012
                        ],
                        [
                          2012
                        ],
                        [
                          2012
                        ],
                        [
                          2012
                        ],
                        [
                          2012
                        ],
                        [
                          2012
                        ],
                        [
                          2012
                        ],
                        [
                          2012
                        ],
                        [
                          2012
                        ],
                        [
                          2012
                        ],
                        [
                          2012
                        ],
                        [
                          2012
                        ],
                        [
                          2012
                        ],
                        [
                          2012
                        ],
                        [
                          2012
                        ]
                      ],
                      "hovertemplate": "Yıl=%{customdata[0]}<br>Toplam Kasırga Sayısı=%{x}<extra></extra>",
                      "legendgroup": "",
                      "marker": {
                        "color": "#FFD700",
                        "pattern": {
                          "shape": ""
                        }
                      },
                      "name": "",
                      "offsetgroup": "",
                      "orientation": "h",
                      "showlegend": false,
                      "textposition": "auto",
                      "type": "bar",
                      "x": [
                        0,
                        1,
                        4,
                        10,
                        23,
                        40,
                        44,
                        57,
                        79,
                        85,
                        89,
                        101,
                        105,
                        116,
                        120,
                        116,
                        139,
                        150,
                        196,
                        232,
                        330,
                        389,
                        400,
                        403,
                        539,
                        622,
                        651,
                        722,
                        966,
                        822,
                        918,
                        957,
                        1073,
                        1189,
                        1256,
                        1302,
                        1423,
                        1413,
                        1678,
                        1644,
                        1631,
                        1779,
                        1942,
                        2013,
                        1875,
                        1919,
                        2181,
                        2265,
                        2624,
                        3138,
                        3450,
                        3806,
                        8111
                      ],
                      "xaxis": "x",
                      "y": [
                        "Virgin Islands",
                        "District of Columbia",
                        "Alaska",
                        "Rhode Island",
                        "Puerto Rico",
                        "Hawaii",
                        "Vermont",
                        "Delaware",
                        "Nevada",
                        "New Hampshire",
                        "Connecticut",
                        "Oregon",
                        "Washington",
                        "Maine",
                        "Utah",
                        "West Virginia",
                        "New Jersey",
                        "Massachusetts",
                        "Idaho",
                        "Arizona",
                        "Maryland",
                        "Montana",
                        "California",
                        "New York",
                        "New Mexico",
                        "Wyoming",
                        "Virginia",
                        "Pennsylvania",
                        "Michigan",
                        "Kentucky",
                        "South Carolina",
                        "Ohio",
                        "Tennessee",
                        "North Carolina",
                        "Wisconsin",
                        "Indiana",
                        "North Dakota",
                        "Georgia",
                        "South Dakota",
                        "Arkansas",
                        "Minnesota",
                        "Louisiana",
                        "Colorado",
                        "Missouri",
                        "Alabama",
                        "Mississippi",
                        "Illinois",
                        "Iowa",
                        "Nebraska",
                        "Florida",
                        "Oklahoma",
                        "Kansas",
                        "Texas"
                      ],
                      "yaxis": "y"
                    }
                  ],
                  "name": "2012"
                },
                {
                  "data": [
                    {
                      "alignmentgroup": "True",
                      "customdata": [
                        [
                          2013
                        ],
                        [
                          2013
                        ],
                        [
                          2013
                        ],
                        [
                          2013
                        ],
                        [
                          2013
                        ],
                        [
                          2013
                        ],
                        [
                          2013
                        ],
                        [
                          2013
                        ],
                        [
                          2013
                        ],
                        [
                          2013
                        ],
                        [
                          2013
                        ],
                        [
                          2013
                        ],
                        [
                          2013
                        ],
                        [
                          2013
                        ],
                        [
                          2013
                        ],
                        [
                          2013
                        ],
                        [
                          2013
                        ],
                        [
                          2013
                        ],
                        [
                          2013
                        ],
                        [
                          2013
                        ],
                        [
                          2013
                        ],
                        [
                          2013
                        ],
                        [
                          2013
                        ],
                        [
                          2013
                        ],
                        [
                          2013
                        ],
                        [
                          2013
                        ],
                        [
                          2013
                        ],
                        [
                          2013
                        ],
                        [
                          2013
                        ],
                        [
                          2013
                        ],
                        [
                          2013
                        ],
                        [
                          2013
                        ],
                        [
                          2013
                        ],
                        [
                          2013
                        ],
                        [
                          2013
                        ],
                        [
                          2013
                        ],
                        [
                          2013
                        ],
                        [
                          2013
                        ],
                        [
                          2013
                        ],
                        [
                          2013
                        ],
                        [
                          2013
                        ],
                        [
                          2013
                        ],
                        [
                          2013
                        ],
                        [
                          2013
                        ],
                        [
                          2013
                        ],
                        [
                          2013
                        ],
                        [
                          2013
                        ],
                        [
                          2013
                        ],
                        [
                          2013
                        ],
                        [
                          2013
                        ],
                        [
                          2013
                        ],
                        [
                          2013
                        ],
                        [
                          2013
                        ]
                      ],
                      "hovertemplate": "Yıl=%{customdata[0]}<br>Toplam Kasırga Sayısı=%{x}<extra></extra>",
                      "legendgroup": "",
                      "marker": {
                        "color": "#FFD700",
                        "pattern": {
                          "shape": ""
                        }
                      },
                      "name": "",
                      "offsetgroup": "",
                      "orientation": "h",
                      "showlegend": false,
                      "textposition": "auto",
                      "type": "bar",
                      "x": [
                        0,
                        1,
                        4,
                        10,
                        24,
                        40,
                        44,
                        58,
                        79,
                        85,
                        93,
                        104,
                        107,
                        120,
                        121,
                        116,
                        142,
                        152,
                        202,
                        233,
                        340,
                        395,
                        404,
                        409,
                        541,
                        630,
                        656,
                        731,
                        977,
                        857,
                        927,
                        987,
                        1114,
                        1199,
                        1271,
                        1342,
                        1439,
                        1430,
                        1691,
                        1675,
                        1646,
                        1814,
                        1968,
                        2061,
                        1896,
                        1949,
                        2233,
                        2290,
                        2674,
                        3175,
                        3532,
                        3861,
                        8195
                      ],
                      "xaxis": "x",
                      "y": [
                        "Virgin Islands",
                        "District of Columbia",
                        "Alaska",
                        "Rhode Island",
                        "Puerto Rico",
                        "Hawaii",
                        "Vermont",
                        "Delaware",
                        "Nevada",
                        "New Hampshire",
                        "Connecticut",
                        "Oregon",
                        "Washington",
                        "Maine",
                        "Utah",
                        "West Virginia",
                        "New Jersey",
                        "Massachusetts",
                        "Idaho",
                        "Arizona",
                        "Maryland",
                        "Montana",
                        "California",
                        "New York",
                        "New Mexico",
                        "Wyoming",
                        "Virginia",
                        "Pennsylvania",
                        "Michigan",
                        "Kentucky",
                        "South Carolina",
                        "Ohio",
                        "Tennessee",
                        "North Carolina",
                        "Wisconsin",
                        "Indiana",
                        "North Dakota",
                        "Georgia",
                        "South Dakota",
                        "Arkansas",
                        "Minnesota",
                        "Louisiana",
                        "Colorado",
                        "Missouri",
                        "Alabama",
                        "Mississippi",
                        "Illinois",
                        "Iowa",
                        "Nebraska",
                        "Florida",
                        "Oklahoma",
                        "Kansas",
                        "Texas"
                      ],
                      "yaxis": "y"
                    }
                  ],
                  "name": "2013"
                },
                {
                  "data": [
                    {
                      "alignmentgroup": "True",
                      "customdata": [
                        [
                          2014
                        ],
                        [
                          2014
                        ],
                        [
                          2014
                        ],
                        [
                          2014
                        ],
                        [
                          2014
                        ],
                        [
                          2014
                        ],
                        [
                          2014
                        ],
                        [
                          2014
                        ],
                        [
                          2014
                        ],
                        [
                          2014
                        ],
                        [
                          2014
                        ],
                        [
                          2014
                        ],
                        [
                          2014
                        ],
                        [
                          2014
                        ],
                        [
                          2014
                        ],
                        [
                          2014
                        ],
                        [
                          2014
                        ],
                        [
                          2014
                        ],
                        [
                          2014
                        ],
                        [
                          2014
                        ],
                        [
                          2014
                        ],
                        [
                          2014
                        ],
                        [
                          2014
                        ],
                        [
                          2014
                        ],
                        [
                          2014
                        ],
                        [
                          2014
                        ],
                        [
                          2014
                        ],
                        [
                          2014
                        ],
                        [
                          2014
                        ],
                        [
                          2014
                        ],
                        [
                          2014
                        ],
                        [
                          2014
                        ],
                        [
                          2014
                        ],
                        [
                          2014
                        ],
                        [
                          2014
                        ],
                        [
                          2014
                        ],
                        [
                          2014
                        ],
                        [
                          2014
                        ],
                        [
                          2014
                        ],
                        [
                          2014
                        ],
                        [
                          2014
                        ],
                        [
                          2014
                        ],
                        [
                          2014
                        ],
                        [
                          2014
                        ],
                        [
                          2014
                        ],
                        [
                          2014
                        ],
                        [
                          2014
                        ],
                        [
                          2014
                        ],
                        [
                          2014
                        ],
                        [
                          2014
                        ],
                        [
                          2014
                        ],
                        [
                          2014
                        ],
                        [
                          2014
                        ]
                      ],
                      "hovertemplate": "Yıl=%{customdata[0]}<br>Toplam Kasırga Sayısı=%{x}<extra></extra>",
                      "legendgroup": "",
                      "marker": {
                        "color": "#FFD700",
                        "pattern": {
                          "shape": ""
                        }
                      },
                      "name": "",
                      "offsetgroup": "",
                      "orientation": "h",
                      "showlegend": false,
                      "textposition": "auto",
                      "type": "bar",
                      "x": [
                        0,
                        1,
                        4,
                        10,
                        24,
                        40,
                        44,
                        59,
                        85,
                        87,
                        94,
                        104,
                        110,
                        124,
                        121,
                        125,
                        142,
                        155,
                        205,
                        236,
                        342,
                        403,
                        413,
                        420,
                        555,
                        643,
                        668,
                        740,
                        990,
                        883,
                        934,
                        1007,
                        1129,
                        1230,
                        1292,
                        1369,
                        1453,
                        1460,
                        1720,
                        1695,
                        1669,
                        1829,
                        2017,
                        2107,
                        1948,
                        1989,
                        2281,
                        2345,
                        2736,
                        3203,
                        3548,
                        3901,
                        8241
                      ],
                      "xaxis": "x",
                      "y": [
                        "Virgin Islands",
                        "District of Columbia",
                        "Alaska",
                        "Rhode Island",
                        "Puerto Rico",
                        "Hawaii",
                        "Vermont",
                        "Delaware",
                        "Nevada",
                        "New Hampshire",
                        "Connecticut",
                        "Oregon",
                        "Washington",
                        "Maine",
                        "Utah",
                        "West Virginia",
                        "New Jersey",
                        "Massachusetts",
                        "Idaho",
                        "Arizona",
                        "Maryland",
                        "Montana",
                        "California",
                        "New York",
                        "New Mexico",
                        "Wyoming",
                        "Virginia",
                        "Pennsylvania",
                        "Michigan",
                        "Kentucky",
                        "South Carolina",
                        "Ohio",
                        "Tennessee",
                        "North Carolina",
                        "Wisconsin",
                        "Indiana",
                        "North Dakota",
                        "Georgia",
                        "South Dakota",
                        "Arkansas",
                        "Minnesota",
                        "Louisiana",
                        "Colorado",
                        "Missouri",
                        "Alabama",
                        "Mississippi",
                        "Illinois",
                        "Iowa",
                        "Nebraska",
                        "Florida",
                        "Oklahoma",
                        "Kansas",
                        "Texas"
                      ],
                      "yaxis": "y"
                    }
                  ],
                  "name": "2014"
                },
                {
                  "data": [
                    {
                      "alignmentgroup": "True",
                      "customdata": [
                        [
                          2015
                        ],
                        [
                          2015
                        ],
                        [
                          2015
                        ],
                        [
                          2015
                        ],
                        [
                          2015
                        ],
                        [
                          2015
                        ],
                        [
                          2015
                        ],
                        [
                          2015
                        ],
                        [
                          2015
                        ],
                        [
                          2015
                        ],
                        [
                          2015
                        ],
                        [
                          2015
                        ],
                        [
                          2015
                        ],
                        [
                          2015
                        ],
                        [
                          2015
                        ],
                        [
                          2015
                        ],
                        [
                          2015
                        ],
                        [
                          2015
                        ],
                        [
                          2015
                        ],
                        [
                          2015
                        ],
                        [
                          2015
                        ],
                        [
                          2015
                        ],
                        [
                          2015
                        ],
                        [
                          2015
                        ],
                        [
                          2015
                        ],
                        [
                          2015
                        ],
                        [
                          2015
                        ],
                        [
                          2015
                        ],
                        [
                          2015
                        ],
                        [
                          2015
                        ],
                        [
                          2015
                        ],
                        [
                          2015
                        ],
                        [
                          2015
                        ],
                        [
                          2015
                        ],
                        [
                          2015
                        ],
                        [
                          2015
                        ],
                        [
                          2015
                        ],
                        [
                          2015
                        ],
                        [
                          2015
                        ],
                        [
                          2015
                        ],
                        [
                          2015
                        ],
                        [
                          2015
                        ],
                        [
                          2015
                        ],
                        [
                          2015
                        ],
                        [
                          2015
                        ],
                        [
                          2015
                        ],
                        [
                          2015
                        ],
                        [
                          2015
                        ],
                        [
                          2015
                        ],
                        [
                          2015
                        ],
                        [
                          2015
                        ],
                        [
                          2015
                        ],
                        [
                          2015
                        ]
                      ],
                      "hovertemplate": "Yıl=%{customdata[0]}<br>Toplam Kasırga Sayısı=%{x}<extra></extra>",
                      "legendgroup": "",
                      "marker": {
                        "color": "#FFD700",
                        "pattern": {
                          "shape": ""
                        }
                      },
                      "name": "",
                      "offsetgroup": "",
                      "orientation": "h",
                      "showlegend": false,
                      "textposition": "auto",
                      "type": "bar",
                      "x": [
                        0,
                        1,
                        4,
                        10,
                        24,
                        41,
                        44,
                        60,
                        86,
                        88,
                        94,
                        105,
                        112,
                        124,
                        123,
                        128,
                        142,
                        157,
                        206,
                        241,
                        346,
                        406,
                        423,
                        422,
                        561,
                        651,
                        675,
                        752,
                        1004,
                        900,
                        942,
                        1014,
                        1145,
                        1239,
                        1309,
                        1390,
                        1483,
                        1483,
                        1744,
                        1715,
                        1708,
                        1858,
                        2071,
                        2154,
                        1979,
                        2034,
                        2348,
                        2404,
                        2759,
                        3233,
                        3656,
                        4027,
                        8482
                      ],
                      "xaxis": "x",
                      "y": [
                        "Virgin Islands",
                        "District of Columbia",
                        "Alaska",
                        "Rhode Island",
                        "Puerto Rico",
                        "Hawaii",
                        "Vermont",
                        "Delaware",
                        "Nevada",
                        "New Hampshire",
                        "Connecticut",
                        "Oregon",
                        "Washington",
                        "Maine",
                        "Utah",
                        "West Virginia",
                        "New Jersey",
                        "Massachusetts",
                        "Idaho",
                        "Arizona",
                        "Maryland",
                        "Montana",
                        "California",
                        "New York",
                        "New Mexico",
                        "Wyoming",
                        "Virginia",
                        "Pennsylvania",
                        "Michigan",
                        "Kentucky",
                        "South Carolina",
                        "Ohio",
                        "Tennessee",
                        "North Carolina",
                        "Wisconsin",
                        "Indiana",
                        "North Dakota",
                        "Georgia",
                        "South Dakota",
                        "Arkansas",
                        "Minnesota",
                        "Louisiana",
                        "Colorado",
                        "Missouri",
                        "Alabama",
                        "Mississippi",
                        "Illinois",
                        "Iowa",
                        "Nebraska",
                        "Florida",
                        "Oklahoma",
                        "Kansas",
                        "Texas"
                      ],
                      "yaxis": "y"
                    }
                  ],
                  "name": "2015"
                },
                {
                  "data": [
                    {
                      "alignmentgroup": "True",
                      "customdata": [
                        [
                          2016
                        ],
                        [
                          2016
                        ],
                        [
                          2016
                        ],
                        [
                          2016
                        ],
                        [
                          2016
                        ],
                        [
                          2016
                        ],
                        [
                          2016
                        ],
                        [
                          2016
                        ],
                        [
                          2016
                        ],
                        [
                          2016
                        ],
                        [
                          2016
                        ],
                        [
                          2016
                        ],
                        [
                          2016
                        ],
                        [
                          2016
                        ],
                        [
                          2016
                        ],
                        [
                          2016
                        ],
                        [
                          2016
                        ],
                        [
                          2016
                        ],
                        [
                          2016
                        ],
                        [
                          2016
                        ],
                        [
                          2016
                        ],
                        [
                          2016
                        ],
                        [
                          2016
                        ],
                        [
                          2016
                        ],
                        [
                          2016
                        ],
                        [
                          2016
                        ],
                        [
                          2016
                        ],
                        [
                          2016
                        ],
                        [
                          2016
                        ],
                        [
                          2016
                        ],
                        [
                          2016
                        ],
                        [
                          2016
                        ],
                        [
                          2016
                        ],
                        [
                          2016
                        ],
                        [
                          2016
                        ],
                        [
                          2016
                        ],
                        [
                          2016
                        ],
                        [
                          2016
                        ],
                        [
                          2016
                        ],
                        [
                          2016
                        ],
                        [
                          2016
                        ],
                        [
                          2016
                        ],
                        [
                          2016
                        ],
                        [
                          2016
                        ],
                        [
                          2016
                        ],
                        [
                          2016
                        ],
                        [
                          2016
                        ],
                        [
                          2016
                        ],
                        [
                          2016
                        ],
                        [
                          2016
                        ],
                        [
                          2016
                        ],
                        [
                          2016
                        ],
                        [
                          2016
                        ]
                      ],
                      "hovertemplate": "Yıl=%{customdata[0]}<br>Toplam Kasırga Sayısı=%{x}<extra></extra>",
                      "legendgroup": "",
                      "marker": {
                        "color": "#FFD700",
                        "pattern": {
                          "shape": ""
                        }
                      },
                      "name": "",
                      "offsetgroup": "",
                      "orientation": "h",
                      "showlegend": false,
                      "textposition": "auto",
                      "type": "bar",
                      "x": [
                        0,
                        1,
                        4,
                        10,
                        25,
                        41,
                        44,
                        60,
                        86,
                        89,
                        95,
                        109,
                        116,
                        125,
                        126,
                        134,
                        144,
                        158,
                        208,
                        242,
                        349,
                        412,
                        427,
                        424,
                        570,
                        653,
                        684,
                        761,
                        1019,
                        924,
                        946,
                        1038,
                        1155,
                        1255,
                        1325,
                        1432,
                        1505,
                        1511,
                        1757,
                        1738,
                        1745,
                        1885,
                        2110,
                        2172,
                        2042,
                        2079,
                        2393,
                        2449,
                        2804,
                        3278,
                        3713,
                        4129,
                        8582
                      ],
                      "xaxis": "x",
                      "y": [
                        "Virgin Islands",
                        "District of Columbia",
                        "Alaska",
                        "Rhode Island",
                        "Puerto Rico",
                        "Hawaii",
                        "Vermont",
                        "Delaware",
                        "Nevada",
                        "New Hampshire",
                        "Connecticut",
                        "Oregon",
                        "Washington",
                        "Maine",
                        "Utah",
                        "West Virginia",
                        "New Jersey",
                        "Massachusetts",
                        "Idaho",
                        "Arizona",
                        "Maryland",
                        "Montana",
                        "California",
                        "New York",
                        "New Mexico",
                        "Wyoming",
                        "Virginia",
                        "Pennsylvania",
                        "Michigan",
                        "Kentucky",
                        "South Carolina",
                        "Ohio",
                        "Tennessee",
                        "North Carolina",
                        "Wisconsin",
                        "Indiana",
                        "North Dakota",
                        "Georgia",
                        "South Dakota",
                        "Arkansas",
                        "Minnesota",
                        "Louisiana",
                        "Colorado",
                        "Missouri",
                        "Alabama",
                        "Mississippi",
                        "Illinois",
                        "Iowa",
                        "Nebraska",
                        "Florida",
                        "Oklahoma",
                        "Kansas",
                        "Texas"
                      ],
                      "yaxis": "y"
                    }
                  ],
                  "name": "2016"
                },
                {
                  "data": [
                    {
                      "alignmentgroup": "True",
                      "customdata": [
                        [
                          2017
                        ],
                        [
                          2017
                        ],
                        [
                          2017
                        ],
                        [
                          2017
                        ],
                        [
                          2017
                        ],
                        [
                          2017
                        ],
                        [
                          2017
                        ],
                        [
                          2017
                        ],
                        [
                          2017
                        ],
                        [
                          2017
                        ],
                        [
                          2017
                        ],
                        [
                          2017
                        ],
                        [
                          2017
                        ],
                        [
                          2017
                        ],
                        [
                          2017
                        ],
                        [
                          2017
                        ],
                        [
                          2017
                        ],
                        [
                          2017
                        ],
                        [
                          2017
                        ],
                        [
                          2017
                        ],
                        [
                          2017
                        ],
                        [
                          2017
                        ],
                        [
                          2017
                        ],
                        [
                          2017
                        ],
                        [
                          2017
                        ],
                        [
                          2017
                        ],
                        [
                          2017
                        ],
                        [
                          2017
                        ],
                        [
                          2017
                        ],
                        [
                          2017
                        ],
                        [
                          2017
                        ],
                        [
                          2017
                        ],
                        [
                          2017
                        ],
                        [
                          2017
                        ],
                        [
                          2017
                        ],
                        [
                          2017
                        ],
                        [
                          2017
                        ],
                        [
                          2017
                        ],
                        [
                          2017
                        ],
                        [
                          2017
                        ],
                        [
                          2017
                        ],
                        [
                          2017
                        ],
                        [
                          2017
                        ],
                        [
                          2017
                        ],
                        [
                          2017
                        ],
                        [
                          2017
                        ],
                        [
                          2017
                        ],
                        [
                          2017
                        ],
                        [
                          2017
                        ],
                        [
                          2017
                        ],
                        [
                          2017
                        ],
                        [
                          2017
                        ],
                        [
                          2017
                        ]
                      ],
                      "hovertemplate": "Yıl=%{customdata[0]}<br>Toplam Kasırga Sayısı=%{x}<extra></extra>",
                      "legendgroup": "",
                      "marker": {
                        "color": "#FFD700",
                        "pattern": {
                          "shape": ""
                        }
                      },
                      "name": "",
                      "offsetgroup": "",
                      "orientation": "h",
                      "showlegend": false,
                      "textposition": "auto",
                      "type": "bar",
                      "x": [
                        0,
                        2,
                        4,
                        10,
                        26,
                        41,
                        44,
                        61,
                        88,
                        89,
                        95,
                        112,
                        118,
                        132,
                        128,
                        138,
                        146,
                        160,
                        209,
                        245,
                        353,
                        413,
                        430,
                        436,
                        582,
                        663,
                        710,
                        786,
                        1028,
                        949,
                        989,
                        1079,
                        1188,
                        1283,
                        1348,
                        1461,
                        1537,
                        1628,
                        1772,
                        1775,
                        1806,
                        1969,
                        2129,
                        2253,
                        2099,
                        2147,
                        2442,
                        2501,
                        2836,
                        3335,
                        3798,
                        4189,
                        8749
                      ],
                      "xaxis": "x",
                      "y": [
                        "Virgin Islands",
                        "District of Columbia",
                        "Alaska",
                        "Rhode Island",
                        "Puerto Rico",
                        "Hawaii",
                        "Vermont",
                        "Delaware",
                        "Nevada",
                        "New Hampshire",
                        "Connecticut",
                        "Oregon",
                        "Washington",
                        "Maine",
                        "Utah",
                        "West Virginia",
                        "New Jersey",
                        "Massachusetts",
                        "Idaho",
                        "Arizona",
                        "Maryland",
                        "Montana",
                        "California",
                        "New York",
                        "New Mexico",
                        "Wyoming",
                        "Virginia",
                        "Pennsylvania",
                        "Michigan",
                        "Kentucky",
                        "South Carolina",
                        "Ohio",
                        "Tennessee",
                        "North Carolina",
                        "Wisconsin",
                        "Indiana",
                        "North Dakota",
                        "Georgia",
                        "South Dakota",
                        "Arkansas",
                        "Minnesota",
                        "Louisiana",
                        "Colorado",
                        "Missouri",
                        "Alabama",
                        "Mississippi",
                        "Illinois",
                        "Iowa",
                        "Nebraska",
                        "Florida",
                        "Oklahoma",
                        "Kansas",
                        "Texas"
                      ],
                      "yaxis": "y"
                    }
                  ],
                  "name": "2017"
                },
                {
                  "data": [
                    {
                      "alignmentgroup": "True",
                      "customdata": [
                        [
                          2018
                        ],
                        [
                          2018
                        ],
                        [
                          2018
                        ],
                        [
                          2018
                        ],
                        [
                          2018
                        ],
                        [
                          2018
                        ],
                        [
                          2018
                        ],
                        [
                          2018
                        ],
                        [
                          2018
                        ],
                        [
                          2018
                        ],
                        [
                          2018
                        ],
                        [
                          2018
                        ],
                        [
                          2018
                        ],
                        [
                          2018
                        ],
                        [
                          2018
                        ],
                        [
                          2018
                        ],
                        [
                          2018
                        ],
                        [
                          2018
                        ],
                        [
                          2018
                        ],
                        [
                          2018
                        ],
                        [
                          2018
                        ],
                        [
                          2018
                        ],
                        [
                          2018
                        ],
                        [
                          2018
                        ],
                        [
                          2018
                        ],
                        [
                          2018
                        ],
                        [
                          2018
                        ],
                        [
                          2018
                        ],
                        [
                          2018
                        ],
                        [
                          2018
                        ],
                        [
                          2018
                        ],
                        [
                          2018
                        ],
                        [
                          2018
                        ],
                        [
                          2018
                        ],
                        [
                          2018
                        ],
                        [
                          2018
                        ],
                        [
                          2018
                        ],
                        [
                          2018
                        ],
                        [
                          2018
                        ],
                        [
                          2018
                        ],
                        [
                          2018
                        ],
                        [
                          2018
                        ],
                        [
                          2018
                        ],
                        [
                          2018
                        ],
                        [
                          2018
                        ],
                        [
                          2018
                        ],
                        [
                          2018
                        ],
                        [
                          2018
                        ],
                        [
                          2018
                        ],
                        [
                          2018
                        ],
                        [
                          2018
                        ],
                        [
                          2018
                        ],
                        [
                          2018
                        ]
                      ],
                      "hovertemplate": "Yıl=%{customdata[0]}<br>Toplam Kasırga Sayısı=%{x}<extra></extra>",
                      "legendgroup": "",
                      "marker": {
                        "color": "#FFD700",
                        "pattern": {
                          "shape": ""
                        }
                      },
                      "name": "",
                      "offsetgroup": "",
                      "orientation": "h",
                      "showlegend": false,
                      "textposition": "auto",
                      "type": "bar",
                      "x": [
                        0,
                        2,
                        4,
                        11,
                        26,
                        41,
                        44,
                        61,
                        92,
                        92,
                        104,
                        115,
                        119,
                        132,
                        130,
                        139,
                        146,
                        167,
                        213,
                        250,
                        355,
                        423,
                        436,
                        448,
                        593,
                        686,
                        738,
                        818,
                        1043,
                        984,
                        1007,
                        1097,
                        1213,
                        1320,
                        1380,
                        1477,
                        1565,
                        1652,
                        1791,
                        1809,
                        1850,
                        2050,
                        2174,
                        2299,
                        2143,
                        2206,
                        2497,
                        2570,
                        2867,
                        3381,
                        3841,
                        4234,
                        8802
                      ],
                      "xaxis": "x",
                      "y": [
                        "Virgin Islands",
                        "District of Columbia",
                        "Alaska",
                        "Rhode Island",
                        "Puerto Rico",
                        "Hawaii",
                        "Vermont",
                        "Delaware",
                        "Nevada",
                        "New Hampshire",
                        "Connecticut",
                        "Oregon",
                        "Washington",
                        "Maine",
                        "Utah",
                        "West Virginia",
                        "New Jersey",
                        "Massachusetts",
                        "Idaho",
                        "Arizona",
                        "Maryland",
                        "Montana",
                        "California",
                        "New York",
                        "New Mexico",
                        "Wyoming",
                        "Virginia",
                        "Pennsylvania",
                        "Michigan",
                        "Kentucky",
                        "South Carolina",
                        "Ohio",
                        "Tennessee",
                        "North Carolina",
                        "Wisconsin",
                        "Indiana",
                        "North Dakota",
                        "Georgia",
                        "South Dakota",
                        "Arkansas",
                        "Minnesota",
                        "Louisiana",
                        "Colorado",
                        "Missouri",
                        "Alabama",
                        "Mississippi",
                        "Illinois",
                        "Iowa",
                        "Nebraska",
                        "Florida",
                        "Oklahoma",
                        "Kansas",
                        "Texas"
                      ],
                      "yaxis": "y"
                    }
                  ],
                  "name": "2018"
                },
                {
                  "data": [
                    {
                      "alignmentgroup": "True",
                      "customdata": [
                        [
                          2019
                        ],
                        [
                          2019
                        ],
                        [
                          2019
                        ],
                        [
                          2019
                        ],
                        [
                          2019
                        ],
                        [
                          2019
                        ],
                        [
                          2019
                        ],
                        [
                          2019
                        ],
                        [
                          2019
                        ],
                        [
                          2019
                        ],
                        [
                          2019
                        ],
                        [
                          2019
                        ],
                        [
                          2019
                        ],
                        [
                          2019
                        ],
                        [
                          2019
                        ],
                        [
                          2019
                        ],
                        [
                          2019
                        ],
                        [
                          2019
                        ],
                        [
                          2019
                        ],
                        [
                          2019
                        ],
                        [
                          2019
                        ],
                        [
                          2019
                        ],
                        [
                          2019
                        ],
                        [
                          2019
                        ],
                        [
                          2019
                        ],
                        [
                          2019
                        ],
                        [
                          2019
                        ],
                        [
                          2019
                        ],
                        [
                          2019
                        ],
                        [
                          2019
                        ],
                        [
                          2019
                        ],
                        [
                          2019
                        ],
                        [
                          2019
                        ],
                        [
                          2019
                        ],
                        [
                          2019
                        ],
                        [
                          2019
                        ],
                        [
                          2019
                        ],
                        [
                          2019
                        ],
                        [
                          2019
                        ],
                        [
                          2019
                        ],
                        [
                          2019
                        ],
                        [
                          2019
                        ],
                        [
                          2019
                        ],
                        [
                          2019
                        ],
                        [
                          2019
                        ],
                        [
                          2019
                        ],
                        [
                          2019
                        ],
                        [
                          2019
                        ],
                        [
                          2019
                        ],
                        [
                          2019
                        ],
                        [
                          2019
                        ],
                        [
                          2019
                        ],
                        [
                          2019
                        ]
                      ],
                      "hovertemplate": "Yıl=%{customdata[0]}<br>Toplam Kasırga Sayısı=%{x}<extra></extra>",
                      "legendgroup": "",
                      "marker": {
                        "color": "#FFD700",
                        "pattern": {
                          "shape": ""
                        }
                      },
                      "name": "",
                      "offsetgroup": "",
                      "orientation": "h",
                      "showlegend": false,
                      "textposition": "auto",
                      "type": "bar",
                      "x": [
                        1,
                        2,
                        4,
                        12,
                        28,
                        41,
                        45,
                        63,
                        93,
                        92,
                        105,
                        119,
                        121,
                        133,
                        130,
                        141,
                        155,
                        170,
                        218,
                        262,
                        361,
                        427,
                        450,
                        452,
                        612,
                        706,
                        761,
                        853,
                        1051,
                        1009,
                        1031,
                        1145,
                        1232,
                        1366,
                        1409,
                        1508,
                        1580,
                        1694,
                        1816,
                        1838,
                        1902,
                        2132,
                        2223,
                        2362,
                        2223,
                        2319,
                        2545,
                        2626,
                        2901,
                        3406,
                        3989,
                        4321,
                        8969
                      ],
                      "xaxis": "x",
                      "y": [
                        "Virgin Islands",
                        "District of Columbia",
                        "Alaska",
                        "Rhode Island",
                        "Puerto Rico",
                        "Hawaii",
                        "Vermont",
                        "Delaware",
                        "Nevada",
                        "New Hampshire",
                        "Connecticut",
                        "Oregon",
                        "Washington",
                        "Maine",
                        "Utah",
                        "West Virginia",
                        "New Jersey",
                        "Massachusetts",
                        "Idaho",
                        "Arizona",
                        "Maryland",
                        "Montana",
                        "California",
                        "New York",
                        "New Mexico",
                        "Wyoming",
                        "Virginia",
                        "Pennsylvania",
                        "Michigan",
                        "Kentucky",
                        "South Carolina",
                        "Ohio",
                        "Tennessee",
                        "North Carolina",
                        "Wisconsin",
                        "Indiana",
                        "North Dakota",
                        "Georgia",
                        "South Dakota",
                        "Arkansas",
                        "Minnesota",
                        "Louisiana",
                        "Colorado",
                        "Missouri",
                        "Alabama",
                        "Mississippi",
                        "Illinois",
                        "Iowa",
                        "Nebraska",
                        "Florida",
                        "Oklahoma",
                        "Kansas",
                        "Texas"
                      ],
                      "yaxis": "y"
                    }
                  ],
                  "name": "2019"
                },
                {
                  "data": [
                    {
                      "alignmentgroup": "True",
                      "customdata": [
                        [
                          2020
                        ],
                        [
                          2020
                        ],
                        [
                          2020
                        ],
                        [
                          2020
                        ],
                        [
                          2020
                        ],
                        [
                          2020
                        ],
                        [
                          2020
                        ],
                        [
                          2020
                        ],
                        [
                          2020
                        ],
                        [
                          2020
                        ],
                        [
                          2020
                        ],
                        [
                          2020
                        ],
                        [
                          2020
                        ],
                        [
                          2020
                        ],
                        [
                          2020
                        ],
                        [
                          2020
                        ],
                        [
                          2020
                        ],
                        [
                          2020
                        ],
                        [
                          2020
                        ],
                        [
                          2020
                        ],
                        [
                          2020
                        ],
                        [
                          2020
                        ],
                        [
                          2020
                        ],
                        [
                          2020
                        ],
                        [
                          2020
                        ],
                        [
                          2020
                        ],
                        [
                          2020
                        ],
                        [
                          2020
                        ],
                        [
                          2020
                        ],
                        [
                          2020
                        ],
                        [
                          2020
                        ],
                        [
                          2020
                        ],
                        [
                          2020
                        ],
                        [
                          2020
                        ],
                        [
                          2020
                        ],
                        [
                          2020
                        ],
                        [
                          2020
                        ],
                        [
                          2020
                        ],
                        [
                          2020
                        ],
                        [
                          2020
                        ],
                        [
                          2020
                        ],
                        [
                          2020
                        ],
                        [
                          2020
                        ],
                        [
                          2020
                        ],
                        [
                          2020
                        ],
                        [
                          2020
                        ],
                        [
                          2020
                        ],
                        [
                          2020
                        ],
                        [
                          2020
                        ],
                        [
                          2020
                        ],
                        [
                          2020
                        ],
                        [
                          2020
                        ],
                        [
                          2020
                        ]
                      ],
                      "hovertemplate": "Yıl=%{customdata[0]}<br>Toplam Kasırga Sayısı=%{x}<extra></extra>",
                      "legendgroup": "",
                      "marker": {
                        "color": "#FFD700",
                        "pattern": {
                          "shape": ""
                        }
                      },
                      "name": "",
                      "offsetgroup": "",
                      "orientation": "h",
                      "showlegend": false,
                      "textposition": "auto",
                      "type": "bar",
                      "x": [
                        1,
                        2,
                        4,
                        12,
                        28,
                        41,
                        45,
                        67,
                        93,
                        94,
                        112,
                        121,
                        123,
                        134,
                        130,
                        141,
                        159,
                        172,
                        218,
                        264,
                        381,
                        430,
                        458,
                        464,
                        618,
                        710,
                        776,
                        859,
                        1053,
                        1031,
                        1092,
                        1165,
                        1266,
                        1412,
                        1427,
                        1523,
                        1602,
                        1754,
                        1839,
                        1880,
                        1961,
                        2174,
                        2258,
                        2381,
                        2293,
                        2401,
                        2608,
                        2654,
                        2923,
                        3464,
                        4027,
                        4338,
                        9053
                      ],
                      "xaxis": "x",
                      "y": [
                        "Virgin Islands",
                        "District of Columbia",
                        "Alaska",
                        "Rhode Island",
                        "Puerto Rico",
                        "Hawaii",
                        "Vermont",
                        "Delaware",
                        "Nevada",
                        "New Hampshire",
                        "Connecticut",
                        "Oregon",
                        "Washington",
                        "Maine",
                        "Utah",
                        "West Virginia",
                        "New Jersey",
                        "Massachusetts",
                        "Idaho",
                        "Arizona",
                        "Maryland",
                        "Montana",
                        "California",
                        "New York",
                        "New Mexico",
                        "Wyoming",
                        "Virginia",
                        "Pennsylvania",
                        "Michigan",
                        "Kentucky",
                        "South Carolina",
                        "Ohio",
                        "Tennessee",
                        "North Carolina",
                        "Wisconsin",
                        "Indiana",
                        "North Dakota",
                        "Georgia",
                        "South Dakota",
                        "Arkansas",
                        "Minnesota",
                        "Louisiana",
                        "Colorado",
                        "Missouri",
                        "Alabama",
                        "Mississippi",
                        "Illinois",
                        "Iowa",
                        "Nebraska",
                        "Florida",
                        "Oklahoma",
                        "Kansas",
                        "Texas"
                      ],
                      "yaxis": "y"
                    }
                  ],
                  "name": "2020"
                },
                {
                  "data": [
                    {
                      "alignmentgroup": "True",
                      "customdata": [
                        [
                          2021
                        ],
                        [
                          2021
                        ],
                        [
                          2021
                        ],
                        [
                          2021
                        ],
                        [
                          2021
                        ],
                        [
                          2021
                        ],
                        [
                          2021
                        ],
                        [
                          2021
                        ],
                        [
                          2021
                        ],
                        [
                          2021
                        ],
                        [
                          2021
                        ],
                        [
                          2021
                        ],
                        [
                          2021
                        ],
                        [
                          2021
                        ],
                        [
                          2021
                        ],
                        [
                          2021
                        ],
                        [
                          2021
                        ],
                        [
                          2021
                        ],
                        [
                          2021
                        ],
                        [
                          2021
                        ],
                        [
                          2021
                        ],
                        [
                          2021
                        ],
                        [
                          2021
                        ],
                        [
                          2021
                        ],
                        [
                          2021
                        ],
                        [
                          2021
                        ],
                        [
                          2021
                        ],
                        [
                          2021
                        ],
                        [
                          2021
                        ],
                        [
                          2021
                        ],
                        [
                          2021
                        ],
                        [
                          2021
                        ],
                        [
                          2021
                        ],
                        [
                          2021
                        ],
                        [
                          2021
                        ],
                        [
                          2021
                        ],
                        [
                          2021
                        ],
                        [
                          2021
                        ],
                        [
                          2021
                        ],
                        [
                          2021
                        ],
                        [
                          2021
                        ],
                        [
                          2021
                        ],
                        [
                          2021
                        ],
                        [
                          2021
                        ],
                        [
                          2021
                        ],
                        [
                          2021
                        ],
                        [
                          2021
                        ],
                        [
                          2021
                        ],
                        [
                          2021
                        ],
                        [
                          2021
                        ],
                        [
                          2021
                        ],
                        [
                          2021
                        ],
                        [
                          2021
                        ]
                      ],
                      "hovertemplate": "Yıl=%{customdata[0]}<br>Toplam Kasırga Sayısı=%{x}<extra></extra>",
                      "legendgroup": "",
                      "marker": {
                        "color": "#FFD700",
                        "pattern": {
                          "shape": ""
                        }
                      },
                      "name": "",
                      "offsetgroup": "",
                      "orientation": "h",
                      "showlegend": false,
                      "textposition": "auto",
                      "type": "bar",
                      "x": [
                        1,
                        3,
                        4,
                        13,
                        28,
                        41,
                        46,
                        69,
                        94,
                        94,
                        120,
                        121,
                        125,
                        134,
                        134,
                        143,
                        170,
                        177,
                        218,
                        270,
                        389,
                        431,
                        462,
                        476,
                        634,
                        711,
                        787,
                        902,
                        1071,
                        1067,
                        1116,
                        1196,
                        1331,
                        1431,
                        1467,
                        1542,
                        1617,
                        1801,
                        1860,
                        1912,
                        2023,
                        2222,
                        2306,
                        2427,
                        2358,
                        2476,
                        2681,
                        2773,
                        2967,
                        3497,
                        4090,
                        4375,
                        9147
                      ],
                      "xaxis": "x",
                      "y": [
                        "Virgin Islands",
                        "District of Columbia",
                        "Alaska",
                        "Rhode Island",
                        "Puerto Rico",
                        "Hawaii",
                        "Vermont",
                        "Delaware",
                        "Nevada",
                        "New Hampshire",
                        "Connecticut",
                        "Oregon",
                        "Washington",
                        "Maine",
                        "Utah",
                        "West Virginia",
                        "New Jersey",
                        "Massachusetts",
                        "Idaho",
                        "Arizona",
                        "Maryland",
                        "Montana",
                        "California",
                        "New York",
                        "New Mexico",
                        "Wyoming",
                        "Virginia",
                        "Pennsylvania",
                        "Michigan",
                        "Kentucky",
                        "South Carolina",
                        "Ohio",
                        "Tennessee",
                        "North Carolina",
                        "Wisconsin",
                        "Indiana",
                        "North Dakota",
                        "Georgia",
                        "South Dakota",
                        "Arkansas",
                        "Minnesota",
                        "Louisiana",
                        "Colorado",
                        "Missouri",
                        "Alabama",
                        "Mississippi",
                        "Illinois",
                        "Iowa",
                        "Nebraska",
                        "Florida",
                        "Oklahoma",
                        "Kansas",
                        "Texas"
                      ],
                      "yaxis": "y"
                    }
                  ],
                  "name": "2021"
                },
                {
                  "data": [
                    {
                      "alignmentgroup": "True",
                      "customdata": [
                        [
                          2022
                        ],
                        [
                          2022
                        ],
                        [
                          2022
                        ],
                        [
                          2022
                        ],
                        [
                          2022
                        ],
                        [
                          2022
                        ],
                        [
                          2022
                        ],
                        [
                          2022
                        ],
                        [
                          2022
                        ],
                        [
                          2022
                        ],
                        [
                          2022
                        ],
                        [
                          2022
                        ],
                        [
                          2022
                        ],
                        [
                          2022
                        ],
                        [
                          2022
                        ],
                        [
                          2022
                        ],
                        [
                          2022
                        ],
                        [
                          2022
                        ],
                        [
                          2022
                        ],
                        [
                          2022
                        ],
                        [
                          2022
                        ],
                        [
                          2022
                        ],
                        [
                          2022
                        ],
                        [
                          2022
                        ],
                        [
                          2022
                        ],
                        [
                          2022
                        ],
                        [
                          2022
                        ],
                        [
                          2022
                        ],
                        [
                          2022
                        ],
                        [
                          2022
                        ],
                        [
                          2022
                        ],
                        [
                          2022
                        ],
                        [
                          2022
                        ],
                        [
                          2022
                        ],
                        [
                          2022
                        ],
                        [
                          2022
                        ],
                        [
                          2022
                        ],
                        [
                          2022
                        ],
                        [
                          2022
                        ],
                        [
                          2022
                        ],
                        [
                          2022
                        ],
                        [
                          2022
                        ],
                        [
                          2022
                        ],
                        [
                          2022
                        ],
                        [
                          2022
                        ],
                        [
                          2022
                        ],
                        [
                          2022
                        ],
                        [
                          2022
                        ],
                        [
                          2022
                        ],
                        [
                          2022
                        ],
                        [
                          2022
                        ],
                        [
                          2022
                        ],
                        [
                          2022
                        ]
                      ],
                      "hovertemplate": "Yıl=%{customdata[0]}<br>Toplam Kasırga Sayısı=%{x}<extra></extra>",
                      "legendgroup": "",
                      "marker": {
                        "color": "#FFD700",
                        "pattern": {
                          "shape": ""
                        }
                      },
                      "name": "",
                      "offsetgroup": "",
                      "orientation": "h",
                      "showlegend": false,
                      "textposition": "auto",
                      "type": "bar",
                      "x": [
                        1,
                        3,
                        4,
                        13,
                        29,
                        41,
                        48,
                        69,
                        94,
                        96,
                        121,
                        125,
                        127,
                        134,
                        135,
                        146,
                        172,
                        177,
                        219,
                        279,
                        395,
                        434,
                        466,
                        483,
                        636,
                        713,
                        803,
                        909,
                        1075,
                        1099,
                        1141,
                        1223,
                        1335,
                        1450,
                        1495,
                        1556,
                        1633,
                        1843,
                        1898,
                        1952,
                        2094,
                        2271,
                        2337,
                        2441,
                        2456,
                        2594,
                        2716,
                        2815,
                        2993,
                        3566,
                        4144,
                        4429,
                        9265
                      ],
                      "xaxis": "x",
                      "y": [
                        "Virgin Islands",
                        "District of Columbia",
                        "Alaska",
                        "Rhode Island",
                        "Puerto Rico",
                        "Hawaii",
                        "Vermont",
                        "Delaware",
                        "Nevada",
                        "New Hampshire",
                        "Connecticut",
                        "Oregon",
                        "Washington",
                        "Maine",
                        "Utah",
                        "West Virginia",
                        "New Jersey",
                        "Massachusetts",
                        "Idaho",
                        "Arizona",
                        "Maryland",
                        "Montana",
                        "California",
                        "New York",
                        "New Mexico",
                        "Wyoming",
                        "Virginia",
                        "Pennsylvania",
                        "Michigan",
                        "Kentucky",
                        "South Carolina",
                        "Ohio",
                        "Tennessee",
                        "North Carolina",
                        "Wisconsin",
                        "Indiana",
                        "North Dakota",
                        "Georgia",
                        "South Dakota",
                        "Arkansas",
                        "Minnesota",
                        "Louisiana",
                        "Colorado",
                        "Missouri",
                        "Alabama",
                        "Mississippi",
                        "Illinois",
                        "Iowa",
                        "Nebraska",
                        "Florida",
                        "Oklahoma",
                        "Kansas",
                        "Texas"
                      ],
                      "yaxis": "y"
                    }
                  ],
                  "name": "2022"
                }
              ],
              "layout": {
                "barmode": "relative",
                "font": {
                  "color": "white",
                  "family": "Arial",
                  "size": 12
                },
                "height": 1100,
                "legend": {
                  "tracegroupgap": 0
                },
                "margin": {
                  "b": 20,
                  "l": 170,
                  "r": 50,
                  "t": 80
                },
                "sliders": [
                  {
                    "active": 0,
                    "currentvalue": {
                      "prefix": "Yıl: ",
                      "visible": true,
                      "xanchor": "right"
                    },
                    "len": 0.9,
                    "pad": {
                      "b": 10,
                      "t": 30
                    },
                    "steps": [
                      {
                        "args": [
                          [
                            "1950"
                          ],
                          {
                            "frame": {
                              "duration": 300,
                              "redraw": true
                            },
                            "mode": "immediate",
                            "transition": {
                              "duration": 300
                            }
                          }
                        ],
                        "label": "1950",
                        "method": "animate"
                      },
                      {
                        "args": [
                          [
                            "1951"
                          ],
                          {
                            "frame": {
                              "duration": 300,
                              "redraw": true
                            },
                            "mode": "immediate",
                            "transition": {
                              "duration": 300
                            }
                          }
                        ],
                        "label": "1951",
                        "method": "animate"
                      },
                      {
                        "args": [
                          [
                            "1952"
                          ],
                          {
                            "frame": {
                              "duration": 300,
                              "redraw": true
                            },
                            "mode": "immediate",
                            "transition": {
                              "duration": 300
                            }
                          }
                        ],
                        "label": "1952",
                        "method": "animate"
                      },
                      {
                        "args": [
                          [
                            "1953"
                          ],
                          {
                            "frame": {
                              "duration": 300,
                              "redraw": true
                            },
                            "mode": "immediate",
                            "transition": {
                              "duration": 300
                            }
                          }
                        ],
                        "label": "1953",
                        "method": "animate"
                      },
                      {
                        "args": [
                          [
                            "1954"
                          ],
                          {
                            "frame": {
                              "duration": 300,
                              "redraw": true
                            },
                            "mode": "immediate",
                            "transition": {
                              "duration": 300
                            }
                          }
                        ],
                        "label": "1954",
                        "method": "animate"
                      },
                      {
                        "args": [
                          [
                            "1955"
                          ],
                          {
                            "frame": {
                              "duration": 300,
                              "redraw": true
                            },
                            "mode": "immediate",
                            "transition": {
                              "duration": 300
                            }
                          }
                        ],
                        "label": "1955",
                        "method": "animate"
                      },
                      {
                        "args": [
                          [
                            "1956"
                          ],
                          {
                            "frame": {
                              "duration": 300,
                              "redraw": true
                            },
                            "mode": "immediate",
                            "transition": {
                              "duration": 300
                            }
                          }
                        ],
                        "label": "1956",
                        "method": "animate"
                      },
                      {
                        "args": [
                          [
                            "1957"
                          ],
                          {
                            "frame": {
                              "duration": 300,
                              "redraw": true
                            },
                            "mode": "immediate",
                            "transition": {
                              "duration": 300
                            }
                          }
                        ],
                        "label": "1957",
                        "method": "animate"
                      },
                      {
                        "args": [
                          [
                            "1958"
                          ],
                          {
                            "frame": {
                              "duration": 300,
                              "redraw": true
                            },
                            "mode": "immediate",
                            "transition": {
                              "duration": 300
                            }
                          }
                        ],
                        "label": "1958",
                        "method": "animate"
                      },
                      {
                        "args": [
                          [
                            "1959"
                          ],
                          {
                            "frame": {
                              "duration": 300,
                              "redraw": true
                            },
                            "mode": "immediate",
                            "transition": {
                              "duration": 300
                            }
                          }
                        ],
                        "label": "1959",
                        "method": "animate"
                      },
                      {
                        "args": [
                          [
                            "1960"
                          ],
                          {
                            "frame": {
                              "duration": 300,
                              "redraw": true
                            },
                            "mode": "immediate",
                            "transition": {
                              "duration": 300
                            }
                          }
                        ],
                        "label": "1960",
                        "method": "animate"
                      },
                      {
                        "args": [
                          [
                            "1961"
                          ],
                          {
                            "frame": {
                              "duration": 300,
                              "redraw": true
                            },
                            "mode": "immediate",
                            "transition": {
                              "duration": 300
                            }
                          }
                        ],
                        "label": "1961",
                        "method": "animate"
                      },
                      {
                        "args": [
                          [
                            "1962"
                          ],
                          {
                            "frame": {
                              "duration": 300,
                              "redraw": true
                            },
                            "mode": "immediate",
                            "transition": {
                              "duration": 300
                            }
                          }
                        ],
                        "label": "1962",
                        "method": "animate"
                      },
                      {
                        "args": [
                          [
                            "1963"
                          ],
                          {
                            "frame": {
                              "duration": 300,
                              "redraw": true
                            },
                            "mode": "immediate",
                            "transition": {
                              "duration": 300
                            }
                          }
                        ],
                        "label": "1963",
                        "method": "animate"
                      },
                      {
                        "args": [
                          [
                            "1964"
                          ],
                          {
                            "frame": {
                              "duration": 300,
                              "redraw": true
                            },
                            "mode": "immediate",
                            "transition": {
                              "duration": 300
                            }
                          }
                        ],
                        "label": "1964",
                        "method": "animate"
                      },
                      {
                        "args": [
                          [
                            "1965"
                          ],
                          {
                            "frame": {
                              "duration": 300,
                              "redraw": true
                            },
                            "mode": "immediate",
                            "transition": {
                              "duration": 300
                            }
                          }
                        ],
                        "label": "1965",
                        "method": "animate"
                      },
                      {
                        "args": [
                          [
                            "1966"
                          ],
                          {
                            "frame": {
                              "duration": 300,
                              "redraw": true
                            },
                            "mode": "immediate",
                            "transition": {
                              "duration": 300
                            }
                          }
                        ],
                        "label": "1966",
                        "method": "animate"
                      },
                      {
                        "args": [
                          [
                            "1967"
                          ],
                          {
                            "frame": {
                              "duration": 300,
                              "redraw": true
                            },
                            "mode": "immediate",
                            "transition": {
                              "duration": 300
                            }
                          }
                        ],
                        "label": "1967",
                        "method": "animate"
                      },
                      {
                        "args": [
                          [
                            "1968"
                          ],
                          {
                            "frame": {
                              "duration": 300,
                              "redraw": true
                            },
                            "mode": "immediate",
                            "transition": {
                              "duration": 300
                            }
                          }
                        ],
                        "label": "1968",
                        "method": "animate"
                      },
                      {
                        "args": [
                          [
                            "1969"
                          ],
                          {
                            "frame": {
                              "duration": 300,
                              "redraw": true
                            },
                            "mode": "immediate",
                            "transition": {
                              "duration": 300
                            }
                          }
                        ],
                        "label": "1969",
                        "method": "animate"
                      },
                      {
                        "args": [
                          [
                            "1970"
                          ],
                          {
                            "frame": {
                              "duration": 300,
                              "redraw": true
                            },
                            "mode": "immediate",
                            "transition": {
                              "duration": 300
                            }
                          }
                        ],
                        "label": "1970",
                        "method": "animate"
                      },
                      {
                        "args": [
                          [
                            "1971"
                          ],
                          {
                            "frame": {
                              "duration": 300,
                              "redraw": true
                            },
                            "mode": "immediate",
                            "transition": {
                              "duration": 300
                            }
                          }
                        ],
                        "label": "1971",
                        "method": "animate"
                      },
                      {
                        "args": [
                          [
                            "1972"
                          ],
                          {
                            "frame": {
                              "duration": 300,
                              "redraw": true
                            },
                            "mode": "immediate",
                            "transition": {
                              "duration": 300
                            }
                          }
                        ],
                        "label": "1972",
                        "method": "animate"
                      },
                      {
                        "args": [
                          [
                            "1973"
                          ],
                          {
                            "frame": {
                              "duration": 300,
                              "redraw": true
                            },
                            "mode": "immediate",
                            "transition": {
                              "duration": 300
                            }
                          }
                        ],
                        "label": "1973",
                        "method": "animate"
                      },
                      {
                        "args": [
                          [
                            "1974"
                          ],
                          {
                            "frame": {
                              "duration": 300,
                              "redraw": true
                            },
                            "mode": "immediate",
                            "transition": {
                              "duration": 300
                            }
                          }
                        ],
                        "label": "1974",
                        "method": "animate"
                      },
                      {
                        "args": [
                          [
                            "1975"
                          ],
                          {
                            "frame": {
                              "duration": 300,
                              "redraw": true
                            },
                            "mode": "immediate",
                            "transition": {
                              "duration": 300
                            }
                          }
                        ],
                        "label": "1975",
                        "method": "animate"
                      },
                      {
                        "args": [
                          [
                            "1976"
                          ],
                          {
                            "frame": {
                              "duration": 300,
                              "redraw": true
                            },
                            "mode": "immediate",
                            "transition": {
                              "duration": 300
                            }
                          }
                        ],
                        "label": "1976",
                        "method": "animate"
                      },
                      {
                        "args": [
                          [
                            "1977"
                          ],
                          {
                            "frame": {
                              "duration": 300,
                              "redraw": true
                            },
                            "mode": "immediate",
                            "transition": {
                              "duration": 300
                            }
                          }
                        ],
                        "label": "1977",
                        "method": "animate"
                      },
                      {
                        "args": [
                          [
                            "1978"
                          ],
                          {
                            "frame": {
                              "duration": 300,
                              "redraw": true
                            },
                            "mode": "immediate",
                            "transition": {
                              "duration": 300
                            }
                          }
                        ],
                        "label": "1978",
                        "method": "animate"
                      },
                      {
                        "args": [
                          [
                            "1979"
                          ],
                          {
                            "frame": {
                              "duration": 300,
                              "redraw": true
                            },
                            "mode": "immediate",
                            "transition": {
                              "duration": 300
                            }
                          }
                        ],
                        "label": "1979",
                        "method": "animate"
                      },
                      {
                        "args": [
                          [
                            "1980"
                          ],
                          {
                            "frame": {
                              "duration": 300,
                              "redraw": true
                            },
                            "mode": "immediate",
                            "transition": {
                              "duration": 300
                            }
                          }
                        ],
                        "label": "1980",
                        "method": "animate"
                      },
                      {
                        "args": [
                          [
                            "1981"
                          ],
                          {
                            "frame": {
                              "duration": 300,
                              "redraw": true
                            },
                            "mode": "immediate",
                            "transition": {
                              "duration": 300
                            }
                          }
                        ],
                        "label": "1981",
                        "method": "animate"
                      },
                      {
                        "args": [
                          [
                            "1982"
                          ],
                          {
                            "frame": {
                              "duration": 300,
                              "redraw": true
                            },
                            "mode": "immediate",
                            "transition": {
                              "duration": 300
                            }
                          }
                        ],
                        "label": "1982",
                        "method": "animate"
                      },
                      {
                        "args": [
                          [
                            "1983"
                          ],
                          {
                            "frame": {
                              "duration": 300,
                              "redraw": true
                            },
                            "mode": "immediate",
                            "transition": {
                              "duration": 300
                            }
                          }
                        ],
                        "label": "1983",
                        "method": "animate"
                      },
                      {
                        "args": [
                          [
                            "1984"
                          ],
                          {
                            "frame": {
                              "duration": 300,
                              "redraw": true
                            },
                            "mode": "immediate",
                            "transition": {
                              "duration": 300
                            }
                          }
                        ],
                        "label": "1984",
                        "method": "animate"
                      },
                      {
                        "args": [
                          [
                            "1985"
                          ],
                          {
                            "frame": {
                              "duration": 300,
                              "redraw": true
                            },
                            "mode": "immediate",
                            "transition": {
                              "duration": 300
                            }
                          }
                        ],
                        "label": "1985",
                        "method": "animate"
                      },
                      {
                        "args": [
                          [
                            "1986"
                          ],
                          {
                            "frame": {
                              "duration": 300,
                              "redraw": true
                            },
                            "mode": "immediate",
                            "transition": {
                              "duration": 300
                            }
                          }
                        ],
                        "label": "1986",
                        "method": "animate"
                      },
                      {
                        "args": [
                          [
                            "1987"
                          ],
                          {
                            "frame": {
                              "duration": 300,
                              "redraw": true
                            },
                            "mode": "immediate",
                            "transition": {
                              "duration": 300
                            }
                          }
                        ],
                        "label": "1987",
                        "method": "animate"
                      },
                      {
                        "args": [
                          [
                            "1988"
                          ],
                          {
                            "frame": {
                              "duration": 300,
                              "redraw": true
                            },
                            "mode": "immediate",
                            "transition": {
                              "duration": 300
                            }
                          }
                        ],
                        "label": "1988",
                        "method": "animate"
                      },
                      {
                        "args": [
                          [
                            "1989"
                          ],
                          {
                            "frame": {
                              "duration": 300,
                              "redraw": true
                            },
                            "mode": "immediate",
                            "transition": {
                              "duration": 300
                            }
                          }
                        ],
                        "label": "1989",
                        "method": "animate"
                      },
                      {
                        "args": [
                          [
                            "1990"
                          ],
                          {
                            "frame": {
                              "duration": 300,
                              "redraw": true
                            },
                            "mode": "immediate",
                            "transition": {
                              "duration": 300
                            }
                          }
                        ],
                        "label": "1990",
                        "method": "animate"
                      },
                      {
                        "args": [
                          [
                            "1991"
                          ],
                          {
                            "frame": {
                              "duration": 300,
                              "redraw": true
                            },
                            "mode": "immediate",
                            "transition": {
                              "duration": 300
                            }
                          }
                        ],
                        "label": "1991",
                        "method": "animate"
                      },
                      {
                        "args": [
                          [
                            "1992"
                          ],
                          {
                            "frame": {
                              "duration": 300,
                              "redraw": true
                            },
                            "mode": "immediate",
                            "transition": {
                              "duration": 300
                            }
                          }
                        ],
                        "label": "1992",
                        "method": "animate"
                      },
                      {
                        "args": [
                          [
                            "1993"
                          ],
                          {
                            "frame": {
                              "duration": 300,
                              "redraw": true
                            },
                            "mode": "immediate",
                            "transition": {
                              "duration": 300
                            }
                          }
                        ],
                        "label": "1993",
                        "method": "animate"
                      },
                      {
                        "args": [
                          [
                            "1994"
                          ],
                          {
                            "frame": {
                              "duration": 300,
                              "redraw": true
                            },
                            "mode": "immediate",
                            "transition": {
                              "duration": 300
                            }
                          }
                        ],
                        "label": "1994",
                        "method": "animate"
                      },
                      {
                        "args": [
                          [
                            "1995"
                          ],
                          {
                            "frame": {
                              "duration": 300,
                              "redraw": true
                            },
                            "mode": "immediate",
                            "transition": {
                              "duration": 300
                            }
                          }
                        ],
                        "label": "1995",
                        "method": "animate"
                      },
                      {
                        "args": [
                          [
                            "1996"
                          ],
                          {
                            "frame": {
                              "duration": 300,
                              "redraw": true
                            },
                            "mode": "immediate",
                            "transition": {
                              "duration": 300
                            }
                          }
                        ],
                        "label": "1996",
                        "method": "animate"
                      },
                      {
                        "args": [
                          [
                            "1997"
                          ],
                          {
                            "frame": {
                              "duration": 300,
                              "redraw": true
                            },
                            "mode": "immediate",
                            "transition": {
                              "duration": 300
                            }
                          }
                        ],
                        "label": "1997",
                        "method": "animate"
                      },
                      {
                        "args": [
                          [
                            "1998"
                          ],
                          {
                            "frame": {
                              "duration": 300,
                              "redraw": true
                            },
                            "mode": "immediate",
                            "transition": {
                              "duration": 300
                            }
                          }
                        ],
                        "label": "1998",
                        "method": "animate"
                      },
                      {
                        "args": [
                          [
                            "1999"
                          ],
                          {
                            "frame": {
                              "duration": 300,
                              "redraw": true
                            },
                            "mode": "immediate",
                            "transition": {
                              "duration": 300
                            }
                          }
                        ],
                        "label": "1999",
                        "method": "animate"
                      },
                      {
                        "args": [
                          [
                            "2000"
                          ],
                          {
                            "frame": {
                              "duration": 300,
                              "redraw": true
                            },
                            "mode": "immediate",
                            "transition": {
                              "duration": 300
                            }
                          }
                        ],
                        "label": "2000",
                        "method": "animate"
                      },
                      {
                        "args": [
                          [
                            "2001"
                          ],
                          {
                            "frame": {
                              "duration": 300,
                              "redraw": true
                            },
                            "mode": "immediate",
                            "transition": {
                              "duration": 300
                            }
                          }
                        ],
                        "label": "2001",
                        "method": "animate"
                      },
                      {
                        "args": [
                          [
                            "2002"
                          ],
                          {
                            "frame": {
                              "duration": 300,
                              "redraw": true
                            },
                            "mode": "immediate",
                            "transition": {
                              "duration": 300
                            }
                          }
                        ],
                        "label": "2002",
                        "method": "animate"
                      },
                      {
                        "args": [
                          [
                            "2003"
                          ],
                          {
                            "frame": {
                              "duration": 300,
                              "redraw": true
                            },
                            "mode": "immediate",
                            "transition": {
                              "duration": 300
                            }
                          }
                        ],
                        "label": "2003",
                        "method": "animate"
                      },
                      {
                        "args": [
                          [
                            "2004"
                          ],
                          {
                            "frame": {
                              "duration": 300,
                              "redraw": true
                            },
                            "mode": "immediate",
                            "transition": {
                              "duration": 300
                            }
                          }
                        ],
                        "label": "2004",
                        "method": "animate"
                      },
                      {
                        "args": [
                          [
                            "2005"
                          ],
                          {
                            "frame": {
                              "duration": 300,
                              "redraw": true
                            },
                            "mode": "immediate",
                            "transition": {
                              "duration": 300
                            }
                          }
                        ],
                        "label": "2005",
                        "method": "animate"
                      },
                      {
                        "args": [
                          [
                            "2006"
                          ],
                          {
                            "frame": {
                              "duration": 300,
                              "redraw": true
                            },
                            "mode": "immediate",
                            "transition": {
                              "duration": 300
                            }
                          }
                        ],
                        "label": "2006",
                        "method": "animate"
                      },
                      {
                        "args": [
                          [
                            "2007"
                          ],
                          {
                            "frame": {
                              "duration": 300,
                              "redraw": true
                            },
                            "mode": "immediate",
                            "transition": {
                              "duration": 300
                            }
                          }
                        ],
                        "label": "2007",
                        "method": "animate"
                      },
                      {
                        "args": [
                          [
                            "2008"
                          ],
                          {
                            "frame": {
                              "duration": 300,
                              "redraw": true
                            },
                            "mode": "immediate",
                            "transition": {
                              "duration": 300
                            }
                          }
                        ],
                        "label": "2008",
                        "method": "animate"
                      },
                      {
                        "args": [
                          [
                            "2009"
                          ],
                          {
                            "frame": {
                              "duration": 300,
                              "redraw": true
                            },
                            "mode": "immediate",
                            "transition": {
                              "duration": 300
                            }
                          }
                        ],
                        "label": "2009",
                        "method": "animate"
                      },
                      {
                        "args": [
                          [
                            "2010"
                          ],
                          {
                            "frame": {
                              "duration": 300,
                              "redraw": true
                            },
                            "mode": "immediate",
                            "transition": {
                              "duration": 300
                            }
                          }
                        ],
                        "label": "2010",
                        "method": "animate"
                      },
                      {
                        "args": [
                          [
                            "2011"
                          ],
                          {
                            "frame": {
                              "duration": 300,
                              "redraw": true
                            },
                            "mode": "immediate",
                            "transition": {
                              "duration": 300
                            }
                          }
                        ],
                        "label": "2011",
                        "method": "animate"
                      },
                      {
                        "args": [
                          [
                            "2012"
                          ],
                          {
                            "frame": {
                              "duration": 300,
                              "redraw": true
                            },
                            "mode": "immediate",
                            "transition": {
                              "duration": 300
                            }
                          }
                        ],
                        "label": "2012",
                        "method": "animate"
                      },
                      {
                        "args": [
                          [
                            "2013"
                          ],
                          {
                            "frame": {
                              "duration": 300,
                              "redraw": true
                            },
                            "mode": "immediate",
                            "transition": {
                              "duration": 300
                            }
                          }
                        ],
                        "label": "2013",
                        "method": "animate"
                      },
                      {
                        "args": [
                          [
                            "2014"
                          ],
                          {
                            "frame": {
                              "duration": 300,
                              "redraw": true
                            },
                            "mode": "immediate",
                            "transition": {
                              "duration": 300
                            }
                          }
                        ],
                        "label": "2014",
                        "method": "animate"
                      },
                      {
                        "args": [
                          [
                            "2015"
                          ],
                          {
                            "frame": {
                              "duration": 300,
                              "redraw": true
                            },
                            "mode": "immediate",
                            "transition": {
                              "duration": 300
                            }
                          }
                        ],
                        "label": "2015",
                        "method": "animate"
                      },
                      {
                        "args": [
                          [
                            "2016"
                          ],
                          {
                            "frame": {
                              "duration": 300,
                              "redraw": true
                            },
                            "mode": "immediate",
                            "transition": {
                              "duration": 300
                            }
                          }
                        ],
                        "label": "2016",
                        "method": "animate"
                      },
                      {
                        "args": [
                          [
                            "2017"
                          ],
                          {
                            "frame": {
                              "duration": 300,
                              "redraw": true
                            },
                            "mode": "immediate",
                            "transition": {
                              "duration": 300
                            }
                          }
                        ],
                        "label": "2017",
                        "method": "animate"
                      },
                      {
                        "args": [
                          [
                            "2018"
                          ],
                          {
                            "frame": {
                              "duration": 300,
                              "redraw": true
                            },
                            "mode": "immediate",
                            "transition": {
                              "duration": 300
                            }
                          }
                        ],
                        "label": "2018",
                        "method": "animate"
                      },
                      {
                        "args": [
                          [
                            "2019"
                          ],
                          {
                            "frame": {
                              "duration": 300,
                              "redraw": true
                            },
                            "mode": "immediate",
                            "transition": {
                              "duration": 300
                            }
                          }
                        ],
                        "label": "2019",
                        "method": "animate"
                      },
                      {
                        "args": [
                          [
                            "2020"
                          ],
                          {
                            "frame": {
                              "duration": 300,
                              "redraw": true
                            },
                            "mode": "immediate",
                            "transition": {
                              "duration": 300
                            }
                          }
                        ],
                        "label": "2020",
                        "method": "animate"
                      },
                      {
                        "args": [
                          [
                            "2021"
                          ],
                          {
                            "frame": {
                              "duration": 300,
                              "redraw": true
                            },
                            "mode": "immediate",
                            "transition": {
                              "duration": 300
                            }
                          }
                        ],
                        "label": "2021",
                        "method": "animate"
                      },
                      {
                        "args": [
                          [
                            "2022"
                          ],
                          {
                            "frame": {
                              "duration": 300,
                              "redraw": true
                            },
                            "mode": "immediate",
                            "transition": {
                              "duration": 300
                            }
                          }
                        ],
                        "label": "2022",
                        "method": "animate"
                      }
                    ],
                    "x": 0.025,
                    "xanchor": "left",
                    "y": 0,
                    "yanchor": "top"
                  }
                ],
                "template": {
                  "data": {
                    "bar": [
                      {
                        "error_x": {
                          "color": "#f2f5fa"
                        },
                        "error_y": {
                          "color": "#f2f5fa"
                        },
                        "marker": {
                          "line": {
                            "color": "rgb(17,17,17)",
                            "width": 0.5
                          },
                          "pattern": {
                            "fillmode": "overlay",
                            "size": 10,
                            "solidity": 0.2
                          }
                        },
                        "type": "bar"
                      }
                    ],
                    "barpolar": [
                      {
                        "marker": {
                          "line": {
                            "color": "rgb(17,17,17)",
                            "width": 0.5
                          },
                          "pattern": {
                            "fillmode": "overlay",
                            "size": 10,
                            "solidity": 0.2
                          }
                        },
                        "type": "barpolar"
                      }
                    ],
                    "carpet": [
                      {
                        "aaxis": {
                          "endlinecolor": "#A2B1C6",
                          "gridcolor": "#506784",
                          "linecolor": "#506784",
                          "minorgridcolor": "#506784",
                          "startlinecolor": "#A2B1C6"
                        },
                        "baxis": {
                          "endlinecolor": "#A2B1C6",
                          "gridcolor": "#506784",
                          "linecolor": "#506784",
                          "minorgridcolor": "#506784",
                          "startlinecolor": "#A2B1C6"
                        },
                        "type": "carpet"
                      }
                    ],
                    "choropleth": [
                      {
                        "colorbar": {
                          "outlinewidth": 0,
                          "ticks": ""
                        },
                        "type": "choropleth"
                      }
                    ],
                    "contour": [
                      {
                        "colorbar": {
                          "outlinewidth": 0,
                          "ticks": ""
                        },
                        "colorscale": [
                          [
                            0,
                            "#0d0887"
                          ],
                          [
                            0.1111111111111111,
                            "#46039f"
                          ],
                          [
                            0.2222222222222222,
                            "#7201a8"
                          ],
                          [
                            0.3333333333333333,
                            "#9c179e"
                          ],
                          [
                            0.4444444444444444,
                            "#bd3786"
                          ],
                          [
                            0.5555555555555556,
                            "#d8576b"
                          ],
                          [
                            0.6666666666666666,
                            "#ed7953"
                          ],
                          [
                            0.7777777777777778,
                            "#fb9f3a"
                          ],
                          [
                            0.8888888888888888,
                            "#fdca26"
                          ],
                          [
                            1,
                            "#f0f921"
                          ]
                        ],
                        "type": "contour"
                      }
                    ],
                    "contourcarpet": [
                      {
                        "colorbar": {
                          "outlinewidth": 0,
                          "ticks": ""
                        },
                        "type": "contourcarpet"
                      }
                    ],
                    "heatmap": [
                      {
                        "colorbar": {
                          "outlinewidth": 0,
                          "ticks": ""
                        },
                        "colorscale": [
                          [
                            0,
                            "#0d0887"
                          ],
                          [
                            0.1111111111111111,
                            "#46039f"
                          ],
                          [
                            0.2222222222222222,
                            "#7201a8"
                          ],
                          [
                            0.3333333333333333,
                            "#9c179e"
                          ],
                          [
                            0.4444444444444444,
                            "#bd3786"
                          ],
                          [
                            0.5555555555555556,
                            "#d8576b"
                          ],
                          [
                            0.6666666666666666,
                            "#ed7953"
                          ],
                          [
                            0.7777777777777778,
                            "#fb9f3a"
                          ],
                          [
                            0.8888888888888888,
                            "#fdca26"
                          ],
                          [
                            1,
                            "#f0f921"
                          ]
                        ],
                        "type": "heatmap"
                      }
                    ],
                    "heatmapgl": [
                      {
                        "colorbar": {
                          "outlinewidth": 0,
                          "ticks": ""
                        },
                        "colorscale": [
                          [
                            0,
                            "#0d0887"
                          ],
                          [
                            0.1111111111111111,
                            "#46039f"
                          ],
                          [
                            0.2222222222222222,
                            "#7201a8"
                          ],
                          [
                            0.3333333333333333,
                            "#9c179e"
                          ],
                          [
                            0.4444444444444444,
                            "#bd3786"
                          ],
                          [
                            0.5555555555555556,
                            "#d8576b"
                          ],
                          [
                            0.6666666666666666,
                            "#ed7953"
                          ],
                          [
                            0.7777777777777778,
                            "#fb9f3a"
                          ],
                          [
                            0.8888888888888888,
                            "#fdca26"
                          ],
                          [
                            1,
                            "#f0f921"
                          ]
                        ],
                        "type": "heatmapgl"
                      }
                    ],
                    "histogram": [
                      {
                        "marker": {
                          "pattern": {
                            "fillmode": "overlay",
                            "size": 10,
                            "solidity": 0.2
                          }
                        },
                        "type": "histogram"
                      }
                    ],
                    "histogram2d": [
                      {
                        "colorbar": {
                          "outlinewidth": 0,
                          "ticks": ""
                        },
                        "colorscale": [
                          [
                            0,
                            "#0d0887"
                          ],
                          [
                            0.1111111111111111,
                            "#46039f"
                          ],
                          [
                            0.2222222222222222,
                            "#7201a8"
                          ],
                          [
                            0.3333333333333333,
                            "#9c179e"
                          ],
                          [
                            0.4444444444444444,
                            "#bd3786"
                          ],
                          [
                            0.5555555555555556,
                            "#d8576b"
                          ],
                          [
                            0.6666666666666666,
                            "#ed7953"
                          ],
                          [
                            0.7777777777777778,
                            "#fb9f3a"
                          ],
                          [
                            0.8888888888888888,
                            "#fdca26"
                          ],
                          [
                            1,
                            "#f0f921"
                          ]
                        ],
                        "type": "histogram2d"
                      }
                    ],
                    "histogram2dcontour": [
                      {
                        "colorbar": {
                          "outlinewidth": 0,
                          "ticks": ""
                        },
                        "colorscale": [
                          [
                            0,
                            "#0d0887"
                          ],
                          [
                            0.1111111111111111,
                            "#46039f"
                          ],
                          [
                            0.2222222222222222,
                            "#7201a8"
                          ],
                          [
                            0.3333333333333333,
                            "#9c179e"
                          ],
                          [
                            0.4444444444444444,
                            "#bd3786"
                          ],
                          [
                            0.5555555555555556,
                            "#d8576b"
                          ],
                          [
                            0.6666666666666666,
                            "#ed7953"
                          ],
                          [
                            0.7777777777777778,
                            "#fb9f3a"
                          ],
                          [
                            0.8888888888888888,
                            "#fdca26"
                          ],
                          [
                            1,
                            "#f0f921"
                          ]
                        ],
                        "type": "histogram2dcontour"
                      }
                    ],
                    "mesh3d": [
                      {
                        "colorbar": {
                          "outlinewidth": 0,
                          "ticks": ""
                        },
                        "type": "mesh3d"
                      }
                    ],
                    "parcoords": [
                      {
                        "line": {
                          "colorbar": {
                            "outlinewidth": 0,
                            "ticks": ""
                          }
                        },
                        "type": "parcoords"
                      }
                    ],
                    "pie": [
                      {
                        "automargin": true,
                        "type": "pie"
                      }
                    ],
                    "scatter": [
                      {
                        "marker": {
                          "line": {
                            "color": "#283442"
                          }
                        },
                        "type": "scatter"
                      }
                    ],
                    "scatter3d": [
                      {
                        "line": {
                          "colorbar": {
                            "outlinewidth": 0,
                            "ticks": ""
                          }
                        },
                        "marker": {
                          "colorbar": {
                            "outlinewidth": 0,
                            "ticks": ""
                          }
                        },
                        "type": "scatter3d"
                      }
                    ],
                    "scattercarpet": [
                      {
                        "marker": {
                          "colorbar": {
                            "outlinewidth": 0,
                            "ticks": ""
                          }
                        },
                        "type": "scattercarpet"
                      }
                    ],
                    "scattergeo": [
                      {
                        "marker": {
                          "colorbar": {
                            "outlinewidth": 0,
                            "ticks": ""
                          }
                        },
                        "type": "scattergeo"
                      }
                    ],
                    "scattergl": [
                      {
                        "marker": {
                          "line": {
                            "color": "#283442"
                          }
                        },
                        "type": "scattergl"
                      }
                    ],
                    "scattermapbox": [
                      {
                        "marker": {
                          "colorbar": {
                            "outlinewidth": 0,
                            "ticks": ""
                          }
                        },
                        "type": "scattermapbox"
                      }
                    ],
                    "scatterpolar": [
                      {
                        "marker": {
                          "colorbar": {
                            "outlinewidth": 0,
                            "ticks": ""
                          }
                        },
                        "type": "scatterpolar"
                      }
                    ],
                    "scatterpolargl": [
                      {
                        "marker": {
                          "colorbar": {
                            "outlinewidth": 0,
                            "ticks": ""
                          }
                        },
                        "type": "scatterpolargl"
                      }
                    ],
                    "scatterternary": [
                      {
                        "marker": {
                          "colorbar": {
                            "outlinewidth": 0,
                            "ticks": ""
                          }
                        },
                        "type": "scatterternary"
                      }
                    ],
                    "surface": [
                      {
                        "colorbar": {
                          "outlinewidth": 0,
                          "ticks": ""
                        },
                        "colorscale": [
                          [
                            0,
                            "#0d0887"
                          ],
                          [
                            0.1111111111111111,
                            "#46039f"
                          ],
                          [
                            0.2222222222222222,
                            "#7201a8"
                          ],
                          [
                            0.3333333333333333,
                            "#9c179e"
                          ],
                          [
                            0.4444444444444444,
                            "#bd3786"
                          ],
                          [
                            0.5555555555555556,
                            "#d8576b"
                          ],
                          [
                            0.6666666666666666,
                            "#ed7953"
                          ],
                          [
                            0.7777777777777778,
                            "#fb9f3a"
                          ],
                          [
                            0.8888888888888888,
                            "#fdca26"
                          ],
                          [
                            1,
                            "#f0f921"
                          ]
                        ],
                        "type": "surface"
                      }
                    ],
                    "table": [
                      {
                        "cells": {
                          "fill": {
                            "color": "#506784"
                          },
                          "line": {
                            "color": "rgb(17,17,17)"
                          }
                        },
                        "header": {
                          "fill": {
                            "color": "#2a3f5f"
                          },
                          "line": {
                            "color": "rgb(17,17,17)"
                          }
                        },
                        "type": "table"
                      }
                    ]
                  },
                  "layout": {
                    "annotationdefaults": {
                      "arrowcolor": "#f2f5fa",
                      "arrowhead": 0,
                      "arrowwidth": 1
                    },
                    "autotypenumbers": "strict",
                    "coloraxis": {
                      "colorbar": {
                        "outlinewidth": 0,
                        "ticks": ""
                      }
                    },
                    "colorscale": {
                      "diverging": [
                        [
                          0,
                          "#8e0152"
                        ],
                        [
                          0.1,
                          "#c51b7d"
                        ],
                        [
                          0.2,
                          "#de77ae"
                        ],
                        [
                          0.3,
                          "#f1b6da"
                        ],
                        [
                          0.4,
                          "#fde0ef"
                        ],
                        [
                          0.5,
                          "#f7f7f7"
                        ],
                        [
                          0.6,
                          "#e6f5d0"
                        ],
                        [
                          0.7,
                          "#b8e186"
                        ],
                        [
                          0.8,
                          "#7fbc41"
                        ],
                        [
                          0.9,
                          "#4d9221"
                        ],
                        [
                          1,
                          "#276419"
                        ]
                      ],
                      "sequential": [
                        [
                          0,
                          "#0d0887"
                        ],
                        [
                          0.1111111111111111,
                          "#46039f"
                        ],
                        [
                          0.2222222222222222,
                          "#7201a8"
                        ],
                        [
                          0.3333333333333333,
                          "#9c179e"
                        ],
                        [
                          0.4444444444444444,
                          "#bd3786"
                        ],
                        [
                          0.5555555555555556,
                          "#d8576b"
                        ],
                        [
                          0.6666666666666666,
                          "#ed7953"
                        ],
                        [
                          0.7777777777777778,
                          "#fb9f3a"
                        ],
                        [
                          0.8888888888888888,
                          "#fdca26"
                        ],
                        [
                          1,
                          "#f0f921"
                        ]
                      ],
                      "sequentialminus": [
                        [
                          0,
                          "#0d0887"
                        ],
                        [
                          0.1111111111111111,
                          "#46039f"
                        ],
                        [
                          0.2222222222222222,
                          "#7201a8"
                        ],
                        [
                          0.3333333333333333,
                          "#9c179e"
                        ],
                        [
                          0.4444444444444444,
                          "#bd3786"
                        ],
                        [
                          0.5555555555555556,
                          "#d8576b"
                        ],
                        [
                          0.6666666666666666,
                          "#ed7953"
                        ],
                        [
                          0.7777777777777778,
                          "#fb9f3a"
                        ],
                        [
                          0.8888888888888888,
                          "#fdca26"
                        ],
                        [
                          1,
                          "#f0f921"
                        ]
                      ]
                    },
                    "colorway": [
                      "#636efa",
                      "#EF553B",
                      "#00cc96",
                      "#ab63fa",
                      "#FFA15A",
                      "#19d3f3",
                      "#FF6692",
                      "#B6E880",
                      "#FF97FF",
                      "#FECB52"
                    ],
                    "font": {
                      "color": "#f2f5fa"
                    },
                    "geo": {
                      "bgcolor": "rgb(17,17,17)",
                      "lakecolor": "rgb(17,17,17)",
                      "landcolor": "rgb(17,17,17)",
                      "showlakes": true,
                      "showland": true,
                      "subunitcolor": "#506784"
                    },
                    "hoverlabel": {
                      "align": "left"
                    },
                    "hovermode": "closest",
                    "mapbox": {
                      "style": "dark"
                    },
                    "paper_bgcolor": "rgb(17,17,17)",
                    "plot_bgcolor": "rgb(17,17,17)",
                    "polar": {
                      "angularaxis": {
                        "gridcolor": "#506784",
                        "linecolor": "#506784",
                        "ticks": ""
                      },
                      "bgcolor": "rgb(17,17,17)",
                      "radialaxis": {
                        "gridcolor": "#506784",
                        "linecolor": "#506784",
                        "ticks": ""
                      }
                    },
                    "scene": {
                      "xaxis": {
                        "backgroundcolor": "rgb(17,17,17)",
                        "gridcolor": "#506784",
                        "gridwidth": 2,
                        "linecolor": "#506784",
                        "showbackground": true,
                        "ticks": "",
                        "zerolinecolor": "#C8D4E3"
                      },
                      "yaxis": {
                        "backgroundcolor": "rgb(17,17,17)",
                        "gridcolor": "#506784",
                        "gridwidth": 2,
                        "linecolor": "#506784",
                        "showbackground": true,
                        "ticks": "",
                        "zerolinecolor": "#C8D4E3"
                      },
                      "zaxis": {
                        "backgroundcolor": "rgb(17,17,17)",
                        "gridcolor": "#506784",
                        "gridwidth": 2,
                        "linecolor": "#506784",
                        "showbackground": true,
                        "ticks": "",
                        "zerolinecolor": "#C8D4E3"
                      }
                    },
                    "shapedefaults": {
                      "line": {
                        "color": "#f2f5fa"
                      }
                    },
                    "sliderdefaults": {
                      "bgcolor": "#C8D4E3",
                      "bordercolor": "rgb(17,17,17)",
                      "borderwidth": 1,
                      "tickwidth": 0
                    },
                    "ternary": {
                      "aaxis": {
                        "gridcolor": "#506784",
                        "linecolor": "#506784",
                        "ticks": ""
                      },
                      "baxis": {
                        "gridcolor": "#506784",
                        "linecolor": "#506784",
                        "ticks": ""
                      },
                      "bgcolor": "rgb(17,17,17)",
                      "caxis": {
                        "gridcolor": "#506784",
                        "linecolor": "#506784",
                        "ticks": ""
                      }
                    },
                    "title": {
                      "x": 0.05
                    },
                    "updatemenudefaults": {
                      "bgcolor": "#506784",
                      "borderwidth": 0
                    },
                    "xaxis": {
                      "automargin": true,
                      "gridcolor": "#283442",
                      "linecolor": "#506784",
                      "ticks": "",
                      "title": {
                        "standoff": 15
                      },
                      "zerolinecolor": "#283442",
                      "zerolinewidth": 2
                    },
                    "yaxis": {
                      "automargin": true,
                      "gridcolor": "#283442",
                      "linecolor": "#506784",
                      "ticks": "",
                      "title": {
                        "standoff": 15
                      },
                      "zerolinecolor": "#283442",
                      "zerolinewidth": 2
                    }
                  }
                },
                "title": {
                  "text": "1950-2022 Yılları Arasında Eyaletlere Göre Toplam Kasırga Sayıları"
                },
                "updatemenus": [
                  {
                    "buttons": [
                      {
                        "args": [
                          null,
                          {
                            "frame": {
                              "duration": 1600,
                              "redraw": true
                            },
                            "fromcurrent": true,
                            "transition": {
                              "duration": 500,
                              "easing": "linear"
                            }
                          }
                        ],
                        "label": "Oynat",
                        "method": "animate"
                      },
                      {
                        "args": [
                          [
                            null
                          ],
                          {
                            "frame": {
                              "duration": 0,
                              "redraw": true
                            },
                            "mode": "immediate",
                            "transition": {
                              "duration": 0
                            }
                          }
                        ],
                        "label": "Duraklat",
                        "method": "animate"
                      }
                    ],
                    "direction": "left",
                    "pad": {
                      "r": 10,
                      "t": 87
                    },
                    "showactive": false,
                    "type": "buttons",
                    "x": 0.025,
                    "xanchor": "right",
                    "y": 0.05,
                    "yanchor": "top"
                  }
                ],
                "xaxis": {
                  "anchor": "y",
                  "domain": [
                    0,
                    1
                  ],
                  "range": [
                    0,
                    10191.5
                  ],
                  "ticktext": [
                    "0",
                    "1.000",
                    "2.000",
                    "3.000",
                    "4.000",
                    "5.000",
                    "6.000",
                    "7.000",
                    "8.000",
                    "9.000"
                  ],
                  "tickvals": [
                    0,
                    1000,
                    2000,
                    3000,
                    4000,
                    5000,
                    6000,
                    7000,
                    8000,
                    9000
                  ],
                  "title": {
                    "text": "Toplam Kasırga Sayısı"
                  }
                },
                "yaxis": {
                  "anchor": "x",
                  "categoryarray": [
                    "Virgin Islands",
                    "District of Columbia",
                    "Alaska",
                    "Rhode Island",
                    "Puerto Rico",
                    "Hawaii",
                    "Vermont",
                    "Delaware",
                    "Nevada",
                    "New Hampshire",
                    "Connecticut",
                    "Oregon",
                    "Washington",
                    "Maine",
                    "Utah",
                    "West Virginia",
                    "New Jersey",
                    "Massachusetts",
                    "Idaho",
                    "Arizona",
                    "Maryland",
                    "Montana",
                    "California",
                    "New York",
                    "New Mexico",
                    "Wyoming",
                    "Virginia",
                    "Pennsylvania",
                    "Michigan",
                    "Kentucky",
                    "South Carolina",
                    "Ohio",
                    "Tennessee",
                    "North Carolina",
                    "Wisconsin",
                    "Indiana",
                    "North Dakota",
                    "Georgia",
                    "South Dakota",
                    "Arkansas",
                    "Minnesota",
                    "Louisiana",
                    "Colorado",
                    "Missouri",
                    "Alabama",
                    "Mississippi",
                    "Illinois",
                    "Iowa",
                    "Nebraska",
                    "Florida",
                    "Oklahoma",
                    "Kansas",
                    "Texas"
                  ],
                  "categoryorder": "array",
                  "domain": [
                    0,
                    1
                  ],
                  "title": {
                    "text": "Eyaletler"
                  }
                }
              }
            }
          },
          "metadata": {},
          "output_type": "display_data"
        }
      ],
      "source": [
        "# Eyaletlere ve yıllara göre tornado sayılarını hesapla ve kısaltmaları tam isimlerle değiştir\n",
        "state_year_counts = df.groupby(['yr', 'st']).size().reset_index(name='count')\n",
        "state_year_counts['st'] = state_year_counts['st'].apply(lambda x: state_names[x])\n",
        "\n",
        "# Toplam kasırga sayılarını hesaplamak için pivot tablosu oluştur\n",
        "state_year_pivot = state_year_counts.pivot_table(index='st', columns='yr', values='count', fill_value=0)\n",
        "state_year_cumsum = state_year_pivot.cumsum(axis=1).reset_index().melt(id_vars=['st'], var_name='yr', value_name='count')\n",
        "\n",
        "# Son yıla göre sıralama belirle ve DataFrame'i bu sıralamaya göre düzenle\n",
        "final_year_ranking = state_year_cumsum[state_year_cumsum['yr'] == state_year_cumsum['yr'].max()].groupby('st')['count'].sum().sort_values(ascending=False).index.tolist()\n",
        "state_year_cumsum['fixed_rank'] = state_year_cumsum['st'].map({name: i for i, name in enumerate(final_year_ranking)})\n",
        "state_year_cumsum.sort_values(['yr', 'fixed_rank'], inplace=True)\n",
        "\n",
        "# Maksimum toplam sayıyı hesapla ve x ekseni aralığını belirle\n",
        "max_cumulative_count = state_year_cumsum['count'].max()\n",
        "range_x = [0, max_cumulative_count * 1.1]\n",
        "\n",
        "# Yıllık toplam kasırga sayısını hesapla ve eyaletlere göre sırala\n",
        "state_year_total = state_year_cumsum.groupby(['yr', 'st'])['count'].sum().reset_index()\n",
        "state_year_total['rank'] = state_year_total.groupby('yr')['count'].rank(ascending=False, method='first')\n",
        "\n",
        "# Eyaletlerin kasırga sayılarına göre sıralanmasını sağlayacak şekilde veriyi birleştir\n",
        "merged = state_year_cumsum.merge(state_year_total[['yr', 'st', 'rank']], on=['yr', 'st'])\n",
        "merged = merged.sort_values(['yr', 'rank'])\n",
        "merged['yr'] = merged['yr'].astype(int)\n",
        "\n",
        "# Eyalet sıralamasını son yıla göre sabit tut\n",
        "final_year_ranking.reverse()  # Listeyi tersine çevir\n",
        "merged['fixed_rank'] = merged['st'].map({name: i for i, name in enumerate(final_year_ranking)})\n",
        "merged.sort_values(['yr', 'fixed_rank'], inplace=True)\n",
        "\n",
        "fig = px.bar(merged,\n",
        "             x='count',\n",
        "             y='st',\n",
        "             animation_frame='yr',\n",
        "             orientation='h',\n",
        "             title='1950-2022 Yılları Arasında Eyaletlere Göre Toplam Kasırga Sayıları',\n",
        "             labels={'count': 'Toplam Kasırga Sayısı', 'st': 'Eyaletler', 'yr': 'Yıl'},\n",
        "             hover_data={'count': True, 'yr': True, 'st': False},\n",
        "             range_x=[0, max_cumulative_count * 1.1],\n",
        "             color_discrete_sequence=['#FFD700'])\n",
        "\n",
        "# Y ekseni sıralamasını sabitle (en yüksekten en düşüğe)\n",
        "fig.update_yaxes(categoryorder='array', categoryarray=final_year_ranking)\n",
        "\n",
        "fig.update_layout(\n",
        "    template='plotly_dark',\n",
        "    updatemenus=[{\n",
        "        'buttons': [\n",
        "            {\n",
        "                'args': [None, {\n",
        "                    'frame': {'duration': 1600, 'redraw': True},\n",
        "                    'fromcurrent': True,\n",
        "                    'transition': {'duration': 500, 'easing': 'linear'}\n",
        "                }],\n",
        "                'label': 'Oynat',\n",
        "                'method': 'animate'\n",
        "            },\n",
        "            {\n",
        "                'args': [[None], {\n",
        "                    'frame': {'duration': 0, 'redraw': True},\n",
        "                    'mode': 'immediate',\n",
        "                    'transition': {'duration': 0}\n",
        "                }],\n",
        "                'label': 'Duraklat',\n",
        "                'method': 'animate'\n",
        "            }\n",
        "        ],\n",
        "        'direction': 'left',\n",
        "        'pad': {'r': 10, 't': 87},\n",
        "        'showactive': False,\n",
        "        'type': 'buttons',\n",
        "        'x': 0.025,\n",
        "        'xanchor': 'right',\n",
        "        'y': 0.05,\n",
        "        'yanchor': 'top'\n",
        "    }],\n",
        "    sliders=[{\n",
        "        'currentvalue': {\n",
        "            'prefix': 'Yıl: ',\n",
        "            'visible': True,\n",
        "            'xanchor': 'right'\n",
        "        },\n",
        "        'steps': [{'args': [[str(year)], {'frame': {'duration': 300, 'redraw': True}, 'mode': 'immediate', 'transition': {'duration': 300}}],\n",
        "                   'label': str(year), 'method': 'animate'} for year in merged['yr'].unique()],\n",
        "        'x': 0.025,\n",
        "        'len': 0.9,\n",
        "        'pad': {'b': 10, 't': 30}\n",
        "    }],\n",
        "    height=1100,\n",
        "    margin=dict(l=170, r=50, t=80, b=20),\n",
        "    font=dict(family=\"Arial\", size=12, color=\"white\")\n",
        ")\n",
        "\n",
        "# X ekseni etiketlerini özel olarak ayarla\n",
        "tickvals = [i for i in range(0, int(max_cumulative_count) + 100, 1000)]\n",
        "ticktext = [f'{i:,}'.replace(',', '.') for i in tickvals]\n",
        "fig.update_xaxes(tickvals=tickvals, ticktext=ticktext)\n",
        "#fig.update_yaxes(autorange=True)\n",
        "\n",
        "# Çubuk kalınlıklarını artırma ve renkleri ayarla\n",
        "fig.update_traces(marker=dict(line=dict(width=1), opacity=0.7),\n",
        "                  selector=dict(type='bar'))\n",
        "\n",
        "fig.show()\n"
      ]
    },
    {
      "cell_type": "markdown",
      "metadata": {},
      "source": [
        "### Şekil 3. Bu animasyonlu yatay çubuk grafiği, 1950'den 2022'ye kadar ABD'nin her eyaletinde meydana gelen toplam kasırga sayılarını ve yıllık değişimleri göstermektedir. Her çubuk, bir eyaletin karşılaştığı toplam kasırga sayısını temsil etmekte ve animasyon, zaman içindeki değişimi vurgulamaktadır. Bu görselleştirme, kasırga etkinliğinin coğrafi dağılımını ve zaman içindeki trendleri anlamamıza yardımcı olur. Y-ekseni 2022 yılına göre en fazla toplam kasırga sayısı görülen eyaletten en aza doğru sıralanmıştır. Böylece yıllar içerisindeki değişimler, sıçramalar gözlemlenebilir bir hale gelmiştir.\n",
        "\n",
        "### Bulgular:\n",
        "* Amerika Birleşik Devletleri'nde kasırgaların en yoğun yaşandığı bölgelerden biri olan Tornado Alley, özellikle Texas, Oklahoma, Kansas ve Nebraska gibi eyaletleri kapsar. Bölgesel iklim koşullarının kasırga oluşumuna elverişli olması nedeniyle bu bölge, uzun süredir kasırga aktivitelerinin odak noktasıdır [1]. Görsel verilere göre, 1950'den 2022'ye kadar Texas, Oklahoma ve Kansas sürekli olarak yüksek kasırga sayılarıyla öne çıkmıştır.\n",
        "* Tornado Alley içerisinde yer almasına rağmen Nebraska, özellikle 1974'ten sonra kasırga sayısında Florida tarafından geçilmiştir. Başlangıçta daha az kasırga etkisinde olan Florida, zamanla ani artışlar göstererek 2022 itibarıyla en yüksek toplam kasırga sayısına ulaşan dördüncü eyalet olmuştur.\n",
        "* Yaklaşık 1960'tan itibaren kasırga sıklığı sıralamasında liderliği elinde tutan Texas, 2022 yılında toplam 9.265 kasırga ile rekor kırmıştır. Kansas ise, 4.429 kasırga ile Texas'ın hemen ardından gelmektedir. Bu durum, Texas'ın kasırga frekansının Kansas'a kıyasla iki katından fazla olduğunu göstermektedir.\n",
        "* 1970'te Missouri, ilerleyen yıllarda kendisinden daha yüksek kasırga sayılarına ulaşacak olan Iowa, Illinois, Mississippi ve Alabama gibi eyaletlere göre nispeten yüksek bir kasırga sayısına sahiptir. Ancak, sonraki yıllarda bu eyaletler kasırga sayısında Missouri'yi geçmişlerdir. Bu durum 1970 yılından sonra Missouri'nin, bahsedilen diğer eyaletlere göre daha az kasırga frekansına maruz kaldığını açıklamaktadır.\n",
        "* 2000 yılına kadar Michigan eyaleti, Tennessee, Ohio, South Carolina ve Kentucky eyaletlerine göre daha fazla kasırgaya maruz kalmıştır, ancak 2022'ye kadar bu eyaletler Michigan'ı geride bırakmıştır.\n",
        "* 1993'te South Carolina, Minnesota ve Arkansas'a göre daha fazla kasırga görmüşken, 2022'ye doğru bu eyaletlerin kasırga sayıları South Carolina'yı geçmiştir.\n",
        "* 1998'de Alabama eyaleti, Missouri, Colorado ve Louisiana'dan daha az kasırga sayısına sahipken, 2022 yılına kadar artan kasırga sayıları ile bu eyaletleri geride bırakmıştır.\n",
        "* Rhode Island, Alaska, District of Columbia ve Virgin Islands, 1950'den 2022'ye kadar en düşük kasırga aktivitesine sahip eyaletler olmuştur.\n",
        "* Bu gözlemler, özellikle Tornado Alley gibi yüksek riskli bölgelerde kasırga yönetimi ve hazırlık çalışmalarının yoğunlaştırılmasının gerekliliğini vurgulamaktadır. Ayrıca, kasırgaların az görüldüğü bölgelerde de daima hazırlıklı olunması gerektiğini hatırlatmaktadır. Bölgeler arası farklılıklar dikkate alınarak, yerel düzeyde özelleştirilmiş afet hazırlık stratejileri geliştirilmesi önerilmektedir.\n",
        "\n",
        "### Kullanılan görsel kanallar:\n",
        "* Veri işareti: Yatay çubuk grafiği, eyaletlere göre toplam kasırga sayılarını görselleştirmekte kullanılmıştır.\n",
        "* X-Ekseni: Toplam Kasırga Sayısı (Nicel)\n",
        "* Y-Ekseni: Eyaletler (Kategorik)\n",
        "* Etkileşim: Animasyondaki her bir adım, bir takvim yılını temsil eder, böylece kullanıcılar zaman içindeki ilerlemeyi takip edebilirler.\n",
        "* Etkileşim: Kullanıcı, fare ile üzerine gelindiğinde her eyalet için yıl ve toplam kasırga sayısını görebilir.\n"
      ]
    },
    {
      "cell_type": "markdown",
      "metadata": {
        "id": "M84C5XfZB5xl"
      },
      "source": [
        "### Sonuçlar"
      ]
    },
    {
      "cell_type": "markdown",
      "metadata": {
        "id": "FxS6gCmTB7eR"
      },
      "source": [
        "Bu çalışmada, 1950'den 2022'ye kadar ABD'deki kasırga olaylarının yıllık ve coğrafi analizleri yapılmıştır. Çalışmamız, kasırga sayılarında zaman içinde artış eğilimi olduğunu ortaya koymuştur. Bu artış, iklim değişiklikleri ve çevresel faktörlerle bağlantılı olabilir ve daha detaylı iklim çalışmalarıyla desteklenmesi gerekmektedir.\n",
        "\n",
        "Ölüm oranlarına yönelik analizler, özellikle Tornado Alley olarak bilinen bölgede yüksek ölüm sayılarına işaret etmekte; bu durum, bölgesel afet yönetim stratejilerinin ve acil müdahale kapasitesinin güçlendirilmesinin önemini vurgulamaktadır. Eyaletler arası farklılıklar, hazırlık ve müdahale planlamalarında bölgesel ihtiyaçları dikkate almanın gerekliliğini göstermektedir.\n",
        "\n",
        "Eyaletlere göre toplam kasırga sayıları üzerine yapılan analizler, bazı eyaletlerin, özellikle Texas ve Oklahoma'nın uzun yıllar boyunca en çok kasırgaya maruz kalan bölgeler olduğunu belirlemiştir. Bu bilgiler, bu eyaletlerde kasırga risk yönetimi ve halkın bilinçlendirilmesi için özel stratejiler geliştirilmesi gerektiğini ortaya koymaktadır. Ayrıca, Rhode Island, Alaska, District of Columbia ve Virgin Islands, 1950'den 2022'ye kadar en düşük kasırga aktivitesine sahip eyaletler olmuştur. Kasırgaların az görüldüğü bölgelerde de daima hazırlıklı olunması gerekmektedir.\n",
        "\n",
        "Sonuç olarak, bu çalışma, kasırga verilerinin derinlemesine analizini sağlayarak, afet yönetimi ve politika geliştirme süreçlerine katkıda bulunmuş ve kasırga hazırlık çalışmalarının etkinliğini artırma potansiyeline sahip bulgular sunmuştur."
      ]
    },
    {
      "cell_type": "markdown",
      "metadata": {
        "id": "j7V4qUPPG4pn"
      },
      "source": [
        "## Kaynakça\n",
        "[1] - Encyclopædia Britannica, Inc. \"Tornado Alley.\" Britannica, t.y., www.britannica.com/place/Tornado-Alley."
      ]
    }
  ],
  "metadata": {
    "colab": {
      "provenance": []
    },
    "kernelspec": {
      "display_name": "Python 3",
      "name": "python3"
    },
    "language_info": {
      "codemirror_mode": {
        "name": "ipython",
        "version": 3
      },
      "file_extension": ".py",
      "mimetype": "text/x-python",
      "name": "python",
      "nbconvert_exporter": "python",
      "pygments_lexer": "ipython3",
      "version": "3.12.3"
    }
  },
  "nbformat": 4,
  "nbformat_minor": 0
}
